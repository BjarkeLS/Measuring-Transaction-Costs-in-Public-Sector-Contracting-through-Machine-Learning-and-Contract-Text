{
 "cells": [
  {
   "cell_type": "markdown",
   "id": "80b85087",
   "metadata": {},
   "source": [
    "# Python Code for Generating Transaction Cost Measures from Contract Text"
   ]
  },
  {
   "cell_type": "markdown",
   "id": "09c80b53",
   "metadata": {},
   "source": [
    "Python notebook for Measuring Transaction Costs in Public Sector Contracting through Machine Learning and Contract Text. The data is based on a weekly collection of documents related to public tenders in Denmark in 2021-2022. It covers tenders from local government, regional level, and public utility companies but not central government. The collection takes place as part of the project Contract Skills and Performance: A national training experiment.\n",
    "\n",
    "Python version 3.11.5 (64-bit)\n",
    "\n",
    "This notebook describes the analytical processing of data after the initial data cleaning and use of word embedding to vectorization.\n",
    "\n",
    "The notebook contains the following:"
   ]
  },
  {
   "cell_type": "markdown",
   "id": "6d5ab53a",
   "metadata": {},
   "source": [
    "#### Product Description Language prediction"
   ]
  },
  {
   "cell_type": "markdown",
   "id": "43737368",
   "metadata": {},
   "source": [
    "1.1. Default model experiment with cross validation\n",
    "\n",
    "1.2 Support Vector Machine adjustment\n",
    "\n",
    "1.3 Neural Network adjustment"
   ]
  },
  {
   "cell_type": "markdown",
   "id": "b881a61b",
   "metadata": {},
   "source": [
    "#### Measurability Prediction"
   ]
  },
  {
   "cell_type": "markdown",
   "id": "45d13aeb",
   "metadata": {},
   "source": [
    "2.1 Default model experiment with cross validation\n",
    "\n",
    "2.2 Support Vector Machine adjustment\n"
   ]
  },
  {
   "cell_type": "markdown",
   "id": "94ba612e",
   "metadata": {},
   "source": [
    "#### Asset Specifity Prediction"
   ]
  },
  {
   "cell_type": "markdown",
   "id": "363cb06c",
   "metadata": {},
   "source": [
    "3.1 Default model experiment with cross validation\n",
    "\n",
    "3.2 Support Vector Machine adjustment"
   ]
  },
  {
   "cell_type": "markdown",
   "id": "c9d2179a",
   "metadata": {},
   "source": [
    "# 1 Product Description Language prediction"
   ]
  },
  {
   "cell_type": "markdown",
   "id": "421b5d9a",
   "metadata": {},
   "source": [
    "## 1.1 Default model experiment with cross validation"
   ]
  },
  {
   "cell_type": "code",
   "execution_count": 3,
   "id": "3471c087",
   "metadata": {},
   "outputs": [],
   "source": [
    "import os\n",
    "\n",
    "import PyPDF2 \n",
    "import pandas as pd\n",
    "import pickle\n",
    "import slate3k as slate\n",
    "import textract\n",
    "import openpyxl\n",
    "\n",
    "import nltk\n",
    "import pandas as pd\n",
    "import re \n",
    "import pickle\n",
    "from nltk.tokenize import sent_tokenize\n",
    "\n",
    "import multiprocessing\n",
    "import os\n",
    "\n",
    "import json\n",
    "\n",
    "from nltk.corpus import stopwords\n",
    "import lemmy"
   ]
  },
  {
   "cell_type": "markdown",
   "id": "7b08377a",
   "metadata": {},
   "source": [
    "# Data loadning "
   ]
  },
  {
   "cell_type": "code",
   "execution_count": 3,
   "id": "41c605f1",
   "metadata": {},
   "outputs": [],
   "source": [
    "corpus_1 = pd.read_pickle(\"word_embedding_round_1.pkl\")"
   ]
  },
  {
   "cell_type": "code",
   "execution_count": 5,
   "id": "1337ec02",
   "metadata": {},
   "outputs": [],
   "source": [
    "corpus_2 = pd.read_pickle(\"word_embedding_manuel_round_2.pkl\")"
   ]
  },
  {
   "cell_type": "code",
   "execution_count": 7,
   "id": "6f84b294",
   "metadata": {},
   "outputs": [],
   "source": [
    "corpus_3 = pd.read_pickle(\"word_embedding_round_3.pkl\")"
   ]
  },
  {
   "cell_type": "code",
   "execution_count": 9,
   "id": "0fa630fb",
   "metadata": {},
   "outputs": [],
   "source": [
    "corpus_4 = pd.read_pickle(\"word_embedding_round_4.pkl\")"
   ]
  },
  {
   "cell_type": "code",
   "execution_count": 11,
   "id": "b7222bdb",
   "metadata": {},
   "outputs": [],
   "source": [
    "corpus_5 = pd.read_pickle(\"word_embedding_round_5.pkl\")"
   ]
  },
  {
   "cell_type": "code",
   "execution_count": 13,
   "id": "dbdd17f4",
   "metadata": {},
   "outputs": [],
   "source": [
    "corpus_6 = pd.read_pickle(\"word_embedding_round_6.pkl\")"
   ]
  },
  {
   "cell_type": "markdown",
   "id": "390955b2",
   "metadata": {},
   "source": [
    "# Logistic regression"
   ]
  },
  {
   "cell_type": "code",
   "execution_count": 28,
   "id": "2a1a8b79",
   "metadata": {},
   "outputs": [],
   "source": [
    "from sklearn.model_selection import train_test_split\n",
    "from sklearn.linear_model import LogisticRegression\n",
    "from sklearn.metrics import accuracy_score, recall_score\n",
    "from sklearn.model_selection import cross_val_score\n",
    "from sklearn.linear_model import LogisticRegression\n",
    "import numpy as np\n",
    "from sklearn.preprocessing import LabelEncoder"
   ]
  },
  {
   "cell_type": "markdown",
   "id": "c462d382",
   "metadata": {},
   "source": [
    "### Round 1"
   ]
  },
  {
   "cell_type": "code",
   "execution_count": 33,
   "id": "1a3f17dc",
   "metadata": {},
   "outputs": [],
   "source": [
    "X_train, X_test, y_train, y_test = train_test_split(corpus_1['embedding'], corpus_1['product_description_binary'], test_size=0.3, random_state=42)"
   ]
  },
  {
   "cell_type": "code",
   "execution_count": 34,
   "id": "e000291a",
   "metadata": {},
   "outputs": [],
   "source": [
    "X = np.array(list(corpus_1['embedding']))\n",
    "y = corpus_1['product_description_binary'] "
   ]
  },
  {
   "cell_type": "code",
   "execution_count": 35,
   "id": "3ad3afae",
   "metadata": {},
   "outputs": [],
   "source": [
    "label_encoder = LabelEncoder()\n",
    "y_encoded = label_encoder.fit_transform(y)\n"
   ]
  },
  {
   "cell_type": "code",
   "execution_count": 36,
   "id": "dccb5f3f",
   "metadata": {},
   "outputs": [],
   "source": [
    "np.random.seed(42)\n"
   ]
  },
  {
   "cell_type": "code",
   "execution_count": 37,
   "id": "230e333e",
   "metadata": {},
   "outputs": [],
   "source": [
    "logistic_regression = LogisticRegression(random_state=42)"
   ]
  },
  {
   "cell_type": "code",
   "execution_count": 38,
   "id": "24f955fe",
   "metadata": {},
   "outputs": [],
   "source": [
    "results = cross_validate(logistic_regression, X, y_encoded, cv=5, scoring=['accuracy', 'recall'])\n"
   ]
  },
  {
   "cell_type": "code",
   "execution_count": 39,
   "id": "2376aaaf",
   "metadata": {},
   "outputs": [],
   "source": [
    "accuracy_scores = results['test_accuracy']\n",
    "sensitivity_scores = results['test_recall']\n"
   ]
  },
  {
   "cell_type": "code",
   "execution_count": 40,
   "id": "1f8e6b4f",
   "metadata": {},
   "outputs": [
    {
     "name": "stdout",
     "output_type": "stream",
     "text": [
      "Accuracy scores for each fold: [0.87323944 0.91750503 0.92354125 0.90524194 0.89919355]\n",
      "Sensitivity (Recall) scores for each fold: [0.         0.34920635 0.3968254  0.37096774 0.25396825]\n"
     ]
    }
   ],
   "source": [
    "print('Accuracy scores for each fold:', accuracy_scores)\n",
    "print('Sensitivity (Recall) scores for each fold:', sensitivity_scores)"
   ]
  },
  {
   "cell_type": "code",
   "execution_count": 41,
   "id": "1e4b738e",
   "metadata": {},
   "outputs": [],
   "source": [
    "mean_accuracy = np.mean(results['test_accuracy'])\n",
    "mean_sensitivity = np.nanmean(results['test_recall'])"
   ]
  },
  {
   "cell_type": "code",
   "execution_count": 42,
   "id": "7aa0655f",
   "metadata": {},
   "outputs": [
    {
     "name": "stdout",
     "output_type": "stream",
     "text": [
      "Mean accuracy: 0.9037442396313364\n",
      "Mean sensitivity: 0.2741935483870968\n"
     ]
    }
   ],
   "source": [
    "print(f'Mean accuracy: {mean_accuracy}')\n",
    "print(f'Mean sensitivity: {mean_sensitivity}')"
   ]
  },
  {
   "cell_type": "markdown",
   "id": "805eff9a",
   "metadata": {},
   "source": [
    "## Round 2"
   ]
  },
  {
   "cell_type": "code",
   "execution_count": 33,
   "id": "2afb0c7e",
   "metadata": {},
   "outputs": [],
   "source": [
    "X = np.array(list(corpus_2['embedding']))\n",
    "y = corpus_2['product_description_binary'] "
   ]
  },
  {
   "cell_type": "code",
   "execution_count": 34,
   "id": "b71ca1d0",
   "metadata": {},
   "outputs": [],
   "source": [
    "label_encoder = LabelEncoder()\n",
    "y_encoded = label_encoder.fit_transform(y)\n"
   ]
  },
  {
   "cell_type": "code",
   "execution_count": 35,
   "id": "71c401dc",
   "metadata": {},
   "outputs": [],
   "source": [
    "np.random.seed(42)\n"
   ]
  },
  {
   "cell_type": "code",
   "execution_count": 36,
   "id": "c7c03ea6",
   "metadata": {},
   "outputs": [],
   "source": [
    "logistic_regression = LogisticRegression(random_state=42)"
   ]
  },
  {
   "cell_type": "code",
   "execution_count": 37,
   "id": "f7719342",
   "metadata": {},
   "outputs": [],
   "source": [
    "results = cross_validate(logistic_regression, X, y_encoded, cv=5, scoring=['accuracy', 'recall'])\n"
   ]
  },
  {
   "cell_type": "code",
   "execution_count": 38,
   "id": "c0288fa1",
   "metadata": {},
   "outputs": [],
   "source": [
    "accuracy_scores = results['test_accuracy']\n",
    "sensitivity_scores = results['test_recall']\n"
   ]
  },
  {
   "cell_type": "code",
   "execution_count": 39,
   "id": "21b61221",
   "metadata": {},
   "outputs": [
    {
     "name": "stdout",
     "output_type": "stream",
     "text": [
      "Accuracy scores for each fold: [0.86818182 0.89242424 0.89848485 0.88030303 0.9       ]\n",
      "Sensitivity (Recall) scores for each fold: [0.07446809 0.24468085 0.35106383 0.25531915 0.36842105]\n"
     ]
    }
   ],
   "source": [
    "print('Accuracy scores for each fold:', accuracy_scores)\n",
    "print('Sensitivity (Recall) scores for each fold:', sensitivity_scores)"
   ]
  },
  {
   "cell_type": "code",
   "execution_count": 40,
   "id": "ad3d28c7",
   "metadata": {},
   "outputs": [],
   "source": [
    "mean_accuracy = np.mean(results['test_accuracy'])\n",
    "mean_sensitivity = np.nanmean(results['test_recall'])"
   ]
  },
  {
   "cell_type": "code",
   "execution_count": 41,
   "id": "57a49891",
   "metadata": {},
   "outputs": [
    {
     "name": "stdout",
     "output_type": "stream",
     "text": [
      "Mean accuracy: 0.8878787878787879\n",
      "Mean sensitivity: 0.2587905935050392\n"
     ]
    }
   ],
   "source": [
    "print(f'Mean accuracy: {mean_accuracy}')\n",
    "print(f'Mean sensitivity: {mean_sensitivity}')\n"
   ]
  },
  {
   "cell_type": "markdown",
   "id": "c96d305e",
   "metadata": {},
   "source": [
    "## Round 3"
   ]
  },
  {
   "cell_type": "code",
   "execution_count": 42,
   "id": "996a044b",
   "metadata": {},
   "outputs": [],
   "source": [
    "X = np.array(list(corpus_3['embedding']))\n",
    "y = corpus_3['product_description_binary'] "
   ]
  },
  {
   "cell_type": "code",
   "execution_count": 43,
   "id": "02cfaa66",
   "metadata": {},
   "outputs": [],
   "source": [
    "label_encoder = LabelEncoder()\n",
    "y_encoded = label_encoder.fit_transform(y)\n"
   ]
  },
  {
   "cell_type": "code",
   "execution_count": 44,
   "id": "bf71c81d",
   "metadata": {},
   "outputs": [],
   "source": [
    "np.random.seed(42)\n"
   ]
  },
  {
   "cell_type": "code",
   "execution_count": 45,
   "id": "85cd2379",
   "metadata": {},
   "outputs": [],
   "source": [
    "logistic_regression = LogisticRegression(random_state=42)"
   ]
  },
  {
   "cell_type": "code",
   "execution_count": 46,
   "id": "ea5e3f3e",
   "metadata": {},
   "outputs": [],
   "source": [
    "results = cross_validate(logistic_regression, X, y_encoded, cv=5, scoring=['accuracy', 'recall'])\n"
   ]
  },
  {
   "cell_type": "code",
   "execution_count": 47,
   "id": "61421d15",
   "metadata": {},
   "outputs": [],
   "source": [
    "accuracy_scores = results['test_accuracy']\n",
    "sensitivity_scores = results['test_recall']\n"
   ]
  },
  {
   "cell_type": "code",
   "execution_count": 49,
   "id": "33412893",
   "metadata": {},
   "outputs": [
    {
     "name": "stdout",
     "output_type": "stream",
     "text": [
      "Accuracy scores for each fold: [0.88605898 0.8847185  0.86863271 0.84718499 0.88069705]\n",
      "Sensitivity (Recall) scores for each fold: [0.3515625  0.328125   0.3984375  0.27906977 0.65891473]\n"
     ]
    }
   ],
   "source": [
    "print('Accuracy scores for each fold:', accuracy_scores)\n",
    "print('Sensitivity (Recall) scores for each fold:', sensitivity_scores)\n"
   ]
  },
  {
   "cell_type": "code",
   "execution_count": 50,
   "id": "eee7d41a",
   "metadata": {},
   "outputs": [],
   "source": [
    "mean_accuracy = np.mean(results['test_accuracy'])\n",
    "mean_sensitivity = np.nanmean(results['test_recall'])"
   ]
  },
  {
   "cell_type": "code",
   "execution_count": 51,
   "id": "afbe3ea1",
   "metadata": {
    "scrolled": false
   },
   "outputs": [
    {
     "name": "stdout",
     "output_type": "stream",
     "text": [
      "Mean accuracy: 0.8734584450402145\n",
      "Mean sensitivity: 0.40322189922480617\n"
     ]
    }
   ],
   "source": [
    "print(f'Mean accuracy: {mean_accuracy}')\n",
    "print(f'Mean sensitivity: {mean_sensitivity}')\n"
   ]
  },
  {
   "cell_type": "markdown",
   "id": "a4f66998",
   "metadata": {},
   "source": [
    "## Round 4"
   ]
  },
  {
   "cell_type": "code",
   "execution_count": 33,
   "id": "3baa8e2b",
   "metadata": {},
   "outputs": [],
   "source": [
    "X = np.array(list(corpus_4['embedding']))\n",
    "y = corpus_4['product_description_binary'] "
   ]
  },
  {
   "cell_type": "code",
   "execution_count": 34,
   "id": "3bb996fc",
   "metadata": {},
   "outputs": [],
   "source": [
    "label_encoder = LabelEncoder()\n",
    "y_encoded = label_encoder.fit_transform(y)\n"
   ]
  },
  {
   "cell_type": "code",
   "execution_count": 35,
   "id": "d7bc500e",
   "metadata": {},
   "outputs": [],
   "source": [
    "np.random.seed(42)\n"
   ]
  },
  {
   "cell_type": "code",
   "execution_count": 36,
   "id": "10196eb2",
   "metadata": {},
   "outputs": [],
   "source": [
    "logistic_regression = LogisticRegression(random_state=42)"
   ]
  },
  {
   "cell_type": "code",
   "execution_count": 37,
   "id": "53b64250",
   "metadata": {},
   "outputs": [],
   "source": [
    "results = cross_validate(logistic_regression, X, y_encoded, cv=5, scoring=['accuracy', 'recall'])\n"
   ]
  },
  {
   "cell_type": "code",
   "execution_count": 38,
   "id": "9a0ca30b",
   "metadata": {},
   "outputs": [],
   "source": [
    "accuracy_scores = results['test_accuracy']\n",
    "sensitivity_scores = results['test_recall']\n"
   ]
  },
  {
   "cell_type": "code",
   "execution_count": 39,
   "id": "73fa3a30",
   "metadata": {},
   "outputs": [
    {
     "name": "stdout",
     "output_type": "stream",
     "text": [
      "Accuracy scores for each fold: [0.88157895 0.88636364 0.80838323 0.90538922 0.8       ]\n",
      "Sensitivity (Recall) scores for each fold: [0.44444444 0.44444444 0.24117647 0.70175439 0.19298246]\n"
     ]
    }
   ],
   "source": [
    "print('Accuracy scores for each fold:', accuracy_scores)\n",
    "print('Sensitivity (Recall) scores for each fold:', sensitivity_scores)"
   ]
  },
  {
   "cell_type": "code",
   "execution_count": 40,
   "id": "53a09ccb",
   "metadata": {},
   "outputs": [],
   "source": [
    "mean_accuracy = np.mean(results['test_accuracy'])\n",
    "mean_sensitivity = np.nanmean(results['test_recall'])"
   ]
  },
  {
   "cell_type": "code",
   "execution_count": 41,
   "id": "b755583d",
   "metadata": {},
   "outputs": [
    {
     "name": "stdout",
     "output_type": "stream",
     "text": [
      "Mean accuracy: 0.8563430077643754\n",
      "Mean sensitivity: 0.4049604403164775\n"
     ]
    }
   ],
   "source": [
    "print(f'Mean accuracy: {mean_accuracy}')\n",
    "print(f'Mean sensitivity: {mean_sensitivity}')\n"
   ]
  },
  {
   "cell_type": "markdown",
   "id": "4c258991",
   "metadata": {},
   "source": [
    "## Round 5"
   ]
  },
  {
   "cell_type": "code",
   "execution_count": 42,
   "id": "f5883ece",
   "metadata": {},
   "outputs": [],
   "source": [
    "X = np.array(list(corpus_5['embedding']))\n",
    "y = corpus_5['product_description_binary'] "
   ]
  },
  {
   "cell_type": "code",
   "execution_count": 43,
   "id": "ba4fbcba",
   "metadata": {},
   "outputs": [],
   "source": [
    "label_encoder = LabelEncoder()\n",
    "y_encoded = label_encoder.fit_transform(y)\n"
   ]
  },
  {
   "cell_type": "code",
   "execution_count": 44,
   "id": "6c9246e6",
   "metadata": {},
   "outputs": [],
   "source": [
    "np.random.seed(42)\n"
   ]
  },
  {
   "cell_type": "code",
   "execution_count": 45,
   "id": "61a8beed",
   "metadata": {},
   "outputs": [],
   "source": [
    "logistic_regression = LogisticRegression(random_state=42)"
   ]
  },
  {
   "cell_type": "code",
   "execution_count": 46,
   "id": "7d0ec73e",
   "metadata": {},
   "outputs": [],
   "source": [
    "results = cross_validate(logistic_regression, X, y_encoded, cv=5, scoring=['accuracy', 'recall'])\n"
   ]
  },
  {
   "cell_type": "code",
   "execution_count": 47,
   "id": "c9fe8efb",
   "metadata": {},
   "outputs": [],
   "source": [
    "accuracy_scores = results['test_accuracy']\n",
    "sensitivity_scores = results['test_recall']\n"
   ]
  },
  {
   "cell_type": "code",
   "execution_count": 48,
   "id": "c4544e80",
   "metadata": {},
   "outputs": [
    {
     "name": "stdout",
     "output_type": "stream",
     "text": [
      "Accuracy scores for each fold: [0.87569061 0.86175115 0.88663594 0.83502304 0.8921659 ]\n",
      "Sensitivity (Recall) scores for each fold: [0.35576923 0.32850242 0.51923077 0.31730769 0.55288462]\n"
     ]
    }
   ],
   "source": [
    "print('Accuracy scores for each fold:', accuracy_scores)\n",
    "print('Sensitivity (Recall) scores for each fold:', sensitivity_scores)\n"
   ]
  },
  {
   "cell_type": "code",
   "execution_count": 49,
   "id": "d13e7ad0",
   "metadata": {},
   "outputs": [],
   "source": [
    "mean_accuracy = np.mean(results['test_accuracy'])\n",
    "mean_sensitivity = np.nanmean(results['test_recall'])"
   ]
  },
  {
   "cell_type": "code",
   "execution_count": 50,
   "id": "8dc65d69",
   "metadata": {},
   "outputs": [
    {
     "name": "stdout",
     "output_type": "stream",
     "text": [
      "Mean accuracy: 0.8702533289202332\n",
      "Mean sensitivity: 0.4147389446302491\n"
     ]
    }
   ],
   "source": [
    "print(f'Mean accuracy: {mean_accuracy}')\n",
    "print(f'Mean sensitivity: {mean_sensitivity}')"
   ]
  },
  {
   "cell_type": "markdown",
   "id": "e883fd2f",
   "metadata": {},
   "source": [
    "## Round 6"
   ]
  },
  {
   "cell_type": "code",
   "execution_count": 51,
   "id": "0c0a97b1",
   "metadata": {},
   "outputs": [],
   "source": [
    "X = np.array(list(corpus_6['embedding']))\n",
    "y = corpus_6['product_description_binary'] "
   ]
  },
  {
   "cell_type": "code",
   "execution_count": 52,
   "id": "0ae894af",
   "metadata": {},
   "outputs": [],
   "source": [
    "label_encoder = LabelEncoder()\n",
    "y_encoded = label_encoder.fit_transform(y)\n"
   ]
  },
  {
   "cell_type": "code",
   "execution_count": 53,
   "id": "2105a155",
   "metadata": {},
   "outputs": [],
   "source": [
    "np.random.seed(42)\n"
   ]
  },
  {
   "cell_type": "code",
   "execution_count": 54,
   "id": "2d9d3a1f",
   "metadata": {},
   "outputs": [],
   "source": [
    "logistic_regression = LogisticRegression(random_state=42)"
   ]
  },
  {
   "cell_type": "code",
   "execution_count": 55,
   "id": "799595e2",
   "metadata": {},
   "outputs": [],
   "source": [
    "results = cross_validate(logistic_regression, X, y_encoded, cv=5, scoring=['accuracy', 'recall'])\n"
   ]
  },
  {
   "cell_type": "code",
   "execution_count": 56,
   "id": "f3ea7c3b",
   "metadata": {},
   "outputs": [],
   "source": [
    "accuracy_scores = results['test_accuracy']\n",
    "sensitivity_scores = results['test_recall']\n"
   ]
  },
  {
   "cell_type": "code",
   "execution_count": 57,
   "id": "4034d094",
   "metadata": {},
   "outputs": [
    {
     "name": "stdout",
     "output_type": "stream",
     "text": [
      "Accuracy scores for each fold: [0.88225399 0.87216148 0.79226241 0.87888982 0.91245791]\n",
      "Sensitivity (Recall) scores for each fold: [0.46743295 0.47509579 0.25670498 0.54789272 0.82692308]\n"
     ]
    }
   ],
   "source": [
    "print('Accuracy scores for each fold:', accuracy_scores)\n",
    "print('Sensitivity (Recall) scores for each fold:', sensitivity_scores)"
   ]
  },
  {
   "cell_type": "code",
   "execution_count": 58,
   "id": "c9c8c29c",
   "metadata": {},
   "outputs": [],
   "source": [
    "mean_accuracy = np.mean(results['test_accuracy'])\n",
    "mean_sensitivity = np.nanmean(results['test_recall'])"
   ]
  },
  {
   "cell_type": "code",
   "execution_count": 59,
   "id": "0d06e887",
   "metadata": {},
   "outputs": [
    {
     "name": "stdout",
     "output_type": "stream",
     "text": [
      "Mean accuracy: 0.8676051232821628\n",
      "Mean sensitivity: 0.5148099027409372\n"
     ]
    }
   ],
   "source": [
    "print(f'Mean accuracy: {mean_accuracy}')\n",
    "print(f'Mean sensitivity: {mean_sensitivity}')"
   ]
  },
  {
   "cell_type": "markdown",
   "id": "70b6f711",
   "metadata": {},
   "source": [
    "# SVM"
   ]
  },
  {
   "cell_type": "markdown",
   "id": "eff7831a",
   "metadata": {},
   "source": [
    "## Round 1"
   ]
  },
  {
   "cell_type": "code",
   "execution_count": 60,
   "id": "2edfd4c8",
   "metadata": {},
   "outputs": [],
   "source": [
    "from sklearn.svm import SVC\n",
    "from sklearn.model_selection import train_test_split\n",
    "from sklearn.metrics import accuracy_score, recall_score\n",
    "import numpy as np"
   ]
  },
  {
   "cell_type": "code",
   "execution_count": 61,
   "id": "373729fa",
   "metadata": {},
   "outputs": [],
   "source": [
    "np.random.seed(42)\n",
    "\n",
    "svm = SVC(random_state=42) "
   ]
  },
  {
   "cell_type": "code",
   "execution_count": 62,
   "id": "ef0932af",
   "metadata": {},
   "outputs": [],
   "source": [
    "X = np.array(corpus_1['embedding'].tolist())\n",
    "y = np.array(corpus_1['product_description_binary'])\n"
   ]
  },
  {
   "cell_type": "code",
   "execution_count": 63,
   "id": "0782472a",
   "metadata": {},
   "outputs": [],
   "source": [
    "label_encoder = LabelEncoder()\n",
    "y_encoded = label_encoder.fit_transform(y)\n"
   ]
  },
  {
   "cell_type": "code",
   "execution_count": 64,
   "id": "3737ed18",
   "metadata": {},
   "outputs": [],
   "source": [
    "n_folds = 5\n"
   ]
  },
  {
   "cell_type": "code",
   "execution_count": 65,
   "id": "06cb39db",
   "metadata": {},
   "outputs": [],
   "source": [
    "accuracy_scores = cross_val_score(svm, X, y_encoded, cv=n_folds, scoring='accuracy')"
   ]
  },
  {
   "cell_type": "code",
   "execution_count": 66,
   "id": "1aa4dfde",
   "metadata": {},
   "outputs": [],
   "source": [
    "recall_scores = cross_val_score(svm, X, y_encoded, cv=n_folds, scoring='recall')  "
   ]
  },
  {
   "cell_type": "code",
   "execution_count": 67,
   "id": "d01b4696",
   "metadata": {},
   "outputs": [
    {
     "name": "stdout",
     "output_type": "stream",
     "text": [
      "Accuracy scores for each fold: [0.89537223 0.9195171  0.94969819 0.89314516 0.90524194]\n",
      "Recall (Sensitivity) scores for each fold: [0.17460317 0.61904762 0.6984127  0.80645161 0.52380952]\n"
     ]
    }
   ],
   "source": [
    "print(\"Accuracy scores for each fold:\", accuracy_scores)\n",
    "print(\"Recall (Sensitivity) scores for each fold:\", recall_scores)"
   ]
  },
  {
   "cell_type": "code",
   "execution_count": 68,
   "id": "709fc583",
   "metadata": {},
   "outputs": [
    {
     "name": "stdout",
     "output_type": "stream",
     "text": [
      "Cross-validated Accuracy: 0.9125949243850198\n",
      "Cross-validated Recall (Sensitivity): 0.5644649257552483\n"
     ]
    }
   ],
   "source": [
    "print(\"Cross-validated Accuracy:\", np.mean(accuracy_scores))\n",
    "print(\"Cross-validated Recall (Sensitivity):\", np.nanmean(recall_scores))"
   ]
  },
  {
   "cell_type": "markdown",
   "id": "6e6baa24",
   "metadata": {},
   "source": [
    "## Round 2"
   ]
  },
  {
   "cell_type": "code",
   "execution_count": 33,
   "id": "f7f4d549",
   "metadata": {},
   "outputs": [],
   "source": [
    "from sklearn.svm import SVC\n",
    "from sklearn.model_selection import train_test_split\n",
    "from sklearn.metrics import accuracy_score, recall_score\n",
    "import numpy as np\n"
   ]
  },
  {
   "cell_type": "code",
   "execution_count": 34,
   "id": "a2d1c70e",
   "metadata": {},
   "outputs": [],
   "source": [
    "np.random.seed(42)\n",
    "\n",
    "svm = SVC(random_state=42) "
   ]
  },
  {
   "cell_type": "code",
   "execution_count": 35,
   "id": "70879424",
   "metadata": {},
   "outputs": [],
   "source": [
    "X = np.array(corpus_2['embedding'].tolist())\n",
    "y = np.array(corpus_2['product_description_binary'])\n"
   ]
  },
  {
   "cell_type": "code",
   "execution_count": 36,
   "id": "409c1c31",
   "metadata": {},
   "outputs": [],
   "source": [
    "label_encoder = LabelEncoder()\n",
    "y_encoded = label_encoder.fit_transform(y)\n"
   ]
  },
  {
   "cell_type": "code",
   "execution_count": 37,
   "id": "7eeb47e1",
   "metadata": {},
   "outputs": [],
   "source": [
    "n_folds = 5\n"
   ]
  },
  {
   "cell_type": "code",
   "execution_count": 38,
   "id": "186d5be5",
   "metadata": {},
   "outputs": [],
   "source": [
    "accuracy_scores = cross_val_score(svm, X, y_encoded, cv=n_folds, scoring='accuracy')"
   ]
  },
  {
   "cell_type": "code",
   "execution_count": 39,
   "id": "45f1646a",
   "metadata": {},
   "outputs": [],
   "source": [
    "recall_scores = cross_val_score(svm, X, y_encoded, cv=n_folds, scoring='recall')  "
   ]
  },
  {
   "cell_type": "code",
   "execution_count": 40,
   "id": "cfbc1fd6",
   "metadata": {},
   "outputs": [
    {
     "name": "stdout",
     "output_type": "stream",
     "text": [
      "Accuracy scores for each fold: [0.89393939 0.96212121 0.9        0.89090909 0.86363636]\n",
      "Recall (Sensitivity) scores for each fold: [0.26595745 0.76595745 0.62765957 0.46808511 0.69473684]\n"
     ]
    }
   ],
   "source": [
    "print(\"Accuracy scores for each fold:\", accuracy_scores)\n",
    "print(\"Recall (Sensitivity) scores for each fold:\", recall_scores)"
   ]
  },
  {
   "cell_type": "code",
   "execution_count": 41,
   "id": "12c7d93c",
   "metadata": {},
   "outputs": [
    {
     "name": "stdout",
     "output_type": "stream",
     "text": [
      "Cross-validated Accuracy: 0.902121212121212\n",
      "Cross-validated Recall (Sensitivity): 0.5644792833146697\n"
     ]
    }
   ],
   "source": [
    "print(\"Cross-validated Accuracy:\", np.mean(accuracy_scores))\n",
    "print(\"Cross-validated Recall (Sensitivity):\", np.nanmean(recall_scores))"
   ]
  },
  {
   "cell_type": "markdown",
   "id": "cefdf383",
   "metadata": {},
   "source": [
    "## Round 3"
   ]
  },
  {
   "cell_type": "code",
   "execution_count": 42,
   "id": "e3889510",
   "metadata": {},
   "outputs": [],
   "source": [
    "from sklearn.svm import SVC\n",
    "from sklearn.model_selection import train_test_split\n",
    "from sklearn.metrics import accuracy_score, recall_score\n",
    "import numpy as np\n"
   ]
  },
  {
   "cell_type": "code",
   "execution_count": 43,
   "id": "aab23361",
   "metadata": {},
   "outputs": [],
   "source": [
    "np.random.seed(42)\n",
    "\n",
    "svm = SVC(random_state=42) "
   ]
  },
  {
   "cell_type": "code",
   "execution_count": 44,
   "id": "2547dfcf",
   "metadata": {},
   "outputs": [],
   "source": [
    "X = np.array(corpus_3['embedding'].tolist())\n",
    "y = np.array(corpus_3['product_description_binary'])\n"
   ]
  },
  {
   "cell_type": "code",
   "execution_count": 45,
   "id": "f66bdc3c",
   "metadata": {},
   "outputs": [],
   "source": [
    "label_encoder = LabelEncoder()\n",
    "y_encoded = label_encoder.fit_transform(y)\n"
   ]
  },
  {
   "cell_type": "code",
   "execution_count": 46,
   "id": "6dfa4414",
   "metadata": {},
   "outputs": [],
   "source": [
    "n_folds = 5\n"
   ]
  },
  {
   "cell_type": "code",
   "execution_count": 47,
   "id": "22d04b26",
   "metadata": {},
   "outputs": [],
   "source": [
    "accuracy_scores = cross_val_score(svm, X, y_encoded, cv=n_folds, scoring='accuracy')"
   ]
  },
  {
   "cell_type": "code",
   "execution_count": 48,
   "id": "904cd21b",
   "metadata": {},
   "outputs": [],
   "source": [
    "recall_scores = cross_val_score(svm, X, y_encoded, cv=n_folds, scoring='recall')  "
   ]
  },
  {
   "cell_type": "code",
   "execution_count": 49,
   "id": "ede8f944",
   "metadata": {},
   "outputs": [
    {
     "name": "stdout",
     "output_type": "stream",
     "text": [
      "Accuracy scores for each fold: [0.91957105 0.93029491 0.85790885 0.84986595 0.80294906]\n",
      "Recall (Sensitivity) scores for each fold: [0.5546875  0.640625   0.5078125  0.39534884 0.79069767]\n"
     ]
    }
   ],
   "source": [
    "print(\"Accuracy scores for each fold:\", accuracy_scores)\n",
    "print(\"Recall (Sensitivity) scores for each fold:\", recall_scores)"
   ]
  },
  {
   "cell_type": "code",
   "execution_count": 50,
   "id": "db8e8a76",
   "metadata": {},
   "outputs": [
    {
     "name": "stdout",
     "output_type": "stream",
     "text": [
      "Cross-validated Accuracy: 0.8721179624664879\n",
      "Cross-validated Recall (Sensitivity): 0.5778343023255814\n"
     ]
    }
   ],
   "source": [
    "print(\"Cross-validated Accuracy:\", np.mean(accuracy_scores))\n",
    "print(\"Cross-validated Recall (Sensitivity):\", np.nanmean(recall_scores))\n"
   ]
  },
  {
   "cell_type": "markdown",
   "id": "e864662a",
   "metadata": {},
   "source": [
    "## Round 4"
   ]
  },
  {
   "cell_type": "code",
   "execution_count": 51,
   "id": "1ab773ad",
   "metadata": {},
   "outputs": [],
   "source": [
    "from sklearn.svm import SVC\n",
    "from sklearn.model_selection import train_test_split\n",
    "from sklearn.metrics import accuracy_score, recall_score\n",
    "import numpy as np\n"
   ]
  },
  {
   "cell_type": "code",
   "execution_count": 52,
   "id": "350d4bbc",
   "metadata": {},
   "outputs": [],
   "source": [
    "np.random.seed(42)\n",
    "\n",
    "svm = SVC(random_state=42) "
   ]
  },
  {
   "cell_type": "code",
   "execution_count": 53,
   "id": "3f2db9bc",
   "metadata": {},
   "outputs": [],
   "source": [
    "X = np.array(corpus_4['embedding'].tolist())\n",
    "y = np.array(corpus_4['product_description_binary'])\n"
   ]
  },
  {
   "cell_type": "code",
   "execution_count": 54,
   "id": "b41fea36",
   "metadata": {},
   "outputs": [],
   "source": [
    "label_encoder = LabelEncoder()\n",
    "y_encoded = label_encoder.fit_transform(y)\n"
   ]
  },
  {
   "cell_type": "code",
   "execution_count": 55,
   "id": "443ac6ef",
   "metadata": {},
   "outputs": [],
   "source": [
    "n_folds = 5\n"
   ]
  },
  {
   "cell_type": "code",
   "execution_count": 56,
   "id": "d84ba542",
   "metadata": {},
   "outputs": [],
   "source": [
    "accuracy_scores = cross_val_score(svm, X, y_encoded, cv=n_folds, scoring='accuracy')"
   ]
  },
  {
   "cell_type": "code",
   "execution_count": 57,
   "id": "3f632656",
   "metadata": {},
   "outputs": [],
   "source": [
    "recall_scores = cross_val_score(svm, X, y_encoded, cv=n_folds, scoring='recall')  "
   ]
  },
  {
   "cell_type": "code",
   "execution_count": 58,
   "id": "cd19cf71",
   "metadata": {},
   "outputs": [
    {
     "name": "stdout",
     "output_type": "stream",
     "text": [
      "Accuracy scores for each fold: [0.91746411 0.90550239 0.81916168 0.87784431 0.85389222]\n",
      "Recall (Sensitivity) scores for each fold: [0.65497076 0.58479532 0.4        0.83040936 0.60818713]\n"
     ]
    }
   ],
   "source": [
    "print(\"Accuracy scores for each fold:\", accuracy_scores)\n",
    "print(\"Recall (Sensitivity) scores for each fold:\", recall_scores)"
   ]
  },
  {
   "cell_type": "code",
   "execution_count": 59,
   "id": "0ec38af7",
   "metadata": {},
   "outputs": [
    {
     "name": "stdout",
     "output_type": "stream",
     "text": [
      "Cross-validated Accuracy: 0.8747729421539695\n",
      "Cross-validated Recall (Sensitivity): 0.615672514619883\n"
     ]
    }
   ],
   "source": [
    "print(\"Cross-validated Accuracy:\", np.mean(accuracy_scores))\n",
    "print(\"Cross-validated Recall (Sensitivity):\", np.nanmean(recall_scores))"
   ]
  },
  {
   "cell_type": "markdown",
   "id": "ae90f864",
   "metadata": {},
   "source": [
    "## Round 5"
   ]
  },
  {
   "cell_type": "code",
   "execution_count": 60,
   "id": "c0219497",
   "metadata": {},
   "outputs": [],
   "source": [
    "from sklearn.svm import SVC\n",
    "from sklearn.model_selection import train_test_split\n",
    "from sklearn.metrics import accuracy_score, recall_score\n",
    "import numpy as np"
   ]
  },
  {
   "cell_type": "code",
   "execution_count": 61,
   "id": "27675354",
   "metadata": {},
   "outputs": [],
   "source": [
    "np.random.seed(42)\n",
    "\n",
    "svm = SVC(random_state=42) "
   ]
  },
  {
   "cell_type": "code",
   "execution_count": 62,
   "id": "19f15d41",
   "metadata": {},
   "outputs": [],
   "source": [
    "X = np.array(corpus_5['embedding'].tolist())\n",
    "y = np.array(corpus_5['product_description_binary'])\n"
   ]
  },
  {
   "cell_type": "code",
   "execution_count": 63,
   "id": "39726394",
   "metadata": {},
   "outputs": [],
   "source": [
    "label_encoder = LabelEncoder()\n",
    "y_encoded = label_encoder.fit_transform(y)\n"
   ]
  },
  {
   "cell_type": "code",
   "execution_count": 64,
   "id": "f0fc8818",
   "metadata": {},
   "outputs": [],
   "source": [
    "n_folds = 5\n"
   ]
  },
  {
   "cell_type": "code",
   "execution_count": 65,
   "id": "9ae374b2",
   "metadata": {},
   "outputs": [],
   "source": [
    "accuracy_scores = cross_val_score(svm, X, y_encoded, cv=n_folds, scoring='accuracy')"
   ]
  },
  {
   "cell_type": "code",
   "execution_count": 66,
   "id": "4f3ac57f",
   "metadata": {},
   "outputs": [],
   "source": [
    "recall_scores = cross_val_score(svm, X, y_encoded, cv=n_folds, scoring='recall')  "
   ]
  },
  {
   "cell_type": "code",
   "execution_count": 67,
   "id": "f7bc5449",
   "metadata": {},
   "outputs": [
    {
     "name": "stdout",
     "output_type": "stream",
     "text": [
      "Accuracy scores for each fold: [0.9198895  0.88571429 0.89585253 0.85345622 0.91059908]\n",
      "Recall (Sensitivity) scores for each fold: [0.61057692 0.46859903 0.74038462 0.48076923 0.67788462]\n"
     ]
    }
   ],
   "source": [
    "print(\"Accuracy scores for each fold:\", accuracy_scores)\n",
    "print(\"Recall (Sensitivity) scores for each fold:\", recall_scores)"
   ]
  },
  {
   "cell_type": "code",
   "execution_count": 68,
   "id": "ff8e4b4d",
   "metadata": {},
   "outputs": [
    {
     "name": "stdout",
     "output_type": "stream",
     "text": [
      "Cross-validated Accuracy: 0.8931023245156199\n",
      "Cross-validated Recall (Sensitivity): 0.595642883686362\n"
     ]
    }
   ],
   "source": [
    "print(\"Cross-validated Accuracy:\", np.mean(accuracy_scores))\n",
    "print(\"Cross-validated Recall (Sensitivity):\", np.nanmean(recall_scores))\n"
   ]
  },
  {
   "cell_type": "markdown",
   "id": "29daeb75",
   "metadata": {},
   "source": [
    "## Round 6"
   ]
  },
  {
   "cell_type": "code",
   "execution_count": 33,
   "id": "d7e775ed",
   "metadata": {},
   "outputs": [],
   "source": [
    "from sklearn.svm import SVC\n",
    "from sklearn.model_selection import train_test_split\n",
    "from sklearn.metrics import accuracy_score, recall_score\n",
    "import numpy as np"
   ]
  },
  {
   "cell_type": "code",
   "execution_count": 34,
   "id": "45bf1769",
   "metadata": {},
   "outputs": [],
   "source": [
    "np.random.seed(42)\n",
    "\n",
    "svm = SVC(random_state=42) "
   ]
  },
  {
   "cell_type": "code",
   "execution_count": 35,
   "id": "19fe3f74",
   "metadata": {},
   "outputs": [],
   "source": [
    "X = np.array(corpus_6['embedding'].tolist())\n",
    "y = np.array(corpus_6['product_description_binary'])\n"
   ]
  },
  {
   "cell_type": "code",
   "execution_count": 36,
   "id": "9dfe8d36",
   "metadata": {},
   "outputs": [],
   "source": [
    "label_encoder = LabelEncoder()\n",
    "y_encoded = label_encoder.fit_transform(y)\n"
   ]
  },
  {
   "cell_type": "code",
   "execution_count": 37,
   "id": "d7d0c52b",
   "metadata": {},
   "outputs": [],
   "source": [
    "n_folds = 5\n"
   ]
  },
  {
   "cell_type": "code",
   "execution_count": 38,
   "id": "035a295f",
   "metadata": {},
   "outputs": [],
   "source": [
    "accuracy_scores = cross_val_score(svm, X, y_encoded, cv=n_folds, scoring='accuracy')"
   ]
  },
  {
   "cell_type": "code",
   "execution_count": 39,
   "id": "04d6d3c8",
   "metadata": {},
   "outputs": [],
   "source": [
    "recall_scores = cross_val_score(svm, X, y_encoded, cv=n_folds, scoring='recall')  "
   ]
  },
  {
   "cell_type": "code",
   "execution_count": 40,
   "id": "583ea7fe",
   "metadata": {},
   "outputs": [
    {
     "name": "stdout",
     "output_type": "stream",
     "text": [
      "Accuracy scores for each fold: [0.90664424 0.8881413  0.78973928 0.88982338 0.8973064 ]\n",
      "Recall (Sensitivity) scores for each fold: [0.58237548 0.5862069  0.32183908 0.62452107 0.86538462]\n"
     ]
    }
   ],
   "source": [
    "print(\"Accuracy scores for each fold:\", accuracy_scores)\n",
    "print(\"Recall (Sensitivity) scores for each fold:\", recall_scores)"
   ]
  },
  {
   "cell_type": "code",
   "execution_count": 41,
   "id": "6254b843",
   "metadata": {},
   "outputs": [
    {
     "name": "stdout",
     "output_type": "stream",
     "text": [
      "Cross-validated Accuracy: 0.8743309178128355\n",
      "Cross-validated Recall (Sensitivity): 0.5960654288240496\n"
     ]
    }
   ],
   "source": [
    "print(\"Cross-validated Accuracy:\", np.mean(accuracy_scores))\n",
    "print(\"Cross-validated Recall (Sensitivity):\", np.nanmean(recall_scores))"
   ]
  },
  {
   "cell_type": "markdown",
   "id": "82344fe0",
   "metadata": {},
   "source": [
    "# Random Forrest"
   ]
  },
  {
   "cell_type": "code",
   "execution_count": 50,
   "id": "c9a7a116",
   "metadata": {},
   "outputs": [],
   "source": [
    "from sklearn.ensemble import RandomForestClassifier\n",
    "from sklearn.model_selection import cross_validate\n",
    "from sklearn.metrics import make_scorer, accuracy_score, recall_score\n",
    "import numpy as np"
   ]
  },
  {
   "cell_type": "markdown",
   "id": "8fa8cf1b",
   "metadata": {},
   "source": [
    "## Round 1"
   ]
  },
  {
   "cell_type": "code",
   "execution_count": 361,
   "id": "44ef6fc9",
   "metadata": {},
   "outputs": [],
   "source": [
    "X = np.array(corpus_1['embedding'].tolist())\n",
    "y = np.array(corpus_1['product_description_binary'])\n"
   ]
  },
  {
   "cell_type": "code",
   "execution_count": 362,
   "id": "c573855d",
   "metadata": {},
   "outputs": [],
   "source": [
    "rf_classifier = RandomForestClassifier(n_estimators=100, random_state=42)\n"
   ]
  },
  {
   "cell_type": "code",
   "execution_count": 363,
   "id": "f99df6a4",
   "metadata": {},
   "outputs": [],
   "source": [
    "scoring_metrics = {'accuracy': 'accuracy', 'recall': make_scorer(recall_score, pos_label='Yes')}  # Specify the positive class label appropriately"
   ]
  },
  {
   "cell_type": "code",
   "execution_count": 372,
   "id": "e3c0a908",
   "metadata": {},
   "outputs": [],
   "source": [
    "cv_results = cross_validate(rf_classifier, X, y, cv=5, scoring=scoring_metrics)\n"
   ]
  },
  {
   "cell_type": "code",
   "execution_count": 367,
   "id": "9856017a",
   "metadata": {},
   "outputs": [],
   "source": [
    "mean_accuracy = np.mean(cv_results['test_accuracy'])\n",
    "mean_sensitivity = np.nanmean(cv_results['test_recall'])\n"
   ]
  },
  {
   "cell_type": "code",
   "execution_count": 368,
   "id": "12767034",
   "metadata": {},
   "outputs": [
    {
     "name": "stdout",
     "output_type": "stream",
     "text": [
      "Cross-validated Accuracy: 0.910988511715454\n",
      "Cross-validated Sensitivity (Recall): 0.271505376344086\n"
     ]
    }
   ],
   "source": [
    "print(\"Cross-validated Accuracy:\", mean_accuracy)\n",
    "print(\"Cross-validated Sensitivity (Recall):\", mean_sensitivity)\n"
   ]
  },
  {
   "cell_type": "markdown",
   "id": "989cbfad",
   "metadata": {},
   "source": [
    "## Round 2"
   ]
  },
  {
   "cell_type": "code",
   "execution_count": 369,
   "id": "6e239bf9",
   "metadata": {},
   "outputs": [],
   "source": [
    "X = np.array(corpus_2['embedding'].tolist())\n",
    "y = np.array(corpus_2['product_description_binary'])\n"
   ]
  },
  {
   "cell_type": "code",
   "execution_count": 370,
   "id": "2bacaa37",
   "metadata": {},
   "outputs": [],
   "source": [
    "rf_classifier = RandomForestClassifier(n_estimators=100, random_state=42)\n"
   ]
  },
  {
   "cell_type": "code",
   "execution_count": 371,
   "id": "4b743701",
   "metadata": {},
   "outputs": [],
   "source": [
    "scoring_metrics = {'accuracy': 'accuracy', 'recall': make_scorer(recall_score, pos_label='Yes')}"
   ]
  },
  {
   "cell_type": "code",
   "execution_count": 372,
   "id": "8584d745",
   "metadata": {},
   "outputs": [],
   "source": [
    "cv_results = cross_validate(rf_classifier, X, y, cv=5, scoring=scoring_metrics)\n"
   ]
  },
  {
   "cell_type": "code",
   "execution_count": 373,
   "id": "0644e1ec",
   "metadata": {},
   "outputs": [],
   "source": [
    "mean_accuracy = np.mean(cv_results['test_accuracy'])\n",
    "mean_sensitivity = np.nanmean(cv_results['test_recall'])\n"
   ]
  },
  {
   "cell_type": "code",
   "execution_count": 374,
   "id": "a5d694ac",
   "metadata": {},
   "outputs": [
    {
     "name": "stdout",
     "output_type": "stream",
     "text": [
      "Cross-validated Accuracy: 0.8809090909090909\n",
      "Cross-validated Sensitivity (Recall): 0.20994400895856663\n"
     ]
    }
   ],
   "source": [
    "print(\"Cross-validated Accuracy:\", mean_accuracy)\n",
    "print(\"Cross-validated Sensitivity (Recall):\", mean_sensitivity)\n"
   ]
  },
  {
   "cell_type": "markdown",
   "id": "c58ee75b",
   "metadata": {},
   "source": [
    "## Round 3"
   ]
  },
  {
   "cell_type": "code",
   "execution_count": 375,
   "id": "daafd53c",
   "metadata": {},
   "outputs": [],
   "source": [
    "X = np.array(corpus_3['embedding'].tolist()) \n",
    "y = np.array(corpus_3['product_description_binary'])\n"
   ]
  },
  {
   "cell_type": "code",
   "execution_count": 376,
   "id": "e76ad67e",
   "metadata": {},
   "outputs": [],
   "source": [
    "rf_classifier = RandomForestClassifier(n_estimators=100, random_state=42)\n"
   ]
  },
  {
   "cell_type": "code",
   "execution_count": 377,
   "id": "05ccd728",
   "metadata": {},
   "outputs": [],
   "source": [
    "scoring_metrics = {'accuracy': 'accuracy', 'recall': make_scorer(recall_score, pos_label='Yes')} "
   ]
  },
  {
   "cell_type": "code",
   "execution_count": 378,
   "id": "66454176",
   "metadata": {},
   "outputs": [],
   "source": [
    "cv_results = cross_validate(rf_classifier, X, y, cv=5, scoring=scoring_metrics)\n"
   ]
  },
  {
   "cell_type": "code",
   "execution_count": 379,
   "id": "8c16bd8e",
   "metadata": {},
   "outputs": [],
   "source": [
    "mean_accuracy = np.mean(cv_results['test_accuracy'])\n",
    "mean_sensitivity = np.nanmean(cv_results['test_recall'])\n"
   ]
  },
  {
   "cell_type": "code",
   "execution_count": 380,
   "id": "438d8c60",
   "metadata": {},
   "outputs": [
    {
     "name": "stdout",
     "output_type": "stream",
     "text": [
      "Cross-validated Accuracy: 0.8710455764075068\n",
      "Cross-validated Sensitivity (Recall): 0.3550750968992248\n"
     ]
    }
   ],
   "source": [
    "print(\"Cross-validated Accuracy:\", mean_accuracy)\n",
    "print(\"Cross-validated Sensitivity (Recall):\", mean_sensitivity)\n"
   ]
  },
  {
   "cell_type": "markdown",
   "id": "8849bbd7",
   "metadata": {},
   "source": [
    "## Round 4"
   ]
  },
  {
   "cell_type": "code",
   "execution_count": 381,
   "id": "4b6a6b52",
   "metadata": {},
   "outputs": [],
   "source": [
    "X = np.array(corpus_4['embedding'].tolist())  \n",
    "y = np.array(corpus_4['product_description_binary'])\n"
   ]
  },
  {
   "cell_type": "code",
   "execution_count": 382,
   "id": "8dba0aa7",
   "metadata": {},
   "outputs": [],
   "source": [
    "rf_classifier = RandomForestClassifier(n_estimators=100, random_state=42)\n"
   ]
  },
  {
   "cell_type": "code",
   "execution_count": 383,
   "id": "d492da90",
   "metadata": {},
   "outputs": [],
   "source": [
    "scoring_metrics = {'accuracy': 'accuracy', 'recall': make_scorer(recall_score, pos_label='Yes')} "
   ]
  },
  {
   "cell_type": "code",
   "execution_count": 378,
   "id": "f450c804",
   "metadata": {},
   "outputs": [],
   "source": [
    "cv_results = cross_validate(rf_classifier, X, y, cv=5, scoring=scoring_metrics)\n"
   ]
  },
  {
   "cell_type": "code",
   "execution_count": 385,
   "id": "88a66c06",
   "metadata": {},
   "outputs": [],
   "source": [
    "mean_accuracy = np.mean(cv_results['test_accuracy'])\n",
    "mean_sensitivity = np.nanmean(cv_results['test_recall'])\n"
   ]
  },
  {
   "cell_type": "code",
   "execution_count": 386,
   "id": "2594ba67",
   "metadata": {},
   "outputs": [
    {
     "name": "stdout",
     "output_type": "stream",
     "text": [
      "Cross-validated Accuracy: 0.8422233045869983\n",
      "Cross-validated Sensitivity (Recall): 0.30214424951267055\n"
     ]
    }
   ],
   "source": [
    "print(\"Cross-validated Accuracy:\", mean_accuracy)\n",
    "print(\"Cross-validated Sensitivity (Recall):\", mean_sensitivity)\n"
   ]
  },
  {
   "cell_type": "markdown",
   "id": "72277c23",
   "metadata": {},
   "source": [
    "## Round 5"
   ]
  },
  {
   "cell_type": "code",
   "execution_count": 389,
   "id": "620c9525",
   "metadata": {},
   "outputs": [],
   "source": [
    "X = np.array(corpus_5['embedding'].tolist())  \n",
    "y = np.array(corpus_5['product_description_binary'])\n"
   ]
  },
  {
   "cell_type": "code",
   "execution_count": 390,
   "id": "d9137711",
   "metadata": {},
   "outputs": [],
   "source": [
    "rf_classifier = RandomForestClassifier(n_estimators=100, random_state=42)\n"
   ]
  },
  {
   "cell_type": "code",
   "execution_count": 391,
   "id": "3d5cbe35",
   "metadata": {},
   "outputs": [],
   "source": [
    "scoring_metrics = {'accuracy': 'accuracy', 'recall': make_scorer(recall_score, pos_label='Yes')}  # Specify the positive class label appropriately"
   ]
  },
  {
   "cell_type": "code",
   "execution_count": 378,
   "id": "17e55be9",
   "metadata": {},
   "outputs": [],
   "source": [
    "cv_results = cross_validate(rf_classifier, X, y, cv=5, scoring=scoring_metrics)\n"
   ]
  },
  {
   "cell_type": "code",
   "execution_count": 393,
   "id": "4980ee14",
   "metadata": {},
   "outputs": [],
   "source": [
    "mean_accuracy = np.mean(cv_results['test_accuracy'])\n",
    "mean_sensitivity = np.nanmean(cv_results['test_recall'])\n"
   ]
  },
  {
   "cell_type": "code",
   "execution_count": 394,
   "id": "862ba5a9",
   "metadata": {},
   "outputs": [
    {
     "name": "stdout",
     "output_type": "stream",
     "text": [
      "Cross-validated Accuracy: 0.8525615500165491\n",
      "Cross-validated Sensitivity (Recall): 0.2708333333333333\n"
     ]
    }
   ],
   "source": [
    "print(\"Cross-validated Accuracy:\", mean_accuracy)\n",
    "print(\"Cross-validated Sensitivity (Recall):\", mean_sensitivity)\n"
   ]
  },
  {
   "cell_type": "markdown",
   "id": "7a244bde",
   "metadata": {},
   "source": [
    "## Round 6"
   ]
  },
  {
   "cell_type": "code",
   "execution_count": 51,
   "id": "71d48fb5",
   "metadata": {},
   "outputs": [],
   "source": [
    "X = np.array(corpus_6['embedding'].tolist())\n",
    "y = np.array(corpus_6['product_description_binary'])\n"
   ]
  },
  {
   "cell_type": "code",
   "execution_count": 52,
   "id": "ca86206b",
   "metadata": {},
   "outputs": [],
   "source": [
    "rf_classifier = RandomForestClassifier(n_estimators=100, random_state=42)\n"
   ]
  },
  {
   "cell_type": "code",
   "execution_count": 53,
   "id": "08a5e912",
   "metadata": {},
   "outputs": [],
   "source": [
    "scoring_metrics = {'accuracy': 'accuracy', 'recall': make_scorer(recall_score, pos_label='Yes')}"
   ]
  },
  {
   "cell_type": "code",
   "execution_count": 378,
   "id": "1a0c9501",
   "metadata": {},
   "outputs": [],
   "source": [
    "cv_results = cross_validate(rf_classifier, X, y, cv=5, scoring=scoring_metrics)\n"
   ]
  },
  {
   "cell_type": "code",
   "execution_count": null,
   "id": "cdb05380",
   "metadata": {},
   "outputs": [],
   "source": [
    "mean_accuracy = np.mean(cv_results['test_accuracy'])\n",
    "mean_sensitivity = np.nanmean(cv_results['test_recall'])\n"
   ]
  },
  {
   "cell_type": "code",
   "execution_count": null,
   "id": "aff0ffea",
   "metadata": {},
   "outputs": [],
   "source": [
    "print(\"Cross-validated Accuracy:\", mean_accuracy)\n",
    "print(\"Cross-validated Sensitivity (Recall):\", mean_sensitivity)\n"
   ]
  },
  {
   "cell_type": "code",
   "execution_count": 400,
   "id": "51f9769b",
   "metadata": {},
   "outputs": [
    {
     "name": "stdout",
     "output_type": "stream",
     "text": [
      "Cross-validated Accuracy: 0.8536425369478355\n",
      "Cross-validated Sensitivity (Recall): 0.47892720306513414\n"
     ]
    }
   ],
   "source": [
    "print(\"Cross-validated Accuracy:\", mean_accuracy)\n",
    "print(\"Cross-validated Sensitivity (Recall):\", mean_sensitivity)\n"
   ]
  },
  {
   "cell_type": "markdown",
   "id": "165d3bd0",
   "metadata": {},
   "source": [
    "# Neural Network"
   ]
  },
  {
   "cell_type": "code",
   "execution_count": 33,
   "id": "7017790f",
   "metadata": {
    "collapsed": true
   },
   "outputs": [
    {
     "name": "stdout",
     "output_type": "stream",
     "text": [
      "WARNING:tensorflow:From C:\\Users\\blunds\\AppData\\Local\\anaconda3\\Lib\\site-packages\\keras\\src\\losses.py:2976: The name tf.losses.sparse_softmax_cross_entropy is deprecated. Please use tf.compat.v1.losses.sparse_softmax_cross_entropy instead.\n",
      "\n"
     ]
    }
   ],
   "source": [
    "from sklearn.metrics import classification_report, confusion_matrix\n",
    "import tensorflow as tf\n",
    "import numpy as np\n",
    "from sklearn.metrics import recall_score\n",
    "from sklearn.model_selection import train_test_split\n",
    "\n",
    "import pandas as pd\n",
    "from sklearn.model_selection import KFold\n",
    "from sklearn.metrics import recall_score\n",
    "import tensorflow as tf\n",
    "from sklearn.metrics import accuracy_score, recall_score\n",
    "import random\n"
   ]
  },
  {
   "cell_type": "code",
   "execution_count": 35,
   "id": "6f8fffb7",
   "metadata": {},
   "outputs": [],
   "source": [
    "random.seed(42)\n",
    "np.random.seed(42)\n",
    "tf.random.set_seed(42)"
   ]
  },
  {
   "cell_type": "code",
   "execution_count": 36,
   "id": "3ce66fc3",
   "metadata": {},
   "outputs": [],
   "source": [
    "embeddings = pd.DataFrame(corpus_1['embedding'].tolist())\n",
    "class_mapping = {'No': 0, 'Yes': 1}\n",
    "corpus_1['class_encoded'] = corpus_1['product_description_binary'].map(class_mapping)\n"
   ]
  },
  {
   "cell_type": "code",
   "execution_count": 37,
   "id": "2f3ca1f6",
   "metadata": {},
   "outputs": [],
   "source": [
    "X = np.array(embeddings)\n",
    "y = np.array(corpus_1['class_encoded'])\n"
   ]
  },
  {
   "cell_type": "code",
   "execution_count": 38,
   "id": "51cd54e9",
   "metadata": {},
   "outputs": [],
   "source": [
    "n_splits = 5\n",
    "kf = KFold(n_splits=n_splits, shuffle=True, random_state=42)\n"
   ]
  },
  {
   "cell_type": "code",
   "execution_count": 39,
   "id": "c7d83c6f",
   "metadata": {},
   "outputs": [],
   "source": [
    "accuracies = []\n",
    "sensitivities = []\n"
   ]
  },
  {
   "cell_type": "code",
   "execution_count": 40,
   "id": "f3d783e8",
   "metadata": {
    "collapsed": true
   },
   "outputs": [
    {
     "name": "stdout",
     "output_type": "stream",
     "text": [
      "WARNING:tensorflow:From C:\\Users\\blunds\\AppData\\Local\\anaconda3\\Lib\\site-packages\\keras\\src\\backend.py:873: The name tf.get_default_graph is deprecated. Please use tf.compat.v1.get_default_graph instead.\n",
      "\n",
      "WARNING:tensorflow:From C:\\Users\\blunds\\AppData\\Local\\anaconda3\\Lib\\site-packages\\keras\\src\\optimizers\\__init__.py:309: The name tf.train.Optimizer is deprecated. Please use tf.compat.v1.train.Optimizer instead.\n",
      "\n",
      "WARNING:tensorflow:From C:\\Users\\blunds\\AppData\\Local\\anaconda3\\Lib\\site-packages\\keras\\src\\utils\\tf_utils.py:492: The name tf.ragged.RaggedTensorValue is deprecated. Please use tf.compat.v1.ragged.RaggedTensorValue instead.\n",
      "\n",
      "WARNING:tensorflow:From C:\\Users\\blunds\\AppData\\Local\\anaconda3\\Lib\\site-packages\\keras\\src\\engine\\base_layer_utils.py:384: The name tf.executing_eagerly_outside_functions is deprecated. Please use tf.compat.v1.executing_eagerly_outside_functions instead.\n",
      "\n"
     ]
    }
   ],
   "source": [
    "for train_index, test_index in kf.split(X):\n",
    "    X_train, X_test = X[train_index], X[test_index]\n",
    "    y_train, y_test = y[train_index], y[test_index]\n",
    "\n",
    "    # Model definition\n",
    "    model = tf.keras.Sequential([\n",
    "        tf.keras.layers.Dense(128, activation='relu', input_shape=(1536,)),\n",
    "        tf.keras.layers.Dense(64, activation='relu'),\n",
    "        tf.keras.layers.Dense(1, activation='sigmoid')\n",
    "    ])\n",
    "\n",
    "    # Compile and train the model\n",
    "    model.compile(optimizer='adam', loss='binary_crossentropy', metrics=['accuracy'])\n",
    "    model.fit(X_train, y_train, epochs=10, batch_size=32, verbose=0)\n",
    "\n",
    "    # Prediction and metrics calculation\n",
    "    y_pred_probs = model.predict(X_test, verbose=0)\n",
    "    y_pred = (y_pred_probs > 0.5).astype(int)\n",
    "\n",
    "    accuracies.append(accuracy_score(y_test, y_pred))\n",
    "    sensitivities.append(recall_score(y_test, y_pred))"
   ]
  },
  {
   "cell_type": "code",
   "execution_count": 41,
   "id": "faa821bd",
   "metadata": {},
   "outputs": [],
   "source": [
    "mean_accuracy = np.mean(accuracies)\n",
    "mean_sensitivity = np.mean(sensitivities)"
   ]
  },
  {
   "cell_type": "code",
   "execution_count": 42,
   "id": "8c67f692",
   "metadata": {},
   "outputs": [
    {
     "name": "stdout",
     "output_type": "stream",
     "text": [
      "Average Cross-Validated Accuracy: 0.9488544168235219\n",
      "Average Cross-Validated Sensitivity (Recall): 0.8002041015400634\n"
     ]
    }
   ],
   "source": [
    "print(f\"Average Cross-Validated Accuracy: {mean_accuracy}\")\n",
    "print(f\"Average Cross-Validated Sensitivity (Recall): {mean_sensitivity}\")"
   ]
  },
  {
   "cell_type": "markdown",
   "id": "bb99ae15",
   "metadata": {},
   "source": [
    "# Round 2"
   ]
  },
  {
   "cell_type": "code",
   "execution_count": 32,
   "id": "7801b866",
   "metadata": {},
   "outputs": [],
   "source": [
    "random.seed(42)\n",
    "np.random.seed(42)\n",
    "tf.random.set_seed(42)"
   ]
  },
  {
   "cell_type": "code",
   "execution_count": 33,
   "id": "eebc8741",
   "metadata": {},
   "outputs": [],
   "source": [
    "embeddings = pd.DataFrame(corpus_2['embedding'].tolist())\n",
    "class_mapping = {'No': 0, 'Yes': 1}\n",
    "corpus_2['class_encoded'] = corpus_2['product_description_binary'].map(class_mapping)\n"
   ]
  },
  {
   "cell_type": "code",
   "execution_count": 34,
   "id": "39a5fbb1",
   "metadata": {},
   "outputs": [],
   "source": [
    "X = np.array(embeddings)\n",
    "y = np.array(corpus_2['class_encoded'])\n"
   ]
  },
  {
   "cell_type": "code",
   "execution_count": 35,
   "id": "92dacbdb",
   "metadata": {},
   "outputs": [],
   "source": [
    "n_splits = 5\n",
    "kf = KFold(n_splits=n_splits, shuffle=True, random_state=42)\n"
   ]
  },
  {
   "cell_type": "code",
   "execution_count": 36,
   "id": "590049fc",
   "metadata": {},
   "outputs": [],
   "source": [
    "accuracies = []\n",
    "sensitivities = []\n"
   ]
  },
  {
   "cell_type": "code",
   "execution_count": 37,
   "id": "c1964ec9",
   "metadata": {
    "collapsed": true
   },
   "outputs": [
    {
     "name": "stdout",
     "output_type": "stream",
     "text": [
      "WARNING:tensorflow:From C:\\Users\\blunds\\AppData\\Local\\anaconda3\\Lib\\site-packages\\keras\\src\\backend.py:873: The name tf.get_default_graph is deprecated. Please use tf.compat.v1.get_default_graph instead.\n",
      "\n",
      "WARNING:tensorflow:From C:\\Users\\blunds\\AppData\\Local\\anaconda3\\Lib\\site-packages\\keras\\src\\optimizers\\__init__.py:309: The name tf.train.Optimizer is deprecated. Please use tf.compat.v1.train.Optimizer instead.\n",
      "\n",
      "WARNING:tensorflow:From C:\\Users\\blunds\\AppData\\Local\\anaconda3\\Lib\\site-packages\\keras\\src\\utils\\tf_utils.py:492: The name tf.ragged.RaggedTensorValue is deprecated. Please use tf.compat.v1.ragged.RaggedTensorValue instead.\n",
      "\n",
      "WARNING:tensorflow:From C:\\Users\\blunds\\AppData\\Local\\anaconda3\\Lib\\site-packages\\keras\\src\\engine\\base_layer_utils.py:384: The name tf.executing_eagerly_outside_functions is deprecated. Please use tf.compat.v1.executing_eagerly_outside_functions instead.\n",
      "\n"
     ]
    }
   ],
   "source": [
    "for train_index, test_index in kf.split(X):\n",
    "    X_train, X_test = X[train_index], X[test_index]\n",
    "    y_train, y_test = y[train_index], y[test_index]\n",
    "\n",
    "    # Model definition\n",
    "    model = tf.keras.Sequential([\n",
    "        tf.keras.layers.Dense(128, activation='relu', input_shape=(1536,)),\n",
    "        tf.keras.layers.Dense(64, activation='relu'),\n",
    "        tf.keras.layers.Dense(1, activation='sigmoid')\n",
    "    ])\n",
    "\n",
    "    # Compile and train the model\n",
    "    model.compile(optimizer='adam', loss='binary_crossentropy', metrics=['accuracy'])\n",
    "    model.fit(X_train, y_train, epochs=10, batch_size=32, verbose=0)\n",
    "\n",
    "    # Prediction and metrics calculation\n",
    "    y_pred_probs = model.predict(X_test, verbose=0)\n",
    "    y_pred = (y_pred_probs > 0.5).astype(int)\n",
    "\n",
    "    accuracies.append(accuracy_score(y_test, y_pred))\n",
    "    sensitivities.append(recall_score(y_test, y_pred))"
   ]
  },
  {
   "cell_type": "code",
   "execution_count": 38,
   "id": "32e45593",
   "metadata": {},
   "outputs": [],
   "source": [
    "mean_accuracy = np.mean(accuracies)\n",
    "mean_sensitivity = np.mean(sensitivities)"
   ]
  },
  {
   "cell_type": "code",
   "execution_count": 39,
   "id": "0f4d0dac",
   "metadata": {},
   "outputs": [
    {
     "name": "stdout",
     "output_type": "stream",
     "text": [
      "Average Cross-Validated Accuracy: 0.9393939393939394\n",
      "Average Cross-Validated Sensitivity (Recall): 0.7626061539115941\n"
     ]
    }
   ],
   "source": [
    "print(f\"Average Cross-Validated Accuracy: {mean_accuracy}\")\n",
    "print(f\"Average Cross-Validated Sensitivity (Recall): {mean_sensitivity}\")"
   ]
  },
  {
   "cell_type": "markdown",
   "id": "faa851b5",
   "metadata": {},
   "source": [
    "# Round 3"
   ]
  },
  {
   "cell_type": "code",
   "execution_count": 40,
   "id": "058c4c1d",
   "metadata": {},
   "outputs": [],
   "source": [
    "random.seed(42)\n",
    "np.random.seed(42)\n",
    "tf.random.set_seed(42)"
   ]
  },
  {
   "cell_type": "code",
   "execution_count": 41,
   "id": "7efb0dbc",
   "metadata": {},
   "outputs": [],
   "source": [
    "embeddings = pd.DataFrame(corpus_3['embedding'].tolist())\n",
    "class_mapping = {'No': 0, 'Yes': 1}\n",
    "corpus_3['class_encoded'] = corpus_3['product_description_binary'].map(class_mapping)\n"
   ]
  },
  {
   "cell_type": "code",
   "execution_count": 42,
   "id": "0c0c7aff",
   "metadata": {},
   "outputs": [],
   "source": [
    "X = np.array(embeddings)\n",
    "y = np.array(corpus_3['class_encoded'])\n"
   ]
  },
  {
   "cell_type": "code",
   "execution_count": 43,
   "id": "40e63ea8",
   "metadata": {},
   "outputs": [],
   "source": [
    "n_splits = 5\n",
    "kf = KFold(n_splits=n_splits, shuffle=True, random_state=42)\n"
   ]
  },
  {
   "cell_type": "code",
   "execution_count": 44,
   "id": "b01b36f8",
   "metadata": {},
   "outputs": [],
   "source": [
    "accuracies = []\n",
    "sensitivities = []\n"
   ]
  },
  {
   "cell_type": "code",
   "execution_count": 45,
   "id": "3cb5f18a",
   "metadata": {},
   "outputs": [],
   "source": [
    "for train_index, test_index in kf.split(X):\n",
    "    X_train, X_test = X[train_index], X[test_index]\n",
    "    y_train, y_test = y[train_index], y[test_index]\n",
    "\n",
    "    # Model definition\n",
    "    model = tf.keras.Sequential([\n",
    "        tf.keras.layers.Dense(128, activation='relu', input_shape=(1536,)),\n",
    "        tf.keras.layers.Dense(64, activation='relu'),\n",
    "        tf.keras.layers.Dense(1, activation='sigmoid')\n",
    "    ])\n",
    "\n",
    "    # Compile and train the model\n",
    "    model.compile(optimizer='adam', loss='binary_crossentropy', metrics=['accuracy'])\n",
    "    model.fit(X_train, y_train, epochs=10, batch_size=32, verbose=0)\n",
    "\n",
    "    # Prediction and metrics calculation\n",
    "    y_pred_probs = model.predict(X_test, verbose=0)\n",
    "    y_pred = (y_pred_probs > 0.5).astype(int)\n",
    "\n",
    "    accuracies.append(accuracy_score(y_test, y_pred))\n",
    "    sensitivities.append(recall_score(y_test, y_pred))"
   ]
  },
  {
   "cell_type": "code",
   "execution_count": 46,
   "id": "992e0ebb",
   "metadata": {},
   "outputs": [],
   "source": [
    "mean_accuracy = np.mean(accuracies)\n",
    "mean_sensitivity = np.mean(sensitivities)"
   ]
  },
  {
   "cell_type": "code",
   "execution_count": 47,
   "id": "01dc7dab",
   "metadata": {},
   "outputs": [
    {
     "name": "stdout",
     "output_type": "stream",
     "text": [
      "Average Cross-Validated Accuracy: 0.927882037533512\n",
      "Average Cross-Validated Sensitivity (Recall): 0.763558424383175\n"
     ]
    }
   ],
   "source": [
    "print(f\"Average Cross-Validated Accuracy: {mean_accuracy}\")\n",
    "print(f\"Average Cross-Validated Sensitivity (Recall): {mean_sensitivity}\")"
   ]
  },
  {
   "cell_type": "markdown",
   "id": "e3b32e76",
   "metadata": {},
   "source": [
    "# Round 4"
   ]
  },
  {
   "cell_type": "code",
   "execution_count": 48,
   "id": "85fad1c4",
   "metadata": {},
   "outputs": [],
   "source": [
    "random.seed(42)\n",
    "np.random.seed(42)\n",
    "tf.random.set_seed(42)"
   ]
  },
  {
   "cell_type": "code",
   "execution_count": 49,
   "id": "cd93273f",
   "metadata": {},
   "outputs": [],
   "source": [
    "embeddings = pd.DataFrame(corpus_4['embedding'].tolist())\n",
    "class_mapping = {'No': 0, 'Yes': 1}\n",
    "corpus_4['class_encoded'] = corpus_4['product_description_binary'].map(class_mapping)\n"
   ]
  },
  {
   "cell_type": "code",
   "execution_count": 50,
   "id": "a7b74631",
   "metadata": {},
   "outputs": [],
   "source": [
    "X = np.array(embeddings)\n",
    "y = np.array(corpus_4['class_encoded'])\n"
   ]
  },
  {
   "cell_type": "code",
   "execution_count": 51,
   "id": "92998542",
   "metadata": {},
   "outputs": [],
   "source": [
    "n_splits = 5\n",
    "kf = KFold(n_splits=n_splits, shuffle=True, random_state=42)\n"
   ]
  },
  {
   "cell_type": "code",
   "execution_count": 52,
   "id": "137ec1b4",
   "metadata": {},
   "outputs": [],
   "source": [
    "accuracies = []\n",
    "sensitivities = []\n"
   ]
  },
  {
   "cell_type": "code",
   "execution_count": 53,
   "id": "13ad2db1",
   "metadata": {},
   "outputs": [],
   "source": [
    "for train_index, test_index in kf.split(X):\n",
    "    X_train, X_test = X[train_index], X[test_index]\n",
    "    y_train, y_test = y[train_index], y[test_index]\n",
    "\n",
    "    # Model definition\n",
    "    model = tf.keras.Sequential([\n",
    "        tf.keras.layers.Dense(128, activation='relu', input_shape=(1536,)),\n",
    "        tf.keras.layers.Dense(64, activation='relu'),\n",
    "        tf.keras.layers.Dense(1, activation='sigmoid')\n",
    "    ])\n",
    "\n",
    "    # Compile and train the model\n",
    "    model.compile(optimizer='adam', loss='binary_crossentropy', metrics=['accuracy'])\n",
    "    model.fit(X_train, y_train, epochs=10, batch_size=32, verbose=0)\n",
    "\n",
    "    # Prediction and metrics calculation\n",
    "    y_pred_probs = model.predict(X_test, verbose=0)\n",
    "    y_pred = (y_pred_probs > 0.5).astype(int)\n",
    "\n",
    "    accuracies.append(accuracy_score(y_test, y_pred))\n",
    "    sensitivities.append(recall_score(y_test, y_pred))"
   ]
  },
  {
   "cell_type": "code",
   "execution_count": 54,
   "id": "cabd4937",
   "metadata": {},
   "outputs": [],
   "source": [
    "mean_accuracy = np.mean(accuracies)\n",
    "mean_sensitivity = np.mean(sensitivities)"
   ]
  },
  {
   "cell_type": "code",
   "execution_count": 55,
   "id": "ca217d37",
   "metadata": {},
   "outputs": [
    {
     "name": "stdout",
     "output_type": "stream",
     "text": [
      "Average Cross-Validated Accuracy: 0.9260215454258945\n",
      "Average Cross-Validated Sensitivity (Recall): 0.8233155200776473\n"
     ]
    }
   ],
   "source": [
    "print(f\"Average Cross-Validated Accuracy: {mean_accuracy}\")\n",
    "print(f\"Average Cross-Validated Sensitivity (Recall): {mean_sensitivity}\")"
   ]
  },
  {
   "cell_type": "markdown",
   "id": "b8dccf35",
   "metadata": {},
   "source": [
    "# Round 5"
   ]
  },
  {
   "cell_type": "code",
   "execution_count": 56,
   "id": "73119973",
   "metadata": {},
   "outputs": [],
   "source": [
    "random.seed(42)\n",
    "np.random.seed(42)\n",
    "tf.random.set_seed(42)"
   ]
  },
  {
   "cell_type": "code",
   "execution_count": 57,
   "id": "4cbbee91",
   "metadata": {},
   "outputs": [],
   "source": [
    "embeddings = pd.DataFrame(corpus_5['embedding'].tolist())\n",
    "class_mapping = {'No': 0, 'Yes': 1}\n",
    "corpus_5['class_encoded'] = corpus_5['product_description_binary'].map(class_mapping)\n"
   ]
  },
  {
   "cell_type": "code",
   "execution_count": 58,
   "id": "3bac040f",
   "metadata": {},
   "outputs": [],
   "source": [
    "X = np.array(embeddings)\n",
    "y = np.array(corpus_5['class_encoded'])\n"
   ]
  },
  {
   "cell_type": "code",
   "execution_count": 59,
   "id": "2ed8e3d7",
   "metadata": {},
   "outputs": [],
   "source": [
    "n_splits = 5\n",
    "kf = KFold(n_splits=n_splits, shuffle=True, random_state=42)\n"
   ]
  },
  {
   "cell_type": "code",
   "execution_count": 60,
   "id": "1afd60e9",
   "metadata": {},
   "outputs": [],
   "source": [
    "accuracies = []\n",
    "sensitivities = []\n"
   ]
  },
  {
   "cell_type": "code",
   "execution_count": 61,
   "id": "555aea88",
   "metadata": {},
   "outputs": [],
   "source": [
    "for train_index, test_index in kf.split(X):\n",
    "    X_train, X_test = X[train_index], X[test_index]\n",
    "    y_train, y_test = y[train_index], y[test_index]\n",
    "\n",
    "    # Model definition\n",
    "    model = tf.keras.Sequential([\n",
    "        tf.keras.layers.Dense(128, activation='relu', input_shape=(1536,)),\n",
    "        tf.keras.layers.Dense(64, activation='relu'),\n",
    "        tf.keras.layers.Dense(1, activation='sigmoid')\n",
    "    ])\n",
    "\n",
    "    # Compile and train the model\n",
    "    model.compile(optimizer='adam', loss='binary_crossentropy', metrics=['accuracy'])\n",
    "    model.fit(X_train, y_train, epochs=10, batch_size=32, verbose=0)\n",
    "\n",
    "    # Prediction and metrics calculation\n",
    "    y_pred_probs = model.predict(X_test, verbose=0)\n",
    "    y_pred = (y_pred_probs > 0.5).astype(int)\n",
    "\n",
    "    accuracies.append(accuracy_score(y_test, y_pred))\n",
    "    sensitivities.append(recall_score(y_test, y_pred))"
   ]
  },
  {
   "cell_type": "code",
   "execution_count": 62,
   "id": "75a2fb0f",
   "metadata": {},
   "outputs": [],
   "source": [
    "mean_accuracy = np.mean(accuracies)\n",
    "mean_sensitivity = np.mean(sensitivities)"
   ]
  },
  {
   "cell_type": "code",
   "execution_count": 63,
   "id": "a45625c4",
   "metadata": {},
   "outputs": [
    {
     "name": "stdout",
     "output_type": "stream",
     "text": [
      "Average Cross-Validated Accuracy: 0.9198256825453404\n",
      "Average Cross-Validated Sensitivity (Recall): 0.7865540285146103\n"
     ]
    }
   ],
   "source": [
    "print(f\"Average Cross-Validated Accuracy: {mean_accuracy}\")\n",
    "print(f\"Average Cross-Validated Sensitivity (Recall): {mean_sensitivity}\")"
   ]
  },
  {
   "cell_type": "markdown",
   "id": "fd043a6b",
   "metadata": {},
   "source": [
    "## Round 6"
   ]
  },
  {
   "cell_type": "code",
   "execution_count": 36,
   "id": "7dd955c5",
   "metadata": {},
   "outputs": [],
   "source": [
    "random.seed(42)\n",
    "np.random.seed(42)\n",
    "tf.random.set_seed(42)"
   ]
  },
  {
   "cell_type": "code",
   "execution_count": 37,
   "id": "84145deb",
   "metadata": {},
   "outputs": [],
   "source": [
    "embeddings = pd.DataFrame(corpus_6['embedding'].tolist())\n",
    "class_mapping = {'No': 0, 'Yes': 1}\n",
    "corpus_6['class_encoded'] = corpus_6['product_description_binary'].map(class_mapping)\n"
   ]
  },
  {
   "cell_type": "code",
   "execution_count": 38,
   "id": "7e8593ff",
   "metadata": {},
   "outputs": [],
   "source": [
    "X = np.array(embeddings)\n",
    "y = np.array(corpus_6['class_encoded'])\n"
   ]
  },
  {
   "cell_type": "code",
   "execution_count": 39,
   "id": "38190c25",
   "metadata": {},
   "outputs": [],
   "source": [
    "n_splits = 5\n",
    "kf = KFold(n_splits=n_splits, shuffle=True, random_state=42)\n"
   ]
  },
  {
   "cell_type": "code",
   "execution_count": 40,
   "id": "590c92d8",
   "metadata": {},
   "outputs": [],
   "source": [
    "accuracies = []\n",
    "sensitivities = []\n"
   ]
  },
  {
   "cell_type": "code",
   "execution_count": 41,
   "id": "55428606",
   "metadata": {
    "collapsed": true
   },
   "outputs": [
    {
     "name": "stdout",
     "output_type": "stream",
     "text": [
      "WARNING:tensorflow:From C:\\Users\\blunds\\AppData\\Local\\anaconda3\\Lib\\site-packages\\keras\\src\\backend.py:873: The name tf.get_default_graph is deprecated. Please use tf.compat.v1.get_default_graph instead.\n",
      "\n",
      "WARNING:tensorflow:From C:\\Users\\blunds\\AppData\\Local\\anaconda3\\Lib\\site-packages\\keras\\src\\optimizers\\__init__.py:309: The name tf.train.Optimizer is deprecated. Please use tf.compat.v1.train.Optimizer instead.\n",
      "\n",
      "WARNING:tensorflow:From C:\\Users\\blunds\\AppData\\Local\\anaconda3\\Lib\\site-packages\\keras\\src\\utils\\tf_utils.py:492: The name tf.ragged.RaggedTensorValue is deprecated. Please use tf.compat.v1.ragged.RaggedTensorValue instead.\n",
      "\n",
      "WARNING:tensorflow:From C:\\Users\\blunds\\AppData\\Local\\anaconda3\\Lib\\site-packages\\keras\\src\\engine\\base_layer_utils.py:384: The name tf.executing_eagerly_outside_functions is deprecated. Please use tf.compat.v1.executing_eagerly_outside_functions instead.\n",
      "\n"
     ]
    }
   ],
   "source": [
    "for train_index, test_index in kf.split(X):\n",
    "    X_train, X_test = X[train_index], X[test_index]\n",
    "    y_train, y_test = y[train_index], y[test_index]\n",
    "\n",
    "    # Model definition\n",
    "    model = tf.keras.Sequential([\n",
    "        tf.keras.layers.Dense(128, activation='relu', input_shape=(1536,)),\n",
    "        tf.keras.layers.Dense(64, activation='relu'),\n",
    "        tf.keras.layers.Dense(1, activation='sigmoid')\n",
    "    ])\n",
    "\n",
    "    # Compile and train the model\n",
    "    model.compile(optimizer='adam', loss='binary_crossentropy', metrics=['accuracy'])\n",
    "    model.fit(X_train, y_train, epochs=10, batch_size=32, verbose=0)\n",
    "\n",
    "    # Prediction and metrics calculation\n",
    "    y_pred_probs = model.predict(X_test, verbose=0)\n",
    "    y_pred = (y_pred_probs > 0.5).astype(int)\n",
    "\n",
    "    accuracies.append(accuracy_score(y_test, y_pred))\n",
    "    sensitivities.append(recall_score(y_test, y_pred))"
   ]
  },
  {
   "cell_type": "code",
   "execution_count": 42,
   "id": "e3ca8b23",
   "metadata": {},
   "outputs": [],
   "source": [
    "mean_accuracy = np.mean(accuracies)\n",
    "mean_sensitivity = np.mean(sensitivities)"
   ]
  },
  {
   "cell_type": "code",
   "execution_count": 43,
   "id": "9db5f92b",
   "metadata": {},
   "outputs": [
    {
     "name": "stdout",
     "output_type": "stream",
     "text": [
      "Average Cross-Validated Accuracy: 0.9054504959887634\n",
      "Average Cross-Validated Sensitivity (Recall): 0.8352883414216391\n"
     ]
    }
   ],
   "source": [
    "print(f\"Average Cross-Validated Accuracy: {mean_accuracy}\")\n",
    "print(f\"Average Cross-Validated Sensitivity (Recall): {mean_sensitivity}\")"
   ]
  },
  {
   "cell_type": "markdown",
   "id": "de07ab13",
   "metadata": {},
   "source": [
    "## 1.2 Support Vector Machine adjustment"
   ]
  },
  {
   "cell_type": "markdown",
   "id": "f2587c5e",
   "metadata": {},
   "source": [
    "## Runde 1"
   ]
  },
  {
   "cell_type": "code",
   "execution_count": 82,
   "id": "6a8e1833",
   "metadata": {},
   "outputs": [],
   "source": [
    "from sklearn.svm import SVC\n",
    "from sklearn.model_selection import train_test_split\n",
    "from sklearn.metrics import accuracy_score, recall_score\n",
    "import numpy as np\n",
    "\n",
    "svm = SVC()"
   ]
  },
  {
   "cell_type": "code",
   "execution_count": 83,
   "id": "83e8ffb6",
   "metadata": {},
   "outputs": [],
   "source": [
    "X = np.array(corpus_1['embedding'].tolist())\n",
    "y = np.array(corpus_1['product_description_binary'])\n"
   ]
  },
  {
   "cell_type": "code",
   "execution_count": 84,
   "id": "63746efe",
   "metadata": {},
   "outputs": [],
   "source": [
    "label_encoder = LabelEncoder()\n",
    "y_encoded = label_encoder.fit_transform(y)\n"
   ]
  },
  {
   "cell_type": "code",
   "execution_count": 85,
   "id": "8dcd1d8a",
   "metadata": {},
   "outputs": [],
   "source": [
    "X_train, X_test, y_train, y_test = train_test_split(X, y_encoded, test_size=0.3, random_state=42)"
   ]
  },
  {
   "cell_type": "code",
   "execution_count": 86,
   "id": "d0f78d77",
   "metadata": {
    "collapsed": true
   },
   "outputs": [
    {
     "data": {
      "text/html": [
       "<style>#sk-container-id-8 {color: black;}#sk-container-id-8 pre{padding: 0;}#sk-container-id-8 div.sk-toggleable {background-color: white;}#sk-container-id-8 label.sk-toggleable__label {cursor: pointer;display: block;width: 100%;margin-bottom: 0;padding: 0.3em;box-sizing: border-box;text-align: center;}#sk-container-id-8 label.sk-toggleable__label-arrow:before {content: \"▸\";float: left;margin-right: 0.25em;color: #696969;}#sk-container-id-8 label.sk-toggleable__label-arrow:hover:before {color: black;}#sk-container-id-8 div.sk-estimator:hover label.sk-toggleable__label-arrow:before {color: black;}#sk-container-id-8 div.sk-toggleable__content {max-height: 0;max-width: 0;overflow: hidden;text-align: left;background-color: #f0f8ff;}#sk-container-id-8 div.sk-toggleable__content pre {margin: 0.2em;color: black;border-radius: 0.25em;background-color: #f0f8ff;}#sk-container-id-8 input.sk-toggleable__control:checked~div.sk-toggleable__content {max-height: 200px;max-width: 100%;overflow: auto;}#sk-container-id-8 input.sk-toggleable__control:checked~label.sk-toggleable__label-arrow:before {content: \"▾\";}#sk-container-id-8 div.sk-estimator input.sk-toggleable__control:checked~label.sk-toggleable__label {background-color: #d4ebff;}#sk-container-id-8 div.sk-label input.sk-toggleable__control:checked~label.sk-toggleable__label {background-color: #d4ebff;}#sk-container-id-8 input.sk-hidden--visually {border: 0;clip: rect(1px 1px 1px 1px);clip: rect(1px, 1px, 1px, 1px);height: 1px;margin: -1px;overflow: hidden;padding: 0;position: absolute;width: 1px;}#sk-container-id-8 div.sk-estimator {font-family: monospace;background-color: #f0f8ff;border: 1px dotted black;border-radius: 0.25em;box-sizing: border-box;margin-bottom: 0.5em;}#sk-container-id-8 div.sk-estimator:hover {background-color: #d4ebff;}#sk-container-id-8 div.sk-parallel-item::after {content: \"\";width: 100%;border-bottom: 1px solid gray;flex-grow: 1;}#sk-container-id-8 div.sk-label:hover label.sk-toggleable__label {background-color: #d4ebff;}#sk-container-id-8 div.sk-serial::before {content: \"\";position: absolute;border-left: 1px solid gray;box-sizing: border-box;top: 0;bottom: 0;left: 50%;z-index: 0;}#sk-container-id-8 div.sk-serial {display: flex;flex-direction: column;align-items: center;background-color: white;padding-right: 0.2em;padding-left: 0.2em;position: relative;}#sk-container-id-8 div.sk-item {position: relative;z-index: 1;}#sk-container-id-8 div.sk-parallel {display: flex;align-items: stretch;justify-content: center;background-color: white;position: relative;}#sk-container-id-8 div.sk-item::before, #sk-container-id-8 div.sk-parallel-item::before {content: \"\";position: absolute;border-left: 1px solid gray;box-sizing: border-box;top: 0;bottom: 0;left: 50%;z-index: -1;}#sk-container-id-8 div.sk-parallel-item {display: flex;flex-direction: column;z-index: 1;position: relative;background-color: white;}#sk-container-id-8 div.sk-parallel-item:first-child::after {align-self: flex-end;width: 50%;}#sk-container-id-8 div.sk-parallel-item:last-child::after {align-self: flex-start;width: 50%;}#sk-container-id-8 div.sk-parallel-item:only-child::after {width: 0;}#sk-container-id-8 div.sk-dashed-wrapped {border: 1px dashed gray;margin: 0 0.4em 0.5em 0.4em;box-sizing: border-box;padding-bottom: 0.4em;background-color: white;}#sk-container-id-8 div.sk-label label {font-family: monospace;font-weight: bold;display: inline-block;line-height: 1.2em;}#sk-container-id-8 div.sk-label-container {text-align: center;}#sk-container-id-8 div.sk-container {/* jupyter's `normalize.less` sets `[hidden] { display: none; }` but bootstrap.min.css set `[hidden] { display: none !important; }` so we also need the `!important` here to be able to override the default hidden behavior on the sphinx rendered scikit-learn.org. See: https://github.com/scikit-learn/scikit-learn/issues/21755 */display: inline-block !important;position: relative;}#sk-container-id-8 div.sk-text-repr-fallback {display: none;}</style><div id=\"sk-container-id-8\" class=\"sk-top-container\"><div class=\"sk-text-repr-fallback\"><pre>SVC()</pre><b>In a Jupyter environment, please rerun this cell to show the HTML representation or trust the notebook. <br />On GitHub, the HTML representation is unable to render, please try loading this page with nbviewer.org.</b></div><div class=\"sk-container\" hidden><div class=\"sk-item\"><div class=\"sk-estimator sk-toggleable\"><input class=\"sk-toggleable__control sk-hidden--visually\" id=\"sk-estimator-id-8\" type=\"checkbox\" checked><label for=\"sk-estimator-id-8\" class=\"sk-toggleable__label sk-toggleable__label-arrow\">SVC</label><div class=\"sk-toggleable__content\"><pre>SVC()</pre></div></div></div></div></div>"
      ],
      "text/plain": [
       "SVC()"
      ]
     },
     "execution_count": 86,
     "metadata": {},
     "output_type": "execute_result"
    }
   ],
   "source": [
    "svm.fit(list(X_train), y_train)\n",
    "\n"
   ]
  },
  {
   "cell_type": "code",
   "execution_count": 87,
   "id": "02019ed0",
   "metadata": {},
   "outputs": [],
   "source": [
    "y_pred = svm.predict(list(X_test))\n"
   ]
  },
  {
   "cell_type": "code",
   "execution_count": 88,
   "id": "3a50a903",
   "metadata": {},
   "outputs": [
    {
     "name": "stdout",
     "output_type": "stream",
     "text": [
      "Accuracy: 0.9610738255033557\n"
     ]
    }
   ],
   "source": [
    "accuracy = accuracy_score(y_test, y_pred)\n",
    "print('Accuracy:', accuracy)"
   ]
  },
  {
   "cell_type": "code",
   "execution_count": 89,
   "id": "ac64db32",
   "metadata": {},
   "outputs": [
    {
     "name": "stdout",
     "output_type": "stream",
     "text": [
      "Sensitivity: 0.6875\n"
     ]
    }
   ],
   "source": [
    "sensitivity = recall_score(y_test, y_pred)\n",
    "print('Sensitivity:', sensitivity)"
   ]
  },
  {
   "cell_type": "markdown",
   "id": "a379927e",
   "metadata": {},
   "source": [
    "## Runde 2"
   ]
  },
  {
   "cell_type": "code",
   "execution_count": 90,
   "id": "e9c64a06",
   "metadata": {},
   "outputs": [],
   "source": [
    "from sklearn.svm import SVC\n",
    "from sklearn.model_selection import train_test_split\n",
    "from sklearn.metrics import accuracy_score, recall_score\n",
    "import numpy as np\n",
    "\n",
    "svm = SVC()"
   ]
  },
  {
   "cell_type": "code",
   "execution_count": 91,
   "id": "d7f74bd6",
   "metadata": {},
   "outputs": [],
   "source": [
    "X = np.array(corpus_2['embedding'].tolist())\n",
    "y = np.array(corpus_2['product_description_binary'])\n"
   ]
  },
  {
   "cell_type": "code",
   "execution_count": 92,
   "id": "d4c06e7c",
   "metadata": {},
   "outputs": [],
   "source": [
    "label_encoder = LabelEncoder()\n",
    "y_encoded = label_encoder.fit_transform(y)\n"
   ]
  },
  {
   "cell_type": "code",
   "execution_count": 93,
   "id": "5605e92b",
   "metadata": {},
   "outputs": [],
   "source": [
    "X_train, X_test, y_train, y_test = train_test_split(X, y_encoded, test_size=0.3, random_state=42)"
   ]
  },
  {
   "cell_type": "code",
   "execution_count": 94,
   "id": "f2c40e75",
   "metadata": {
    "collapsed": true
   },
   "outputs": [
    {
     "data": {
      "text/html": [
       "<style>#sk-container-id-9 {color: black;}#sk-container-id-9 pre{padding: 0;}#sk-container-id-9 div.sk-toggleable {background-color: white;}#sk-container-id-9 label.sk-toggleable__label {cursor: pointer;display: block;width: 100%;margin-bottom: 0;padding: 0.3em;box-sizing: border-box;text-align: center;}#sk-container-id-9 label.sk-toggleable__label-arrow:before {content: \"▸\";float: left;margin-right: 0.25em;color: #696969;}#sk-container-id-9 label.sk-toggleable__label-arrow:hover:before {color: black;}#sk-container-id-9 div.sk-estimator:hover label.sk-toggleable__label-arrow:before {color: black;}#sk-container-id-9 div.sk-toggleable__content {max-height: 0;max-width: 0;overflow: hidden;text-align: left;background-color: #f0f8ff;}#sk-container-id-9 div.sk-toggleable__content pre {margin: 0.2em;color: black;border-radius: 0.25em;background-color: #f0f8ff;}#sk-container-id-9 input.sk-toggleable__control:checked~div.sk-toggleable__content {max-height: 200px;max-width: 100%;overflow: auto;}#sk-container-id-9 input.sk-toggleable__control:checked~label.sk-toggleable__label-arrow:before {content: \"▾\";}#sk-container-id-9 div.sk-estimator input.sk-toggleable__control:checked~label.sk-toggleable__label {background-color: #d4ebff;}#sk-container-id-9 div.sk-label input.sk-toggleable__control:checked~label.sk-toggleable__label {background-color: #d4ebff;}#sk-container-id-9 input.sk-hidden--visually {border: 0;clip: rect(1px 1px 1px 1px);clip: rect(1px, 1px, 1px, 1px);height: 1px;margin: -1px;overflow: hidden;padding: 0;position: absolute;width: 1px;}#sk-container-id-9 div.sk-estimator {font-family: monospace;background-color: #f0f8ff;border: 1px dotted black;border-radius: 0.25em;box-sizing: border-box;margin-bottom: 0.5em;}#sk-container-id-9 div.sk-estimator:hover {background-color: #d4ebff;}#sk-container-id-9 div.sk-parallel-item::after {content: \"\";width: 100%;border-bottom: 1px solid gray;flex-grow: 1;}#sk-container-id-9 div.sk-label:hover label.sk-toggleable__label {background-color: #d4ebff;}#sk-container-id-9 div.sk-serial::before {content: \"\";position: absolute;border-left: 1px solid gray;box-sizing: border-box;top: 0;bottom: 0;left: 50%;z-index: 0;}#sk-container-id-9 div.sk-serial {display: flex;flex-direction: column;align-items: center;background-color: white;padding-right: 0.2em;padding-left: 0.2em;position: relative;}#sk-container-id-9 div.sk-item {position: relative;z-index: 1;}#sk-container-id-9 div.sk-parallel {display: flex;align-items: stretch;justify-content: center;background-color: white;position: relative;}#sk-container-id-9 div.sk-item::before, #sk-container-id-9 div.sk-parallel-item::before {content: \"\";position: absolute;border-left: 1px solid gray;box-sizing: border-box;top: 0;bottom: 0;left: 50%;z-index: -1;}#sk-container-id-9 div.sk-parallel-item {display: flex;flex-direction: column;z-index: 1;position: relative;background-color: white;}#sk-container-id-9 div.sk-parallel-item:first-child::after {align-self: flex-end;width: 50%;}#sk-container-id-9 div.sk-parallel-item:last-child::after {align-self: flex-start;width: 50%;}#sk-container-id-9 div.sk-parallel-item:only-child::after {width: 0;}#sk-container-id-9 div.sk-dashed-wrapped {border: 1px dashed gray;margin: 0 0.4em 0.5em 0.4em;box-sizing: border-box;padding-bottom: 0.4em;background-color: white;}#sk-container-id-9 div.sk-label label {font-family: monospace;font-weight: bold;display: inline-block;line-height: 1.2em;}#sk-container-id-9 div.sk-label-container {text-align: center;}#sk-container-id-9 div.sk-container {/* jupyter's `normalize.less` sets `[hidden] { display: none; }` but bootstrap.min.css set `[hidden] { display: none !important; }` so we also need the `!important` here to be able to override the default hidden behavior on the sphinx rendered scikit-learn.org. See: https://github.com/scikit-learn/scikit-learn/issues/21755 */display: inline-block !important;position: relative;}#sk-container-id-9 div.sk-text-repr-fallback {display: none;}</style><div id=\"sk-container-id-9\" class=\"sk-top-container\"><div class=\"sk-text-repr-fallback\"><pre>SVC()</pre><b>In a Jupyter environment, please rerun this cell to show the HTML representation or trust the notebook. <br />On GitHub, the HTML representation is unable to render, please try loading this page with nbviewer.org.</b></div><div class=\"sk-container\" hidden><div class=\"sk-item\"><div class=\"sk-estimator sk-toggleable\"><input class=\"sk-toggleable__control sk-hidden--visually\" id=\"sk-estimator-id-9\" type=\"checkbox\" checked><label for=\"sk-estimator-id-9\" class=\"sk-toggleable__label sk-toggleable__label-arrow\">SVC</label><div class=\"sk-toggleable__content\"><pre>SVC()</pre></div></div></div></div></div>"
      ],
      "text/plain": [
       "SVC()"
      ]
     },
     "execution_count": 94,
     "metadata": {},
     "output_type": "execute_result"
    }
   ],
   "source": [
    "svm.fit(list(X_train), y_train)\n",
    "\n"
   ]
  },
  {
   "cell_type": "code",
   "execution_count": 95,
   "id": "73023483",
   "metadata": {},
   "outputs": [],
   "source": [
    "y_pred = svm.predict(list(X_test))\n"
   ]
  },
  {
   "cell_type": "code",
   "execution_count": 96,
   "id": "19072f64",
   "metadata": {},
   "outputs": [
    {
     "name": "stdout",
     "output_type": "stream",
     "text": [
      "Accuracy: 0.9333333333333333\n"
     ]
    }
   ],
   "source": [
    "accuracy = accuracy_score(y_test, y_pred)\n",
    "print('Accuracy:', accuracy)"
   ]
  },
  {
   "cell_type": "code",
   "execution_count": 97,
   "id": "d1f72e49",
   "metadata": {},
   "outputs": [
    {
     "name": "stdout",
     "output_type": "stream",
     "text": [
      "Sensitivity: 0.6305732484076433\n"
     ]
    }
   ],
   "source": [
    "sensitivity = recall_score(y_test, y_pred)\n",
    "print('Sensitivity:', sensitivity)"
   ]
  },
  {
   "cell_type": "markdown",
   "id": "62d3a943",
   "metadata": {},
   "source": [
    "## Runde 3"
   ]
  },
  {
   "cell_type": "code",
   "execution_count": 98,
   "id": "ee42206b",
   "metadata": {},
   "outputs": [],
   "source": [
    "from sklearn.svm import SVC\n",
    "from sklearn.model_selection import train_test_split\n",
    "from sklearn.metrics import accuracy_score, recall_score\n",
    "import numpy as np\n",
    "\n",
    "svm = SVC()"
   ]
  },
  {
   "cell_type": "code",
   "execution_count": 99,
   "id": "de16955c",
   "metadata": {},
   "outputs": [],
   "source": [
    "X = np.array(corpus_3['embedding'].tolist())\n",
    "y = np.array(corpus_3['product_description_binary'])\n"
   ]
  },
  {
   "cell_type": "code",
   "execution_count": 100,
   "id": "901cbfb9",
   "metadata": {},
   "outputs": [],
   "source": [
    "label_encoder = LabelEncoder()\n",
    "y_encoded = label_encoder.fit_transform(y)\n"
   ]
  },
  {
   "cell_type": "code",
   "execution_count": 101,
   "id": "77d0c664",
   "metadata": {},
   "outputs": [],
   "source": [
    "X_train, X_test, y_train, y_test = train_test_split(X, y_encoded, test_size=0.3, random_state=42)"
   ]
  },
  {
   "cell_type": "code",
   "execution_count": 102,
   "id": "1af640d5",
   "metadata": {
    "collapsed": true
   },
   "outputs": [
    {
     "data": {
      "text/html": [
       "<style>#sk-container-id-10 {color: black;}#sk-container-id-10 pre{padding: 0;}#sk-container-id-10 div.sk-toggleable {background-color: white;}#sk-container-id-10 label.sk-toggleable__label {cursor: pointer;display: block;width: 100%;margin-bottom: 0;padding: 0.3em;box-sizing: border-box;text-align: center;}#sk-container-id-10 label.sk-toggleable__label-arrow:before {content: \"▸\";float: left;margin-right: 0.25em;color: #696969;}#sk-container-id-10 label.sk-toggleable__label-arrow:hover:before {color: black;}#sk-container-id-10 div.sk-estimator:hover label.sk-toggleable__label-arrow:before {color: black;}#sk-container-id-10 div.sk-toggleable__content {max-height: 0;max-width: 0;overflow: hidden;text-align: left;background-color: #f0f8ff;}#sk-container-id-10 div.sk-toggleable__content pre {margin: 0.2em;color: black;border-radius: 0.25em;background-color: #f0f8ff;}#sk-container-id-10 input.sk-toggleable__control:checked~div.sk-toggleable__content {max-height: 200px;max-width: 100%;overflow: auto;}#sk-container-id-10 input.sk-toggleable__control:checked~label.sk-toggleable__label-arrow:before {content: \"▾\";}#sk-container-id-10 div.sk-estimator input.sk-toggleable__control:checked~label.sk-toggleable__label {background-color: #d4ebff;}#sk-container-id-10 div.sk-label input.sk-toggleable__control:checked~label.sk-toggleable__label {background-color: #d4ebff;}#sk-container-id-10 input.sk-hidden--visually {border: 0;clip: rect(1px 1px 1px 1px);clip: rect(1px, 1px, 1px, 1px);height: 1px;margin: -1px;overflow: hidden;padding: 0;position: absolute;width: 1px;}#sk-container-id-10 div.sk-estimator {font-family: monospace;background-color: #f0f8ff;border: 1px dotted black;border-radius: 0.25em;box-sizing: border-box;margin-bottom: 0.5em;}#sk-container-id-10 div.sk-estimator:hover {background-color: #d4ebff;}#sk-container-id-10 div.sk-parallel-item::after {content: \"\";width: 100%;border-bottom: 1px solid gray;flex-grow: 1;}#sk-container-id-10 div.sk-label:hover label.sk-toggleable__label {background-color: #d4ebff;}#sk-container-id-10 div.sk-serial::before {content: \"\";position: absolute;border-left: 1px solid gray;box-sizing: border-box;top: 0;bottom: 0;left: 50%;z-index: 0;}#sk-container-id-10 div.sk-serial {display: flex;flex-direction: column;align-items: center;background-color: white;padding-right: 0.2em;padding-left: 0.2em;position: relative;}#sk-container-id-10 div.sk-item {position: relative;z-index: 1;}#sk-container-id-10 div.sk-parallel {display: flex;align-items: stretch;justify-content: center;background-color: white;position: relative;}#sk-container-id-10 div.sk-item::before, #sk-container-id-10 div.sk-parallel-item::before {content: \"\";position: absolute;border-left: 1px solid gray;box-sizing: border-box;top: 0;bottom: 0;left: 50%;z-index: -1;}#sk-container-id-10 div.sk-parallel-item {display: flex;flex-direction: column;z-index: 1;position: relative;background-color: white;}#sk-container-id-10 div.sk-parallel-item:first-child::after {align-self: flex-end;width: 50%;}#sk-container-id-10 div.sk-parallel-item:last-child::after {align-self: flex-start;width: 50%;}#sk-container-id-10 div.sk-parallel-item:only-child::after {width: 0;}#sk-container-id-10 div.sk-dashed-wrapped {border: 1px dashed gray;margin: 0 0.4em 0.5em 0.4em;box-sizing: border-box;padding-bottom: 0.4em;background-color: white;}#sk-container-id-10 div.sk-label label {font-family: monospace;font-weight: bold;display: inline-block;line-height: 1.2em;}#sk-container-id-10 div.sk-label-container {text-align: center;}#sk-container-id-10 div.sk-container {/* jupyter's `normalize.less` sets `[hidden] { display: none; }` but bootstrap.min.css set `[hidden] { display: none !important; }` so we also need the `!important` here to be able to override the default hidden behavior on the sphinx rendered scikit-learn.org. See: https://github.com/scikit-learn/scikit-learn/issues/21755 */display: inline-block !important;position: relative;}#sk-container-id-10 div.sk-text-repr-fallback {display: none;}</style><div id=\"sk-container-id-10\" class=\"sk-top-container\"><div class=\"sk-text-repr-fallback\"><pre>SVC()</pre><b>In a Jupyter environment, please rerun this cell to show the HTML representation or trust the notebook. <br />On GitHub, the HTML representation is unable to render, please try loading this page with nbviewer.org.</b></div><div class=\"sk-container\" hidden><div class=\"sk-item\"><div class=\"sk-estimator sk-toggleable\"><input class=\"sk-toggleable__control sk-hidden--visually\" id=\"sk-estimator-id-10\" type=\"checkbox\" checked><label for=\"sk-estimator-id-10\" class=\"sk-toggleable__label sk-toggleable__label-arrow\">SVC</label><div class=\"sk-toggleable__content\"><pre>SVC()</pre></div></div></div></div></div>"
      ],
      "text/plain": [
       "SVC()"
      ]
     },
     "execution_count": 102,
     "metadata": {},
     "output_type": "execute_result"
    }
   ],
   "source": [
    "svm.fit(list(X_train), y_train)\n",
    "\n"
   ]
  },
  {
   "cell_type": "code",
   "execution_count": 103,
   "id": "13f0d69d",
   "metadata": {},
   "outputs": [],
   "source": [
    "y_pred = svm.predict(list(X_test))\n"
   ]
  },
  {
   "cell_type": "code",
   "execution_count": 104,
   "id": "75848c48",
   "metadata": {},
   "outputs": [
    {
     "name": "stdout",
     "output_type": "stream",
     "text": [
      "Accuracy: 0.9517426273458445\n"
     ]
    }
   ],
   "source": [
    "accuracy = accuracy_score(y_test, y_pred)\n",
    "print('Accuracy:', accuracy)"
   ]
  },
  {
   "cell_type": "code",
   "execution_count": 105,
   "id": "9a58d9d5",
   "metadata": {},
   "outputs": [
    {
     "name": "stdout",
     "output_type": "stream",
     "text": [
      "Sensitivity: 0.7956989247311828\n"
     ]
    }
   ],
   "source": [
    "sensitivity = recall_score(y_test, y_pred)\n",
    "print('Sensitivity:', sensitivity)"
   ]
  },
  {
   "cell_type": "markdown",
   "id": "02522473",
   "metadata": {},
   "source": [
    "## Runde 4"
   ]
  },
  {
   "cell_type": "code",
   "execution_count": 106,
   "id": "bcb3ad42",
   "metadata": {},
   "outputs": [],
   "source": [
    "from sklearn.svm import SVC\n",
    "from sklearn.model_selection import train_test_split\n",
    "from sklearn.metrics import accuracy_score, recall_score\n",
    "import numpy as np\n",
    "\n",
    "svm = SVC()"
   ]
  },
  {
   "cell_type": "code",
   "execution_count": 107,
   "id": "e8e9b545",
   "metadata": {},
   "outputs": [],
   "source": [
    "X = np.array(corpus_4['embedding'].tolist())\n",
    "y = np.array(corpus_4['product_description_binary'])\n"
   ]
  },
  {
   "cell_type": "code",
   "execution_count": 108,
   "id": "64787e19",
   "metadata": {},
   "outputs": [],
   "source": [
    "label_encoder = LabelEncoder()\n",
    "y_encoded = label_encoder.fit_transform(y)\n"
   ]
  },
  {
   "cell_type": "code",
   "execution_count": 109,
   "id": "4418946a",
   "metadata": {},
   "outputs": [],
   "source": [
    "X_train, X_test, y_train, y_test = train_test_split(X, y_encoded, test_size=0.3, random_state=42)"
   ]
  },
  {
   "cell_type": "code",
   "execution_count": 110,
   "id": "17d88029",
   "metadata": {
    "collapsed": true
   },
   "outputs": [
    {
     "data": {
      "text/html": [
       "<style>#sk-container-id-11 {color: black;}#sk-container-id-11 pre{padding: 0;}#sk-container-id-11 div.sk-toggleable {background-color: white;}#sk-container-id-11 label.sk-toggleable__label {cursor: pointer;display: block;width: 100%;margin-bottom: 0;padding: 0.3em;box-sizing: border-box;text-align: center;}#sk-container-id-11 label.sk-toggleable__label-arrow:before {content: \"▸\";float: left;margin-right: 0.25em;color: #696969;}#sk-container-id-11 label.sk-toggleable__label-arrow:hover:before {color: black;}#sk-container-id-11 div.sk-estimator:hover label.sk-toggleable__label-arrow:before {color: black;}#sk-container-id-11 div.sk-toggleable__content {max-height: 0;max-width: 0;overflow: hidden;text-align: left;background-color: #f0f8ff;}#sk-container-id-11 div.sk-toggleable__content pre {margin: 0.2em;color: black;border-radius: 0.25em;background-color: #f0f8ff;}#sk-container-id-11 input.sk-toggleable__control:checked~div.sk-toggleable__content {max-height: 200px;max-width: 100%;overflow: auto;}#sk-container-id-11 input.sk-toggleable__control:checked~label.sk-toggleable__label-arrow:before {content: \"▾\";}#sk-container-id-11 div.sk-estimator input.sk-toggleable__control:checked~label.sk-toggleable__label {background-color: #d4ebff;}#sk-container-id-11 div.sk-label input.sk-toggleable__control:checked~label.sk-toggleable__label {background-color: #d4ebff;}#sk-container-id-11 input.sk-hidden--visually {border: 0;clip: rect(1px 1px 1px 1px);clip: rect(1px, 1px, 1px, 1px);height: 1px;margin: -1px;overflow: hidden;padding: 0;position: absolute;width: 1px;}#sk-container-id-11 div.sk-estimator {font-family: monospace;background-color: #f0f8ff;border: 1px dotted black;border-radius: 0.25em;box-sizing: border-box;margin-bottom: 0.5em;}#sk-container-id-11 div.sk-estimator:hover {background-color: #d4ebff;}#sk-container-id-11 div.sk-parallel-item::after {content: \"\";width: 100%;border-bottom: 1px solid gray;flex-grow: 1;}#sk-container-id-11 div.sk-label:hover label.sk-toggleable__label {background-color: #d4ebff;}#sk-container-id-11 div.sk-serial::before {content: \"\";position: absolute;border-left: 1px solid gray;box-sizing: border-box;top: 0;bottom: 0;left: 50%;z-index: 0;}#sk-container-id-11 div.sk-serial {display: flex;flex-direction: column;align-items: center;background-color: white;padding-right: 0.2em;padding-left: 0.2em;position: relative;}#sk-container-id-11 div.sk-item {position: relative;z-index: 1;}#sk-container-id-11 div.sk-parallel {display: flex;align-items: stretch;justify-content: center;background-color: white;position: relative;}#sk-container-id-11 div.sk-item::before, #sk-container-id-11 div.sk-parallel-item::before {content: \"\";position: absolute;border-left: 1px solid gray;box-sizing: border-box;top: 0;bottom: 0;left: 50%;z-index: -1;}#sk-container-id-11 div.sk-parallel-item {display: flex;flex-direction: column;z-index: 1;position: relative;background-color: white;}#sk-container-id-11 div.sk-parallel-item:first-child::after {align-self: flex-end;width: 50%;}#sk-container-id-11 div.sk-parallel-item:last-child::after {align-self: flex-start;width: 50%;}#sk-container-id-11 div.sk-parallel-item:only-child::after {width: 0;}#sk-container-id-11 div.sk-dashed-wrapped {border: 1px dashed gray;margin: 0 0.4em 0.5em 0.4em;box-sizing: border-box;padding-bottom: 0.4em;background-color: white;}#sk-container-id-11 div.sk-label label {font-family: monospace;font-weight: bold;display: inline-block;line-height: 1.2em;}#sk-container-id-11 div.sk-label-container {text-align: center;}#sk-container-id-11 div.sk-container {/* jupyter's `normalize.less` sets `[hidden] { display: none; }` but bootstrap.min.css set `[hidden] { display: none !important; }` so we also need the `!important` here to be able to override the default hidden behavior on the sphinx rendered scikit-learn.org. See: https://github.com/scikit-learn/scikit-learn/issues/21755 */display: inline-block !important;position: relative;}#sk-container-id-11 div.sk-text-repr-fallback {display: none;}</style><div id=\"sk-container-id-11\" class=\"sk-top-container\"><div class=\"sk-text-repr-fallback\"><pre>SVC()</pre><b>In a Jupyter environment, please rerun this cell to show the HTML representation or trust the notebook. <br />On GitHub, the HTML representation is unable to render, please try loading this page with nbviewer.org.</b></div><div class=\"sk-container\" hidden><div class=\"sk-item\"><div class=\"sk-estimator sk-toggleable\"><input class=\"sk-toggleable__control sk-hidden--visually\" id=\"sk-estimator-id-11\" type=\"checkbox\" checked><label for=\"sk-estimator-id-11\" class=\"sk-toggleable__label sk-toggleable__label-arrow\">SVC</label><div class=\"sk-toggleable__content\"><pre>SVC()</pre></div></div></div></div></div>"
      ],
      "text/plain": [
       "SVC()"
      ]
     },
     "execution_count": 110,
     "metadata": {},
     "output_type": "execute_result"
    }
   ],
   "source": [
    "svm.fit(list(X_train), y_train)\n",
    "\n"
   ]
  },
  {
   "cell_type": "code",
   "execution_count": 111,
   "id": "697ab891",
   "metadata": {},
   "outputs": [],
   "source": [
    "y_pred = svm.predict(list(X_test))\n"
   ]
  },
  {
   "cell_type": "code",
   "execution_count": 112,
   "id": "82ca5162",
   "metadata": {},
   "outputs": [
    {
     "name": "stdout",
     "output_type": "stream",
     "text": [
      "Accuracy: 0.956140350877193\n"
     ]
    }
   ],
   "source": [
    "accuracy = accuracy_score(y_test, y_pred)\n",
    "print('Accuracy:', accuracy)"
   ]
  },
  {
   "cell_type": "code",
   "execution_count": 113,
   "id": "b9f582ec",
   "metadata": {},
   "outputs": [
    {
     "name": "stdout",
     "output_type": "stream",
     "text": [
      "Sensitivity: 0.8396946564885496\n"
     ]
    }
   ],
   "source": [
    "sensitivity = recall_score(y_test, y_pred)\n",
    "print('Sensitivity:', sensitivity)"
   ]
  },
  {
   "cell_type": "markdown",
   "id": "3059d71b",
   "metadata": {},
   "source": [
    "## Runde 5"
   ]
  },
  {
   "cell_type": "code",
   "execution_count": 114,
   "id": "55e44ce1",
   "metadata": {},
   "outputs": [],
   "source": [
    "from sklearn.svm import SVC\n",
    "from sklearn.model_selection import train_test_split\n",
    "from sklearn.metrics import accuracy_score, recall_score\n",
    "import numpy as np\n",
    "\n",
    "svm = SVC()"
   ]
  },
  {
   "cell_type": "code",
   "execution_count": 115,
   "id": "61b778bc",
   "metadata": {},
   "outputs": [],
   "source": [
    "X = np.array(corpus_5['embedding'].tolist())\n",
    "y = np.array(corpus_5['product_description_binary'])\n"
   ]
  },
  {
   "cell_type": "code",
   "execution_count": 116,
   "id": "50af5c51",
   "metadata": {},
   "outputs": [],
   "source": [
    "label_encoder = LabelEncoder()\n",
    "y_encoded = label_encoder.fit_transform(y)\n"
   ]
  },
  {
   "cell_type": "code",
   "execution_count": 117,
   "id": "e11c651d",
   "metadata": {},
   "outputs": [],
   "source": [
    "X_train, X_test, y_train, y_test = train_test_split(X, y_encoded, test_size=0.3, random_state=42)"
   ]
  },
  {
   "cell_type": "code",
   "execution_count": 118,
   "id": "ade9be52",
   "metadata": {
    "collapsed": true
   },
   "outputs": [
    {
     "data": {
      "text/html": [
       "<style>#sk-container-id-12 {color: black;}#sk-container-id-12 pre{padding: 0;}#sk-container-id-12 div.sk-toggleable {background-color: white;}#sk-container-id-12 label.sk-toggleable__label {cursor: pointer;display: block;width: 100%;margin-bottom: 0;padding: 0.3em;box-sizing: border-box;text-align: center;}#sk-container-id-12 label.sk-toggleable__label-arrow:before {content: \"▸\";float: left;margin-right: 0.25em;color: #696969;}#sk-container-id-12 label.sk-toggleable__label-arrow:hover:before {color: black;}#sk-container-id-12 div.sk-estimator:hover label.sk-toggleable__label-arrow:before {color: black;}#sk-container-id-12 div.sk-toggleable__content {max-height: 0;max-width: 0;overflow: hidden;text-align: left;background-color: #f0f8ff;}#sk-container-id-12 div.sk-toggleable__content pre {margin: 0.2em;color: black;border-radius: 0.25em;background-color: #f0f8ff;}#sk-container-id-12 input.sk-toggleable__control:checked~div.sk-toggleable__content {max-height: 200px;max-width: 100%;overflow: auto;}#sk-container-id-12 input.sk-toggleable__control:checked~label.sk-toggleable__label-arrow:before {content: \"▾\";}#sk-container-id-12 div.sk-estimator input.sk-toggleable__control:checked~label.sk-toggleable__label {background-color: #d4ebff;}#sk-container-id-12 div.sk-label input.sk-toggleable__control:checked~label.sk-toggleable__label {background-color: #d4ebff;}#sk-container-id-12 input.sk-hidden--visually {border: 0;clip: rect(1px 1px 1px 1px);clip: rect(1px, 1px, 1px, 1px);height: 1px;margin: -1px;overflow: hidden;padding: 0;position: absolute;width: 1px;}#sk-container-id-12 div.sk-estimator {font-family: monospace;background-color: #f0f8ff;border: 1px dotted black;border-radius: 0.25em;box-sizing: border-box;margin-bottom: 0.5em;}#sk-container-id-12 div.sk-estimator:hover {background-color: #d4ebff;}#sk-container-id-12 div.sk-parallel-item::after {content: \"\";width: 100%;border-bottom: 1px solid gray;flex-grow: 1;}#sk-container-id-12 div.sk-label:hover label.sk-toggleable__label {background-color: #d4ebff;}#sk-container-id-12 div.sk-serial::before {content: \"\";position: absolute;border-left: 1px solid gray;box-sizing: border-box;top: 0;bottom: 0;left: 50%;z-index: 0;}#sk-container-id-12 div.sk-serial {display: flex;flex-direction: column;align-items: center;background-color: white;padding-right: 0.2em;padding-left: 0.2em;position: relative;}#sk-container-id-12 div.sk-item {position: relative;z-index: 1;}#sk-container-id-12 div.sk-parallel {display: flex;align-items: stretch;justify-content: center;background-color: white;position: relative;}#sk-container-id-12 div.sk-item::before, #sk-container-id-12 div.sk-parallel-item::before {content: \"\";position: absolute;border-left: 1px solid gray;box-sizing: border-box;top: 0;bottom: 0;left: 50%;z-index: -1;}#sk-container-id-12 div.sk-parallel-item {display: flex;flex-direction: column;z-index: 1;position: relative;background-color: white;}#sk-container-id-12 div.sk-parallel-item:first-child::after {align-self: flex-end;width: 50%;}#sk-container-id-12 div.sk-parallel-item:last-child::after {align-self: flex-start;width: 50%;}#sk-container-id-12 div.sk-parallel-item:only-child::after {width: 0;}#sk-container-id-12 div.sk-dashed-wrapped {border: 1px dashed gray;margin: 0 0.4em 0.5em 0.4em;box-sizing: border-box;padding-bottom: 0.4em;background-color: white;}#sk-container-id-12 div.sk-label label {font-family: monospace;font-weight: bold;display: inline-block;line-height: 1.2em;}#sk-container-id-12 div.sk-label-container {text-align: center;}#sk-container-id-12 div.sk-container {/* jupyter's `normalize.less` sets `[hidden] { display: none; }` but bootstrap.min.css set `[hidden] { display: none !important; }` so we also need the `!important` here to be able to override the default hidden behavior on the sphinx rendered scikit-learn.org. See: https://github.com/scikit-learn/scikit-learn/issues/21755 */display: inline-block !important;position: relative;}#sk-container-id-12 div.sk-text-repr-fallback {display: none;}</style><div id=\"sk-container-id-12\" class=\"sk-top-container\"><div class=\"sk-text-repr-fallback\"><pre>SVC()</pre><b>In a Jupyter environment, please rerun this cell to show the HTML representation or trust the notebook. <br />On GitHub, the HTML representation is unable to render, please try loading this page with nbviewer.org.</b></div><div class=\"sk-container\" hidden><div class=\"sk-item\"><div class=\"sk-estimator sk-toggleable\"><input class=\"sk-toggleable__control sk-hidden--visually\" id=\"sk-estimator-id-12\" type=\"checkbox\" checked><label for=\"sk-estimator-id-12\" class=\"sk-toggleable__label sk-toggleable__label-arrow\">SVC</label><div class=\"sk-toggleable__content\"><pre>SVC()</pre></div></div></div></div></div>"
      ],
      "text/plain": [
       "SVC()"
      ]
     },
     "execution_count": 118,
     "metadata": {},
     "output_type": "execute_result"
    }
   ],
   "source": [
    "svm.fit(list(X_train), y_train)\n",
    "\n"
   ]
  },
  {
   "cell_type": "code",
   "execution_count": 119,
   "id": "f98f3951",
   "metadata": {},
   "outputs": [],
   "source": [
    "y_pred = svm.predict(list(X_test))\n"
   ]
  },
  {
   "cell_type": "code",
   "execution_count": 120,
   "id": "74284fd7",
   "metadata": {},
   "outputs": [
    {
     "name": "stdout",
     "output_type": "stream",
     "text": [
      "Accuracy: 0.9686732186732187\n"
     ]
    }
   ],
   "source": [
    "accuracy = accuracy_score(y_test, y_pred)\n",
    "print('Accuracy:', accuracy)"
   ]
  },
  {
   "cell_type": "code",
   "execution_count": 121,
   "id": "bf9fb35b",
   "metadata": {},
   "outputs": [
    {
     "name": "stdout",
     "output_type": "stream",
     "text": [
      "Sensitivity: 0.8702290076335878\n"
     ]
    }
   ],
   "source": [
    "sensitivity = recall_score(y_test, y_pred)\n",
    "print('Sensitivity:', sensitivity)"
   ]
  },
  {
   "cell_type": "markdown",
   "id": "91a4f1a7",
   "metadata": {},
   "source": [
    "## Runde 6"
   ]
  },
  {
   "cell_type": "code",
   "execution_count": 33,
   "id": "7fb627b1",
   "metadata": {},
   "outputs": [],
   "source": [
    "from sklearn.svm import SVC\n",
    "from sklearn.model_selection import train_test_split\n",
    "from sklearn.metrics import accuracy_score, recall_score\n",
    "import numpy as np\n",
    "\n",
    "svm = SVC()"
   ]
  },
  {
   "cell_type": "code",
   "execution_count": 34,
   "id": "8d19c281",
   "metadata": {},
   "outputs": [],
   "source": [
    "X = np.array(corpus_6['embedding'].tolist())\n",
    "y = np.array(corpus_6['product_description_binary'])\n"
   ]
  },
  {
   "cell_type": "code",
   "execution_count": 35,
   "id": "2355a815",
   "metadata": {},
   "outputs": [],
   "source": [
    "label_encoder = LabelEncoder()\n",
    "y_encoded = label_encoder.fit_transform(y)\n"
   ]
  },
  {
   "cell_type": "code",
   "execution_count": 36,
   "id": "06f4253f",
   "metadata": {},
   "outputs": [],
   "source": [
    "X_train, X_test, y_train, y_test = train_test_split(X, y_encoded, test_size=0.3, random_state=42)"
   ]
  },
  {
   "cell_type": "code",
   "execution_count": 37,
   "id": "6470fa89",
   "metadata": {
    "collapsed": true
   },
   "outputs": [
    {
     "data": {
      "text/html": [
       "<style>#sk-container-id-1 {color: black;}#sk-container-id-1 pre{padding: 0;}#sk-container-id-1 div.sk-toggleable {background-color: white;}#sk-container-id-1 label.sk-toggleable__label {cursor: pointer;display: block;width: 100%;margin-bottom: 0;padding: 0.3em;box-sizing: border-box;text-align: center;}#sk-container-id-1 label.sk-toggleable__label-arrow:before {content: \"▸\";float: left;margin-right: 0.25em;color: #696969;}#sk-container-id-1 label.sk-toggleable__label-arrow:hover:before {color: black;}#sk-container-id-1 div.sk-estimator:hover label.sk-toggleable__label-arrow:before {color: black;}#sk-container-id-1 div.sk-toggleable__content {max-height: 0;max-width: 0;overflow: hidden;text-align: left;background-color: #f0f8ff;}#sk-container-id-1 div.sk-toggleable__content pre {margin: 0.2em;color: black;border-radius: 0.25em;background-color: #f0f8ff;}#sk-container-id-1 input.sk-toggleable__control:checked~div.sk-toggleable__content {max-height: 200px;max-width: 100%;overflow: auto;}#sk-container-id-1 input.sk-toggleable__control:checked~label.sk-toggleable__label-arrow:before {content: \"▾\";}#sk-container-id-1 div.sk-estimator input.sk-toggleable__control:checked~label.sk-toggleable__label {background-color: #d4ebff;}#sk-container-id-1 div.sk-label input.sk-toggleable__control:checked~label.sk-toggleable__label {background-color: #d4ebff;}#sk-container-id-1 input.sk-hidden--visually {border: 0;clip: rect(1px 1px 1px 1px);clip: rect(1px, 1px, 1px, 1px);height: 1px;margin: -1px;overflow: hidden;padding: 0;position: absolute;width: 1px;}#sk-container-id-1 div.sk-estimator {font-family: monospace;background-color: #f0f8ff;border: 1px dotted black;border-radius: 0.25em;box-sizing: border-box;margin-bottom: 0.5em;}#sk-container-id-1 div.sk-estimator:hover {background-color: #d4ebff;}#sk-container-id-1 div.sk-parallel-item::after {content: \"\";width: 100%;border-bottom: 1px solid gray;flex-grow: 1;}#sk-container-id-1 div.sk-label:hover label.sk-toggleable__label {background-color: #d4ebff;}#sk-container-id-1 div.sk-serial::before {content: \"\";position: absolute;border-left: 1px solid gray;box-sizing: border-box;top: 0;bottom: 0;left: 50%;z-index: 0;}#sk-container-id-1 div.sk-serial {display: flex;flex-direction: column;align-items: center;background-color: white;padding-right: 0.2em;padding-left: 0.2em;position: relative;}#sk-container-id-1 div.sk-item {position: relative;z-index: 1;}#sk-container-id-1 div.sk-parallel {display: flex;align-items: stretch;justify-content: center;background-color: white;position: relative;}#sk-container-id-1 div.sk-item::before, #sk-container-id-1 div.sk-parallel-item::before {content: \"\";position: absolute;border-left: 1px solid gray;box-sizing: border-box;top: 0;bottom: 0;left: 50%;z-index: -1;}#sk-container-id-1 div.sk-parallel-item {display: flex;flex-direction: column;z-index: 1;position: relative;background-color: white;}#sk-container-id-1 div.sk-parallel-item:first-child::after {align-self: flex-end;width: 50%;}#sk-container-id-1 div.sk-parallel-item:last-child::after {align-self: flex-start;width: 50%;}#sk-container-id-1 div.sk-parallel-item:only-child::after {width: 0;}#sk-container-id-1 div.sk-dashed-wrapped {border: 1px dashed gray;margin: 0 0.4em 0.5em 0.4em;box-sizing: border-box;padding-bottom: 0.4em;background-color: white;}#sk-container-id-1 div.sk-label label {font-family: monospace;font-weight: bold;display: inline-block;line-height: 1.2em;}#sk-container-id-1 div.sk-label-container {text-align: center;}#sk-container-id-1 div.sk-container {/* jupyter's `normalize.less` sets `[hidden] { display: none; }` but bootstrap.min.css set `[hidden] { display: none !important; }` so we also need the `!important` here to be able to override the default hidden behavior on the sphinx rendered scikit-learn.org. See: https://github.com/scikit-learn/scikit-learn/issues/21755 */display: inline-block !important;position: relative;}#sk-container-id-1 div.sk-text-repr-fallback {display: none;}</style><div id=\"sk-container-id-1\" class=\"sk-top-container\"><div class=\"sk-text-repr-fallback\"><pre>SVC()</pre><b>In a Jupyter environment, please rerun this cell to show the HTML representation or trust the notebook. <br />On GitHub, the HTML representation is unable to render, please try loading this page with nbviewer.org.</b></div><div class=\"sk-container\" hidden><div class=\"sk-item\"><div class=\"sk-estimator sk-toggleable\"><input class=\"sk-toggleable__control sk-hidden--visually\" id=\"sk-estimator-id-1\" type=\"checkbox\" checked><label for=\"sk-estimator-id-1\" class=\"sk-toggleable__label sk-toggleable__label-arrow\">SVC</label><div class=\"sk-toggleable__content\"><pre>SVC()</pre></div></div></div></div></div>"
      ],
      "text/plain": [
       "SVC()"
      ]
     },
     "execution_count": 37,
     "metadata": {},
     "output_type": "execute_result"
    }
   ],
   "source": [
    "svm.fit(list(X_train), y_train)\n",
    "\n"
   ]
  },
  {
   "cell_type": "code",
   "execution_count": 38,
   "id": "e2db7216",
   "metadata": {},
   "outputs": [],
   "source": [
    "y_pred = svm.predict(list(X_test))\n"
   ]
  },
  {
   "cell_type": "code",
   "execution_count": 39,
   "id": "e37e6813",
   "metadata": {},
   "outputs": [
    {
     "name": "stdout",
     "output_type": "stream",
     "text": [
      "Accuracy: 0.9680493273542601\n"
     ]
    }
   ],
   "source": [
    "accuracy = accuracy_score(y_test, y_pred)\n",
    "print('Accuracy:', accuracy)"
   ]
  },
  {
   "cell_type": "code",
   "execution_count": 40,
   "id": "1e56b3f6",
   "metadata": {},
   "outputs": [
    {
     "name": "stdout",
     "output_type": "stream",
     "text": [
      "Sensitivity: 0.8905325443786982\n"
     ]
    }
   ],
   "source": [
    "sensitivity = recall_score(y_test, y_pred)\n",
    "print('Sensitivity:', sensitivity)"
   ]
  },
  {
   "cell_type": "markdown",
   "id": "e191282c",
   "metadata": {},
   "source": [
    "## 1.3 Neural Network adjustment"
   ]
  },
  {
   "cell_type": "code",
   "execution_count": 130,
   "id": "e1eb9d87",
   "metadata": {
    "collapsed": true
   },
   "outputs": [
    {
     "name": "stdout",
     "output_type": "stream",
     "text": [
      "WARNING:tensorflow:From C:\\Users\\blunds\\AppData\\Local\\anaconda3\\Lib\\site-packages\\keras\\src\\losses.py:2976: The name tf.losses.sparse_softmax_cross_entropy is deprecated. Please use tf.compat.v1.losses.sparse_softmax_cross_entropy instead.\n",
      "\n"
     ]
    }
   ],
   "source": [
    "from sklearn.metrics import classification_report, confusion_matrix\n",
    "import tensorflow as tf\n",
    "import numpy as np\n",
    "from sklearn.metrics import recall_score\n",
    "from sklearn.model_selection import train_test_split\n",
    "\n",
    "import pandas as pd\n",
    "from sklearn.model_selection import KFold\n",
    "\n",
    "from sklearn.metrics import accuracy_score, recall_score\n",
    "import random"
   ]
  },
  {
   "cell_type": "code",
   "execution_count": 134,
   "id": "f9326a9c",
   "metadata": {},
   "outputs": [],
   "source": [
    "random.seed(42)\n",
    "np.random.seed(42)\n",
    "tf.random.set_seed(42)"
   ]
  },
  {
   "cell_type": "code",
   "execution_count": 135,
   "id": "cfe9ec90",
   "metadata": {},
   "outputs": [],
   "source": [
    "embeddings = pd.DataFrame(corpus_1['embedding'].tolist())\n",
    "class_mapping = {'No': 0, 'Yes': 1}\n",
    "corpus_1['class_encoded'] = corpus_1['product_description_binary'].map(class_mapping)\n"
   ]
  },
  {
   "cell_type": "code",
   "execution_count": 136,
   "id": "54b1b347",
   "metadata": {},
   "outputs": [],
   "source": [
    "X = np.array(embeddings)\n",
    "y = np.array(corpus_1['class_encoded'])\n"
   ]
  },
  {
   "cell_type": "code",
   "execution_count": 137,
   "id": "9a5f4eaa",
   "metadata": {},
   "outputs": [],
   "source": [
    "X_train, X_test, y_train, y_test = train_test_split(X, y, test_size=0.3, random_state=42)\n"
   ]
  },
  {
   "cell_type": "code",
   "execution_count": 138,
   "id": "27e70e6a",
   "metadata": {
    "collapsed": true
   },
   "outputs": [
    {
     "name": "stdout",
     "output_type": "stream",
     "text": [
      "WARNING:tensorflow:From C:\\Users\\blunds\\AppData\\Local\\anaconda3\\Lib\\site-packages\\keras\\src\\backend.py:873: The name tf.get_default_graph is deprecated. Please use tf.compat.v1.get_default_graph instead.\n",
      "\n"
     ]
    }
   ],
   "source": [
    "embedding_size = 1536\n",
    "model = tf.keras.Sequential([\n",
    "    tf.keras.layers.Dense(128, activation='relu', input_shape=(embedding_size,)), \n",
    "    tf.keras.layers.Dense(64, activation='relu'),\n",
    "    tf.keras.layers.Dense(1, activation='sigmoid')  \n",
    "])"
   ]
  },
  {
   "cell_type": "code",
   "execution_count": 139,
   "id": "38ceda6c",
   "metadata": {
    "collapsed": true
   },
   "outputs": [
    {
     "name": "stdout",
     "output_type": "stream",
     "text": [
      "WARNING:tensorflow:From C:\\Users\\blunds\\AppData\\Local\\anaconda3\\Lib\\site-packages\\keras\\src\\optimizers\\__init__.py:309: The name tf.train.Optimizer is deprecated. Please use tf.compat.v1.train.Optimizer instead.\n",
      "\n"
     ]
    }
   ],
   "source": [
    "model.compile(optimizer='adam', loss='binary_crossentropy', metrics=['accuracy'])\n"
   ]
  },
  {
   "cell_type": "code",
   "execution_count": 140,
   "id": "a02f3911",
   "metadata": {},
   "outputs": [
    {
     "name": "stdout",
     "output_type": "stream",
     "text": [
      "Epoch 1/10\n",
      "WARNING:tensorflow:From C:\\Users\\blunds\\AppData\\Local\\anaconda3\\Lib\\site-packages\\keras\\src\\utils\\tf_utils.py:492: The name tf.ragged.RaggedTensorValue is deprecated. Please use tf.compat.v1.ragged.RaggedTensorValue instead.\n",
      "\n",
      "WARNING:tensorflow:From C:\\Users\\blunds\\AppData\\Local\\anaconda3\\Lib\\site-packages\\keras\\src\\engine\\base_layer_utils.py:384: The name tf.executing_eagerly_outside_functions is deprecated. Please use tf.compat.v1.executing_eagerly_outside_functions instead.\n",
      "\n",
      "49/49 [==============================] - 1s 8ms/step - loss: 0.4134 - accuracy: 0.8536 - val_loss: 0.3072 - val_accuracy: 0.8736\n",
      "Epoch 2/10\n",
      "49/49 [==============================] - 0s 4ms/step - loss: 0.2721 - accuracy: 0.8792 - val_loss: 0.1632 - val_accuracy: 0.9483\n",
      "Epoch 3/10\n",
      "49/49 [==============================] - 0s 4ms/step - loss: 0.1792 - accuracy: 0.9309 - val_loss: 0.1149 - val_accuracy: 0.9713\n",
      "Epoch 4/10\n",
      "49/49 [==============================] - 0s 4ms/step - loss: 0.1431 - accuracy: 0.9444 - val_loss: 0.1030 - val_accuracy: 0.9655\n",
      "Epoch 5/10\n",
      "49/49 [==============================] - 0s 4ms/step - loss: 0.1188 - accuracy: 0.9572 - val_loss: 0.1003 - val_accuracy: 0.9713\n",
      "Epoch 6/10\n",
      "49/49 [==============================] - 0s 4ms/step - loss: 0.1056 - accuracy: 0.9578 - val_loss: 0.0969 - val_accuracy: 0.9655\n",
      "Epoch 7/10\n",
      "49/49 [==============================] - 0s 5ms/step - loss: 0.0850 - accuracy: 0.9668 - val_loss: 0.0994 - val_accuracy: 0.9598\n",
      "Epoch 8/10\n",
      "49/49 [==============================] - 0s 4ms/step - loss: 0.0771 - accuracy: 0.9719 - val_loss: 0.1242 - val_accuracy: 0.9598\n",
      "Epoch 9/10\n",
      "49/49 [==============================] - 0s 4ms/step - loss: 0.0845 - accuracy: 0.9674 - val_loss: 0.0910 - val_accuracy: 0.9713\n",
      "Epoch 10/10\n",
      "49/49 [==============================] - 0s 4ms/step - loss: 0.0641 - accuracy: 0.9757 - val_loss: 0.0928 - val_accuracy: 0.9598\n"
     ]
    },
    {
     "data": {
      "text/plain": [
       "<keras.src.callbacks.History at 0x265010d3690>"
      ]
     },
     "execution_count": 140,
     "metadata": {},
     "output_type": "execute_result"
    }
   ],
   "source": [
    "model.fit(X_train, y_train, epochs=10, batch_size=32, validation_split=0.1)\n"
   ]
  },
  {
   "cell_type": "code",
   "execution_count": 141,
   "id": "f9348613",
   "metadata": {},
   "outputs": [
    {
     "name": "stdout",
     "output_type": "stream",
     "text": [
      "Test accuracy: 0.9449664354324341\n"
     ]
    }
   ],
   "source": [
    "loss, accuracy = model.evaluate(X_test, y_test, verbose=0) \n",
    "print(f\"Test accuracy: {accuracy}\")\n"
   ]
  },
  {
   "cell_type": "code",
   "execution_count": 142,
   "id": "8e02c37b",
   "metadata": {},
   "outputs": [],
   "source": [
    "y_pred_probs = model.predict(X_test, verbose=0)\n",
    "y_pred = (y_pred_probs > 0.5).astype(int)"
   ]
  },
  {
   "cell_type": "code",
   "execution_count": 143,
   "id": "ac5f0f1e",
   "metadata": {},
   "outputs": [
    {
     "name": "stdout",
     "output_type": "stream",
     "text": [
      "Sensitivity (Recall): 0.825\n"
     ]
    }
   ],
   "source": [
    "sensitivity = recall_score(y_test, y_pred)\n",
    "print(f\"Sensitivity (Recall): {sensitivity}\")"
   ]
  },
  {
   "cell_type": "markdown",
   "id": "7a871ecc",
   "metadata": {},
   "source": [
    "# Runde 2"
   ]
  },
  {
   "cell_type": "code",
   "execution_count": 144,
   "id": "724cf473",
   "metadata": {},
   "outputs": [],
   "source": [
    "random.seed(42)\n",
    "np.random.seed(42)\n",
    "tf.random.set_seed(42)"
   ]
  },
  {
   "cell_type": "code",
   "execution_count": 145,
   "id": "dbabde61",
   "metadata": {},
   "outputs": [],
   "source": [
    "embeddings = pd.DataFrame(corpus_2['embedding'].tolist())\n",
    "class_mapping = {'No': 0, 'Yes': 1}\n",
    "corpus_2['class_encoded'] = corpus_2['product_description_binary'].map(class_mapping)\n"
   ]
  },
  {
   "cell_type": "code",
   "execution_count": 146,
   "id": "aa7fbe05",
   "metadata": {},
   "outputs": [],
   "source": [
    "X = np.array(embeddings)\n",
    "y = np.array(corpus_2['class_encoded'])\n"
   ]
  },
  {
   "cell_type": "code",
   "execution_count": 147,
   "id": "ae3c7fdf",
   "metadata": {},
   "outputs": [],
   "source": [
    "X_train, X_test, y_train, y_test = train_test_split(X, y, test_size=0.3, random_state=42)\n"
   ]
  },
  {
   "cell_type": "code",
   "execution_count": 148,
   "id": "cfce845e",
   "metadata": {},
   "outputs": [],
   "source": [
    "embedding_size = 1536 \n",
    "model = tf.keras.Sequential([\n",
    "    tf.keras.layers.Dense(128, activation='relu', input_shape=(embedding_size,)), \n",
    "    tf.keras.layers.Dense(64, activation='relu'),\n",
    "    tf.keras.layers.Dense(1, activation='sigmoid') \n",
    "])"
   ]
  },
  {
   "cell_type": "code",
   "execution_count": 149,
   "id": "d068ce76",
   "metadata": {},
   "outputs": [],
   "source": [
    "model.compile(optimizer='adam', loss='binary_crossentropy', metrics=['accuracy'])\n"
   ]
  },
  {
   "cell_type": "code",
   "execution_count": 150,
   "id": "e6a3617f",
   "metadata": {},
   "outputs": [
    {
     "name": "stdout",
     "output_type": "stream",
     "text": [
      "Epoch 1/10\n",
      "65/65 [==============================] - 1s 6ms/step - loss: 0.3894 - accuracy: 0.8557 - val_loss: 0.3099 - val_accuracy: 0.8615\n",
      "Epoch 2/10\n",
      "65/65 [==============================] - 0s 4ms/step - loss: 0.2401 - accuracy: 0.8980 - val_loss: 0.1861 - val_accuracy: 0.9437\n",
      "Epoch 3/10\n",
      "65/65 [==============================] - 0s 4ms/step - loss: 0.1686 - accuracy: 0.9365 - val_loss: 0.1568 - val_accuracy: 0.9394\n",
      "Epoch 4/10\n",
      "65/65 [==============================] - 0s 4ms/step - loss: 0.1369 - accuracy: 0.9466 - val_loss: 0.1539 - val_accuracy: 0.9394\n",
      "Epoch 5/10\n",
      "65/65 [==============================] - 0s 5ms/step - loss: 0.1262 - accuracy: 0.9500 - val_loss: 0.1555 - val_accuracy: 0.9437\n",
      "Epoch 6/10\n",
      "65/65 [==============================] - 0s 5ms/step - loss: 0.1126 - accuracy: 0.9567 - val_loss: 0.1653 - val_accuracy: 0.9394\n",
      "Epoch 7/10\n",
      "65/65 [==============================] - 0s 4ms/step - loss: 0.0986 - accuracy: 0.9591 - val_loss: 0.1668 - val_accuracy: 0.9351\n",
      "Epoch 8/10\n",
      "65/65 [==============================] - 0s 5ms/step - loss: 0.0927 - accuracy: 0.9615 - val_loss: 0.1858 - val_accuracy: 0.9394\n",
      "Epoch 9/10\n",
      "65/65 [==============================] - 0s 5ms/step - loss: 0.0836 - accuracy: 0.9658 - val_loss: 0.1744 - val_accuracy: 0.9351\n",
      "Epoch 10/10\n",
      "65/65 [==============================] - 0s 5ms/step - loss: 0.0752 - accuracy: 0.9692 - val_loss: 0.1741 - val_accuracy: 0.9307\n"
     ]
    },
    {
     "data": {
      "text/plain": [
       "<keras.src.callbacks.History at 0x26501722750>"
      ]
     },
     "execution_count": 150,
     "metadata": {},
     "output_type": "execute_result"
    }
   ],
   "source": [
    "model.fit(X_train, y_train, epochs=10, batch_size=32, validation_split=0.1)\n"
   ]
  },
  {
   "cell_type": "code",
   "execution_count": 151,
   "id": "1252bd83",
   "metadata": {},
   "outputs": [
    {
     "name": "stdout",
     "output_type": "stream",
     "text": [
      "Test accuracy: 0.9303030371665955\n"
     ]
    }
   ],
   "source": [
    "loss, accuracy = model.evaluate(X_test, y_test, verbose=0) \n",
    "print(f\"Test accuracy: {accuracy}\")\n"
   ]
  },
  {
   "cell_type": "code",
   "execution_count": 152,
   "id": "277b501e",
   "metadata": {},
   "outputs": [],
   "source": [
    "y_pred_probs = model.predict(X_test, verbose=0)\n",
    "y_pred = (y_pred_probs > 0.5).astype(int)"
   ]
  },
  {
   "cell_type": "code",
   "execution_count": 153,
   "id": "72cb6ac0",
   "metadata": {},
   "outputs": [
    {
     "name": "stdout",
     "output_type": "stream",
     "text": [
      "Sensitivity (Recall): 0.7834394904458599\n"
     ]
    }
   ],
   "source": [
    "sensitivity = recall_score(y_test, y_pred)\n",
    "print(f\"Sensitivity (Recall): {sensitivity}\")"
   ]
  },
  {
   "cell_type": "markdown",
   "id": "e32f4b75",
   "metadata": {},
   "source": [
    "# Runde 3"
   ]
  },
  {
   "cell_type": "code",
   "execution_count": 154,
   "id": "6766e986",
   "metadata": {},
   "outputs": [],
   "source": [
    "random.seed(42)\n",
    "np.random.seed(42)\n",
    "tf.random.set_seed(42)"
   ]
  },
  {
   "cell_type": "code",
   "execution_count": 155,
   "id": "2b52554c",
   "metadata": {},
   "outputs": [],
   "source": [
    "embeddings = pd.DataFrame(corpus_3['embedding'].tolist())\n",
    "class_mapping = {'No': 0, 'Yes': 1}\n",
    "corpus_3['class_encoded'] = corpus_3['product_description_binary'].map(class_mapping)\n"
   ]
  },
  {
   "cell_type": "code",
   "execution_count": 156,
   "id": "798c060b",
   "metadata": {},
   "outputs": [],
   "source": [
    "X = np.array(embeddings)\n",
    "y = np.array(corpus_3['class_encoded'])\n"
   ]
  },
  {
   "cell_type": "code",
   "execution_count": 157,
   "id": "0bd489ca",
   "metadata": {},
   "outputs": [],
   "source": [
    "X_train, X_test, y_train, y_test = train_test_split(X, y, test_size=0.3, random_state=42)\n"
   ]
  },
  {
   "cell_type": "code",
   "execution_count": 158,
   "id": "5dadcc2c",
   "metadata": {},
   "outputs": [],
   "source": [
    "embedding_size = 1536\n",
    "model = tf.keras.Sequential([\n",
    "    tf.keras.layers.Dense(128, activation='relu', input_shape=(embedding_size,)), \n",
    "    tf.keras.layers.Dense(64, activation='relu'),\n",
    "    tf.keras.layers.Dense(1, activation='sigmoid')  \n",
    "])"
   ]
  },
  {
   "cell_type": "code",
   "execution_count": 159,
   "id": "24e48228",
   "metadata": {},
   "outputs": [],
   "source": [
    "model.compile(optimizer='adam', loss='binary_crossentropy', metrics=['accuracy'])\n"
   ]
  },
  {
   "cell_type": "code",
   "execution_count": 160,
   "id": "c6c57af1",
   "metadata": {},
   "outputs": [
    {
     "name": "stdout",
     "output_type": "stream",
     "text": [
      "Epoch 1/10\n",
      "74/74 [==============================] - 1s 7ms/step - loss: 0.4266 - accuracy: 0.8203 - val_loss: 0.3219 - val_accuracy: 0.8206\n",
      "Epoch 2/10\n",
      "74/74 [==============================] - 0s 4ms/step - loss: 0.2421 - accuracy: 0.9004 - val_loss: 0.2021 - val_accuracy: 0.9084\n",
      "Epoch 3/10\n",
      "74/74 [==============================] - 0s 4ms/step - loss: 0.1888 - accuracy: 0.9285 - val_loss: 0.2221 - val_accuracy: 0.9122\n",
      "Epoch 4/10\n",
      "74/74 [==============================] - 0s 4ms/step - loss: 0.1691 - accuracy: 0.9319 - val_loss: 0.1874 - val_accuracy: 0.9122\n",
      "Epoch 5/10\n",
      "74/74 [==============================] - 0s 4ms/step - loss: 0.1514 - accuracy: 0.9353 - val_loss: 0.1924 - val_accuracy: 0.9237\n",
      "Epoch 6/10\n",
      "74/74 [==============================] - 0s 5ms/step - loss: 0.1393 - accuracy: 0.9434 - val_loss: 0.1909 - val_accuracy: 0.9160\n",
      "Epoch 7/10\n",
      "74/74 [==============================] - 0s 5ms/step - loss: 0.1303 - accuracy: 0.9459 - val_loss: 0.1875 - val_accuracy: 0.9389\n",
      "Epoch 8/10\n",
      "74/74 [==============================] - 0s 5ms/step - loss: 0.1306 - accuracy: 0.9451 - val_loss: 0.2321 - val_accuracy: 0.9237\n",
      "Epoch 9/10\n",
      "74/74 [==============================] - 0s 6ms/step - loss: 0.1113 - accuracy: 0.9527 - val_loss: 0.2054 - val_accuracy: 0.9122\n",
      "Epoch 10/10\n",
      "74/74 [==============================] - 0s 6ms/step - loss: 0.1023 - accuracy: 0.9604 - val_loss: 0.2693 - val_accuracy: 0.8893\n"
     ]
    },
    {
     "data": {
      "text/plain": [
       "<keras.src.callbacks.History at 0x265070eaed0>"
      ]
     },
     "execution_count": 160,
     "metadata": {},
     "output_type": "execute_result"
    }
   ],
   "source": [
    "model.fit(X_train, y_train, epochs=10, batch_size=32, validation_split=0.1)\n"
   ]
  },
  {
   "cell_type": "code",
   "execution_count": 161,
   "id": "d66f22ff",
   "metadata": {},
   "outputs": [
    {
     "name": "stdout",
     "output_type": "stream",
     "text": [
      "Test accuracy: 0.9106345176696777\n"
     ]
    }
   ],
   "source": [
    "loss, accuracy = model.evaluate(X_test, y_test, verbose=0) \n",
    "print(f\"Test accuracy: {accuracy}\")\n"
   ]
  },
  {
   "cell_type": "code",
   "execution_count": 162,
   "id": "7546560a",
   "metadata": {},
   "outputs": [],
   "source": [
    "y_pred_probs = model.predict(X_test, verbose=0)\n",
    "y_pred = (y_pred_probs > 0.5).astype(int)"
   ]
  },
  {
   "cell_type": "code",
   "execution_count": 163,
   "id": "188919cb",
   "metadata": {},
   "outputs": [
    {
     "name": "stdout",
     "output_type": "stream",
     "text": [
      "Sensitivity (Recall): 0.946236559139785\n"
     ]
    }
   ],
   "source": [
    "sensitivity = recall_score(y_test, y_pred)\n",
    "print(f\"Sensitivity (Recall): {sensitivity}\")"
   ]
  },
  {
   "cell_type": "markdown",
   "id": "7b408568",
   "metadata": {},
   "source": [
    "# Runde 4"
   ]
  },
  {
   "cell_type": "code",
   "execution_count": 168,
   "id": "2ec9d6d9",
   "metadata": {},
   "outputs": [],
   "source": [
    "random.seed(42)\n",
    "np.random.seed(42)\n",
    "tf.random.set_seed(42)"
   ]
  },
  {
   "cell_type": "code",
   "execution_count": 169,
   "id": "035945cb",
   "metadata": {},
   "outputs": [],
   "source": [
    "embeddings = pd.DataFrame(corpus_4['embedding'].tolist())\n",
    "class_mapping = {'No': 0, 'Yes': 1}\n",
    "corpus_4['class_encoded'] = corpus_4['product_description_binary'].map(class_mapping)\n"
   ]
  },
  {
   "cell_type": "code",
   "execution_count": 170,
   "id": "d454e955",
   "metadata": {},
   "outputs": [],
   "source": [
    "X = np.array(embeddings)\n",
    "y = np.array(corpus_4['class_encoded'])\n"
   ]
  },
  {
   "cell_type": "code",
   "execution_count": 171,
   "id": "26701212",
   "metadata": {},
   "outputs": [],
   "source": [
    "X_train, X_test, y_train, y_test = train_test_split(X, y, test_size=0.3, random_state=42)\n"
   ]
  },
  {
   "cell_type": "code",
   "execution_count": 172,
   "id": "30cf0b7a",
   "metadata": {},
   "outputs": [],
   "source": [
    "embedding_size = 1536 \n",
    "model = tf.keras.Sequential([\n",
    "    tf.keras.layers.Dense(128, activation='relu', input_shape=(embedding_size,)),  \n",
    "    tf.keras.layers.Dense(64, activation='relu'),\n",
    "    tf.keras.layers.Dense(1, activation='sigmoid')  \n",
    "])"
   ]
  },
  {
   "cell_type": "code",
   "execution_count": 173,
   "id": "18f753ae",
   "metadata": {},
   "outputs": [],
   "source": [
    "model.compile(optimizer='adam', loss='binary_crossentropy', metrics=['accuracy'])\n"
   ]
  },
  {
   "cell_type": "code",
   "execution_count": 174,
   "id": "7a459393",
   "metadata": {},
   "outputs": [
    {
     "name": "stdout",
     "output_type": "stream",
     "text": [
      "Epoch 1/10\n",
      "83/83 [==============================] - 1s 6ms/step - loss: 0.4396 - accuracy: 0.8015 - val_loss: 0.3288 - val_accuracy: 0.8737\n",
      "Epoch 2/10\n",
      "83/83 [==============================] - 0s 4ms/step - loss: 0.2508 - accuracy: 0.9015 - val_loss: 0.2362 - val_accuracy: 0.8942\n",
      "Epoch 3/10\n",
      "83/83 [==============================] - 0s 5ms/step - loss: 0.2042 - accuracy: 0.9141 - val_loss: 0.2429 - val_accuracy: 0.8976\n",
      "Epoch 4/10\n",
      "83/83 [==============================] - 0s 5ms/step - loss: 0.1786 - accuracy: 0.9274 - val_loss: 0.2408 - val_accuracy: 0.8942\n",
      "Epoch 5/10\n",
      "83/83 [==============================] - 0s 4ms/step - loss: 0.1678 - accuracy: 0.9338 - val_loss: 0.2103 - val_accuracy: 0.9147\n",
      "Epoch 6/10\n",
      "83/83 [==============================] - 0s 4ms/step - loss: 0.1530 - accuracy: 0.9346 - val_loss: 0.2647 - val_accuracy: 0.9181\n",
      "Epoch 7/10\n",
      "83/83 [==============================] - 0s 5ms/step - loss: 0.1507 - accuracy: 0.9399 - val_loss: 0.2177 - val_accuracy: 0.9113\n",
      "Epoch 8/10\n",
      "83/83 [==============================] - 0s 5ms/step - loss: 0.1458 - accuracy: 0.9388 - val_loss: 0.2465 - val_accuracy: 0.9147\n",
      "Epoch 9/10\n",
      "83/83 [==============================] - 0s 5ms/step - loss: 0.1286 - accuracy: 0.9468 - val_loss: 0.2268 - val_accuracy: 0.9317\n",
      "Epoch 10/10\n",
      "83/83 [==============================] - 0s 5ms/step - loss: 0.1164 - accuracy: 0.9525 - val_loss: 0.2374 - val_accuracy: 0.8908\n"
     ]
    },
    {
     "data": {
      "text/plain": [
       "<keras.src.callbacks.History at 0x2650cd95390>"
      ]
     },
     "execution_count": 174,
     "metadata": {},
     "output_type": "execute_result"
    }
   ],
   "source": [
    "model.fit(X_train, y_train, epochs=10, batch_size=32, validation_split=0.1)\n"
   ]
  },
  {
   "cell_type": "code",
   "execution_count": 175,
   "id": "14aa114c",
   "metadata": {},
   "outputs": [
    {
     "name": "stdout",
     "output_type": "stream",
     "text": [
      "Test accuracy: 0.9258373379707336\n"
     ]
    }
   ],
   "source": [
    "loss, accuracy = model.evaluate(X_test, y_test, verbose=0) \n",
    "print(f\"Test accuracy: {accuracy}\")\n"
   ]
  },
  {
   "cell_type": "code",
   "execution_count": 176,
   "id": "2d6bd976",
   "metadata": {},
   "outputs": [],
   "source": [
    "y_pred_probs = model.predict(X_test, verbose=0)\n",
    "y_pred = (y_pred_probs > 0.5).astype(int)"
   ]
  },
  {
   "cell_type": "code",
   "execution_count": 177,
   "id": "f6602914",
   "metadata": {},
   "outputs": [
    {
     "name": "stdout",
     "output_type": "stream",
     "text": [
      "Sensitivity (Recall): 0.950381679389313\n"
     ]
    }
   ],
   "source": [
    "sensitivity = recall_score(y_test, y_pred)\n",
    "print(f\"Sensitivity (Recall): {sensitivity}\")"
   ]
  },
  {
   "cell_type": "markdown",
   "id": "956fb815",
   "metadata": {},
   "source": [
    "# Runde 5"
   ]
  },
  {
   "cell_type": "code",
   "execution_count": 178,
   "id": "ab27033a",
   "metadata": {},
   "outputs": [],
   "source": [
    "random.seed(42)\n",
    "np.random.seed(42)\n",
    "tf.random.set_seed(42)"
   ]
  },
  {
   "cell_type": "code",
   "execution_count": 179,
   "id": "0d19c697",
   "metadata": {},
   "outputs": [],
   "source": [
    "embeddings = pd.DataFrame(corpus_5['embedding'].tolist())\n",
    "class_mapping = {'No': 0, 'Yes': 1}\n",
    "corpus_5['class_encoded'] = corpus_5['product_description_binary'].map(class_mapping)\n"
   ]
  },
  {
   "cell_type": "code",
   "execution_count": 180,
   "id": "4b42554a",
   "metadata": {},
   "outputs": [],
   "source": [
    "X = np.array(embeddings)\n",
    "y = np.array(corpus_5['class_encoded'])\n"
   ]
  },
  {
   "cell_type": "code",
   "execution_count": 181,
   "id": "813e68ff",
   "metadata": {},
   "outputs": [],
   "source": [
    "X_train, X_test, y_train, y_test = train_test_split(X, y, test_size=0.3, random_state=42)\n"
   ]
  },
  {
   "cell_type": "code",
   "execution_count": 182,
   "id": "2b827c12",
   "metadata": {},
   "outputs": [],
   "source": [
    "embedding_size = 1536 \n",
    "model = tf.keras.Sequential([\n",
    "    tf.keras.layers.Dense(128, activation='relu', input_shape=(embedding_size,)),  \n",
    "    tf.keras.layers.Dense(64, activation='relu'),\n",
    "    tf.keras.layers.Dense(1, activation='sigmoid') \n",
    "])"
   ]
  },
  {
   "cell_type": "code",
   "execution_count": 183,
   "id": "c1c3364f",
   "metadata": {},
   "outputs": [],
   "source": [
    "model.compile(optimizer='adam', loss='binary_crossentropy', metrics=['accuracy'])\n"
   ]
  },
  {
   "cell_type": "code",
   "execution_count": 184,
   "id": "fde9ed56",
   "metadata": {},
   "outputs": [
    {
     "name": "stdout",
     "output_type": "stream",
     "text": [
      "Epoch 1/10\n",
      "107/107 [==============================] - 1s 5ms/step - loss: 0.4248 - accuracy: 0.8125 - val_loss: 0.2885 - val_accuracy: 0.8763\n",
      "Epoch 2/10\n",
      "107/107 [==============================] - 0s 4ms/step - loss: 0.2443 - accuracy: 0.9023 - val_loss: 0.2391 - val_accuracy: 0.8921\n",
      "Epoch 3/10\n",
      "107/107 [==============================] - 0s 4ms/step - loss: 0.2103 - accuracy: 0.9140 - val_loss: 0.2206 - val_accuracy: 0.9000\n",
      "Epoch 4/10\n",
      "107/107 [==============================] - 0s 4ms/step - loss: 0.1890 - accuracy: 0.9213 - val_loss: 0.2433 - val_accuracy: 0.8895\n",
      "Epoch 5/10\n",
      "107/107 [==============================] - 0s 3ms/step - loss: 0.1750 - accuracy: 0.9289 - val_loss: 0.2363 - val_accuracy: 0.8974\n",
      "Epoch 6/10\n",
      "107/107 [==============================] - 0s 4ms/step - loss: 0.1646 - accuracy: 0.9321 - val_loss: 0.2174 - val_accuracy: 0.9079\n",
      "Epoch 7/10\n",
      "107/107 [==============================] - 0s 4ms/step - loss: 0.1534 - accuracy: 0.9380 - val_loss: 0.2192 - val_accuracy: 0.9105\n",
      "Epoch 8/10\n",
      "107/107 [==============================] - 0s 4ms/step - loss: 0.1445 - accuracy: 0.9424 - val_loss: 0.2484 - val_accuracy: 0.9053\n",
      "Epoch 9/10\n",
      "107/107 [==============================] - 0s 4ms/step - loss: 0.1429 - accuracy: 0.9427 - val_loss: 0.2341 - val_accuracy: 0.9132\n",
      "Epoch 10/10\n",
      "107/107 [==============================] - 0s 4ms/step - loss: 0.1340 - accuracy: 0.9485 - val_loss: 0.2707 - val_accuracy: 0.8842\n"
     ]
    },
    {
     "data": {
      "text/plain": [
       "<keras.src.callbacks.History at 0x2650b7a3390>"
      ]
     },
     "execution_count": 184,
     "metadata": {},
     "output_type": "execute_result"
    }
   ],
   "source": [
    "model.fit(X_train, y_train, epochs=10, batch_size=32, validation_split=0.1)\n"
   ]
  },
  {
   "cell_type": "code",
   "execution_count": 185,
   "id": "ae8ec3d8",
   "metadata": {},
   "outputs": [
    {
     "name": "stdout",
     "output_type": "stream",
     "text": [
      "Test accuracy: 0.9459459185600281\n"
     ]
    }
   ],
   "source": [
    "loss, accuracy = model.evaluate(X_test, y_test, verbose=0) \n",
    "print(f\"Test accuracy: {accuracy}\")\n"
   ]
  },
  {
   "cell_type": "code",
   "execution_count": 186,
   "id": "32c422ad",
   "metadata": {},
   "outputs": [],
   "source": [
    "y_pred_probs = model.predict(X_test, verbose=0)\n",
    "y_pred = (y_pred_probs > 0.5).astype(int)"
   ]
  },
  {
   "cell_type": "code",
   "execution_count": 187,
   "id": "8456e2e1",
   "metadata": {},
   "outputs": [
    {
     "name": "stdout",
     "output_type": "stream",
     "text": [
      "Sensitivity (Recall): 0.7709923664122137\n"
     ]
    }
   ],
   "source": [
    "sensitivity = recall_score(y_test, y_pred)\n",
    "print(f\"Sensitivity (Recall): {sensitivity}\")"
   ]
  },
  {
   "cell_type": "markdown",
   "id": "e1ff636b",
   "metadata": {},
   "source": [
    "## Runde 6"
   ]
  },
  {
   "cell_type": "code",
   "execution_count": 188,
   "id": "b7828697",
   "metadata": {},
   "outputs": [],
   "source": [
    "random.seed(42)\n",
    "np.random.seed(42)\n",
    "tf.random.set_seed(42)"
   ]
  },
  {
   "cell_type": "code",
   "execution_count": 189,
   "id": "f98b3b05",
   "metadata": {},
   "outputs": [],
   "source": [
    "embeddings = pd.DataFrame(corpus_6['embedding'].tolist())\n",
    "class_mapping = {'No': 0, 'Yes': 1}\n",
    "corpus_6['class_encoded'] = corpus_6['product_description_binary'].map(class_mapping)\n"
   ]
  },
  {
   "cell_type": "code",
   "execution_count": 190,
   "id": "b3e49987",
   "metadata": {},
   "outputs": [],
   "source": [
    "X = np.array(embeddings)\n",
    "y = np.array(corpus_6['class_encoded'])\n"
   ]
  },
  {
   "cell_type": "code",
   "execution_count": 191,
   "id": "21d798e9",
   "metadata": {},
   "outputs": [],
   "source": [
    "X_train, X_test, y_train, y_test = train_test_split(X, y, test_size=0.3, random_state=42)\n"
   ]
  },
  {
   "cell_type": "code",
   "execution_count": 192,
   "id": "52671dd0",
   "metadata": {},
   "outputs": [],
   "source": [
    "embedding_size = 1536 \n",
    "model = tf.keras.Sequential([\n",
    "    tf.keras.layers.Dense(128, activation='relu', input_shape=(embedding_size,)), \n",
    "    tf.keras.layers.Dense(64, activation='relu'),\n",
    "    tf.keras.layers.Dense(1, activation='sigmoid') \n",
    "])"
   ]
  },
  {
   "cell_type": "code",
   "execution_count": 193,
   "id": "17355b07",
   "metadata": {},
   "outputs": [],
   "source": [
    "model.compile(optimizer='adam', loss='binary_crossentropy', metrics=['accuracy'])\n"
   ]
  },
  {
   "cell_type": "code",
   "execution_count": 194,
   "id": "59d7f216",
   "metadata": {},
   "outputs": [
    {
     "name": "stdout",
     "output_type": "stream",
     "text": [
      "Epoch 1/10\n",
      "117/117 [==============================] - 2s 5ms/step - loss: 0.4169 - accuracy: 0.8101 - val_loss: 0.2790 - val_accuracy: 0.8750\n",
      "Epoch 2/10\n",
      "117/117 [==============================] - 0s 4ms/step - loss: 0.2367 - accuracy: 0.9049 - val_loss: 0.2320 - val_accuracy: 0.8990\n",
      "Epoch 3/10\n",
      "117/117 [==============================] - 0s 4ms/step - loss: 0.2116 - accuracy: 0.9113 - val_loss: 0.2233 - val_accuracy: 0.9135\n",
      "Epoch 4/10\n",
      "117/117 [==============================] - 1s 4ms/step - loss: 0.1898 - accuracy: 0.9265 - val_loss: 0.2367 - val_accuracy: 0.8990\n",
      "Epoch 5/10\n",
      "117/117 [==============================] - 0s 4ms/step - loss: 0.1760 - accuracy: 0.9308 - val_loss: 0.2480 - val_accuracy: 0.8894\n",
      "Epoch 6/10\n",
      "117/117 [==============================] - 0s 4ms/step - loss: 0.1754 - accuracy: 0.9300 - val_loss: 0.2218 - val_accuracy: 0.9135\n",
      "Epoch 7/10\n",
      "117/117 [==============================] - 0s 4ms/step - loss: 0.1576 - accuracy: 0.9380 - val_loss: 0.2432 - val_accuracy: 0.9038\n",
      "Epoch 8/10\n",
      "117/117 [==============================] - 0s 4ms/step - loss: 0.1529 - accuracy: 0.9410 - val_loss: 0.2246 - val_accuracy: 0.9159\n",
      "Epoch 9/10\n",
      "117/117 [==============================] - 0s 4ms/step - loss: 0.1448 - accuracy: 0.9418 - val_loss: 0.2757 - val_accuracy: 0.8894\n",
      "Epoch 10/10\n",
      "117/117 [==============================] - 0s 4ms/step - loss: 0.1375 - accuracy: 0.9482 - val_loss: 0.2463 - val_accuracy: 0.9062\n"
     ]
    },
    {
     "data": {
      "text/plain": [
       "<keras.src.callbacks.History at 0x2650c40cdd0>"
      ]
     },
     "execution_count": 194,
     "metadata": {},
     "output_type": "execute_result"
    }
   ],
   "source": [
    "model.fit(X_train, y_train, epochs=10, batch_size=32, validation_split=0.1)\n"
   ]
  },
  {
   "cell_type": "code",
   "execution_count": 195,
   "id": "89244371",
   "metadata": {},
   "outputs": [
    {
     "name": "stdout",
     "output_type": "stream",
     "text": [
      "Test accuracy: 0.9232062697410583\n"
     ]
    }
   ],
   "source": [
    "loss, accuracy = model.evaluate(X_test, y_test, verbose=0)\n",
    "print(f\"Test accuracy: {accuracy}\")\n"
   ]
  },
  {
   "cell_type": "code",
   "execution_count": 196,
   "id": "75baf430",
   "metadata": {},
   "outputs": [],
   "source": [
    "y_pred_probs = model.predict(X_test, verbose=0)\n",
    "y_pred = (y_pred_probs > 0.5).astype(int)"
   ]
  },
  {
   "cell_type": "code",
   "execution_count": 197,
   "id": "4108e156",
   "metadata": {},
   "outputs": [
    {
     "name": "stdout",
     "output_type": "stream",
     "text": [
      "Sensitivity (Recall): 0.9497041420118343\n"
     ]
    }
   ],
   "source": [
    "sensitivity = recall_score(y_test, y_pred)\n",
    "print(f\"Sensitivity (Recall): {sensitivity}\")"
   ]
  },
  {
   "cell_type": "markdown",
   "id": "3c823d73",
   "metadata": {},
   "source": [
    "# 2. Measurability Prediction"
   ]
  },
  {
   "cell_type": "markdown",
   "id": "c1560bc8",
   "metadata": {},
   "source": [
    "## 2.1 Default model experiment with cross validation"
   ]
  },
  {
   "cell_type": "code",
   "execution_count": 1,
   "id": "f0775666",
   "metadata": {
    "collapsed": true
   },
   "outputs": [
    {
     "name": "stderr",
     "output_type": "stream",
     "text": [
      "[nltk_data] Downloading package punkt to\n",
      "[nltk_data]     C:\\Users\\blunds\\AppData\\Roaming\\nltk_data...\n",
      "[nltk_data]   Package punkt is already up-to-date!\n"
     ]
    }
   ],
   "source": [
    "import pandas as pd\n",
    "import nltk\n",
    "nltk.download('punkt')\n",
    "import re \n",
    "from nltk.tokenize import sent_tokenize\n",
    "from nltk.tokenize import word_tokenize\n",
    "\n",
    "import os\n",
    "\n",
    "import json\n",
    "\n",
    "from nltk.corpus import stopwords\n",
    "import lemmy\n",
    "import textract\n",
    "import pickle\n",
    "import numpy as np"
   ]
  },
  {
   "cell_type": "markdown",
   "id": "08d44e9e",
   "metadata": {},
   "source": [
    "## Loading data"
   ]
  },
  {
   "cell_type": "code",
   "execution_count": 2,
   "id": "2745cb98",
   "metadata": {},
   "outputs": [],
   "source": [
    "corpus_42 = pd.read_pickle(\"corpus_42_final.pkl\")"
   ]
  },
  {
   "cell_type": "code",
   "execution_count": 3,
   "id": "43b82176",
   "metadata": {
    "scrolled": true
   },
   "outputs": [
    {
     "data": {
      "text/html": [
       "<div>\n",
       "<style scoped>\n",
       "    .dataframe tbody tr th:only-of-type {\n",
       "        vertical-align: middle;\n",
       "    }\n",
       "\n",
       "    .dataframe tbody tr th {\n",
       "        vertical-align: top;\n",
       "    }\n",
       "\n",
       "    .dataframe thead th {\n",
       "        text-align: right;\n",
       "    }\n",
       "</style>\n",
       "<table border=\"1\" class=\"dataframe\">\n",
       "  <thead>\n",
       "    <tr style=\"text-align: right;\">\n",
       "      <th></th>\n",
       "      <th>doc_id</th>\n",
       "      <th>contract_type_code</th>\n",
       "      <th>Product_60codes</th>\n",
       "      <th>Measurability_mean</th>\n",
       "      <th>Asset_specificity_mean</th>\n",
       "      <th>Manuel_or_not</th>\n",
       "      <th>product_description_binary</th>\n",
       "      <th>CPVcodes_2digit</th>\n",
       "      <th>CPVcodes_3digit</th>\n",
       "      <th>clean_text</th>\n",
       "      <th>Embedding</th>\n",
       "      <th>Normalized_Embedding</th>\n",
       "      <th>Normalized_Embedding_mean</th>\n",
       "    </tr>\n",
       "  </thead>\n",
       "  <tbody>\n",
       "    <tr>\n",
       "      <th>0</th>\n",
       "      <td>0000-008168</td>\n",
       "      <td>4</td>\n",
       "      <td>60</td>\n",
       "      <td>3.323232</td>\n",
       "      <td>2.450549</td>\n",
       "      <td>not</td>\n",
       "      <td>Yes</td>\n",
       "      <td>71</td>\n",
       "      <td>713</td>\n",
       "      <td>the new programme should provide the opportun...</td>\n",
       "      <td>[-0.023649858, -0.0044648494, -0.006738333, 0....</td>\n",
       "      <td>[-0.02364985798180248, -0.0044648493965644956,...</td>\n",
       "      <td>[-0.02364985798180248, -0.0044648493965644956,...</td>\n",
       "    </tr>\n",
       "    <tr>\n",
       "      <th>1</th>\n",
       "      <td>0000-008227</td>\n",
       "      <td>4</td>\n",
       "      <td>60</td>\n",
       "      <td>3.323232</td>\n",
       "      <td>2.450549</td>\n",
       "      <td>not</td>\n",
       "      <td>Yes</td>\n",
       "      <td>71</td>\n",
       "      <td>710</td>\n",
       "      <td>sikring af bygningens klimaskærm som fundamen...</td>\n",
       "      <td>[0.0021429053, -0.020846844, -0.0025144592, 0....</td>\n",
       "      <td>[0.0018015666258628857, -0.017526196050273404,...</td>\n",
       "      <td>[-0.011694183793053732, -0.040396958453703675,...</td>\n",
       "    </tr>\n",
       "    <tr>\n",
       "      <th>2</th>\n",
       "      <td>0000-008241</td>\n",
       "      <td>4</td>\n",
       "      <td>60</td>\n",
       "      <td>3.323232</td>\n",
       "      <td>2.450549</td>\n",
       "      <td>not</td>\n",
       "      <td>Yes</td>\n",
       "      <td>71</td>\n",
       "      <td>712</td>\n",
       "      <td>sikring af bygningens klimaskærm som fundamen...</td>\n",
       "      <td>[0.019978527, -0.021250192, -0.005847986, -0.0...</td>\n",
       "      <td>[0.01997852606996726, -0.0212501910107692, -0....</td>\n",
       "      <td>[0.01997852606996726, -0.0212501910107692, -0....</td>\n",
       "    </tr>\n",
       "    <tr>\n",
       "      <th>3</th>\n",
       "      <td>0000-008243</td>\n",
       "      <td>4</td>\n",
       "      <td>19</td>\n",
       "      <td>2.870130</td>\n",
       "      <td>2.590164</td>\n",
       "      <td>not</td>\n",
       "      <td>Yes</td>\n",
       "      <td>45</td>\n",
       "      <td>452</td>\n",
       "      <td>entreprisen omfatter almindelig vedligeholdels...</td>\n",
       "      <td>[0.032049313, -0.03062923, 0.0018029478, -0.01...</td>\n",
       "      <td>[0.03204931125482191, -0.030629228332149552, 0...</td>\n",
       "      <td>[0.03204931125482191, -0.030629228332149552, 0...</td>\n",
       "    </tr>\n",
       "    <tr>\n",
       "      <th>4</th>\n",
       "      <td>0000-008280</td>\n",
       "      <td>1</td>\n",
       "      <td>19</td>\n",
       "      <td>2.870130</td>\n",
       "      <td>2.590164</td>\n",
       "      <td>manuel</td>\n",
       "      <td>Yes</td>\n",
       "      <td>45</td>\n",
       "      <td>452</td>\n",
       "      <td>samarbejdets organisering og proces entreprenø...</td>\n",
       "      <td>[0.027916875, -0.028474228, -0.009179947, -0.0...</td>\n",
       "      <td>[0.027916875576418063, -0.028474228587926097, ...</td>\n",
       "      <td>[0.027916875576418063, -0.028474228587926097, ...</td>\n",
       "    </tr>\n",
       "  </tbody>\n",
       "</table>\n",
       "</div>"
      ],
      "text/plain": [
       "        doc_id  contract_type_code  Product_60codes  Measurability_mean  \\\n",
       "0  0000-008168                   4               60            3.323232   \n",
       "1  0000-008227                   4               60            3.323232   \n",
       "2  0000-008241                   4               60            3.323232   \n",
       "3  0000-008243                   4               19            2.870130   \n",
       "4  0000-008280                   1               19            2.870130   \n",
       "\n",
       "   Asset_specificity_mean Manuel_or_not product_description_binary  \\\n",
       "0                2.450549           not                        Yes   \n",
       "1                2.450549           not                        Yes   \n",
       "2                2.450549           not                        Yes   \n",
       "3                2.590164           not                        Yes   \n",
       "4                2.590164        manuel                        Yes   \n",
       "\n",
       "   CPVcodes_2digit  CPVcodes_3digit  \\\n",
       "0               71              713   \n",
       "1               71              710   \n",
       "2               71              712   \n",
       "3               45              452   \n",
       "4               45              452   \n",
       "\n",
       "                                          clean_text  \\\n",
       "0   the new programme should provide the opportun...   \n",
       "1   sikring af bygningens klimaskærm som fundamen...   \n",
       "2   sikring af bygningens klimaskærm som fundamen...   \n",
       "3  entreprisen omfatter almindelig vedligeholdels...   \n",
       "4  samarbejdets organisering og proces entreprenø...   \n",
       "\n",
       "                                           Embedding  \\\n",
       "0  [-0.023649858, -0.0044648494, -0.006738333, 0....   \n",
       "1  [0.0021429053, -0.020846844, -0.0025144592, 0....   \n",
       "2  [0.019978527, -0.021250192, -0.005847986, -0.0...   \n",
       "3  [0.032049313, -0.03062923, 0.0018029478, -0.01...   \n",
       "4  [0.027916875, -0.028474228, -0.009179947, -0.0...   \n",
       "\n",
       "                                Normalized_Embedding  \\\n",
       "0  [-0.02364985798180248, -0.0044648493965644956,...   \n",
       "1  [0.0018015666258628857, -0.017526196050273404,...   \n",
       "2  [0.01997852606996726, -0.0212501910107692, -0....   \n",
       "3  [0.03204931125482191, -0.030629228332149552, 0...   \n",
       "4  [0.027916875576418063, -0.028474228587926097, ...   \n",
       "\n",
       "                           Normalized_Embedding_mean  \n",
       "0  [-0.02364985798180248, -0.0044648493965644956,...  \n",
       "1  [-0.011694183793053732, -0.040396958453703675,...  \n",
       "2  [0.01997852606996726, -0.0212501910107692, -0....  \n",
       "3  [0.03204931125482191, -0.030629228332149552, 0...  \n",
       "4  [0.027916875576418063, -0.028474228587926097, ...  "
      ]
     },
     "execution_count": 3,
     "metadata": {},
     "output_type": "execute_result"
    }
   ],
   "source": [
    "corpus_42.head()"
   ]
  },
  {
   "cell_type": "code",
   "execution_count": 4,
   "id": "bc7a47d0",
   "metadata": {},
   "outputs": [],
   "source": [
    "corpus_18 = pd.read_pickle(\"corpus_18_final.pkl\")"
   ]
  },
  {
   "cell_type": "code",
   "execution_count": 5,
   "id": "ac9d8159",
   "metadata": {},
   "outputs": [],
   "source": [
    "corpus_42['CPVcodes_2digit'] = corpus_42['CPVcodes_2digit'].astype(str).apply(lambda x: x.zfill(2))\n"
   ]
  },
  {
   "cell_type": "code",
   "execution_count": 6,
   "id": "635bbcaf",
   "metadata": {},
   "outputs": [],
   "source": [
    "corpus_18['CPVcodes_2digit'] = corpus_18['CPVcodes_2digit'].astype(str).apply(lambda x: x.zfill(2))\n"
   ]
  },
  {
   "cell_type": "code",
   "execution_count": 9,
   "id": "7117e480",
   "metadata": {},
   "outputs": [],
   "source": [
    "corpus_over = pd.read_pickle(\"corpus_over_final.pkl\")"
   ]
  },
  {
   "cell_type": "markdown",
   "id": "767e6a4f",
   "metadata": {},
   "source": [
    "#### Endocding CPVcodes_1digit"
   ]
  },
  {
   "cell_type": "code",
   "execution_count": 12,
   "id": "289e86af",
   "metadata": {},
   "outputs": [],
   "source": [
    "from sklearn.preprocessing import OneHotEncoder\n",
    "import pandas as pd\n"
   ]
  },
  {
   "cell_type": "code",
   "execution_count": 13,
   "id": "9f8b777c",
   "metadata": {},
   "outputs": [],
   "source": [
    "corpus_42['CPVcodes_1digit'] = corpus_42['CPVcodes_2digit'].astype(str).str[0]\n",
    "corpus_18['CPVcodes_1digit'] = corpus_18['CPVcodes_2digit'].astype(str).str[0]\n",
    "corpus_over['CPVcodes_1digit'] = corpus_over['CPVcodes_2digit'].astype(str).str[0]"
   ]
  },
  {
   "cell_type": "code",
   "execution_count": 14,
   "id": "2e9a6845",
   "metadata": {},
   "outputs": [],
   "source": [
    "corpus_42['CPVcodes_1digit'] = corpus_42['CPVcodes_1digit'].astype(int)\n",
    "corpus_18['CPVcodes_1digit'] = corpus_18['CPVcodes_1digit'].astype(int)\n",
    "corpus_over['CPVcodes_1digit'] = corpus_over['CPVcodes_1digit'].astype(int)"
   ]
  },
  {
   "cell_type": "code",
   "execution_count": 15,
   "id": "48d041f9",
   "metadata": {},
   "outputs": [],
   "source": [
    "corpus_42['CPVcodes_1digit_str'] = corpus_42['CPVcodes_1digit'].astype(str)\n",
    "corpus_18['CPVcodes_1digit_str'] = corpus_18['CPVcodes_1digit'].astype(str)\n",
    "corpus_over['CPVcodes_1digit_str'] = corpus_over['CPVcodes_1digit'].astype(str)"
   ]
  },
  {
   "cell_type": "code",
   "execution_count": 16,
   "id": "43d6bc4e",
   "metadata": {},
   "outputs": [],
   "source": [
    "all_cpv_codes_str = pd.concat([corpus_42['CPVcodes_1digit_str'], corpus_18['CPVcodes_1digit_str'], corpus_over['CPVcodes_1digit_str']]).unique()"
   ]
  },
  {
   "cell_type": "code",
   "execution_count": 17,
   "id": "8ed194c6",
   "metadata": {},
   "outputs": [],
   "source": [
    "encoder = OneHotEncoder(categories=[all_cpv_codes_str], handle_unknown='ignore')"
   ]
  },
  {
   "cell_type": "code",
   "execution_count": 18,
   "id": "b9557124",
   "metadata": {},
   "outputs": [],
   "source": [
    "cpv_42_encoded_1 = encoder.fit_transform(corpus_42[['CPVcodes_1digit_str']]).toarray()"
   ]
  },
  {
   "cell_type": "code",
   "execution_count": 19,
   "id": "dfd71cba",
   "metadata": {},
   "outputs": [],
   "source": [
    "cpv_18_encoded_1 = encoder.transform(corpus_18[['CPVcodes_1digit_str']]).toarray()"
   ]
  },
  {
   "cell_type": "code",
   "execution_count": 20,
   "id": "0ec317e0",
   "metadata": {},
   "outputs": [],
   "source": [
    "cpv_over_encoded_1 = encoder.transform(corpus_over[['CPVcodes_1digit_str']]).toarray()"
   ]
  },
  {
   "cell_type": "code",
   "execution_count": 21,
   "id": "d6f16855",
   "metadata": {},
   "outputs": [],
   "source": [
    "cpv_42_encoded_df_1 = pd.DataFrame(cpv_42_encoded_1, index=corpus_42.index)"
   ]
  },
  {
   "cell_type": "code",
   "execution_count": 22,
   "id": "9bb8da60",
   "metadata": {},
   "outputs": [],
   "source": [
    "cpv_18_encoded_df_1 = pd.DataFrame(cpv_18_encoded_1, index=corpus_18.index)"
   ]
  },
  {
   "cell_type": "code",
   "execution_count": 23,
   "id": "a59c418e",
   "metadata": {},
   "outputs": [],
   "source": [
    "cpv_over_encoded_df_1 = pd.DataFrame(cpv_over_encoded_1, index=corpus_over.index)"
   ]
  },
  {
   "cell_type": "markdown",
   "id": "aff9f284",
   "metadata": {},
   "source": [
    "#### Endocding CPVcodes_2digit"
   ]
  },
  {
   "cell_type": "code",
   "execution_count": 24,
   "id": "a0b591fd",
   "metadata": {},
   "outputs": [],
   "source": [
    "from sklearn.preprocessing import OneHotEncoder\n",
    "import pandas as pd\n"
   ]
  },
  {
   "cell_type": "code",
   "execution_count": 25,
   "id": "782def97",
   "metadata": {},
   "outputs": [],
   "source": [
    "corpus_42['CPVcodes_2digit_str'] = corpus_42['CPVcodes_2digit'].astype(str)\n",
    "corpus_18['CPVcodes_2digit_str'] = corpus_18['CPVcodes_2digit'].astype(str)\n",
    "corpus_over['CPVcodes_2digit_str'] = corpus_over['CPVcodes_2digit'].astype(str)\n"
   ]
  },
  {
   "cell_type": "code",
   "execution_count": 26,
   "id": "7a4866ec",
   "metadata": {},
   "outputs": [],
   "source": [
    "all_cpv_codes_str = pd.concat([corpus_42['CPVcodes_2digit_str'], corpus_18['CPVcodes_2digit_str'], corpus_over['CPVcodes_2digit_str']]).unique()"
   ]
  },
  {
   "cell_type": "code",
   "execution_count": 27,
   "id": "d9307c3a",
   "metadata": {},
   "outputs": [],
   "source": [
    "encoder = OneHotEncoder(categories=[all_cpv_codes_str], handle_unknown='ignore')"
   ]
  },
  {
   "cell_type": "code",
   "execution_count": 28,
   "id": "543c9f1b",
   "metadata": {},
   "outputs": [],
   "source": [
    "cpv_42_encoded_2 = encoder.fit_transform(corpus_42[['CPVcodes_2digit_str']]).toarray()"
   ]
  },
  {
   "cell_type": "code",
   "execution_count": 29,
   "id": "b8e61050",
   "metadata": {},
   "outputs": [],
   "source": [
    "cpv_18_encoded_2 = encoder.transform(corpus_18[['CPVcodes_2digit_str']]).toarray()"
   ]
  },
  {
   "cell_type": "code",
   "execution_count": 30,
   "id": "34a1f716",
   "metadata": {},
   "outputs": [],
   "source": [
    "cpv_over_encoded_2 = encoder.transform(corpus_over[['CPVcodes_2digit_str']]).toarray()"
   ]
  },
  {
   "cell_type": "code",
   "execution_count": 31,
   "id": "8c233fc3",
   "metadata": {},
   "outputs": [],
   "source": [
    "cpv_42_encoded_df_2 = pd.DataFrame(cpv_42_encoded_2, index=corpus_42.index)"
   ]
  },
  {
   "cell_type": "code",
   "execution_count": 32,
   "id": "1589518a",
   "metadata": {},
   "outputs": [],
   "source": [
    "cpv_18_encoded_df_2 = pd.DataFrame(cpv_18_encoded_2, index=corpus_18.index)"
   ]
  },
  {
   "cell_type": "code",
   "execution_count": 33,
   "id": "e1e864bb",
   "metadata": {},
   "outputs": [],
   "source": [
    "cpv_over_encoded_df_2 = pd.DataFrame(cpv_over_encoded_2, index=corpus_over.index)"
   ]
  },
  {
   "cell_type": "markdown",
   "id": "79822bef",
   "metadata": {},
   "source": [
    "#### Endocding CPVcodes_3digit"
   ]
  },
  {
   "cell_type": "code",
   "execution_count": 34,
   "id": "12eb1c69",
   "metadata": {},
   "outputs": [],
   "source": [
    "from sklearn.preprocessing import OneHotEncoder\n",
    "import pandas as pd\n"
   ]
  },
  {
   "cell_type": "code",
   "execution_count": 35,
   "id": "152723f3",
   "metadata": {},
   "outputs": [],
   "source": [
    "corpus_42['CPVcodes_3digit_str'] = corpus_42['CPVcodes_3digit'].astype(str)\n",
    "corpus_18['CPVcodes_3digit_str'] = corpus_18['CPVcodes_3digit'].astype(str)\n",
    "corpus_over['CPVcodes_3digit_str'] = corpus_over['CPVcodes_3digit'].astype(str)\n"
   ]
  },
  {
   "cell_type": "code",
   "execution_count": 36,
   "id": "325def6c",
   "metadata": {},
   "outputs": [],
   "source": [
    "all_cpv_codes_str = pd.concat([corpus_42['CPVcodes_3digit_str'], corpus_18['CPVcodes_3digit_str'], corpus_over['CPVcodes_3digit_str']]).unique()"
   ]
  },
  {
   "cell_type": "code",
   "execution_count": 37,
   "id": "0afc7e57",
   "metadata": {},
   "outputs": [],
   "source": [
    "encoder = OneHotEncoder(categories=[all_cpv_codes_str], handle_unknown='ignore')"
   ]
  },
  {
   "cell_type": "code",
   "execution_count": 38,
   "id": "b484139f",
   "metadata": {},
   "outputs": [],
   "source": [
    "cpv_42_encoded_3 = encoder.fit_transform(corpus_42[['CPVcodes_3digit_str']]).toarray()"
   ]
  },
  {
   "cell_type": "code",
   "execution_count": 39,
   "id": "b2d3f641",
   "metadata": {},
   "outputs": [],
   "source": [
    "cpv_18_encoded_3 = encoder.transform(corpus_18[['CPVcodes_3digit_str']]).toarray()"
   ]
  },
  {
   "cell_type": "code",
   "execution_count": 40,
   "id": "63507c74",
   "metadata": {},
   "outputs": [],
   "source": [
    "cpv_over_encoded_3 = encoder.transform(corpus_over[['CPVcodes_3digit_str']]).toarray()"
   ]
  },
  {
   "cell_type": "code",
   "execution_count": 41,
   "id": "83c3923f",
   "metadata": {},
   "outputs": [],
   "source": [
    "cpv_42_encoded_df_3 = pd.DataFrame(cpv_42_encoded_3, index=corpus_42.index)"
   ]
  },
  {
   "cell_type": "code",
   "execution_count": 42,
   "id": "ad8d0516",
   "metadata": {},
   "outputs": [],
   "source": [
    "cpv_18_encoded_df_3 = pd.DataFrame(cpv_18_encoded_3, index=corpus_18.index)"
   ]
  },
  {
   "cell_type": "code",
   "execution_count": 43,
   "id": "51f965b3",
   "metadata": {},
   "outputs": [],
   "source": [
    "cpv_over_encoded_df_3 = pd.DataFrame(cpv_over_encoded_3, index=corpus_over.index)"
   ]
  },
  {
   "cell_type": "markdown",
   "id": "ea934726",
   "metadata": {},
   "source": [
    "# Linear Regression"
   ]
  },
  {
   "cell_type": "code",
   "execution_count": 44,
   "id": "87b46c77",
   "metadata": {},
   "outputs": [],
   "source": [
    "import pandas as pd\n",
    "from sklearn.model_selection import train_test_split\n",
    "from sklearn.linear_model import LinearRegression\n",
    "from sklearn.metrics import mean_squared_error, mean_absolute_error, r2_score\n",
    "import pandas as pd\n",
    "from sklearn.model_selection import cross_val_score\n",
    "from sklearn.linear_model import LinearRegression"
   ]
  },
  {
   "cell_type": "code",
   "execution_count": 46,
   "id": "9ad26117",
   "metadata": {},
   "outputs": [],
   "source": [
    "embeddings_df = pd.DataFrame(corpus_42['Normalized_Embedding'].tolist())\n"
   ]
  },
  {
   "cell_type": "code",
   "execution_count": 47,
   "id": "a16e6920",
   "metadata": {},
   "outputs": [],
   "source": [
    "data_with_dummies = pd.concat([embeddings_df, cpv_42_encoded_df_3, cpv_42_encoded_df_2, cpv_42_encoded_df_1], axis=1)"
   ]
  },
  {
   "cell_type": "code",
   "execution_count": 48,
   "id": "7ca36506",
   "metadata": {},
   "outputs": [],
   "source": [
    "data = data_with_dummies.join(corpus_42['Measurability_mean'])"
   ]
  },
  {
   "cell_type": "code",
   "execution_count": 49,
   "id": "019ecaca",
   "metadata": {},
   "outputs": [],
   "source": [
    "data.columns = data.columns.astype(str)"
   ]
  },
  {
   "cell_type": "code",
   "execution_count": 50,
   "id": "186a57ef",
   "metadata": {},
   "outputs": [],
   "source": [
    "X = data.drop('Measurability_mean', axis=1)\n",
    "y = data['Measurability_mean']"
   ]
  },
  {
   "cell_type": "code",
   "execution_count": 51,
   "id": "7c5579e6",
   "metadata": {},
   "outputs": [],
   "source": [
    "model = LinearRegression()"
   ]
  },
  {
   "cell_type": "code",
   "execution_count": 52,
   "id": "8dec6cc9",
   "metadata": {},
   "outputs": [],
   "source": [
    "mse_scores = cross_val_score(model, X, y, cv=5, scoring='neg_mean_squared_error')\n",
    "mae_scores = cross_val_score(model, X, y, cv=5, scoring='neg_mean_absolute_error')\n",
    "r2_scores = cross_val_score(model, X, y, cv=5, scoring='r2')"
   ]
  },
  {
   "cell_type": "code",
   "execution_count": 53,
   "id": "e68e8433",
   "metadata": {},
   "outputs": [
    {
     "name": "stdout",
     "output_type": "stream",
     "text": [
      "Mean MSE: 0.024548891757081255\n",
      "Mean MAE: 0.10622352084267228\n",
      "Mean R2: 0.8879356983033277\n"
     ]
    }
   ],
   "source": [
    "print(\"Mean MSE:\", -mse_scores.mean())\n",
    "print(\"Mean MAE:\", -mae_scores.mean())\n",
    "print(\"Mean R2:\", r2_scores.mean())"
   ]
  },
  {
   "cell_type": "code",
   "execution_count": 54,
   "id": "6bd07e26",
   "metadata": {
    "collapsed": true
   },
   "outputs": [
    {
     "data": {
      "text/html": [
       "<style>#sk-container-id-1 {color: black;}#sk-container-id-1 pre{padding: 0;}#sk-container-id-1 div.sk-toggleable {background-color: white;}#sk-container-id-1 label.sk-toggleable__label {cursor: pointer;display: block;width: 100%;margin-bottom: 0;padding: 0.3em;box-sizing: border-box;text-align: center;}#sk-container-id-1 label.sk-toggleable__label-arrow:before {content: \"▸\";float: left;margin-right: 0.25em;color: #696969;}#sk-container-id-1 label.sk-toggleable__label-arrow:hover:before {color: black;}#sk-container-id-1 div.sk-estimator:hover label.sk-toggleable__label-arrow:before {color: black;}#sk-container-id-1 div.sk-toggleable__content {max-height: 0;max-width: 0;overflow: hidden;text-align: left;background-color: #f0f8ff;}#sk-container-id-1 div.sk-toggleable__content pre {margin: 0.2em;color: black;border-radius: 0.25em;background-color: #f0f8ff;}#sk-container-id-1 input.sk-toggleable__control:checked~div.sk-toggleable__content {max-height: 200px;max-width: 100%;overflow: auto;}#sk-container-id-1 input.sk-toggleable__control:checked~label.sk-toggleable__label-arrow:before {content: \"▾\";}#sk-container-id-1 div.sk-estimator input.sk-toggleable__control:checked~label.sk-toggleable__label {background-color: #d4ebff;}#sk-container-id-1 div.sk-label input.sk-toggleable__control:checked~label.sk-toggleable__label {background-color: #d4ebff;}#sk-container-id-1 input.sk-hidden--visually {border: 0;clip: rect(1px 1px 1px 1px);clip: rect(1px, 1px, 1px, 1px);height: 1px;margin: -1px;overflow: hidden;padding: 0;position: absolute;width: 1px;}#sk-container-id-1 div.sk-estimator {font-family: monospace;background-color: #f0f8ff;border: 1px dotted black;border-radius: 0.25em;box-sizing: border-box;margin-bottom: 0.5em;}#sk-container-id-1 div.sk-estimator:hover {background-color: #d4ebff;}#sk-container-id-1 div.sk-parallel-item::after {content: \"\";width: 100%;border-bottom: 1px solid gray;flex-grow: 1;}#sk-container-id-1 div.sk-label:hover label.sk-toggleable__label {background-color: #d4ebff;}#sk-container-id-1 div.sk-serial::before {content: \"\";position: absolute;border-left: 1px solid gray;box-sizing: border-box;top: 0;bottom: 0;left: 50%;z-index: 0;}#sk-container-id-1 div.sk-serial {display: flex;flex-direction: column;align-items: center;background-color: white;padding-right: 0.2em;padding-left: 0.2em;position: relative;}#sk-container-id-1 div.sk-item {position: relative;z-index: 1;}#sk-container-id-1 div.sk-parallel {display: flex;align-items: stretch;justify-content: center;background-color: white;position: relative;}#sk-container-id-1 div.sk-item::before, #sk-container-id-1 div.sk-parallel-item::before {content: \"\";position: absolute;border-left: 1px solid gray;box-sizing: border-box;top: 0;bottom: 0;left: 50%;z-index: -1;}#sk-container-id-1 div.sk-parallel-item {display: flex;flex-direction: column;z-index: 1;position: relative;background-color: white;}#sk-container-id-1 div.sk-parallel-item:first-child::after {align-self: flex-end;width: 50%;}#sk-container-id-1 div.sk-parallel-item:last-child::after {align-self: flex-start;width: 50%;}#sk-container-id-1 div.sk-parallel-item:only-child::after {width: 0;}#sk-container-id-1 div.sk-dashed-wrapped {border: 1px dashed gray;margin: 0 0.4em 0.5em 0.4em;box-sizing: border-box;padding-bottom: 0.4em;background-color: white;}#sk-container-id-1 div.sk-label label {font-family: monospace;font-weight: bold;display: inline-block;line-height: 1.2em;}#sk-container-id-1 div.sk-label-container {text-align: center;}#sk-container-id-1 div.sk-container {/* jupyter's `normalize.less` sets `[hidden] { display: none; }` but bootstrap.min.css set `[hidden] { display: none !important; }` so we also need the `!important` here to be able to override the default hidden behavior on the sphinx rendered scikit-learn.org. See: https://github.com/scikit-learn/scikit-learn/issues/21755 */display: inline-block !important;position: relative;}#sk-container-id-1 div.sk-text-repr-fallback {display: none;}</style><div id=\"sk-container-id-1\" class=\"sk-top-container\"><div class=\"sk-text-repr-fallback\"><pre>LinearRegression()</pre><b>In a Jupyter environment, please rerun this cell to show the HTML representation or trust the notebook. <br />On GitHub, the HTML representation is unable to render, please try loading this page with nbviewer.org.</b></div><div class=\"sk-container\" hidden><div class=\"sk-item\"><div class=\"sk-estimator sk-toggleable\"><input class=\"sk-toggleable__control sk-hidden--visually\" id=\"sk-estimator-id-1\" type=\"checkbox\" checked><label for=\"sk-estimator-id-1\" class=\"sk-toggleable__label sk-toggleable__label-arrow\">LinearRegression</label><div class=\"sk-toggleable__content\"><pre>LinearRegression()</pre></div></div></div></div></div>"
      ],
      "text/plain": [
       "LinearRegression()"
      ]
     },
     "execution_count": 54,
     "metadata": {},
     "output_type": "execute_result"
    }
   ],
   "source": [
    "model.fit(X, y)\n"
   ]
  },
  {
   "cell_type": "code",
   "execution_count": 55,
   "id": "48f5fecf",
   "metadata": {},
   "outputs": [],
   "source": [
    "embeddings_df_18 = pd.DataFrame(corpus_18['Normalized_Embedding'].tolist())\n"
   ]
  },
  {
   "cell_type": "code",
   "execution_count": 56,
   "id": "34c768e4",
   "metadata": {},
   "outputs": [],
   "source": [
    "data_with_dummies_18 = pd.concat([embeddings_df_18, cpv_18_encoded_df_3, cpv_18_encoded_df_2, cpv_18_encoded_df_1], axis=1)"
   ]
  },
  {
   "cell_type": "code",
   "execution_count": 57,
   "id": "7bd1950c",
   "metadata": {},
   "outputs": [],
   "source": [
    "data_18 = data_with_dummies_18.join(corpus_18['Measurability_mean'])"
   ]
  },
  {
   "cell_type": "code",
   "execution_count": 58,
   "id": "8abc6fdf",
   "metadata": {},
   "outputs": [],
   "source": [
    "data_18.columns = data_18.columns.astype(str)"
   ]
  },
  {
   "cell_type": "code",
   "execution_count": 59,
   "id": "b0e103ac",
   "metadata": {},
   "outputs": [],
   "source": [
    "X_18 = data_18.drop('Measurability_mean', axis=1)"
   ]
  },
  {
   "cell_type": "code",
   "execution_count": 60,
   "id": "b87da7ec",
   "metadata": {},
   "outputs": [],
   "source": [
    "y_18 = data_18['Measurability_mean']"
   ]
  },
  {
   "cell_type": "code",
   "execution_count": 61,
   "id": "9ac68637",
   "metadata": {},
   "outputs": [],
   "source": [
    "y_pred_18 = model.predict(X_18)"
   ]
  },
  {
   "cell_type": "code",
   "execution_count": 62,
   "id": "28a087e6",
   "metadata": {},
   "outputs": [],
   "source": [
    "mse_18 = mean_squared_error(y_18, y_pred_18)\n",
    "mae_18 = mean_absolute_error(y_18, y_pred_18)\n",
    "r2_18 = r2_score(y_18, y_pred_18)"
   ]
  },
  {
   "cell_type": "code",
   "execution_count": 63,
   "id": "41a4c594",
   "metadata": {
    "scrolled": true
   },
   "outputs": [
    {
     "name": "stdout",
     "output_type": "stream",
     "text": [
      "Mean Squared Error (MSE) on corpus_18: 0.22688947197577192\n",
      "Mean Absolute Error (MAE) on corpus_18: 0.35748705657720964\n",
      "R^2 Score on corpus_18: -0.4169290823372467\n"
     ]
    }
   ],
   "source": [
    "print(f\"Mean Squared Error (MSE) on corpus_18: {mse_18}\")\n",
    "print(f\"Mean Absolute Error (MAE) on corpus_18: {mae_18}\")\n",
    "print(f\"R^2 Score on corpus_18: {r2_18}\")"
   ]
  },
  {
   "cell_type": "markdown",
   "id": "a5dbd64d",
   "metadata": {},
   "source": [
    "# Random Forrest"
   ]
  },
  {
   "cell_type": "code",
   "execution_count": 46,
   "id": "07aa6345",
   "metadata": {},
   "outputs": [],
   "source": [
    "import pandas as pd\n",
    "from sklearn.model_selection import train_test_split\n",
    "from sklearn.ensemble import RandomForestRegressor\n",
    "from sklearn.metrics import mean_squared_error, mean_absolute_error, r2_score"
   ]
  },
  {
   "cell_type": "code",
   "execution_count": 47,
   "id": "3b2c4ace",
   "metadata": {},
   "outputs": [],
   "source": [
    "import pandas as pd\n",
    "from sklearn.ensemble import RandomForestRegressor\n",
    "from sklearn.model_selection import cross_val_score"
   ]
  },
  {
   "cell_type": "code",
   "execution_count": 112,
   "id": "2779f32d",
   "metadata": {},
   "outputs": [],
   "source": [
    "embeddings_df = pd.DataFrame(corpus_42['Normalized_Embedding'].tolist())\n"
   ]
  },
  {
   "cell_type": "code",
   "execution_count": 113,
   "id": "43cf96b6",
   "metadata": {},
   "outputs": [],
   "source": [
    "data_with_dummies = pd.concat([embeddings_df, cpv_42_encoded_df_3, cpv_42_encoded_df_2, cpv_42_encoded_df_1], axis=1)"
   ]
  },
  {
   "cell_type": "code",
   "execution_count": 114,
   "id": "29d9eb0a",
   "metadata": {},
   "outputs": [],
   "source": [
    "data = data_with_dummies.join(corpus_42['Measurability_mean'])"
   ]
  },
  {
   "cell_type": "code",
   "execution_count": 115,
   "id": "b6803dff",
   "metadata": {},
   "outputs": [],
   "source": [
    "data.columns = data.columns.astype(str)"
   ]
  },
  {
   "cell_type": "code",
   "execution_count": 116,
   "id": "e35f4daa",
   "metadata": {},
   "outputs": [],
   "source": [
    "X = data.drop('Measurability_mean', axis=1)\n",
    "y = data['Measurability_mean']"
   ]
  },
  {
   "cell_type": "code",
   "execution_count": 117,
   "id": "b5c804b2",
   "metadata": {},
   "outputs": [],
   "source": [
    "model = RandomForestRegressor(n_estimators=100, random_state=42)"
   ]
  },
  {
   "cell_type": "code",
   "execution_count": 118,
   "id": "4f37a8d0",
   "metadata": {},
   "outputs": [],
   "source": [
    "mse_scores = cross_val_score(model, X, y, cv=5, scoring='neg_mean_squared_error')\n",
    "mae_scores = cross_val_score(model, X, y, cv=5, scoring='neg_mean_absolute_error')\n",
    "r2_scores = cross_val_score(model, X, y, cv=5, scoring='r2')"
   ]
  },
  {
   "cell_type": "code",
   "execution_count": 119,
   "id": "a6f10a82",
   "metadata": {},
   "outputs": [
    {
     "name": "stdout",
     "output_type": "stream",
     "text": [
      "Mean MSE: 0.04188398130484365\n",
      "Mean MAE: 0.1263508351564301\n",
      "Mean R2: 0.8118248370675258\n"
     ]
    }
   ],
   "source": [
    "print(\"Mean MSE:\", -mse_scores.mean())\n",
    "print(\"Mean MAE:\", -mae_scores.mean())\n",
    "print(\"Mean R2:\", r2_scores.mean())"
   ]
  },
  {
   "cell_type": "code",
   "execution_count": 120,
   "id": "765d994e",
   "metadata": {},
   "outputs": [
    {
     "data": {
      "text/html": [
       "<style>#sk-container-id-4 {color: black;}#sk-container-id-4 pre{padding: 0;}#sk-container-id-4 div.sk-toggleable {background-color: white;}#sk-container-id-4 label.sk-toggleable__label {cursor: pointer;display: block;width: 100%;margin-bottom: 0;padding: 0.3em;box-sizing: border-box;text-align: center;}#sk-container-id-4 label.sk-toggleable__label-arrow:before {content: \"▸\";float: left;margin-right: 0.25em;color: #696969;}#sk-container-id-4 label.sk-toggleable__label-arrow:hover:before {color: black;}#sk-container-id-4 div.sk-estimator:hover label.sk-toggleable__label-arrow:before {color: black;}#sk-container-id-4 div.sk-toggleable__content {max-height: 0;max-width: 0;overflow: hidden;text-align: left;background-color: #f0f8ff;}#sk-container-id-4 div.sk-toggleable__content pre {margin: 0.2em;color: black;border-radius: 0.25em;background-color: #f0f8ff;}#sk-container-id-4 input.sk-toggleable__control:checked~div.sk-toggleable__content {max-height: 200px;max-width: 100%;overflow: auto;}#sk-container-id-4 input.sk-toggleable__control:checked~label.sk-toggleable__label-arrow:before {content: \"▾\";}#sk-container-id-4 div.sk-estimator input.sk-toggleable__control:checked~label.sk-toggleable__label {background-color: #d4ebff;}#sk-container-id-4 div.sk-label input.sk-toggleable__control:checked~label.sk-toggleable__label {background-color: #d4ebff;}#sk-container-id-4 input.sk-hidden--visually {border: 0;clip: rect(1px 1px 1px 1px);clip: rect(1px, 1px, 1px, 1px);height: 1px;margin: -1px;overflow: hidden;padding: 0;position: absolute;width: 1px;}#sk-container-id-4 div.sk-estimator {font-family: monospace;background-color: #f0f8ff;border: 1px dotted black;border-radius: 0.25em;box-sizing: border-box;margin-bottom: 0.5em;}#sk-container-id-4 div.sk-estimator:hover {background-color: #d4ebff;}#sk-container-id-4 div.sk-parallel-item::after {content: \"\";width: 100%;border-bottom: 1px solid gray;flex-grow: 1;}#sk-container-id-4 div.sk-label:hover label.sk-toggleable__label {background-color: #d4ebff;}#sk-container-id-4 div.sk-serial::before {content: \"\";position: absolute;border-left: 1px solid gray;box-sizing: border-box;top: 0;bottom: 0;left: 50%;z-index: 0;}#sk-container-id-4 div.sk-serial {display: flex;flex-direction: column;align-items: center;background-color: white;padding-right: 0.2em;padding-left: 0.2em;position: relative;}#sk-container-id-4 div.sk-item {position: relative;z-index: 1;}#sk-container-id-4 div.sk-parallel {display: flex;align-items: stretch;justify-content: center;background-color: white;position: relative;}#sk-container-id-4 div.sk-item::before, #sk-container-id-4 div.sk-parallel-item::before {content: \"\";position: absolute;border-left: 1px solid gray;box-sizing: border-box;top: 0;bottom: 0;left: 50%;z-index: -1;}#sk-container-id-4 div.sk-parallel-item {display: flex;flex-direction: column;z-index: 1;position: relative;background-color: white;}#sk-container-id-4 div.sk-parallel-item:first-child::after {align-self: flex-end;width: 50%;}#sk-container-id-4 div.sk-parallel-item:last-child::after {align-self: flex-start;width: 50%;}#sk-container-id-4 div.sk-parallel-item:only-child::after {width: 0;}#sk-container-id-4 div.sk-dashed-wrapped {border: 1px dashed gray;margin: 0 0.4em 0.5em 0.4em;box-sizing: border-box;padding-bottom: 0.4em;background-color: white;}#sk-container-id-4 div.sk-label label {font-family: monospace;font-weight: bold;display: inline-block;line-height: 1.2em;}#sk-container-id-4 div.sk-label-container {text-align: center;}#sk-container-id-4 div.sk-container {/* jupyter's `normalize.less` sets `[hidden] { display: none; }` but bootstrap.min.css set `[hidden] { display: none !important; }` so we also need the `!important` here to be able to override the default hidden behavior on the sphinx rendered scikit-learn.org. See: https://github.com/scikit-learn/scikit-learn/issues/21755 */display: inline-block !important;position: relative;}#sk-container-id-4 div.sk-text-repr-fallback {display: none;}</style><div id=\"sk-container-id-4\" class=\"sk-top-container\"><div class=\"sk-text-repr-fallback\"><pre>RandomForestRegressor(random_state=42)</pre><b>In a Jupyter environment, please rerun this cell to show the HTML representation or trust the notebook. <br />On GitHub, the HTML representation is unable to render, please try loading this page with nbviewer.org.</b></div><div class=\"sk-container\" hidden><div class=\"sk-item\"><div class=\"sk-estimator sk-toggleable\"><input class=\"sk-toggleable__control sk-hidden--visually\" id=\"sk-estimator-id-4\" type=\"checkbox\" checked><label for=\"sk-estimator-id-4\" class=\"sk-toggleable__label sk-toggleable__label-arrow\">RandomForestRegressor</label><div class=\"sk-toggleable__content\"><pre>RandomForestRegressor(random_state=42)</pre></div></div></div></div></div>"
      ],
      "text/plain": [
       "RandomForestRegressor(random_state=42)"
      ]
     },
     "execution_count": 120,
     "metadata": {},
     "output_type": "execute_result"
    }
   ],
   "source": [
    "model.fit(X, y)\n"
   ]
  },
  {
   "cell_type": "code",
   "execution_count": 121,
   "id": "9bcf5f71",
   "metadata": {},
   "outputs": [],
   "source": [
    "embeddings_df_18 = pd.DataFrame(corpus_18['Normalized_Embedding'].tolist())\n"
   ]
  },
  {
   "cell_type": "code",
   "execution_count": 122,
   "id": "ebe9a136",
   "metadata": {},
   "outputs": [],
   "source": [
    "data_with_dummies_18 = pd.concat([embeddings_df_18, cpv_18_encoded_df_3, cpv_18_encoded_df_2, cpv_18_encoded_df_1], axis=1)"
   ]
  },
  {
   "cell_type": "code",
   "execution_count": 123,
   "id": "c4de5fc1",
   "metadata": {},
   "outputs": [],
   "source": [
    "data_18 = data_with_dummies_18.join(corpus_18['Measurability_mean'])"
   ]
  },
  {
   "cell_type": "code",
   "execution_count": 124,
   "id": "db41d37d",
   "metadata": {},
   "outputs": [],
   "source": [
    "data_18.columns = data_18.columns.astype(str)"
   ]
  },
  {
   "cell_type": "code",
   "execution_count": 125,
   "id": "ef105299",
   "metadata": {},
   "outputs": [],
   "source": [
    "X_18 = data_18.drop('Measurability_mean', axis=1)"
   ]
  },
  {
   "cell_type": "code",
   "execution_count": 126,
   "id": "810473fe",
   "metadata": {},
   "outputs": [],
   "source": [
    "y_18 = data_18['Measurability_mean']"
   ]
  },
  {
   "cell_type": "code",
   "execution_count": 127,
   "id": "e60db33e",
   "metadata": {},
   "outputs": [],
   "source": [
    "y_pred_18 = model.predict(X_18)"
   ]
  },
  {
   "cell_type": "code",
   "execution_count": 128,
   "id": "ceaa8a42",
   "metadata": {},
   "outputs": [],
   "source": [
    "mse_18 = mean_squared_error(y_18, y_pred_18)\n",
    "mae_18 = mean_absolute_error(y_18, y_pred_18)\n",
    "r2_18 = r2_score(y_18, y_pred_18)"
   ]
  },
  {
   "cell_type": "code",
   "execution_count": 129,
   "id": "f5769a61",
   "metadata": {},
   "outputs": [
    {
     "name": "stdout",
     "output_type": "stream",
     "text": [
      "Mean Squared Error (MSE) on corpus_18: 0.12768783619471266\n",
      "Mean Absolute Error (MAE) on corpus_18: 0.2944204931362472\n",
      "R^2 Score on corpus_18: 0.2025870262313333\n"
     ]
    }
   ],
   "source": [
    "print(f\"Mean Squared Error (MSE) on corpus_18: {mse_18}\")\n",
    "print(f\"Mean Absolute Error (MAE) on corpus_18: {mae_18}\")\n",
    "print(f\"R^2 Score on corpus_18: {r2_18}\")"
   ]
  },
  {
   "cell_type": "markdown",
   "id": "5145f16e",
   "metadata": {},
   "source": [
    "# SVM "
   ]
  },
  {
   "cell_type": "code",
   "execution_count": 48,
   "id": "edabe4c4",
   "metadata": {},
   "outputs": [],
   "source": [
    "import pandas as pd\n",
    "from sklearn.model_selection import train_test_split\n",
    "from sklearn.svm import SVR\n",
    "from sklearn.metrics import mean_squared_error, mean_absolute_error, r2_score"
   ]
  },
  {
   "cell_type": "code",
   "execution_count": 49,
   "id": "b3b03978",
   "metadata": {},
   "outputs": [],
   "source": [
    "embeddings_df = pd.DataFrame(corpus_42['Normalized_Embedding'].tolist())\n"
   ]
  },
  {
   "cell_type": "code",
   "execution_count": 50,
   "id": "1971744c",
   "metadata": {},
   "outputs": [],
   "source": [
    "data_with_dummies = pd.concat([embeddings_df, cpv_42_encoded_df_3, cpv_42_encoded_df_2, cpv_42_encoded_df_1], axis=1)"
   ]
  },
  {
   "cell_type": "code",
   "execution_count": 51,
   "id": "739fd961",
   "metadata": {},
   "outputs": [],
   "source": [
    "data = data_with_dummies.join(corpus_42['Measurability_mean'])"
   ]
  },
  {
   "cell_type": "code",
   "execution_count": 52,
   "id": "b67f7541",
   "metadata": {},
   "outputs": [],
   "source": [
    "data.columns = data.columns.astype(str)"
   ]
  },
  {
   "cell_type": "code",
   "execution_count": 53,
   "id": "a2a371a3",
   "metadata": {},
   "outputs": [],
   "source": [
    "X = data.drop('Measurability_mean', axis=1)\n",
    "y = data['Measurability_mean']"
   ]
  },
  {
   "cell_type": "code",
   "execution_count": 59,
   "id": "1d1a6568",
   "metadata": {},
   "outputs": [],
   "source": [
    "model = SVR()"
   ]
  },
  {
   "cell_type": "code",
   "execution_count": 60,
   "id": "187f6f21",
   "metadata": {},
   "outputs": [],
   "source": [
    "mse_scores = cross_val_score(model, X, y, cv=5, scoring='neg_mean_squared_error')\n",
    "mae_scores = cross_val_score(model, X, y, cv=5, scoring='neg_mean_absolute_error')\n",
    "r2_scores = cross_val_score(model, X, y, cv=5, scoring='r2')"
   ]
  },
  {
   "cell_type": "code",
   "execution_count": 61,
   "id": "7cf03349",
   "metadata": {},
   "outputs": [
    {
     "name": "stdout",
     "output_type": "stream",
     "text": [
      "Mean MSE: 0.017411405614147148\n",
      "Mean MAE: 0.09503278387561949\n",
      "Mean R2: 0.9207175499146553\n"
     ]
    }
   ],
   "source": [
    "print(\"Mean MSE:\", -mse_scores.mean())\n",
    "print(\"Mean MAE:\", -mae_scores.mean())\n",
    "print(\"Mean R2:\", r2_scores.mean())"
   ]
  },
  {
   "cell_type": "code",
   "execution_count": 62,
   "id": "73ba1624",
   "metadata": {},
   "outputs": [
    {
     "data": {
      "text/html": [
       "<style>#sk-container-id-1 {color: black;}#sk-container-id-1 pre{padding: 0;}#sk-container-id-1 div.sk-toggleable {background-color: white;}#sk-container-id-1 label.sk-toggleable__label {cursor: pointer;display: block;width: 100%;margin-bottom: 0;padding: 0.3em;box-sizing: border-box;text-align: center;}#sk-container-id-1 label.sk-toggleable__label-arrow:before {content: \"▸\";float: left;margin-right: 0.25em;color: #696969;}#sk-container-id-1 label.sk-toggleable__label-arrow:hover:before {color: black;}#sk-container-id-1 div.sk-estimator:hover label.sk-toggleable__label-arrow:before {color: black;}#sk-container-id-1 div.sk-toggleable__content {max-height: 0;max-width: 0;overflow: hidden;text-align: left;background-color: #f0f8ff;}#sk-container-id-1 div.sk-toggleable__content pre {margin: 0.2em;color: black;border-radius: 0.25em;background-color: #f0f8ff;}#sk-container-id-1 input.sk-toggleable__control:checked~div.sk-toggleable__content {max-height: 200px;max-width: 100%;overflow: auto;}#sk-container-id-1 input.sk-toggleable__control:checked~label.sk-toggleable__label-arrow:before {content: \"▾\";}#sk-container-id-1 div.sk-estimator input.sk-toggleable__control:checked~label.sk-toggleable__label {background-color: #d4ebff;}#sk-container-id-1 div.sk-label input.sk-toggleable__control:checked~label.sk-toggleable__label {background-color: #d4ebff;}#sk-container-id-1 input.sk-hidden--visually {border: 0;clip: rect(1px 1px 1px 1px);clip: rect(1px, 1px, 1px, 1px);height: 1px;margin: -1px;overflow: hidden;padding: 0;position: absolute;width: 1px;}#sk-container-id-1 div.sk-estimator {font-family: monospace;background-color: #f0f8ff;border: 1px dotted black;border-radius: 0.25em;box-sizing: border-box;margin-bottom: 0.5em;}#sk-container-id-1 div.sk-estimator:hover {background-color: #d4ebff;}#sk-container-id-1 div.sk-parallel-item::after {content: \"\";width: 100%;border-bottom: 1px solid gray;flex-grow: 1;}#sk-container-id-1 div.sk-label:hover label.sk-toggleable__label {background-color: #d4ebff;}#sk-container-id-1 div.sk-serial::before {content: \"\";position: absolute;border-left: 1px solid gray;box-sizing: border-box;top: 0;bottom: 0;left: 50%;z-index: 0;}#sk-container-id-1 div.sk-serial {display: flex;flex-direction: column;align-items: center;background-color: white;padding-right: 0.2em;padding-left: 0.2em;position: relative;}#sk-container-id-1 div.sk-item {position: relative;z-index: 1;}#sk-container-id-1 div.sk-parallel {display: flex;align-items: stretch;justify-content: center;background-color: white;position: relative;}#sk-container-id-1 div.sk-item::before, #sk-container-id-1 div.sk-parallel-item::before {content: \"\";position: absolute;border-left: 1px solid gray;box-sizing: border-box;top: 0;bottom: 0;left: 50%;z-index: -1;}#sk-container-id-1 div.sk-parallel-item {display: flex;flex-direction: column;z-index: 1;position: relative;background-color: white;}#sk-container-id-1 div.sk-parallel-item:first-child::after {align-self: flex-end;width: 50%;}#sk-container-id-1 div.sk-parallel-item:last-child::after {align-self: flex-start;width: 50%;}#sk-container-id-1 div.sk-parallel-item:only-child::after {width: 0;}#sk-container-id-1 div.sk-dashed-wrapped {border: 1px dashed gray;margin: 0 0.4em 0.5em 0.4em;box-sizing: border-box;padding-bottom: 0.4em;background-color: white;}#sk-container-id-1 div.sk-label label {font-family: monospace;font-weight: bold;display: inline-block;line-height: 1.2em;}#sk-container-id-1 div.sk-label-container {text-align: center;}#sk-container-id-1 div.sk-container {/* jupyter's `normalize.less` sets `[hidden] { display: none; }` but bootstrap.min.css set `[hidden] { display: none !important; }` so we also need the `!important` here to be able to override the default hidden behavior on the sphinx rendered scikit-learn.org. See: https://github.com/scikit-learn/scikit-learn/issues/21755 */display: inline-block !important;position: relative;}#sk-container-id-1 div.sk-text-repr-fallback {display: none;}</style><div id=\"sk-container-id-1\" class=\"sk-top-container\"><div class=\"sk-text-repr-fallback\"><pre>SVR()</pre><b>In a Jupyter environment, please rerun this cell to show the HTML representation or trust the notebook. <br />On GitHub, the HTML representation is unable to render, please try loading this page with nbviewer.org.</b></div><div class=\"sk-container\" hidden><div class=\"sk-item\"><div class=\"sk-estimator sk-toggleable\"><input class=\"sk-toggleable__control sk-hidden--visually\" id=\"sk-estimator-id-1\" type=\"checkbox\" checked><label for=\"sk-estimator-id-1\" class=\"sk-toggleable__label sk-toggleable__label-arrow\">SVR</label><div class=\"sk-toggleable__content\"><pre>SVR()</pre></div></div></div></div></div>"
      ],
      "text/plain": [
       "SVR()"
      ]
     },
     "execution_count": 62,
     "metadata": {},
     "output_type": "execute_result"
    }
   ],
   "source": [
    "model.fit(X, y)\n"
   ]
  },
  {
   "cell_type": "code",
   "execution_count": 63,
   "id": "c995ebbb",
   "metadata": {},
   "outputs": [],
   "source": [
    "embeddings_df_18 = pd.DataFrame(corpus_18['Normalized_Embedding'].tolist())\n"
   ]
  },
  {
   "cell_type": "code",
   "execution_count": 64,
   "id": "fa58d2b0",
   "metadata": {},
   "outputs": [],
   "source": [
    "data_with_dummies_18 = pd.concat([embeddings_df_18, cpv_18_encoded_df_3, cpv_18_encoded_df_2, cpv_18_encoded_df_1], axis=1)"
   ]
  },
  {
   "cell_type": "code",
   "execution_count": 65,
   "id": "1768acd1",
   "metadata": {},
   "outputs": [],
   "source": [
    "data_18 = data_with_dummies_18.join(corpus_18['Measurability_mean'])"
   ]
  },
  {
   "cell_type": "code",
   "execution_count": 66,
   "id": "5a4d2350",
   "metadata": {},
   "outputs": [],
   "source": [
    "data_18.columns = data_18.columns.astype(str)"
   ]
  },
  {
   "cell_type": "code",
   "execution_count": 67,
   "id": "194caec2",
   "metadata": {},
   "outputs": [],
   "source": [
    "X_18 = data_18.drop('Measurability_mean', axis=1)"
   ]
  },
  {
   "cell_type": "code",
   "execution_count": 68,
   "id": "fc6380fe",
   "metadata": {},
   "outputs": [],
   "source": [
    "y_18 = data_18['Measurability_mean']"
   ]
  },
  {
   "cell_type": "code",
   "execution_count": 69,
   "id": "a5dd2161",
   "metadata": {},
   "outputs": [],
   "source": [
    "y_pred_18 = model.predict(X_18)"
   ]
  },
  {
   "cell_type": "code",
   "execution_count": 70,
   "id": "85d12c5e",
   "metadata": {},
   "outputs": [],
   "source": [
    "mse_18 = mean_squared_error(y_18, y_pred_18)\n",
    "mae_18 = mean_absolute_error(y_18, y_pred_18)\n",
    "r2_18 = r2_score(y_18, y_pred_18)"
   ]
  },
  {
   "cell_type": "code",
   "execution_count": 71,
   "id": "60dc4d3f",
   "metadata": {},
   "outputs": [
    {
     "name": "stdout",
     "output_type": "stream",
     "text": [
      "Mean Squared Error (MSE) on corpus_18: 0.12981839043452922\n",
      "Mean Absolute Error (MAE) on corpus_18: 0.27332649159967914\n",
      "R^2 Score on corpus_18: 0.1892816743452157\n"
     ]
    }
   ],
   "source": [
    "print(f\"Mean Squared Error (MSE) on corpus_18: {mse_18}\")\n",
    "print(f\"Mean Absolute Error (MAE) on corpus_18: {mae_18}\")\n",
    "print(f\"R^2 Score on corpus_18: {r2_18}\")"
   ]
  },
  {
   "cell_type": "markdown",
   "id": "ee07e725",
   "metadata": {},
   "source": [
    "## Neural Network"
   ]
  },
  {
   "cell_type": "code",
   "execution_count": 85,
   "id": "8d38a5ff",
   "metadata": {},
   "outputs": [],
   "source": [
    "import pandas as pd\n",
    "from sklearn.model_selection import train_test_split\n",
    "from sklearn.preprocessing import StandardScaler\n",
    "from sklearn.neural_network import MLPRegressor\n",
    "from sklearn.metrics import mean_squared_error, mean_absolute_error, r2_score"
   ]
  },
  {
   "cell_type": "code",
   "execution_count": 86,
   "id": "ab90de62",
   "metadata": {},
   "outputs": [],
   "source": [
    "import numpy as np\n",
    "import tensorflow as tf\n",
    "import random\n",
    "\n",
    "np.random.seed(42)\n",
    "random.seed(42)\n",
    "tf.random.set_seed(42)"
   ]
  },
  {
   "cell_type": "code",
   "execution_count": 87,
   "id": "8ffbf754",
   "metadata": {},
   "outputs": [],
   "source": [
    "embeddings_df = pd.DataFrame(corpus_42['Normalized_Embedding'].tolist())\n"
   ]
  },
  {
   "cell_type": "code",
   "execution_count": 88,
   "id": "81e608ae",
   "metadata": {},
   "outputs": [],
   "source": [
    "data_with_dummies = pd.concat([embeddings_df, cpv_42_encoded_df_3, cpv_42_encoded_df_2, cpv_42_encoded_df_1], axis=1)"
   ]
  },
  {
   "cell_type": "code",
   "execution_count": 89,
   "id": "225e560e",
   "metadata": {},
   "outputs": [],
   "source": [
    "data = data_with_dummies.join(corpus_42['Measurability_mean'])"
   ]
  },
  {
   "cell_type": "code",
   "execution_count": 90,
   "id": "12107472",
   "metadata": {},
   "outputs": [],
   "source": [
    "data.columns = data.columns.astype(str)"
   ]
  },
  {
   "cell_type": "code",
   "execution_count": 91,
   "id": "718d26d2",
   "metadata": {},
   "outputs": [],
   "source": [
    "X = data.drop('Measurability_mean', axis=1)\n",
    "y = data['Measurability_mean']"
   ]
  },
  {
   "cell_type": "code",
   "execution_count": 92,
   "id": "94946516",
   "metadata": {},
   "outputs": [],
   "source": [
    "model = MLPRegressor(hidden_layer_sizes=(100,), activation='logistic', solver='adam', max_iter=1000, random_state=42)"
   ]
  },
  {
   "cell_type": "code",
   "execution_count": 93,
   "id": "85d936df",
   "metadata": {},
   "outputs": [],
   "source": [
    "mse_scores = cross_val_score(model, X, y, cv=5, scoring='neg_mean_squared_error')\n",
    "mae_scores = cross_val_score(model, X, y, cv=5, scoring='neg_mean_absolute_error')\n",
    "r2_scores = cross_val_score(model, X, y, cv=5, scoring='r2')"
   ]
  },
  {
   "cell_type": "code",
   "execution_count": 94,
   "id": "9f284346",
   "metadata": {},
   "outputs": [
    {
     "name": "stdout",
     "output_type": "stream",
     "text": [
      "Mean MSE: 0.022970720741027663\n",
      "Mean MAE: 0.09637297333853419\n",
      "Mean R2: 0.8960198697710583\n"
     ]
    }
   ],
   "source": [
    "print(\"Mean MSE:\", -mse_scores.mean())\n",
    "print(\"Mean MAE:\", -mae_scores.mean())\n",
    "print(\"Mean R2:\", r2_scores.mean())"
   ]
  },
  {
   "cell_type": "code",
   "execution_count": 96,
   "id": "a7167f48",
   "metadata": {
    "collapsed": true
   },
   "outputs": [
    {
     "data": {
      "text/html": [
       "<style>#sk-container-id-3 {color: black;}#sk-container-id-3 pre{padding: 0;}#sk-container-id-3 div.sk-toggleable {background-color: white;}#sk-container-id-3 label.sk-toggleable__label {cursor: pointer;display: block;width: 100%;margin-bottom: 0;padding: 0.3em;box-sizing: border-box;text-align: center;}#sk-container-id-3 label.sk-toggleable__label-arrow:before {content: \"▸\";float: left;margin-right: 0.25em;color: #696969;}#sk-container-id-3 label.sk-toggleable__label-arrow:hover:before {color: black;}#sk-container-id-3 div.sk-estimator:hover label.sk-toggleable__label-arrow:before {color: black;}#sk-container-id-3 div.sk-toggleable__content {max-height: 0;max-width: 0;overflow: hidden;text-align: left;background-color: #f0f8ff;}#sk-container-id-3 div.sk-toggleable__content pre {margin: 0.2em;color: black;border-radius: 0.25em;background-color: #f0f8ff;}#sk-container-id-3 input.sk-toggleable__control:checked~div.sk-toggleable__content {max-height: 200px;max-width: 100%;overflow: auto;}#sk-container-id-3 input.sk-toggleable__control:checked~label.sk-toggleable__label-arrow:before {content: \"▾\";}#sk-container-id-3 div.sk-estimator input.sk-toggleable__control:checked~label.sk-toggleable__label {background-color: #d4ebff;}#sk-container-id-3 div.sk-label input.sk-toggleable__control:checked~label.sk-toggleable__label {background-color: #d4ebff;}#sk-container-id-3 input.sk-hidden--visually {border: 0;clip: rect(1px 1px 1px 1px);clip: rect(1px, 1px, 1px, 1px);height: 1px;margin: -1px;overflow: hidden;padding: 0;position: absolute;width: 1px;}#sk-container-id-3 div.sk-estimator {font-family: monospace;background-color: #f0f8ff;border: 1px dotted black;border-radius: 0.25em;box-sizing: border-box;margin-bottom: 0.5em;}#sk-container-id-3 div.sk-estimator:hover {background-color: #d4ebff;}#sk-container-id-3 div.sk-parallel-item::after {content: \"\";width: 100%;border-bottom: 1px solid gray;flex-grow: 1;}#sk-container-id-3 div.sk-label:hover label.sk-toggleable__label {background-color: #d4ebff;}#sk-container-id-3 div.sk-serial::before {content: \"\";position: absolute;border-left: 1px solid gray;box-sizing: border-box;top: 0;bottom: 0;left: 50%;z-index: 0;}#sk-container-id-3 div.sk-serial {display: flex;flex-direction: column;align-items: center;background-color: white;padding-right: 0.2em;padding-left: 0.2em;position: relative;}#sk-container-id-3 div.sk-item {position: relative;z-index: 1;}#sk-container-id-3 div.sk-parallel {display: flex;align-items: stretch;justify-content: center;background-color: white;position: relative;}#sk-container-id-3 div.sk-item::before, #sk-container-id-3 div.sk-parallel-item::before {content: \"\";position: absolute;border-left: 1px solid gray;box-sizing: border-box;top: 0;bottom: 0;left: 50%;z-index: -1;}#sk-container-id-3 div.sk-parallel-item {display: flex;flex-direction: column;z-index: 1;position: relative;background-color: white;}#sk-container-id-3 div.sk-parallel-item:first-child::after {align-self: flex-end;width: 50%;}#sk-container-id-3 div.sk-parallel-item:last-child::after {align-self: flex-start;width: 50%;}#sk-container-id-3 div.sk-parallel-item:only-child::after {width: 0;}#sk-container-id-3 div.sk-dashed-wrapped {border: 1px dashed gray;margin: 0 0.4em 0.5em 0.4em;box-sizing: border-box;padding-bottom: 0.4em;background-color: white;}#sk-container-id-3 div.sk-label label {font-family: monospace;font-weight: bold;display: inline-block;line-height: 1.2em;}#sk-container-id-3 div.sk-label-container {text-align: center;}#sk-container-id-3 div.sk-container {/* jupyter's `normalize.less` sets `[hidden] { display: none; }` but bootstrap.min.css set `[hidden] { display: none !important; }` so we also need the `!important` here to be able to override the default hidden behavior on the sphinx rendered scikit-learn.org. See: https://github.com/scikit-learn/scikit-learn/issues/21755 */display: inline-block !important;position: relative;}#sk-container-id-3 div.sk-text-repr-fallback {display: none;}</style><div id=\"sk-container-id-3\" class=\"sk-top-container\"><div class=\"sk-text-repr-fallback\"><pre>MLPRegressor(activation=&#x27;logistic&#x27;, max_iter=1000, random_state=42)</pre><b>In a Jupyter environment, please rerun this cell to show the HTML representation or trust the notebook. <br />On GitHub, the HTML representation is unable to render, please try loading this page with nbviewer.org.</b></div><div class=\"sk-container\" hidden><div class=\"sk-item\"><div class=\"sk-estimator sk-toggleable\"><input class=\"sk-toggleable__control sk-hidden--visually\" id=\"sk-estimator-id-3\" type=\"checkbox\" checked><label for=\"sk-estimator-id-3\" class=\"sk-toggleable__label sk-toggleable__label-arrow\">MLPRegressor</label><div class=\"sk-toggleable__content\"><pre>MLPRegressor(activation=&#x27;logistic&#x27;, max_iter=1000, random_state=42)</pre></div></div></div></div></div>"
      ],
      "text/plain": [
       "MLPRegressor(activation='logistic', max_iter=1000, random_state=42)"
      ]
     },
     "execution_count": 96,
     "metadata": {},
     "output_type": "execute_result"
    }
   ],
   "source": [
    "model.fit(X, y)"
   ]
  },
  {
   "cell_type": "code",
   "execution_count": 97,
   "id": "f3910711",
   "metadata": {},
   "outputs": [],
   "source": [
    "embeddings_df_18 = pd.DataFrame(corpus_18['Normalized_Embedding'].tolist())"
   ]
  },
  {
   "cell_type": "code",
   "execution_count": 98,
   "id": "0e933478",
   "metadata": {},
   "outputs": [],
   "source": [
    "data_with_dummies_18 = pd.concat([embeddings_df_18, cpv_18_encoded_df_3, cpv_18_encoded_df_2, cpv_18_encoded_df_1], axis=1)"
   ]
  },
  {
   "cell_type": "code",
   "execution_count": 99,
   "id": "dc41de42",
   "metadata": {},
   "outputs": [],
   "source": [
    "data_18 = data_with_dummies_18.join(corpus_18['Measurability_mean'])"
   ]
  },
  {
   "cell_type": "code",
   "execution_count": 100,
   "id": "eb1424f7",
   "metadata": {},
   "outputs": [],
   "source": [
    "data_18.columns = data_18.columns.astype(str)"
   ]
  },
  {
   "cell_type": "code",
   "execution_count": 101,
   "id": "6ee867e2",
   "metadata": {},
   "outputs": [],
   "source": [
    "X_18 = data_18.drop('Measurability_mean', axis=1)"
   ]
  },
  {
   "cell_type": "code",
   "execution_count": 102,
   "id": "a757fbc0",
   "metadata": {},
   "outputs": [],
   "source": [
    "y_18 = data_18['Measurability_mean']"
   ]
  },
  {
   "cell_type": "code",
   "execution_count": 103,
   "id": "c3b7013c",
   "metadata": {},
   "outputs": [],
   "source": [
    "y_pred_18 = model.predict(X_18)"
   ]
  },
  {
   "cell_type": "code",
   "execution_count": 104,
   "id": "b494e9d8",
   "metadata": {},
   "outputs": [],
   "source": [
    "mse_18 = mean_squared_error(y_18, y_pred_18)\n",
    "mae_18 = mean_absolute_error(y_18, y_pred_18)\n",
    "r2_18 = r2_score(y_18, y_pred_18)"
   ]
  },
  {
   "cell_type": "code",
   "execution_count": 105,
   "id": "61ad65ea",
   "metadata": {},
   "outputs": [
    {
     "name": "stdout",
     "output_type": "stream",
     "text": [
      "Mean Squared Error (MSE) on corpus_18: 0.13234059710025803\n",
      "Mean Absolute Error (MAE) on corpus_18: 0.27485314912206843\n",
      "R^2 Score on corpus_18: 0.1735304455851716\n"
     ]
    }
   ],
   "source": [
    "print(f\"Mean Squared Error (MSE) on corpus_18: {mse_18}\")\n",
    "print(f\"Mean Absolute Error (MAE) on corpus_18: {mae_18}\")\n",
    "print(f\"R^2 Score on corpus_18: {r2_18}\")"
   ]
  },
  {
   "cell_type": "markdown",
   "id": "b0d084c6",
   "metadata": {},
   "source": [
    "## 2.2 Support Vector Machine adjustment"
   ]
  },
  {
   "cell_type": "code",
   "execution_count": 1,
   "id": "b11843a1",
   "metadata": {
    "collapsed": true
   },
   "outputs": [
    {
     "name": "stderr",
     "output_type": "stream",
     "text": [
      "[nltk_data] Downloading package punkt to\n",
      "[nltk_data]     C:\\Users\\blunds\\AppData\\Roaming\\nltk_data...\n",
      "[nltk_data]   Package punkt is already up-to-date!\n"
     ]
    }
   ],
   "source": [
    "import pandas as pd\n",
    "import nltk\n",
    "nltk.download('punkt')\n",
    "import re \n",
    "from nltk.tokenize import sent_tokenize\n",
    "from nltk.tokenize import word_tokenize\n",
    "\n",
    "import os\n",
    "\n",
    "import json\n",
    "\n",
    "from nltk.corpus import stopwords\n",
    "import lemmy\n",
    "import textract\n",
    "import pickle\n",
    "import numpy as np"
   ]
  },
  {
   "cell_type": "markdown",
   "id": "4fd390be",
   "metadata": {},
   "source": [
    "## Loading data"
   ]
  },
  {
   "cell_type": "code",
   "execution_count": 2,
   "id": "45079405",
   "metadata": {},
   "outputs": [],
   "source": [
    "corpus_42 = pd.read_pickle(\"corpus_42_final.pkl\")"
   ]
  },
  {
   "cell_type": "code",
   "execution_count": 3,
   "id": "963ac3ad",
   "metadata": {},
   "outputs": [],
   "source": [
    "corpus_18 = pd.read_pickle(\"corpus_18_final.pkl\")"
   ]
  },
  {
   "cell_type": "code",
   "execution_count": 4,
   "id": "5a2b1f10",
   "metadata": {},
   "outputs": [
    {
     "data": {
      "text/html": [
       "<div>\n",
       "<style scoped>\n",
       "    .dataframe tbody tr th:only-of-type {\n",
       "        vertical-align: middle;\n",
       "    }\n",
       "\n",
       "    .dataframe tbody tr th {\n",
       "        vertical-align: top;\n",
       "    }\n",
       "\n",
       "    .dataframe thead th {\n",
       "        text-align: right;\n",
       "    }\n",
       "</style>\n",
       "<table border=\"1\" class=\"dataframe\">\n",
       "  <thead>\n",
       "    <tr style=\"text-align: right;\">\n",
       "      <th></th>\n",
       "      <th>doc_id</th>\n",
       "      <th>contract_type_code</th>\n",
       "      <th>Product_60codes</th>\n",
       "      <th>Measurability_mean</th>\n",
       "      <th>Asset_specificity_mean</th>\n",
       "      <th>Manuel_or_not</th>\n",
       "      <th>product_description_binary</th>\n",
       "      <th>CPVcodes_2digit</th>\n",
       "      <th>CPVcodes_3digit</th>\n",
       "      <th>clean_text</th>\n",
       "      <th>Embedding</th>\n",
       "      <th>Normalized_Embedding</th>\n",
       "      <th>Normalized_Embedding_mean</th>\n",
       "    </tr>\n",
       "  </thead>\n",
       "  <tbody>\n",
       "    <tr>\n",
       "      <th>0</th>\n",
       "      <td>0000-008404</td>\n",
       "      <td>1</td>\n",
       "      <td>37</td>\n",
       "      <td>2.620000</td>\n",
       "      <td>2.272727</td>\n",
       "      <td>not</td>\n",
       "      <td>Yes</td>\n",
       "      <td>44</td>\n",
       "      <td>441</td>\n",
       "      <td>- nedtagning og bortkørelse af eksist. tagplad...</td>\n",
       "      <td>[0.03106328, -0.03935687, -0.013459226, 0.0129...</td>\n",
       "      <td>[0.03094654800758096, -0.03920897171461362, -0...</td>\n",
       "      <td>[0.02489573881306392, -0.04187234206775942, -0...</td>\n",
       "    </tr>\n",
       "    <tr>\n",
       "      <th>1</th>\n",
       "      <td>0000-008761</td>\n",
       "      <td>2</td>\n",
       "      <td>58</td>\n",
       "      <td>2.676768</td>\n",
       "      <td>2.710843</td>\n",
       "      <td>not</td>\n",
       "      <td>Yes</td>\n",
       "      <td>33</td>\n",
       "      <td>331</td>\n",
       "      <td>auh q02 h1 e02 s2 n02 eksisterne forhold lav t...</td>\n",
       "      <td>[0.010536981, -0.018840395, -0.00898971, 0.019...</td>\n",
       "      <td>[0.010553398240196509, -0.018869749450777892, ...</td>\n",
       "      <td>[0.008020402785488632, -0.033835261320993994, ...</td>\n",
       "    </tr>\n",
       "    <tr>\n",
       "      <th>2</th>\n",
       "      <td>0000-008790</td>\n",
       "      <td>2</td>\n",
       "      <td>50</td>\n",
       "      <td>2.574257</td>\n",
       "      <td>2.716049</td>\n",
       "      <td>not</td>\n",
       "      <td>Yes</td>\n",
       "      <td>35</td>\n",
       "      <td>351</td>\n",
       "      <td>bilag 1 kravspecifikation vi ønsker at indkøbe...</td>\n",
       "      <td>[0.013917757, -0.0545031, -0.0040278393, 0.002...</td>\n",
       "      <td>[0.013917756410740946, -0.05450309769241228, -...</td>\n",
       "      <td>[0.013917756410740946, -0.05450309769241228, -...</td>\n",
       "    </tr>\n",
       "    <tr>\n",
       "      <th>3</th>\n",
       "      <td>0000-008871</td>\n",
       "      <td>2</td>\n",
       "      <td>50</td>\n",
       "      <td>2.574257</td>\n",
       "      <td>2.716049</td>\n",
       "      <td>not</td>\n",
       "      <td>Yes</td>\n",
       "      <td>35</td>\n",
       "      <td>351</td>\n",
       "      <td>demand specification the sensors must be able ...</td>\n",
       "      <td>[0.008390237, 0.024996884, 0.0026603707, -0.00...</td>\n",
       "      <td>[0.008390237145836444, 0.024996884434487925, 0...</td>\n",
       "      <td>[0.008390237145836444, 0.024996884434487925, 0...</td>\n",
       "    </tr>\n",
       "    <tr>\n",
       "      <th>4</th>\n",
       "      <td>001936-2021</td>\n",
       "      <td>4</td>\n",
       "      <td>6</td>\n",
       "      <td>3.450549</td>\n",
       "      <td>2.961039</td>\n",
       "      <td>not</td>\n",
       "      <td>Yes</td>\n",
       "      <td>85</td>\n",
       "      <td>851</td>\n",
       "      <td>3.3.1 autorisationer skal angive i hvilket omf...</td>\n",
       "      <td>[0.015264984, -0.050398123, -0.015983956, 0.01...</td>\n",
       "      <td>[0.015264984321138807, -0.05039812406025615, -...</td>\n",
       "      <td>[0.015264984321138807, -0.05039812406025615, -...</td>\n",
       "    </tr>\n",
       "  </tbody>\n",
       "</table>\n",
       "</div>"
      ],
      "text/plain": [
       "        doc_id  contract_type_code  Product_60codes  Measurability_mean  \\\n",
       "0  0000-008404                   1               37            2.620000   \n",
       "1  0000-008761                   2               58            2.676768   \n",
       "2  0000-008790                   2               50            2.574257   \n",
       "3  0000-008871                   2               50            2.574257   \n",
       "4  001936-2021                   4                6            3.450549   \n",
       "\n",
       "   Asset_specificity_mean Manuel_or_not product_description_binary  \\\n",
       "0                2.272727           not                        Yes   \n",
       "1                2.710843           not                        Yes   \n",
       "2                2.716049           not                        Yes   \n",
       "3                2.716049           not                        Yes   \n",
       "4                2.961039           not                        Yes   \n",
       "\n",
       "   CPVcodes_2digit  CPVcodes_3digit  \\\n",
       "0               44              441   \n",
       "1               33              331   \n",
       "2               35              351   \n",
       "3               35              351   \n",
       "4               85              851   \n",
       "\n",
       "                                          clean_text  \\\n",
       "0  - nedtagning og bortkørelse af eksist. tagplad...   \n",
       "1  auh q02 h1 e02 s2 n02 eksisterne forhold lav t...   \n",
       "2  bilag 1 kravspecifikation vi ønsker at indkøbe...   \n",
       "3  demand specification the sensors must be able ...   \n",
       "4  3.3.1 autorisationer skal angive i hvilket omf...   \n",
       "\n",
       "                                           Embedding  \\\n",
       "0  [0.03106328, -0.03935687, -0.013459226, 0.0129...   \n",
       "1  [0.010536981, -0.018840395, -0.00898971, 0.019...   \n",
       "2  [0.013917757, -0.0545031, -0.0040278393, 0.002...   \n",
       "3  [0.008390237, 0.024996884, 0.0026603707, -0.00...   \n",
       "4  [0.015264984, -0.050398123, -0.015983956, 0.01...   \n",
       "\n",
       "                                Normalized_Embedding  \\\n",
       "0  [0.03094654800758096, -0.03920897171461362, -0...   \n",
       "1  [0.010553398240196509, -0.018869749450777892, ...   \n",
       "2  [0.013917756410740946, -0.05450309769241228, -...   \n",
       "3  [0.008390237145836444, 0.024996884434487925, 0...   \n",
       "4  [0.015264984321138807, -0.05039812406025615, -...   \n",
       "\n",
       "                           Normalized_Embedding_mean  \n",
       "0  [0.02489573881306392, -0.04187234206775942, -0...  \n",
       "1  [0.008020402785488632, -0.033835261320993994, ...  \n",
       "2  [0.013917756410740946, -0.05450309769241228, -...  \n",
       "3  [0.008390237145836444, 0.024996884434487925, 0...  \n",
       "4  [0.015264984321138807, -0.05039812406025615, -...  "
      ]
     },
     "execution_count": 4,
     "metadata": {},
     "output_type": "execute_result"
    }
   ],
   "source": [
    "corpus_18.head()"
   ]
  },
  {
   "cell_type": "markdown",
   "id": "6c1ef2ec",
   "metadata": {},
   "source": [
    "### Creating  CPVcodes_1digit"
   ]
  },
  {
   "cell_type": "code",
   "execution_count": 6,
   "id": "de53a1bd",
   "metadata": {},
   "outputs": [],
   "source": [
    "corpus_42['CPVcodes_2digit'] = corpus_42['CPVcodes_2digit'].astype(str).apply(lambda x: x.zfill(2))\n"
   ]
  },
  {
   "cell_type": "code",
   "execution_count": 7,
   "id": "103e50ff",
   "metadata": {},
   "outputs": [],
   "source": [
    "corpus_18['CPVcodes_2digit'] = corpus_18['CPVcodes_2digit'].astype(str).apply(lambda x: x.zfill(2))\n"
   ]
  },
  {
   "cell_type": "code",
   "execution_count": 8,
   "id": "44aca2d6",
   "metadata": {},
   "outputs": [],
   "source": [
    "corpus_42['CPVcodes_1digit'] = corpus_42['CPVcodes_2digit'].astype(str).str[0]\n",
    "corpus_18['CPVcodes_1digit'] = corpus_18['CPVcodes_2digit'].astype(str).str[0]\n"
   ]
  },
  {
   "cell_type": "code",
   "execution_count": 9,
   "id": "f6dba96d",
   "metadata": {},
   "outputs": [],
   "source": [
    "corpus_42['CPVcodes_1digit'] = corpus_42['CPVcodes_1digit'].astype(int)\n",
    "corpus_18['CPVcodes_1digit'] = corpus_18['CPVcodes_1digit'].astype(int)\n"
   ]
  },
  {
   "cell_type": "markdown",
   "id": "1e263e97",
   "metadata": {},
   "source": [
    "#### Endocding CPVcodes_1digit"
   ]
  },
  {
   "cell_type": "code",
   "execution_count": 318,
   "id": "64f176d0",
   "metadata": {},
   "outputs": [],
   "source": [
    "from sklearn.preprocessing import OneHotEncoder\n",
    "import pandas as pd\n"
   ]
  },
  {
   "cell_type": "code",
   "execution_count": 319,
   "id": "839f45eb",
   "metadata": {},
   "outputs": [],
   "source": [
    "corpus_42['CPVcodes_1digit_str'] = corpus_42['CPVcodes_1digit'].astype(str)\n",
    "corpus_18['CPVcodes_1digit_str'] = corpus_18['CPVcodes_1digit'].astype(str)"
   ]
  },
  {
   "cell_type": "code",
   "execution_count": 320,
   "id": "4e57da39",
   "metadata": {},
   "outputs": [],
   "source": [
    "all_cpv_codes_str = pd.concat([corpus_42['CPVcodes_1digit_str'], corpus_18['CPVcodes_1digit_str']]).unique()"
   ]
  },
  {
   "cell_type": "code",
   "execution_count": 321,
   "id": "36e24b63",
   "metadata": {},
   "outputs": [],
   "source": [
    "encoder = OneHotEncoder(categories=[all_cpv_codes_str], handle_unknown='ignore')"
   ]
  },
  {
   "cell_type": "code",
   "execution_count": 322,
   "id": "9afc1483",
   "metadata": {},
   "outputs": [],
   "source": [
    "cpv_42_encoded_1 = encoder.fit_transform(corpus_42[['CPVcodes_1digit_str']]).toarray()"
   ]
  },
  {
   "cell_type": "code",
   "execution_count": 323,
   "id": "19adbee3",
   "metadata": {},
   "outputs": [],
   "source": [
    "cpv_18_encoded_1 = encoder.transform(corpus_18[['CPVcodes_1digit_str']]).toarray()"
   ]
  },
  {
   "cell_type": "code",
   "execution_count": 324,
   "id": "564e3fc4",
   "metadata": {},
   "outputs": [],
   "source": [
    "cpv_42_encoded_df_1 = pd.DataFrame(cpv_42_encoded_1, index=corpus_42.index)"
   ]
  },
  {
   "cell_type": "code",
   "execution_count": 325,
   "id": "68a1b71f",
   "metadata": {},
   "outputs": [],
   "source": [
    "cpv_18_encoded_df_1 = pd.DataFrame(cpv_18_encoded_1, index=corpus_18.index)"
   ]
  },
  {
   "cell_type": "markdown",
   "id": "9b55c031",
   "metadata": {},
   "source": [
    "#### Endocding CPVcodes_2digit"
   ]
  },
  {
   "cell_type": "code",
   "execution_count": 215,
   "id": "988599dc",
   "metadata": {},
   "outputs": [],
   "source": [
    "from sklearn.preprocessing import OneHotEncoder\n",
    "import pandas as pd\n"
   ]
  },
  {
   "cell_type": "code",
   "execution_count": 216,
   "id": "bb94c887",
   "metadata": {},
   "outputs": [],
   "source": [
    "corpus_42['CPVcodes_2digit_str'] = corpus_42['CPVcodes_2digit'].astype(str)\n",
    "corpus_18['CPVcodes_2digit_str'] = corpus_18['CPVcodes_2digit'].astype(str)"
   ]
  },
  {
   "cell_type": "code",
   "execution_count": 217,
   "id": "c98d742a",
   "metadata": {},
   "outputs": [],
   "source": [
    "all_cpv_codes_str = pd.concat([corpus_42['CPVcodes_2digit_str'], corpus_18['CPVcodes_2digit_str']]).unique()"
   ]
  },
  {
   "cell_type": "code",
   "execution_count": 218,
   "id": "e8906e92",
   "metadata": {},
   "outputs": [],
   "source": [
    "encoder = OneHotEncoder(categories=[all_cpv_codes_str], handle_unknown='ignore')"
   ]
  },
  {
   "cell_type": "code",
   "execution_count": 219,
   "id": "c8594301",
   "metadata": {},
   "outputs": [],
   "source": [
    "cpv_42_encoded_2 = encoder.fit_transform(corpus_42[['CPVcodes_2digit_str']]).toarray()"
   ]
  },
  {
   "cell_type": "code",
   "execution_count": 220,
   "id": "02c4c5e9",
   "metadata": {},
   "outputs": [],
   "source": [
    "cpv_18_encoded_2 = encoder.transform(corpus_18[['CPVcodes_2digit_str']]).toarray()"
   ]
  },
  {
   "cell_type": "code",
   "execution_count": 221,
   "id": "c7d7f88a",
   "metadata": {},
   "outputs": [],
   "source": [
    "cpv_42_encoded_df_2 = pd.DataFrame(cpv_42_encoded_2, index=corpus_42.index)"
   ]
  },
  {
   "cell_type": "code",
   "execution_count": 222,
   "id": "da3ee67f",
   "metadata": {},
   "outputs": [],
   "source": [
    "cpv_18_encoded_df_2 = pd.DataFrame(cpv_18_encoded_2, index=corpus_18.index)"
   ]
  },
  {
   "cell_type": "markdown",
   "id": "1d64a53d",
   "metadata": {},
   "source": [
    "#### Endocding CPVcodes_3digit"
   ]
  },
  {
   "cell_type": "code",
   "execution_count": 223,
   "id": "fa05319d",
   "metadata": {},
   "outputs": [],
   "source": [
    "from sklearn.preprocessing import OneHotEncoder\n",
    "import pandas as pd\n"
   ]
  },
  {
   "cell_type": "code",
   "execution_count": 224,
   "id": "66762c08",
   "metadata": {},
   "outputs": [],
   "source": [
    "corpus_42['CPVcodes_3digit_str'] = corpus_42['CPVcodes_3digit'].astype(str)\n",
    "corpus_18['CPVcodes_3digit_str'] = corpus_18['CPVcodes_3digit'].astype(str)"
   ]
  },
  {
   "cell_type": "code",
   "execution_count": 225,
   "id": "aa75890d",
   "metadata": {},
   "outputs": [],
   "source": [
    "all_cpv_codes_str = pd.concat([corpus_42['CPVcodes_3digit_str'], corpus_18['CPVcodes_3digit_str']]).unique()"
   ]
  },
  {
   "cell_type": "code",
   "execution_count": 226,
   "id": "c8b54aab",
   "metadata": {},
   "outputs": [],
   "source": [
    "encoder = OneHotEncoder(categories=[all_cpv_codes_str], handle_unknown='ignore')"
   ]
  },
  {
   "cell_type": "code",
   "execution_count": 227,
   "id": "02bd4d0f",
   "metadata": {},
   "outputs": [],
   "source": [
    "cpv_42_encoded_3 = encoder.fit_transform(corpus_42[['CPVcodes_3digit_str']]).toarray()"
   ]
  },
  {
   "cell_type": "code",
   "execution_count": 228,
   "id": "d3285ef0",
   "metadata": {},
   "outputs": [],
   "source": [
    "cpv_18_encoded_3 = encoder.transform(corpus_18[['CPVcodes_3digit_str']]).toarray()"
   ]
  },
  {
   "cell_type": "code",
   "execution_count": 229,
   "id": "970aaff3",
   "metadata": {},
   "outputs": [],
   "source": [
    "cpv_42_encoded_df_3 = pd.DataFrame(cpv_42_encoded_3, index=corpus_42.index)"
   ]
  },
  {
   "cell_type": "code",
   "execution_count": 230,
   "id": "15e204ca",
   "metadata": {},
   "outputs": [],
   "source": [
    "cpv_18_encoded_df_3 = pd.DataFrame(cpv_18_encoded_3, index=corpus_18.index)"
   ]
  },
  {
   "cell_type": "markdown",
   "id": "2a935a7b",
   "metadata": {},
   "source": [
    "#### Endocding contract_type_code"
   ]
  },
  {
   "cell_type": "code",
   "execution_count": 231,
   "id": "fd34c108",
   "metadata": {},
   "outputs": [],
   "source": [
    "contract_type_dummies = pd.get_dummies(corpus_42['contract_type_code'], prefix='contract_type')"
   ]
  },
  {
   "cell_type": "code",
   "execution_count": 232,
   "id": "4d95f2f7",
   "metadata": {},
   "outputs": [],
   "source": [
    "contract_type_dummies_18 = pd.get_dummies(corpus_18['contract_type_code'], prefix='contract_type')"
   ]
  },
  {
   "cell_type": "markdown",
   "id": "6e042d99",
   "metadata": {},
   "source": [
    "# Measurability_mean"
   ]
  },
  {
   "cell_type": "markdown",
   "id": "a0c303f2",
   "metadata": {},
   "source": [
    "## Support Vector Machine"
   ]
  },
  {
   "cell_type": "code",
   "execution_count": 14,
   "id": "abba4415",
   "metadata": {},
   "outputs": [],
   "source": [
    "import pandas as pd\n",
    "from sklearn.model_selection import train_test_split\n",
    "from sklearn.svm import SVR\n",
    "from sklearn.metrics import mean_squared_error, mean_absolute_error, r2_score"
   ]
  },
  {
   "cell_type": "code",
   "execution_count": 327,
   "id": "b5552c21",
   "metadata": {},
   "outputs": [],
   "source": [
    "embeddings_df = pd.DataFrame(corpus_42['Normalized_Embedding'].tolist())"
   ]
  },
  {
   "cell_type": "code",
   "execution_count": 328,
   "id": "c3f00f8e",
   "metadata": {},
   "outputs": [],
   "source": [
    "data_with_dummies = pd.concat([embeddings_df, cpv_42_encoded_df_2, cpv_42_encoded_df_1, cpv_42_encoded_df_3, contract_type_dummies], axis=1)"
   ]
  },
  {
   "cell_type": "code",
   "execution_count": 329,
   "id": "79af7015",
   "metadata": {},
   "outputs": [],
   "source": [
    "data = data_with_dummies.join(corpus_42['Measurability_mean'])"
   ]
  },
  {
   "cell_type": "code",
   "execution_count": 330,
   "id": "00f623c2",
   "metadata": {},
   "outputs": [],
   "source": [
    "data.columns = data.columns.astype(str)"
   ]
  },
  {
   "cell_type": "code",
   "execution_count": 331,
   "id": "8a56d5fe",
   "metadata": {},
   "outputs": [],
   "source": [
    "X = data.drop('Measurability_mean', axis=1)\n",
    "y = data['Measurability_mean']\n"
   ]
  },
  {
   "cell_type": "code",
   "execution_count": 332,
   "id": "c82f79d2",
   "metadata": {},
   "outputs": [],
   "source": [
    "X_train, X_test, y_train, y_test = train_test_split(X, y, test_size=0.3, random_state=42)\n"
   ]
  },
  {
   "cell_type": "code",
   "execution_count": 333,
   "id": "38f806ca",
   "metadata": {},
   "outputs": [],
   "source": [
    "model_svm_rbf = SVR(kernel='rbf')"
   ]
  },
  {
   "cell_type": "code",
   "execution_count": 338,
   "id": "84ad4c85",
   "metadata": {},
   "outputs": [
    {
     "data": {
      "text/html": [
       "<style>#sk-container-id-10 {color: black;}#sk-container-id-10 pre{padding: 0;}#sk-container-id-10 div.sk-toggleable {background-color: white;}#sk-container-id-10 label.sk-toggleable__label {cursor: pointer;display: block;width: 100%;margin-bottom: 0;padding: 0.3em;box-sizing: border-box;text-align: center;}#sk-container-id-10 label.sk-toggleable__label-arrow:before {content: \"▸\";float: left;margin-right: 0.25em;color: #696969;}#sk-container-id-10 label.sk-toggleable__label-arrow:hover:before {color: black;}#sk-container-id-10 div.sk-estimator:hover label.sk-toggleable__label-arrow:before {color: black;}#sk-container-id-10 div.sk-toggleable__content {max-height: 0;max-width: 0;overflow: hidden;text-align: left;background-color: #f0f8ff;}#sk-container-id-10 div.sk-toggleable__content pre {margin: 0.2em;color: black;border-radius: 0.25em;background-color: #f0f8ff;}#sk-container-id-10 input.sk-toggleable__control:checked~div.sk-toggleable__content {max-height: 200px;max-width: 100%;overflow: auto;}#sk-container-id-10 input.sk-toggleable__control:checked~label.sk-toggleable__label-arrow:before {content: \"▾\";}#sk-container-id-10 div.sk-estimator input.sk-toggleable__control:checked~label.sk-toggleable__label {background-color: #d4ebff;}#sk-container-id-10 div.sk-label input.sk-toggleable__control:checked~label.sk-toggleable__label {background-color: #d4ebff;}#sk-container-id-10 input.sk-hidden--visually {border: 0;clip: rect(1px 1px 1px 1px);clip: rect(1px, 1px, 1px, 1px);height: 1px;margin: -1px;overflow: hidden;padding: 0;position: absolute;width: 1px;}#sk-container-id-10 div.sk-estimator {font-family: monospace;background-color: #f0f8ff;border: 1px dotted black;border-radius: 0.25em;box-sizing: border-box;margin-bottom: 0.5em;}#sk-container-id-10 div.sk-estimator:hover {background-color: #d4ebff;}#sk-container-id-10 div.sk-parallel-item::after {content: \"\";width: 100%;border-bottom: 1px solid gray;flex-grow: 1;}#sk-container-id-10 div.sk-label:hover label.sk-toggleable__label {background-color: #d4ebff;}#sk-container-id-10 div.sk-serial::before {content: \"\";position: absolute;border-left: 1px solid gray;box-sizing: border-box;top: 0;bottom: 0;left: 50%;z-index: 0;}#sk-container-id-10 div.sk-serial {display: flex;flex-direction: column;align-items: center;background-color: white;padding-right: 0.2em;padding-left: 0.2em;position: relative;}#sk-container-id-10 div.sk-item {position: relative;z-index: 1;}#sk-container-id-10 div.sk-parallel {display: flex;align-items: stretch;justify-content: center;background-color: white;position: relative;}#sk-container-id-10 div.sk-item::before, #sk-container-id-10 div.sk-parallel-item::before {content: \"\";position: absolute;border-left: 1px solid gray;box-sizing: border-box;top: 0;bottom: 0;left: 50%;z-index: -1;}#sk-container-id-10 div.sk-parallel-item {display: flex;flex-direction: column;z-index: 1;position: relative;background-color: white;}#sk-container-id-10 div.sk-parallel-item:first-child::after {align-self: flex-end;width: 50%;}#sk-container-id-10 div.sk-parallel-item:last-child::after {align-self: flex-start;width: 50%;}#sk-container-id-10 div.sk-parallel-item:only-child::after {width: 0;}#sk-container-id-10 div.sk-dashed-wrapped {border: 1px dashed gray;margin: 0 0.4em 0.5em 0.4em;box-sizing: border-box;padding-bottom: 0.4em;background-color: white;}#sk-container-id-10 div.sk-label label {font-family: monospace;font-weight: bold;display: inline-block;line-height: 1.2em;}#sk-container-id-10 div.sk-label-container {text-align: center;}#sk-container-id-10 div.sk-container {/* jupyter's `normalize.less` sets `[hidden] { display: none; }` but bootstrap.min.css set `[hidden] { display: none !important; }` so we also need the `!important` here to be able to override the default hidden behavior on the sphinx rendered scikit-learn.org. See: https://github.com/scikit-learn/scikit-learn/issues/21755 */display: inline-block !important;position: relative;}#sk-container-id-10 div.sk-text-repr-fallback {display: none;}</style><div id=\"sk-container-id-10\" class=\"sk-top-container\"><div class=\"sk-text-repr-fallback\"><pre>SVR()</pre><b>In a Jupyter environment, please rerun this cell to show the HTML representation or trust the notebook. <br />On GitHub, the HTML representation is unable to render, please try loading this page with nbviewer.org.</b></div><div class=\"sk-container\" hidden><div class=\"sk-item\"><div class=\"sk-estimator sk-toggleable\"><input class=\"sk-toggleable__control sk-hidden--visually\" id=\"sk-estimator-id-10\" type=\"checkbox\" checked><label for=\"sk-estimator-id-10\" class=\"sk-toggleable__label sk-toggleable__label-arrow\">SVR</label><div class=\"sk-toggleable__content\"><pre>SVR()</pre></div></div></div></div></div>"
      ],
      "text/plain": [
       "SVR()"
      ]
     },
     "execution_count": 338,
     "metadata": {},
     "output_type": "execute_result"
    }
   ],
   "source": [
    "model_svm_rbf.fit(X_train, y_train)\n"
   ]
  },
  {
   "cell_type": "code",
   "execution_count": 339,
   "id": "95d8b9c3",
   "metadata": {},
   "outputs": [],
   "source": [
    "y_pred_svm_rbf = model_svm_rbf.predict(X_test)"
   ]
  },
  {
   "cell_type": "code",
   "execution_count": 340,
   "id": "c6817548",
   "metadata": {},
   "outputs": [],
   "source": [
    "mse_svm_rbf = mean_squared_error(y_test, y_pred_svm_rbf)\n",
    "mae_svm_rbf = mean_absolute_error(y_test, y_pred_svm_rbf)\n",
    "r2_svm_rbf = r2_score(y_test, y_pred_svm_rbf)"
   ]
  },
  {
   "cell_type": "code",
   "execution_count": 341,
   "id": "8f7d9990",
   "metadata": {},
   "outputs": [
    {
     "name": "stdout",
     "output_type": "stream",
     "text": [
      "Mean Squared Error (MSE): 0.021582822232002193\n",
      "Mean Absolute Error (MAE): 0.10364690773664942\n",
      "R^2 Score: 0.8968725220439258\n"
     ]
    }
   ],
   "source": [
    "print(f'Mean Squared Error (MSE): {mse_svm_rbf}')\n",
    "print(f'Mean Absolute Error (MAE): {mae_svm_rbf}')\n",
    "print(f'R^2 Score: {r2_svm_rbf}')"
   ]
  },
  {
   "cell_type": "code",
   "execution_count": 257,
   "id": "35496770",
   "metadata": {},
   "outputs": [],
   "source": [
    "y_pred_full = model_svm_rbf.predict(X)"
   ]
  },
  {
   "cell_type": "code",
   "execution_count": 258,
   "id": "c51ea699",
   "metadata": {},
   "outputs": [],
   "source": [
    "corpus_42['predicted_Measurability_mean'] = y_pred_full"
   ]
  },
  {
   "cell_type": "code",
   "execution_count": 259,
   "id": "81fecce8",
   "metadata": {},
   "outputs": [],
   "source": [
    "corpus_42['absolute_error'] = np.abs(corpus_42['Measurability_mean'] - corpus_42['predicted_Measurability_mean'])\n",
    "corpus_42['prediction_error'] = np.abs(corpus_42['predicted_Measurability_mean'] - corpus_42['Measurability_mean'])\n"
   ]
  },
  {
   "cell_type": "code",
   "execution_count": 262,
   "id": "915c3f31",
   "metadata": {},
   "outputs": [
    {
     "name": "stdout",
     "output_type": "stream",
     "text": [
      "count    1351.000000\n",
      "mean        0.093696\n",
      "std         0.081616\n",
      "min         0.000101\n",
      "25%         0.067913\n",
      "50%         0.087696\n",
      "75%         0.099904\n",
      "max         0.832349\n",
      "Name: prediction_error, dtype: float64\n"
     ]
    }
   ],
   "source": [
    "print(corpus_42['prediction_error'].describe())"
   ]
  },
  {
   "cell_type": "code",
   "execution_count": 260,
   "id": "14f3522b",
   "metadata": {},
   "outputs": [],
   "source": [
    "corpus_42_sorted_by_error = corpus_42.sort_values('absolute_error', ascending=False)"
   ]
  },
  {
   "cell_type": "code",
   "execution_count": 267,
   "id": "324f598d",
   "metadata": {},
   "outputs": [
    {
     "data": {
      "text/html": [
       "<div>\n",
       "<style scoped>\n",
       "    .dataframe tbody tr th:only-of-type {\n",
       "        vertical-align: middle;\n",
       "    }\n",
       "\n",
       "    .dataframe tbody tr th {\n",
       "        vertical-align: top;\n",
       "    }\n",
       "\n",
       "    .dataframe thead th {\n",
       "        text-align: right;\n",
       "    }\n",
       "</style>\n",
       "<table border=\"1\" class=\"dataframe\">\n",
       "  <thead>\n",
       "    <tr style=\"text-align: right;\">\n",
       "      <th></th>\n",
       "      <th>doc_id</th>\n",
       "      <th>contract_type_code</th>\n",
       "      <th>Product_60codes</th>\n",
       "      <th>Measurability_mean</th>\n",
       "      <th>Asset_specificity_mean</th>\n",
       "      <th>Manuel_or_not</th>\n",
       "      <th>product_description_binary</th>\n",
       "      <th>CPVcodes_2digit</th>\n",
       "      <th>CPVcodes_3digit</th>\n",
       "      <th>clean_text</th>\n",
       "      <th>Embedding</th>\n",
       "      <th>Normalized_Embedding</th>\n",
       "      <th>Normalized_Embedding_mean</th>\n",
       "      <th>CPVcodes_1digit</th>\n",
       "      <th>CPVcodes_1digit_str</th>\n",
       "      <th>CPVcodes_2digit_str</th>\n",
       "      <th>CPVcodes_3digit_str</th>\n",
       "      <th>predicted_Measurability_mean</th>\n",
       "      <th>absolute_error</th>\n",
       "      <th>prediction_error</th>\n",
       "    </tr>\n",
       "  </thead>\n",
       "  <tbody>\n",
       "    <tr>\n",
       "      <th>677</th>\n",
       "      <td>314668-2022</td>\n",
       "      <td>2</td>\n",
       "      <td>39</td>\n",
       "      <td>2.282828</td>\n",
       "      <td>2.571429</td>\n",
       "      <td>not</td>\n",
       "      <td>Yes</td>\n",
       "      <td>34</td>\n",
       "      <td>341</td>\n",
       "      <td>logo .4 9 lad- og kassebilernes indretning og ...</td>\n",
       "      <td>[0.015642222, -0.022446463, -0.008005235, 0.00...</td>\n",
       "      <td>[0.015642222077874635, -0.022446463111749474, ...</td>\n",
       "      <td>[0.015642222077874635, -0.022446463111749474, ...</td>\n",
       "      <td>3</td>\n",
       "      <td>3</td>\n",
       "      <td>34</td>\n",
       "      <td>341</td>\n",
       "      <td>2.283722</td>\n",
       "      <td>0.000894</td>\n",
       "      <td>0.000894</td>\n",
       "    </tr>\n",
       "    <tr>\n",
       "      <th>1017</th>\n",
       "      <td>510688-2022</td>\n",
       "      <td>4</td>\n",
       "      <td>17</td>\n",
       "      <td>2.855556</td>\n",
       "      <td>2.405941</td>\n",
       "      <td>not</td>\n",
       "      <td>Yes</td>\n",
       "      <td>66</td>\n",
       "      <td>665</td>\n",
       "      <td>k uindregistrerede arbejdsmaskiner anvendes ud...</td>\n",
       "      <td>[0.022993825, -0.021013413, -0.0067123743, -0....</td>\n",
       "      <td>[0.022993825343339564, -0.02101341331376842, -...</td>\n",
       "      <td>[0.022993825343339564, -0.02101341331376842, -...</td>\n",
       "      <td>6</td>\n",
       "      <td>6</td>\n",
       "      <td>66</td>\n",
       "      <td>665</td>\n",
       "      <td>2.854830</td>\n",
       "      <td>0.000726</td>\n",
       "      <td>0.000726</td>\n",
       "    </tr>\n",
       "    <tr>\n",
       "      <th>884</th>\n",
       "      <td>4501-004039</td>\n",
       "      <td>1</td>\n",
       "      <td>34</td>\n",
       "      <td>3.053571</td>\n",
       "      <td>1.898305</td>\n",
       "      <td>not</td>\n",
       "      <td>Yes</td>\n",
       "      <td>45</td>\n",
       "      <td>453</td>\n",
       "      <td>leverandøren er forpligtet til at opsætte lade...</td>\n",
       "      <td>[-0.0012835168, -0.0077688163, -0.008659378, -...</td>\n",
       "      <td>[-0.0012835167769329593, -0.00776881616038079,...</td>\n",
       "      <td>[-0.0012835167769329593, -0.00776881616038079,...</td>\n",
       "      <td>4</td>\n",
       "      <td>4</td>\n",
       "      <td>45</td>\n",
       "      <td>453</td>\n",
       "      <td>3.054189</td>\n",
       "      <td>0.000618</td>\n",
       "      <td>0.000618</td>\n",
       "    </tr>\n",
       "    <tr>\n",
       "      <th>66</th>\n",
       "      <td>015002-2022</td>\n",
       "      <td>2</td>\n",
       "      <td>39</td>\n",
       "      <td>2.282828</td>\n",
       "      <td>2.571429</td>\n",
       "      <td>not</td>\n",
       "      <td>Yes</td>\n",
       "      <td>34</td>\n",
       "      <td>341</td>\n",
       "      <td>det er ok med et 13 5 tons chassis. 100 luftaf...</td>\n",
       "      <td>[-0.0046223914, -0.02774258, -0.010463151, 0.0...</td>\n",
       "      <td>[-0.00462239118112732, -0.02774257868637415, -...</td>\n",
       "      <td>[-0.00462239118112732, -0.02774257868637415, -...</td>\n",
       "      <td>3</td>\n",
       "      <td>3</td>\n",
       "      <td>34</td>\n",
       "      <td>341</td>\n",
       "      <td>2.283416</td>\n",
       "      <td>0.000588</td>\n",
       "      <td>0.000588</td>\n",
       "    </tr>\n",
       "    <tr>\n",
       "      <th>131</th>\n",
       "      <td>028547-2022</td>\n",
       "      <td>2</td>\n",
       "      <td>39</td>\n",
       "      <td>2.282828</td>\n",
       "      <td>2.571429</td>\n",
       "      <td>not</td>\n",
       "      <td>Yes</td>\n",
       "      <td>34</td>\n",
       "      <td>341</td>\n",
       "      <td>type 3-akslet fabriksnyt chassis med dobbelt c...</td>\n",
       "      <td>[0.008342708, -0.0364893, -0.018855484, 0.0202...</td>\n",
       "      <td>[0.00834270769524348, -0.03648929866705726, -0...</td>\n",
       "      <td>[0.00834270769524348, -0.03648929866705726, -0...</td>\n",
       "      <td>3</td>\n",
       "      <td>3</td>\n",
       "      <td>34</td>\n",
       "      <td>341</td>\n",
       "      <td>2.282727</td>\n",
       "      <td>0.000101</td>\n",
       "      <td>0.000101</td>\n",
       "    </tr>\n",
       "  </tbody>\n",
       "</table>\n",
       "</div>"
      ],
      "text/plain": [
       "           doc_id  contract_type_code  Product_60codes  Measurability_mean  \\\n",
       "677   314668-2022                   2               39            2.282828   \n",
       "1017  510688-2022                   4               17            2.855556   \n",
       "884   4501-004039                   1               34            3.053571   \n",
       "66    015002-2022                   2               39            2.282828   \n",
       "131   028547-2022                   2               39            2.282828   \n",
       "\n",
       "      Asset_specificity_mean Manuel_or_not product_description_binary  \\\n",
       "677                 2.571429           not                        Yes   \n",
       "1017                2.405941           not                        Yes   \n",
       "884                 1.898305           not                        Yes   \n",
       "66                  2.571429           not                        Yes   \n",
       "131                 2.571429           not                        Yes   \n",
       "\n",
       "      CPVcodes_2digit  CPVcodes_3digit  \\\n",
       "677                34              341   \n",
       "1017               66              665   \n",
       "884                45              453   \n",
       "66                 34              341   \n",
       "131                34              341   \n",
       "\n",
       "                                             clean_text  \\\n",
       "677   logo .4 9 lad- og kassebilernes indretning og ...   \n",
       "1017  k uindregistrerede arbejdsmaskiner anvendes ud...   \n",
       "884   leverandøren er forpligtet til at opsætte lade...   \n",
       "66    det er ok med et 13 5 tons chassis. 100 luftaf...   \n",
       "131   type 3-akslet fabriksnyt chassis med dobbelt c...   \n",
       "\n",
       "                                              Embedding  \\\n",
       "677   [0.015642222, -0.022446463, -0.008005235, 0.00...   \n",
       "1017  [0.022993825, -0.021013413, -0.0067123743, -0....   \n",
       "884   [-0.0012835168, -0.0077688163, -0.008659378, -...   \n",
       "66    [-0.0046223914, -0.02774258, -0.010463151, 0.0...   \n",
       "131   [0.008342708, -0.0364893, -0.018855484, 0.0202...   \n",
       "\n",
       "                                   Normalized_Embedding  \\\n",
       "677   [0.015642222077874635, -0.022446463111749474, ...   \n",
       "1017  [0.022993825343339564, -0.02101341331376842, -...   \n",
       "884   [-0.0012835167769329593, -0.00776881616038079,...   \n",
       "66    [-0.00462239118112732, -0.02774257868637415, -...   \n",
       "131   [0.00834270769524348, -0.03648929866705726, -0...   \n",
       "\n",
       "                              Normalized_Embedding_mean  CPVcodes_1digit  \\\n",
       "677   [0.015642222077874635, -0.022446463111749474, ...                3   \n",
       "1017  [0.022993825343339564, -0.02101341331376842, -...                6   \n",
       "884   [-0.0012835167769329593, -0.00776881616038079,...                4   \n",
       "66    [-0.00462239118112732, -0.02774257868637415, -...                3   \n",
       "131   [0.00834270769524348, -0.03648929866705726, -0...                3   \n",
       "\n",
       "     CPVcodes_1digit_str CPVcodes_2digit_str CPVcodes_3digit_str  \\\n",
       "677                    3                  34                 341   \n",
       "1017                   6                  66                 665   \n",
       "884                    4                  45                 453   \n",
       "66                     3                  34                 341   \n",
       "131                    3                  34                 341   \n",
       "\n",
       "      predicted_Measurability_mean  absolute_error  prediction_error  \n",
       "677                       2.283722        0.000894          0.000894  \n",
       "1017                      2.854830        0.000726          0.000726  \n",
       "884                       3.054189        0.000618          0.000618  \n",
       "66                        2.283416        0.000588          0.000588  \n",
       "131                       2.282727        0.000101          0.000101  "
      ]
     },
     "execution_count": 267,
     "metadata": {},
     "output_type": "execute_result"
    }
   ],
   "source": [
    "corpus_42_sorted_by_error.tail()"
   ]
  },
  {
   "cell_type": "code",
   "execution_count": 263,
   "id": "18fdf526",
   "metadata": {},
   "outputs": [],
   "source": [
    "selected_columns_df = corpus_42_sorted_by_error[['doc_id', 'clean_text', 'contract_type_code', 'Product_60codes','CPVcodes_2digit', 'CPVcodes_3digit', 'Measurability_mean', 'prediction_error', 'predicted_Measurability_mean']]"
   ]
  },
  {
   "cell_type": "code",
   "execution_count": 268,
   "id": "6c7e5af4",
   "metadata": {},
   "outputs": [],
   "source": [
    "def truncate_text(text):\n",
    "    MAX_LENGTH = 30000  # Excel's maximum cell character limit\n",
    "    if isinstance(text, str) and len(text) > MAX_LENGTH:\n",
    "        return text[:MAX_LENGTH]\n",
    "    return text"
   ]
  },
  {
   "cell_type": "code",
   "execution_count": 269,
   "id": "ccf430e9",
   "metadata": {
    "collapsed": true
   },
   "outputs": [
    {
     "name": "stderr",
     "output_type": "stream",
     "text": [
      "C:\\Users\\blunds\\AppData\\Local\\Temp\\ipykernel_11384\\3609653640.py:1: SettingWithCopyWarning: \n",
      "A value is trying to be set on a copy of a slice from a DataFrame.\n",
      "Try using .loc[row_indexer,col_indexer] = value instead\n",
      "\n",
      "See the caveats in the documentation: https://pandas.pydata.org/pandas-docs/stable/user_guide/indexing.html#returning-a-view-versus-a-copy\n",
      "  selected_columns_df['clean_text'] = selected_columns_df['clean_text'].apply(truncate_text)\n"
     ]
    }
   ],
   "source": [
    "selected_columns_df['clean_text'] = selected_columns_df['clean_text'].apply(truncate_text)"
   ]
  },
  {
   "cell_type": "code",
   "execution_count": 270,
   "id": "d9058951",
   "metadata": {
    "collapsed": true
   },
   "outputs": [
    {
     "name": "stderr",
     "output_type": "stream",
     "text": [
      "C:\\Users\\blunds\\AppData\\Local\\Temp\\ipykernel_11384\\1483379789.py:2: SettingWithCopyWarning: \n",
      "A value is trying to be set on a copy of a slice from a DataFrame.\n",
      "Try using .loc[row_indexer,col_indexer] = value instead\n",
      "\n",
      "See the caveats in the documentation: https://pandas.pydata.org/pandas-docs/stable/user_guide/indexing.html#returning-a-view-versus-a-copy\n",
      "  selected_columns_df[col] = selected_columns_df[col].apply(lambda x: f'{x:.2f}'.replace('.', ','))\n",
      "C:\\Users\\blunds\\AppData\\Local\\Temp\\ipykernel_11384\\1483379789.py:2: SettingWithCopyWarning: \n",
      "A value is trying to be set on a copy of a slice from a DataFrame.\n",
      "Try using .loc[row_indexer,col_indexer] = value instead\n",
      "\n",
      "See the caveats in the documentation: https://pandas.pydata.org/pandas-docs/stable/user_guide/indexing.html#returning-a-view-versus-a-copy\n",
      "  selected_columns_df[col] = selected_columns_df[col].apply(lambda x: f'{x:.2f}'.replace('.', ','))\n",
      "C:\\Users\\blunds\\AppData\\Local\\Temp\\ipykernel_11384\\1483379789.py:2: SettingWithCopyWarning: \n",
      "A value is trying to be set on a copy of a slice from a DataFrame.\n",
      "Try using .loc[row_indexer,col_indexer] = value instead\n",
      "\n",
      "See the caveats in the documentation: https://pandas.pydata.org/pandas-docs/stable/user_guide/indexing.html#returning-a-view-versus-a-copy\n",
      "  selected_columns_df[col] = selected_columns_df[col].apply(lambda x: f'{x:.2f}'.replace('.', ','))\n"
     ]
    }
   ],
   "source": [
    "for col in selected_columns_df.select_dtypes(include=['float', 'float64']).columns:\n",
    "    selected_columns_df[col] = selected_columns_df[col].apply(lambda x: f'{x:.2f}'.replace('.', ','))\n"
   ]
  },
  {
   "cell_type": "code",
   "execution_count": 271,
   "id": "c870693d",
   "metadata": {},
   "outputs": [],
   "source": [
    "selected_columns_df.to_csv('SVM_42_rbf_alle.csv', index=False, encoding='utf-16', sep='\\t')"
   ]
  },
  {
   "cell_type": "code",
   "execution_count": 282,
   "id": "f9d06e36",
   "metadata": {},
   "outputs": [],
   "source": [
    "mean_values_df_42 = corpus_42.groupby('Product_60codes').agg({\n",
    "    'Measurability_mean': 'mean',\n",
    "    'predicted_Measurability_mean': 'mean'\n",
    "}).reset_index()"
   ]
  },
  {
   "cell_type": "code",
   "execution_count": 283,
   "id": "5c0e0af6",
   "metadata": {},
   "outputs": [],
   "source": [
    "mean_values_df_42.rename(columns={'Measurability_mean': 'Mean_Actual_Measurability',\n",
    "                               'predicted_Measurability_mean': 'Mean_Predicted_Measurability'}, inplace=True)"
   ]
  },
  {
   "cell_type": "code",
   "execution_count": 285,
   "id": "d93e51a2",
   "metadata": {},
   "outputs": [],
   "source": [
    "mean_values_df_42.to_excel('mean_values_42.xlsx', index=False)"
   ]
  },
  {
   "cell_type": "markdown",
   "id": "e1c89342",
   "metadata": {},
   "source": [
    "### Validation on corpus_18"
   ]
  },
  {
   "cell_type": "code",
   "execution_count": 342,
   "id": "2b168b74",
   "metadata": {},
   "outputs": [],
   "source": [
    "embeddings_df_18 = pd.DataFrame(corpus_18['Normalized_Embedding'].tolist())"
   ]
  },
  {
   "cell_type": "code",
   "execution_count": 343,
   "id": "c91f95f2",
   "metadata": {},
   "outputs": [],
   "source": [
    "data_with_dummies_18 = pd.concat([embeddings_df_18, cpv_18_encoded_df_2, cpv_18_encoded_df_1, cpv_18_encoded_df_3, contract_type_dummies_18], axis=1)"
   ]
  },
  {
   "cell_type": "code",
   "execution_count": 344,
   "id": "b671caf4",
   "metadata": {},
   "outputs": [],
   "source": [
    "data_18 = data_with_dummies_18.join(corpus_18['Measurability_mean'])"
   ]
  },
  {
   "cell_type": "code",
   "execution_count": 345,
   "id": "eff53d38",
   "metadata": {},
   "outputs": [],
   "source": [
    "data_18.columns = data_18.columns.astype(str)"
   ]
  },
  {
   "cell_type": "code",
   "execution_count": 346,
   "id": "f8b983d9",
   "metadata": {},
   "outputs": [],
   "source": [
    "X_18 = data_18.drop('Measurability_mean', axis=1)"
   ]
  },
  {
   "cell_type": "code",
   "execution_count": 347,
   "id": "990852b2",
   "metadata": {},
   "outputs": [],
   "source": [
    "y_18 = data_18['Measurability_mean']"
   ]
  },
  {
   "cell_type": "code",
   "execution_count": 348,
   "id": "07a66d41",
   "metadata": {
    "scrolled": true
   },
   "outputs": [],
   "source": [
    "y_pred_18_svm_rbf = model_svm_rbf.predict(X_18)"
   ]
  },
  {
   "cell_type": "code",
   "execution_count": 349,
   "id": "cac35c1c",
   "metadata": {},
   "outputs": [],
   "source": [
    "mse_18_svm_rbf = mean_squared_error(y_18, y_pred_18_svm_rbf)\n",
    "mae_18_svm_rbf = mean_absolute_error(y_18, y_pred_18_svm_rbf)\n",
    "r2_18_svm_rbf = r2_score(y_18, y_pred_18_svm_rbf)"
   ]
  },
  {
   "cell_type": "code",
   "execution_count": 350,
   "id": "00eb5723",
   "metadata": {},
   "outputs": [
    {
     "name": "stdout",
     "output_type": "stream",
     "text": [
      "Mean Squared Error (MSE) on corpus_18: 0.12602936206192233\n",
      "Mean Absolute Error (MAE) on corpus_18: 0.2744801433900481\n",
      "R^2 Score on corpus_18: 0.2129442288401241\n"
     ]
    }
   ],
   "source": [
    "print(f\"Mean Squared Error (MSE) on corpus_18: {mse_18_svm_rbf}\")\n",
    "print(f\"Mean Absolute Error (MAE) on corpus_18: {mae_18_svm_rbf}\")\n",
    "print(f\"R^2 Score on corpus_18: {r2_18_svm_rbf}\")"
   ]
  },
  {
   "cell_type": "markdown",
   "id": "78095694",
   "metadata": {},
   "source": [
    "#### Error "
   ]
  },
  {
   "cell_type": "code",
   "execution_count": 351,
   "id": "49f69f27",
   "metadata": {},
   "outputs": [],
   "source": [
    "corpus_18['predicted_Measurability_mean'] = y_pred_18_svm_rbf"
   ]
  },
  {
   "cell_type": "code",
   "execution_count": 352,
   "id": "640ad01d",
   "metadata": {},
   "outputs": [],
   "source": [
    "corpus_18['absolute_error'] = np.abs(corpus_18['Measurability_mean'] - corpus_18['predicted_Measurability_mean'])\n",
    "corpus_18['prediction_error'] = corpus_18['predicted_Measurability_mean'] - corpus_18['Measurability_mean']"
   ]
  },
  {
   "cell_type": "code",
   "execution_count": 353,
   "id": "2111b8c9",
   "metadata": {},
   "outputs": [
    {
     "name": "stdout",
     "output_type": "stream",
     "text": [
      "count    389.000000\n",
      "mean      -0.057283\n",
      "std        0.350805\n",
      "min       -0.910022\n",
      "25%       -0.215425\n",
      "50%       -0.045148\n",
      "75%        0.234740\n",
      "max        0.570008\n",
      "Name: prediction_error, dtype: float64\n"
     ]
    }
   ],
   "source": [
    "print(corpus_18['prediction_error'].describe())"
   ]
  },
  {
   "cell_type": "code",
   "execution_count": 354,
   "id": "650c9ed2",
   "metadata": {},
   "outputs": [],
   "source": [
    "corpus_18_sorted_by_error = corpus_18.sort_values('absolute_error', ascending=False)"
   ]
  },
  {
   "cell_type": "code",
   "execution_count": 355,
   "id": "3f5c213d",
   "metadata": {
    "scrolled": true
   },
   "outputs": [
    {
     "data": {
      "text/html": [
       "<div>\n",
       "<style scoped>\n",
       "    .dataframe tbody tr th:only-of-type {\n",
       "        vertical-align: middle;\n",
       "    }\n",
       "\n",
       "    .dataframe tbody tr th {\n",
       "        vertical-align: top;\n",
       "    }\n",
       "\n",
       "    .dataframe thead th {\n",
       "        text-align: right;\n",
       "    }\n",
       "</style>\n",
       "<table border=\"1\" class=\"dataframe\">\n",
       "  <thead>\n",
       "    <tr style=\"text-align: right;\">\n",
       "      <th></th>\n",
       "      <th>doc_id</th>\n",
       "      <th>contract_type_code</th>\n",
       "      <th>Product_60codes</th>\n",
       "      <th>Measurability_mean</th>\n",
       "      <th>Asset_specificity_mean</th>\n",
       "      <th>Manuel_or_not</th>\n",
       "      <th>product_description_binary</th>\n",
       "      <th>CPVcodes_2digit</th>\n",
       "      <th>CPVcodes_3digit</th>\n",
       "      <th>clean_text</th>\n",
       "      <th>Embedding</th>\n",
       "      <th>Normalized_Embedding</th>\n",
       "      <th>Normalized_Embedding_mean</th>\n",
       "      <th>CPVcodes_1digit</th>\n",
       "      <th>CPVcodes_1digit_str</th>\n",
       "      <th>CPVcodes_2digit_str</th>\n",
       "      <th>CPVcodes_3digit_str</th>\n",
       "      <th>absolute_error</th>\n",
       "      <th>prediction_error</th>\n",
       "      <th>predicted_Measurability_mean</th>\n",
       "    </tr>\n",
       "  </thead>\n",
       "  <tbody>\n",
       "    <tr>\n",
       "      <th>363</th>\n",
       "      <td>645705-2022</td>\n",
       "      <td>4</td>\n",
       "      <td>6</td>\n",
       "      <td>3.450549</td>\n",
       "      <td>2.961039</td>\n",
       "      <td>not</td>\n",
       "      <td>Yes</td>\n",
       "      <td>98</td>\n",
       "      <td>985</td>\n",
       "      <td>vask af gardiner tæpper dyner puder og lignend...</td>\n",
       "      <td>[-0.012111249, -0.03762052, -0.0029946682, -0....</td>\n",
       "      <td>[-0.012111248951733156, -0.0376205198500713, -...</td>\n",
       "      <td>[-0.012111248951733156, -0.0376205198500713, -...</td>\n",
       "      <td>9</td>\n",
       "      <td>9</td>\n",
       "      <td>98</td>\n",
       "      <td>985</td>\n",
       "      <td>0.910022</td>\n",
       "      <td>-0.910022</td>\n",
       "      <td>2.540527</td>\n",
       "    </tr>\n",
       "    <tr>\n",
       "      <th>331</th>\n",
       "      <td>604726-2021</td>\n",
       "      <td>4</td>\n",
       "      <td>6</td>\n",
       "      <td>3.450549</td>\n",
       "      <td>2.961039</td>\n",
       "      <td>not</td>\n",
       "      <td>Yes</td>\n",
       "      <td>98</td>\n",
       "      <td>985</td>\n",
       "      <td>3 1. indledning københavns kommune sundheds- o...</td>\n",
       "      <td>[0.013809947, -0.03705657, -0.0013971226, 0.01...</td>\n",
       "      <td>[0.013809947039233016, -0.03705657010527491, -...</td>\n",
       "      <td>[0.013809947039233016, -0.03705657010527491, -...</td>\n",
       "      <td>9</td>\n",
       "      <td>9</td>\n",
       "      <td>98</td>\n",
       "      <td>985</td>\n",
       "      <td>0.903757</td>\n",
       "      <td>-0.903757</td>\n",
       "      <td>2.546792</td>\n",
       "    </tr>\n",
       "    <tr>\n",
       "      <th>322</th>\n",
       "      <td>587998-2021</td>\n",
       "      <td>4</td>\n",
       "      <td>6</td>\n",
       "      <td>3.450549</td>\n",
       "      <td>2.961039</td>\n",
       "      <td>not</td>\n",
       "      <td>Yes</td>\n",
       "      <td>98</td>\n",
       "      <td>985</td>\n",
       "      <td>1.31 1.32 1.33 1.34 1.35 nr. 2 2.1 2.2 2.3 2....</td>\n",
       "      <td>[0.00805287, -0.029606776, -0.0027219134, -0.0...</td>\n",
       "      <td>[0.008052869406365683, -0.02960677381747399, -...</td>\n",
       "      <td>[0.008052869406365683, -0.02960677381747399, -...</td>\n",
       "      <td>9</td>\n",
       "      <td>9</td>\n",
       "      <td>98</td>\n",
       "      <td>985</td>\n",
       "      <td>0.897682</td>\n",
       "      <td>-0.897682</td>\n",
       "      <td>2.552867</td>\n",
       "    </tr>\n",
       "    <tr>\n",
       "      <th>112</th>\n",
       "      <td>184479-2021</td>\n",
       "      <td>4</td>\n",
       "      <td>6</td>\n",
       "      <td>3.450549</td>\n",
       "      <td>2.961039</td>\n",
       "      <td>not</td>\n",
       "      <td>Yes</td>\n",
       "      <td>98</td>\n",
       "      <td>985</td>\n",
       "      <td>hjemmeplejen i fredensborg kommune hjemmepleje...</td>\n",
       "      <td>[0.003928437, -0.033135317, -0.0076411944, -0....</td>\n",
       "      <td>[0.003928436965828447, -0.03313531671177207, -...</td>\n",
       "      <td>[0.003928436965828447, -0.03313531671177207, -...</td>\n",
       "      <td>9</td>\n",
       "      <td>9</td>\n",
       "      <td>98</td>\n",
       "      <td>985</td>\n",
       "      <td>0.897077</td>\n",
       "      <td>-0.897077</td>\n",
       "      <td>2.553472</td>\n",
       "    </tr>\n",
       "    <tr>\n",
       "      <th>314</th>\n",
       "      <td>566770-2022</td>\n",
       "      <td>4</td>\n",
       "      <td>6</td>\n",
       "      <td>3.450549</td>\n",
       "      <td>2.961039</td>\n",
       "      <td>not</td>\n",
       "      <td>Yes</td>\n",
       "      <td>98</td>\n",
       "      <td>985</td>\n",
       "      <td>3.3 sproglige færdigheder det personale der er...</td>\n",
       "      <td>[0.012966551, -0.02693183, -0.0010209465, 0.02...</td>\n",
       "      <td>[0.012966550167898033, -0.026931828271704737, ...</td>\n",
       "      <td>[0.012966550167898033, -0.026931828271704737, ...</td>\n",
       "      <td>9</td>\n",
       "      <td>9</td>\n",
       "      <td>98</td>\n",
       "      <td>985</td>\n",
       "      <td>0.894203</td>\n",
       "      <td>-0.894203</td>\n",
       "      <td>2.556346</td>\n",
       "    </tr>\n",
       "  </tbody>\n",
       "</table>\n",
       "</div>"
      ],
      "text/plain": [
       "          doc_id  contract_type_code  Product_60codes  Measurability_mean  \\\n",
       "363  645705-2022                   4                6            3.450549   \n",
       "331  604726-2021                   4                6            3.450549   \n",
       "322  587998-2021                   4                6            3.450549   \n",
       "112  184479-2021                   4                6            3.450549   \n",
       "314  566770-2022                   4                6            3.450549   \n",
       "\n",
       "     Asset_specificity_mean Manuel_or_not product_description_binary  \\\n",
       "363                2.961039           not                        Yes   \n",
       "331                2.961039           not                        Yes   \n",
       "322                2.961039           not                        Yes   \n",
       "112                2.961039           not                        Yes   \n",
       "314                2.961039           not                        Yes   \n",
       "\n",
       "    CPVcodes_2digit  CPVcodes_3digit  \\\n",
       "363              98              985   \n",
       "331              98              985   \n",
       "322              98              985   \n",
       "112              98              985   \n",
       "314              98              985   \n",
       "\n",
       "                                            clean_text  \\\n",
       "363  vask af gardiner tæpper dyner puder og lignend...   \n",
       "331  3 1. indledning københavns kommune sundheds- o...   \n",
       "322  \n",
       "1.31 1.32 1.33 1.34 1.35 nr. 2 2.1 2.2 2.3 2....   \n",
       "112  hjemmeplejen i fredensborg kommune hjemmepleje...   \n",
       "314  3.3 sproglige færdigheder det personale der er...   \n",
       "\n",
       "                                             Embedding  \\\n",
       "363  [-0.012111249, -0.03762052, -0.0029946682, -0....   \n",
       "331  [0.013809947, -0.03705657, -0.0013971226, 0.01...   \n",
       "322  [0.00805287, -0.029606776, -0.0027219134, -0.0...   \n",
       "112  [0.003928437, -0.033135317, -0.0076411944, -0....   \n",
       "314  [0.012966551, -0.02693183, -0.0010209465, 0.02...   \n",
       "\n",
       "                                  Normalized_Embedding  \\\n",
       "363  [-0.012111248951733156, -0.0376205198500713, -...   \n",
       "331  [0.013809947039233016, -0.03705657010527491, -...   \n",
       "322  [0.008052869406365683, -0.02960677381747399, -...   \n",
       "112  [0.003928436965828447, -0.03313531671177207, -...   \n",
       "314  [0.012966550167898033, -0.026931828271704737, ...   \n",
       "\n",
       "                             Normalized_Embedding_mean  CPVcodes_1digit  \\\n",
       "363  [-0.012111248951733156, -0.0376205198500713, -...                9   \n",
       "331  [0.013809947039233016, -0.03705657010527491, -...                9   \n",
       "322  [0.008052869406365683, -0.02960677381747399, -...                9   \n",
       "112  [0.003928436965828447, -0.03313531671177207, -...                9   \n",
       "314  [0.012966550167898033, -0.026931828271704737, ...                9   \n",
       "\n",
       "    CPVcodes_1digit_str CPVcodes_2digit_str CPVcodes_3digit_str  \\\n",
       "363                   9                  98                 985   \n",
       "331                   9                  98                 985   \n",
       "322                   9                  98                 985   \n",
       "112                   9                  98                 985   \n",
       "314                   9                  98                 985   \n",
       "\n",
       "     absolute_error  prediction_error  predicted_Measurability_mean  \n",
       "363        0.910022         -0.910022                      2.540527  \n",
       "331        0.903757         -0.903757                      2.546792  \n",
       "322        0.897682         -0.897682                      2.552867  \n",
       "112        0.897077         -0.897077                      2.553472  \n",
       "314        0.894203         -0.894203                      2.556346  "
      ]
     },
     "execution_count": 355,
     "metadata": {},
     "output_type": "execute_result"
    }
   ],
   "source": [
    "corpus_18_sorted_by_error.head()"
   ]
  },
  {
   "cell_type": "code",
   "execution_count": 272,
   "id": "9278ed32",
   "metadata": {},
   "outputs": [],
   "source": [
    "selected_columns_df = corpus_18_sorted_by_error[['doc_id', 'clean_text', 'contract_type_code', 'Product_60codes','CPVcodes_2digit', 'CPVcodes_3digit', 'Measurability_mean', 'prediction_error', 'predicted_Measurability_mean']]"
   ]
  },
  {
   "cell_type": "code",
   "execution_count": 273,
   "id": "50a369f5",
   "metadata": {},
   "outputs": [],
   "source": [
    "def truncate_text(text):\n",
    "    MAX_LENGTH = 30000  # Excel's maximum cell character limit\n",
    "    if isinstance(text, str) and len(text) > MAX_LENGTH:\n",
    "        return text[:MAX_LENGTH]\n",
    "    return text"
   ]
  },
  {
   "cell_type": "code",
   "execution_count": 274,
   "id": "162da314",
   "metadata": {
    "collapsed": true
   },
   "outputs": [
    {
     "name": "stderr",
     "output_type": "stream",
     "text": [
      "C:\\Users\\blunds\\AppData\\Local\\Temp\\ipykernel_11384\\3609653640.py:1: SettingWithCopyWarning: \n",
      "A value is trying to be set on a copy of a slice from a DataFrame.\n",
      "Try using .loc[row_indexer,col_indexer] = value instead\n",
      "\n",
      "See the caveats in the documentation: https://pandas.pydata.org/pandas-docs/stable/user_guide/indexing.html#returning-a-view-versus-a-copy\n",
      "  selected_columns_df['clean_text'] = selected_columns_df['clean_text'].apply(truncate_text)\n"
     ]
    }
   ],
   "source": [
    "selected_columns_df['clean_text'] = selected_columns_df['clean_text'].apply(truncate_text)"
   ]
  },
  {
   "cell_type": "code",
   "execution_count": 275,
   "id": "1caf8341",
   "metadata": {
    "collapsed": true
   },
   "outputs": [
    {
     "name": "stderr",
     "output_type": "stream",
     "text": [
      "C:\\Users\\blunds\\AppData\\Local\\Temp\\ipykernel_11384\\1483379789.py:2: SettingWithCopyWarning: \n",
      "A value is trying to be set on a copy of a slice from a DataFrame.\n",
      "Try using .loc[row_indexer,col_indexer] = value instead\n",
      "\n",
      "See the caveats in the documentation: https://pandas.pydata.org/pandas-docs/stable/user_guide/indexing.html#returning-a-view-versus-a-copy\n",
      "  selected_columns_df[col] = selected_columns_df[col].apply(lambda x: f'{x:.2f}'.replace('.', ','))\n",
      "C:\\Users\\blunds\\AppData\\Local\\Temp\\ipykernel_11384\\1483379789.py:2: SettingWithCopyWarning: \n",
      "A value is trying to be set on a copy of a slice from a DataFrame.\n",
      "Try using .loc[row_indexer,col_indexer] = value instead\n",
      "\n",
      "See the caveats in the documentation: https://pandas.pydata.org/pandas-docs/stable/user_guide/indexing.html#returning-a-view-versus-a-copy\n",
      "  selected_columns_df[col] = selected_columns_df[col].apply(lambda x: f'{x:.2f}'.replace('.', ','))\n",
      "C:\\Users\\blunds\\AppData\\Local\\Temp\\ipykernel_11384\\1483379789.py:2: SettingWithCopyWarning: \n",
      "A value is trying to be set on a copy of a slice from a DataFrame.\n",
      "Try using .loc[row_indexer,col_indexer] = value instead\n",
      "\n",
      "See the caveats in the documentation: https://pandas.pydata.org/pandas-docs/stable/user_guide/indexing.html#returning-a-view-versus-a-copy\n",
      "  selected_columns_df[col] = selected_columns_df[col].apply(lambda x: f'{x:.2f}'.replace('.', ','))\n"
     ]
    }
   ],
   "source": [
    "for col in selected_columns_df.select_dtypes(include=['float', 'float64']).columns:\n",
    "    selected_columns_df[col] = selected_columns_df[col].apply(lambda x: f'{x:.2f}'.replace('.', ','))\n"
   ]
  },
  {
   "cell_type": "code",
   "execution_count": 276,
   "id": "f3c11241",
   "metadata": {},
   "outputs": [],
   "source": [
    "selected_columns_df.to_csv('SVM_rbf_alle.csv', index=False, encoding='utf-16', sep='\\t')"
   ]
  },
  {
   "cell_type": "markdown",
   "id": "5f6909f7",
   "metadata": {},
   "source": [
    "### mean prediction"
   ]
  },
  {
   "cell_type": "code",
   "execution_count": 278,
   "id": "f9d1fe8f",
   "metadata": {},
   "outputs": [],
   "source": [
    "mean_values_df = corpus_18.groupby('Product_60codes').agg({\n",
    "    'Measurability_mean': 'mean',\n",
    "    'predicted_Measurability_mean': 'mean'\n",
    "}).reset_index()"
   ]
  },
  {
   "cell_type": "code",
   "execution_count": 279,
   "id": "e7e91485",
   "metadata": {},
   "outputs": [],
   "source": [
    "mean_values_df.rename(columns={'Measurability_mean': 'Mean_Actual_Measurability',\n",
    "                               'predicted_Measurability_mean': 'Mean_Predicted_Measurability'}, inplace=True)"
   ]
  },
  {
   "cell_type": "code",
   "execution_count": 289,
   "id": "3e5ddbfc",
   "metadata": {},
   "outputs": [
    {
     "data": {
      "text/html": [
       "<div>\n",
       "<style scoped>\n",
       "    .dataframe tbody tr th:only-of-type {\n",
       "        vertical-align: middle;\n",
       "    }\n",
       "\n",
       "    .dataframe tbody tr th {\n",
       "        vertical-align: top;\n",
       "    }\n",
       "\n",
       "    .dataframe thead th {\n",
       "        text-align: right;\n",
       "    }\n",
       "</style>\n",
       "<table border=\"1\" class=\"dataframe\">\n",
       "  <thead>\n",
       "    <tr style=\"text-align: right;\">\n",
       "      <th></th>\n",
       "      <th>Product_60codes</th>\n",
       "      <th>Mean_Actual_Measurability</th>\n",
       "      <th>Mean_Predicted_Measurability</th>\n",
       "    </tr>\n",
       "  </thead>\n",
       "  <tbody>\n",
       "    <tr>\n",
       "      <th>0</th>\n",
       "      <td>2</td>\n",
       "      <td>3.291667</td>\n",
       "      <td>3.028851</td>\n",
       "    </tr>\n",
       "    <tr>\n",
       "      <th>1</th>\n",
       "      <td>5</td>\n",
       "      <td>2.118644</td>\n",
       "      <td>2.476478</td>\n",
       "    </tr>\n",
       "    <tr>\n",
       "      <th>2</th>\n",
       "      <td>6</td>\n",
       "      <td>3.450549</td>\n",
       "      <td>2.729885</td>\n",
       "    </tr>\n",
       "    <tr>\n",
       "      <th>3</th>\n",
       "      <td>15</td>\n",
       "      <td>2.488889</td>\n",
       "      <td>2.517403</td>\n",
       "    </tr>\n",
       "    <tr>\n",
       "      <th>4</th>\n",
       "      <td>16</td>\n",
       "      <td>3.020408</td>\n",
       "      <td>2.992763</td>\n",
       "    </tr>\n",
       "    <tr>\n",
       "      <th>5</th>\n",
       "      <td>28</td>\n",
       "      <td>2.287234</td>\n",
       "      <td>2.707101</td>\n",
       "    </tr>\n",
       "    <tr>\n",
       "      <th>6</th>\n",
       "      <td>29</td>\n",
       "      <td>2.657895</td>\n",
       "      <td>2.388123</td>\n",
       "    </tr>\n",
       "    <tr>\n",
       "      <th>7</th>\n",
       "      <td>37</td>\n",
       "      <td>2.620000</td>\n",
       "      <td>2.428599</td>\n",
       "    </tr>\n",
       "    <tr>\n",
       "      <th>8</th>\n",
       "      <td>40</td>\n",
       "      <td>2.555556</td>\n",
       "      <td>2.826842</td>\n",
       "    </tr>\n",
       "    <tr>\n",
       "      <th>9</th>\n",
       "      <td>41</td>\n",
       "      <td>2.726027</td>\n",
       "      <td>2.372451</td>\n",
       "    </tr>\n",
       "    <tr>\n",
       "      <th>10</th>\n",
       "      <td>44</td>\n",
       "      <td>2.744186</td>\n",
       "      <td>2.777930</td>\n",
       "    </tr>\n",
       "    <tr>\n",
       "      <th>11</th>\n",
       "      <td>45</td>\n",
       "      <td>2.029703</td>\n",
       "      <td>2.386961</td>\n",
       "    </tr>\n",
       "    <tr>\n",
       "      <th>12</th>\n",
       "      <td>46</td>\n",
       "      <td>1.982906</td>\n",
       "      <td>2.585751</td>\n",
       "    </tr>\n",
       "    <tr>\n",
       "      <th>13</th>\n",
       "      <td>50</td>\n",
       "      <td>2.574257</td>\n",
       "      <td>2.553369</td>\n",
       "    </tr>\n",
       "    <tr>\n",
       "      <th>14</th>\n",
       "      <td>52</td>\n",
       "      <td>2.539130</td>\n",
       "      <td>2.505206</td>\n",
       "    </tr>\n",
       "    <tr>\n",
       "      <th>15</th>\n",
       "      <td>54</td>\n",
       "      <td>2.245283</td>\n",
       "      <td>2.541435</td>\n",
       "    </tr>\n",
       "    <tr>\n",
       "      <th>16</th>\n",
       "      <td>57</td>\n",
       "      <td>3.388889</td>\n",
       "      <td>3.258776</td>\n",
       "    </tr>\n",
       "    <tr>\n",
       "      <th>17</th>\n",
       "      <td>58</td>\n",
       "      <td>2.676768</td>\n",
       "      <td>2.536699</td>\n",
       "    </tr>\n",
       "  </tbody>\n",
       "</table>\n",
       "</div>"
      ],
      "text/plain": [
       "    Product_60codes  Mean_Actual_Measurability  Mean_Predicted_Measurability\n",
       "0                 2                   3.291667                      3.028851\n",
       "1                 5                   2.118644                      2.476478\n",
       "2                 6                   3.450549                      2.729885\n",
       "3                15                   2.488889                      2.517403\n",
       "4                16                   3.020408                      2.992763\n",
       "5                28                   2.287234                      2.707101\n",
       "6                29                   2.657895                      2.388123\n",
       "7                37                   2.620000                      2.428599\n",
       "8                40                   2.555556                      2.826842\n",
       "9                41                   2.726027                      2.372451\n",
       "10               44                   2.744186                      2.777930\n",
       "11               45                   2.029703                      2.386961\n",
       "12               46                   1.982906                      2.585751\n",
       "13               50                   2.574257                      2.553369\n",
       "14               52                   2.539130                      2.505206\n",
       "15               54                   2.245283                      2.541435\n",
       "16               57                   3.388889                      3.258776\n",
       "17               58                   2.676768                      2.536699"
      ]
     },
     "execution_count": 289,
     "metadata": {},
     "output_type": "execute_result"
    }
   ],
   "source": [
    "mean_values_df.head(18)"
   ]
  },
  {
   "cell_type": "code",
   "execution_count": 281,
   "id": "37e21191",
   "metadata": {},
   "outputs": [],
   "source": [
    "mean_values_df.to_excel('mean_values_18.xlsx', index=False)"
   ]
  },
  {
   "cell_type": "markdown",
   "id": "fa17c760",
   "metadata": {},
   "source": [
    "## 2.3 Neural Network adjustment"
   ]
  },
  {
   "cell_type": "code",
   "execution_count": 1,
   "id": "bdd678e0",
   "metadata": {
    "collapsed": true
   },
   "outputs": [
    {
     "name": "stderr",
     "output_type": "stream",
     "text": [
      "[nltk_data] Downloading package punkt to\n",
      "[nltk_data]     C:\\Users\\blunds\\AppData\\Roaming\\nltk_data...\n",
      "[nltk_data]   Package punkt is already up-to-date!\n"
     ]
    }
   ],
   "source": [
    "import pandas as pd\n",
    "import nltk\n",
    "nltk.download('punkt')\n",
    "import re \n",
    "from nltk.tokenize import sent_tokenize\n",
    "from nltk.tokenize import word_tokenize\n",
    "\n",
    "import os\n",
    "\n",
    "import json\n",
    "\n",
    "from nltk.corpus import stopwords\n",
    "import lemmy\n",
    "import textract\n",
    "import pickle\n",
    "import numpy as np"
   ]
  },
  {
   "cell_type": "markdown",
   "id": "a703204f",
   "metadata": {},
   "source": [
    "## Loading data"
   ]
  },
  {
   "cell_type": "code",
   "execution_count": 2,
   "id": "7e962e91",
   "metadata": {},
   "outputs": [],
   "source": [
    "corpus_42 = pd.read_pickle(\"corpus_42_final.pkl\")"
   ]
  },
  {
   "cell_type": "code",
   "execution_count": 3,
   "id": "a771d7f5",
   "metadata": {},
   "outputs": [],
   "source": [
    "corpus_18 = pd.read_pickle(\"corpus_18_final.pkl\")"
   ]
  },
  {
   "cell_type": "code",
   "execution_count": 4,
   "id": "14ba337a",
   "metadata": {},
   "outputs": [],
   "source": [
    "corpus_over = pd.read_pickle(\"corpus_over_final.pkl\")"
   ]
  },
  {
   "cell_type": "markdown",
   "id": "2cc5a7b7",
   "metadata": {},
   "source": [
    "## Creating  CPVcodes_1digit"
   ]
  },
  {
   "cell_type": "code",
   "execution_count": 11,
   "id": "c68b324b",
   "metadata": {},
   "outputs": [],
   "source": [
    "corpus_42['CPVcodes_2digit'] = corpus_42['CPVcodes_2digit'].astype(str).apply(lambda x: x.zfill(2))\n"
   ]
  },
  {
   "cell_type": "code",
   "execution_count": 12,
   "id": "d209ddb0",
   "metadata": {},
   "outputs": [],
   "source": [
    "corpus_18['CPVcodes_2digit'] = corpus_18['CPVcodes_2digit'].astype(str).apply(lambda x: x.zfill(2))\n"
   ]
  },
  {
   "cell_type": "code",
   "execution_count": 13,
   "id": "a3639a7b",
   "metadata": {},
   "outputs": [],
   "source": [
    "corpus_over['CPVcodes_2digit'] = corpus_over['CPVcodes_2digit'].astype(str).apply(lambda x: x.zfill(2))\n"
   ]
  },
  {
   "cell_type": "code",
   "execution_count": 14,
   "id": "877b5c5d",
   "metadata": {},
   "outputs": [],
   "source": [
    "corpus_42['CPVcodes_1digit'] = corpus_42['CPVcodes_2digit'].astype(str).str[0]\n",
    "corpus_18['CPVcodes_1digit'] = corpus_18['CPVcodes_2digit'].astype(str).str[0]\n",
    "corpus_over['CPVcodes_1digit'] = corpus_over['CPVcodes_2digit'].astype(str).str[0]"
   ]
  },
  {
   "cell_type": "code",
   "execution_count": 15,
   "id": "5a82ca6a",
   "metadata": {},
   "outputs": [],
   "source": [
    "corpus_42['CPVcodes_1digit'] = corpus_42['CPVcodes_1digit'].astype(int)\n",
    "corpus_18['CPVcodes_1digit'] = corpus_18['CPVcodes_1digit'].astype(int)\n",
    "corpus_over['CPVcodes_1digit'] = corpus_over['CPVcodes_1digit'].astype(int)"
   ]
  },
  {
   "cell_type": "markdown",
   "id": "c9327b89",
   "metadata": {},
   "source": [
    "## Running Neural Network"
   ]
  },
  {
   "cell_type": "code",
   "execution_count": 18,
   "id": "b1100720",
   "metadata": {
    "collapsed": true
   },
   "outputs": [
    {
     "name": "stdout",
     "output_type": "stream",
     "text": [
      "WARNING:tensorflow:From C:\\Users\\blunds\\AppData\\Local\\anaconda3\\Lib\\site-packages\\keras\\src\\losses.py:2976: The name tf.losses.sparse_softmax_cross_entropy is deprecated. Please use tf.compat.v1.losses.sparse_softmax_cross_entropy instead.\n",
      "\n"
     ]
    }
   ],
   "source": [
    "from tensorflow.keras.models import Model\n",
    "from tensorflow.keras.layers import Input, Embedding, Flatten, Dense, Concatenate, LeakyReLU\n",
    "import numpy as np\n",
    "from sklearn.model_selection import train_test_split\n",
    "from sklearn.metrics import mean_absolute_error, r2_score\n",
    "\n",
    "from tensorflow.keras.optimizers import Adam\n",
    "from tensorflow.keras.callbacks import LearningRateScheduler\n",
    "from tensorflow.keras import backend as K\n",
    "\n",
    "import tensorflow as tf\n",
    "import random"
   ]
  },
  {
   "cell_type": "code",
   "execution_count": 22,
   "id": "7758c952",
   "metadata": {},
   "outputs": [],
   "source": [
    "np.random.seed(42)\n",
    "random.seed(42)\n",
    "tf.random.set_seed(42)\n"
   ]
  },
  {
   "cell_type": "code",
   "execution_count": 23,
   "id": "0f868ee6",
   "metadata": {},
   "outputs": [],
   "source": [
    "corpus_42['CPVcodes_1digit_str'] = corpus_42['CPVcodes_1digit'].astype(str)\n",
    "corpus_42['CPVcodes_2digit_str'] = corpus_42['CPVcodes_2digit'].astype(str)\n",
    "corpus_42['CPVcodes_3digit_str'] = corpus_42['CPVcodes_3digit'].astype(str)"
   ]
  },
  {
   "cell_type": "code",
   "execution_count": 24,
   "id": "580b8dab",
   "metadata": {},
   "outputs": [],
   "source": [
    "X_embeddings = np.array(corpus_42['Normalized_Embedding'].tolist())  # Assuming this is a list of lists\n",
    "X_cpv_1digit = corpus_42['CPVcodes_1digit_str'].astype('category').cat.codes.values\n",
    "X_cpv_2digit = corpus_42['CPVcodes_2digit_str'].astype('category').cat.codes.values\n",
    "X_cpv_3digit = corpus_42['CPVcodes_3digit_str'].astype('category').cat.codes.values\n",
    "y = corpus_42['Measurability_mean'].values"
   ]
  },
  {
   "cell_type": "code",
   "execution_count": 25,
   "id": "ea126aad",
   "metadata": {},
   "outputs": [],
   "source": [
    "X_train_embeddings, X_test_embeddings, X_train_cpv_1digit, X_test_cpv_1digit, X_train_cpv_2digit, X_test_cpv_2digit, X_train_cpv_3digit, X_test_cpv_3digit, y_train, y_test = train_test_split(\n",
    "    X_embeddings, X_cpv_1digit, X_cpv_2digit, X_cpv_3digit, y, test_size=0.3, random_state=42\n",
    ")"
   ]
  },
  {
   "cell_type": "code",
   "execution_count": 26,
   "id": "cf737b71",
   "metadata": {},
   "outputs": [],
   "source": [
    "max_cpv_1digit = np.max(X_cpv_1digit) + 2\n",
    "max_cpv_2digit = np.max(X_cpv_2digit) + 12\n",
    "max_cpv_3digit = np.max(X_cpv_3digit) + 45\n",
    "embedding_dim = X_embeddings.shape[1]"
   ]
  },
  {
   "cell_type": "code",
   "execution_count": 27,
   "id": "fd1d30cb",
   "metadata": {},
   "outputs": [],
   "source": [
    "from tensorflow.keras.layers import Dropout"
   ]
  },
  {
   "cell_type": "code",
   "execution_count": 28,
   "id": "24cf196b",
   "metadata": {},
   "outputs": [],
   "source": [
    "custom_learning_rate = 0.001\n"
   ]
  },
  {
   "cell_type": "code",
   "execution_count": 29,
   "id": "fb0463e0",
   "metadata": {},
   "outputs": [],
   "source": [
    "adam_optimizer = Adam(learning_rate=custom_learning_rate)\n"
   ]
  },
  {
   "cell_type": "code",
   "execution_count": 30,
   "id": "4342e4ae",
   "metadata": {},
   "outputs": [],
   "source": [
    "def create_model(max_cpv_1digit, max_cpv_2digit, max_cpv_3digit, embedding_dim):\n",
    "    input_cpv_1digit = Input(shape=(1,), name='cpv_1digit_input')\n",
    "    input_cpv_2digit = Input(shape=(1,), name='cpv_2digit_input')\n",
    "    input_cpv_3digit = Input(shape=(1,), name='cpv_3digit_input')\n",
    "    input_embeddings = Input(shape=(embedding_dim,), name='embeddings_input')\n",
    "\n",
    "    embedding_cpv_1digit = Embedding(max_cpv_1digit, 4, name='cpv_1digit_embedding')(input_cpv_1digit)\n",
    "    embedding_cpv_2digit = Embedding(max_cpv_2digit, 8, name='cpv_2digit_embedding')(input_cpv_2digit)\n",
    "    embedding_cpv_3digit = Embedding(max_cpv_3digit, 12, name='cpv_3digit_embedding')(input_cpv_3digit)\n",
    "\n",
    "    flat_cpv_1digit = Flatten()(embedding_cpv_1digit)\n",
    "    flat_cpv_2digit = Flatten()(embedding_cpv_2digit)\n",
    "    flat_cpv_3digit = Flatten()(embedding_cpv_3digit)\n",
    "\n",
    "    concatenated = Concatenate()([flat_cpv_1digit, flat_cpv_2digit, flat_cpv_3digit, input_embeddings])\n",
    "\n",
    "    # Using ELU as the activation function\n",
    "    dense_layer = Dense(64, activation='relu')(concatenated)\n",
    "    \n",
    "    output_layer = Dense(1)(dense_layer)\n",
    "\n",
    "    model = Model(inputs=[input_cpv_1digit, input_cpv_2digit, input_cpv_3digit, input_embeddings], outputs=output_layer)\n",
    "    model.compile(optimizer=adam_optimizer, loss='mean_squared_error')\n",
    "    \n",
    "    return model\n"
   ]
  },
  {
   "cell_type": "code",
   "execution_count": 31,
   "id": "091dd459",
   "metadata": {
    "collapsed": true
   },
   "outputs": [
    {
     "name": "stdout",
     "output_type": "stream",
     "text": [
      "WARNING:tensorflow:From C:\\Users\\blunds\\AppData\\Local\\anaconda3\\Lib\\site-packages\\keras\\src\\backend.py:1398: The name tf.executing_eagerly_outside_functions is deprecated. Please use tf.compat.v1.executing_eagerly_outside_functions instead.\n",
      "\n"
     ]
    }
   ],
   "source": [
    "model = create_model(max_cpv_1digit, max_cpv_2digit, max_cpv_3digit, embedding_dim)\n"
   ]
  },
  {
   "cell_type": "code",
   "execution_count": 32,
   "id": "91226d6a",
   "metadata": {
    "scrolled": true
   },
   "outputs": [
    {
     "name": "stdout",
     "output_type": "stream",
     "text": [
      "Epoch 1/100\n",
      "WARNING:tensorflow:From C:\\Users\\blunds\\AppData\\Local\\anaconda3\\Lib\\site-packages\\keras\\src\\utils\\tf_utils.py:492: The name tf.ragged.RaggedTensorValue is deprecated. Please use tf.compat.v1.ragged.RaggedTensorValue instead.\n",
      "\n",
      "11/11 [==============================] - 1s 29ms/step - loss: 5.3406 - val_loss: 2.2980\n",
      "Epoch 2/100\n",
      "11/11 [==============================] - 0s 8ms/step - loss: 1.1257 - val_loss: 0.3114\n",
      "Epoch 3/100\n",
      "11/11 [==============================] - 0s 8ms/step - loss: 0.4548 - val_loss: 0.4665\n",
      "Epoch 4/100\n",
      "11/11 [==============================] - 0s 7ms/step - loss: 0.3955 - val_loss: 0.2312\n",
      "Epoch 5/100\n",
      "11/11 [==============================] - 0s 8ms/step - loss: 0.2527 - val_loss: 0.2099\n",
      "Epoch 6/100\n",
      "11/11 [==============================] - 0s 8ms/step - loss: 0.2024 - val_loss: 0.1453\n",
      "Epoch 7/100\n",
      "11/11 [==============================] - 0s 8ms/step - loss: 0.1429 - val_loss: 0.1120\n",
      "Epoch 8/100\n",
      "11/11 [==============================] - 0s 8ms/step - loss: 0.1065 - val_loss: 0.0861\n",
      "Epoch 9/100\n",
      "11/11 [==============================] - 0s 7ms/step - loss: 0.0815 - val_loss: 0.0733\n",
      "Epoch 10/100\n",
      "11/11 [==============================] - 0s 8ms/step - loss: 0.0694 - val_loss: 0.0652\n",
      "Epoch 11/100\n",
      "11/11 [==============================] - 0s 8ms/step - loss: 0.0615 - val_loss: 0.0593\n",
      "Epoch 12/100\n",
      "11/11 [==============================] - 0s 7ms/step - loss: 0.0561 - val_loss: 0.0549\n",
      "Epoch 13/100\n",
      "11/11 [==============================] - 0s 8ms/step - loss: 0.0518 - val_loss: 0.0508\n",
      "Epoch 14/100\n",
      "11/11 [==============================] - 0s 8ms/step - loss: 0.0483 - val_loss: 0.0477\n",
      "Epoch 15/100\n",
      "11/11 [==============================] - 0s 7ms/step - loss: 0.0453 - val_loss: 0.0451\n",
      "Epoch 16/100\n",
      "11/11 [==============================] - 0s 8ms/step - loss: 0.0428 - val_loss: 0.0429\n",
      "Epoch 17/100\n",
      "11/11 [==============================] - 0s 7ms/step - loss: 0.0401 - val_loss: 0.0407\n",
      "Epoch 18/100\n",
      "11/11 [==============================] - 0s 7ms/step - loss: 0.0386 - val_loss: 0.0392\n",
      "Epoch 19/100\n",
      "11/11 [==============================] - 0s 8ms/step - loss: 0.0365 - val_loss: 0.0377\n",
      "Epoch 20/100\n",
      "11/11 [==============================] - 0s 8ms/step - loss: 0.0347 - val_loss: 0.0362\n",
      "Epoch 21/100\n",
      "11/11 [==============================] - 0s 7ms/step - loss: 0.0333 - val_loss: 0.0351\n",
      "Epoch 22/100\n",
      "11/11 [==============================] - 0s 8ms/step - loss: 0.0318 - val_loss: 0.0342\n",
      "Epoch 23/100\n",
      "11/11 [==============================] - 0s 8ms/step - loss: 0.0305 - val_loss: 0.0330\n",
      "Epoch 24/100\n",
      "11/11 [==============================] - 0s 8ms/step - loss: 0.0296 - val_loss: 0.0324\n",
      "Epoch 25/100\n",
      "11/11 [==============================] - 0s 8ms/step - loss: 0.0288 - val_loss: 0.0314\n",
      "Epoch 26/100\n",
      "11/11 [==============================] - 0s 7ms/step - loss: 0.0275 - val_loss: 0.0309\n",
      "Epoch 27/100\n",
      "11/11 [==============================] - 0s 8ms/step - loss: 0.0266 - val_loss: 0.0303\n",
      "Epoch 28/100\n",
      "11/11 [==============================] - 0s 8ms/step - loss: 0.0259 - val_loss: 0.0299\n",
      "Epoch 29/100\n",
      "11/11 [==============================] - 0s 8ms/step - loss: 0.0251 - val_loss: 0.0292\n",
      "Epoch 30/100\n",
      "11/11 [==============================] - 0s 7ms/step - loss: 0.0242 - val_loss: 0.0288\n",
      "Epoch 31/100\n",
      "11/11 [==============================] - 0s 8ms/step - loss: 0.0238 - val_loss: 0.0280\n",
      "Epoch 32/100\n",
      "11/11 [==============================] - 0s 7ms/step - loss: 0.0231 - val_loss: 0.0278\n",
      "Epoch 33/100\n",
      "11/11 [==============================] - 0s 7ms/step - loss: 0.0224 - val_loss: 0.0272\n",
      "Epoch 34/100\n",
      "11/11 [==============================] - 0s 7ms/step - loss: 0.0222 - val_loss: 0.0271\n",
      "Epoch 35/100\n",
      "11/11 [==============================] - 0s 7ms/step - loss: 0.0220 - val_loss: 0.0268\n",
      "Epoch 36/100\n",
      "11/11 [==============================] - 0s 7ms/step - loss: 0.0210 - val_loss: 0.0269\n",
      "Epoch 37/100\n",
      "11/11 [==============================] - 0s 8ms/step - loss: 0.0207 - val_loss: 0.0261\n",
      "Epoch 38/100\n",
      "11/11 [==============================] - 0s 8ms/step - loss: 0.0200 - val_loss: 0.0263\n",
      "Epoch 39/100\n",
      "11/11 [==============================] - 0s 7ms/step - loss: 0.0196 - val_loss: 0.0257\n",
      "Epoch 40/100\n",
      "11/11 [==============================] - 0s 8ms/step - loss: 0.0193 - val_loss: 0.0255\n",
      "Epoch 41/100\n",
      "11/11 [==============================] - 0s 7ms/step - loss: 0.0189 - val_loss: 0.0250\n",
      "Epoch 42/100\n",
      "11/11 [==============================] - 0s 8ms/step - loss: 0.0188 - val_loss: 0.0251\n",
      "Epoch 43/100\n",
      "11/11 [==============================] - 0s 8ms/step - loss: 0.0182 - val_loss: 0.0246\n",
      "Epoch 44/100\n",
      "11/11 [==============================] - 0s 8ms/step - loss: 0.0179 - val_loss: 0.0245\n",
      "Epoch 45/100\n",
      "11/11 [==============================] - 0s 8ms/step - loss: 0.0174 - val_loss: 0.0242\n",
      "Epoch 46/100\n",
      "11/11 [==============================] - 0s 7ms/step - loss: 0.0172 - val_loss: 0.0242\n",
      "Epoch 47/100\n",
      "11/11 [==============================] - 0s 8ms/step - loss: 0.0169 - val_loss: 0.0241\n",
      "Epoch 48/100\n",
      "11/11 [==============================] - 0s 7ms/step - loss: 0.0166 - val_loss: 0.0238\n",
      "Epoch 49/100\n",
      "11/11 [==============================] - 0s 7ms/step - loss: 0.0166 - val_loss: 0.0237\n",
      "Epoch 50/100\n",
      "11/11 [==============================] - 0s 7ms/step - loss: 0.0162 - val_loss: 0.0234\n",
      "Epoch 51/100\n",
      "11/11 [==============================] - 0s 7ms/step - loss: 0.0160 - val_loss: 0.0233\n",
      "Epoch 52/100\n",
      "11/11 [==============================] - 0s 8ms/step - loss: 0.0156 - val_loss: 0.0233\n",
      "Epoch 53/100\n",
      "11/11 [==============================] - 0s 8ms/step - loss: 0.0152 - val_loss: 0.0233\n",
      "Epoch 54/100\n",
      "11/11 [==============================] - 0s 8ms/step - loss: 0.0150 - val_loss: 0.0230\n",
      "Epoch 55/100\n",
      "11/11 [==============================] - 0s 8ms/step - loss: 0.0148 - val_loss: 0.0230\n",
      "Epoch 56/100\n",
      "11/11 [==============================] - 0s 8ms/step - loss: 0.0146 - val_loss: 0.0228\n",
      "Epoch 57/100\n",
      "11/11 [==============================] - 0s 7ms/step - loss: 0.0144 - val_loss: 0.0228\n",
      "Epoch 58/100\n",
      "11/11 [==============================] - 0s 10ms/step - loss: 0.0141 - val_loss: 0.0226\n",
      "Epoch 59/100\n",
      "11/11 [==============================] - 0s 7ms/step - loss: 0.0140 - val_loss: 0.0227\n",
      "Epoch 60/100\n",
      "11/11 [==============================] - 0s 8ms/step - loss: 0.0137 - val_loss: 0.0226\n",
      "Epoch 61/100\n",
      "11/11 [==============================] - 0s 8ms/step - loss: 0.0135 - val_loss: 0.0222\n",
      "Epoch 62/100\n",
      "11/11 [==============================] - 0s 8ms/step - loss: 0.0135 - val_loss: 0.0223\n",
      "Epoch 63/100\n",
      "11/11 [==============================] - 0s 8ms/step - loss: 0.0132 - val_loss: 0.0225\n",
      "Epoch 64/100\n",
      "11/11 [==============================] - 0s 7ms/step - loss: 0.0129 - val_loss: 0.0222\n",
      "Epoch 65/100\n",
      "11/11 [==============================] - 0s 7ms/step - loss: 0.0128 - val_loss: 0.0219\n",
      "Epoch 66/100\n",
      "11/11 [==============================] - 0s 7ms/step - loss: 0.0127 - val_loss: 0.0227\n",
      "Epoch 67/100\n",
      "11/11 [==============================] - 0s 8ms/step - loss: 0.0128 - val_loss: 0.0220\n",
      "Epoch 68/100\n",
      "11/11 [==============================] - 0s 7ms/step - loss: 0.0122 - val_loss: 0.0224\n",
      "Epoch 69/100\n",
      "11/11 [==============================] - 0s 8ms/step - loss: 0.0124 - val_loss: 0.0219\n",
      "Epoch 70/100\n",
      "11/11 [==============================] - 0s 8ms/step - loss: 0.0121 - val_loss: 0.0216\n",
      "Epoch 71/100\n",
      "11/11 [==============================] - 0s 7ms/step - loss: 0.0119 - val_loss: 0.0218\n",
      "Epoch 72/100\n",
      "11/11 [==============================] - 0s 7ms/step - loss: 0.0115 - val_loss: 0.0217\n",
      "Epoch 73/100\n",
      "11/11 [==============================] - 0s 8ms/step - loss: 0.0116 - val_loss: 0.0222\n",
      "Epoch 74/100\n",
      "11/11 [==============================] - 0s 7ms/step - loss: 0.0117 - val_loss: 0.0218\n",
      "Epoch 75/100\n",
      "11/11 [==============================] - 0s 8ms/step - loss: 0.0116 - val_loss: 0.0227\n",
      "Epoch 76/100\n",
      "11/11 [==============================] - 0s 7ms/step - loss: 0.0112 - val_loss: 0.0217\n",
      "Epoch 77/100\n",
      "11/11 [==============================] - 0s 7ms/step - loss: 0.0109 - val_loss: 0.0214\n",
      "Epoch 78/100\n",
      "11/11 [==============================] - 0s 8ms/step - loss: 0.0107 - val_loss: 0.0213\n",
      "Epoch 79/100\n",
      "11/11 [==============================] - 0s 7ms/step - loss: 0.0108 - val_loss: 0.0214\n",
      "Epoch 80/100\n",
      "11/11 [==============================] - 0s 7ms/step - loss: 0.0105 - val_loss: 0.0222\n",
      "Epoch 81/100\n",
      "11/11 [==============================] - 0s 7ms/step - loss: 0.0105 - val_loss: 0.0213\n",
      "Epoch 82/100\n",
      "11/11 [==============================] - 0s 7ms/step - loss: 0.0101 - val_loss: 0.0215\n",
      "Epoch 83/100\n",
      "11/11 [==============================] - 0s 7ms/step - loss: 0.0101 - val_loss: 0.0212\n",
      "Epoch 84/100\n",
      "11/11 [==============================] - 0s 8ms/step - loss: 0.0099 - val_loss: 0.0212\n",
      "Epoch 85/100\n",
      "11/11 [==============================] - 0s 7ms/step - loss: 0.0098 - val_loss: 0.0213\n",
      "Epoch 86/100\n",
      "11/11 [==============================] - 0s 8ms/step - loss: 0.0100 - val_loss: 0.0217\n",
      "Epoch 87/100\n",
      "11/11 [==============================] - 0s 7ms/step - loss: 0.0094 - val_loss: 0.0212\n",
      "Epoch 88/100\n",
      "11/11 [==============================] - 0s 8ms/step - loss: 0.0093 - val_loss: 0.0212\n",
      "Epoch 89/100\n",
      "11/11 [==============================] - 0s 7ms/step - loss: 0.0091 - val_loss: 0.0213\n",
      "Epoch 90/100\n",
      "11/11 [==============================] - 0s 7ms/step - loss: 0.0089 - val_loss: 0.0210\n",
      "Epoch 91/100\n",
      "11/11 [==============================] - 0s 7ms/step - loss: 0.0088 - val_loss: 0.0213\n",
      "Epoch 92/100\n",
      "11/11 [==============================] - 0s 7ms/step - loss: 0.0089 - val_loss: 0.0209\n",
      "Epoch 93/100\n",
      "11/11 [==============================] - 0s 7ms/step - loss: 0.0086 - val_loss: 0.0214\n",
      "Epoch 94/100\n",
      "11/11 [==============================] - 0s 7ms/step - loss: 0.0087 - val_loss: 0.0209\n",
      "Epoch 95/100\n",
      "11/11 [==============================] - 0s 7ms/step - loss: 0.0087 - val_loss: 0.0208\n",
      "Epoch 96/100\n",
      "11/11 [==============================] - 0s 7ms/step - loss: 0.0085 - val_loss: 0.0213\n",
      "Epoch 97/100\n",
      "11/11 [==============================] - 0s 7ms/step - loss: 0.0083 - val_loss: 0.0208\n",
      "Epoch 98/100\n",
      "11/11 [==============================] - 0s 7ms/step - loss: 0.0081 - val_loss: 0.0205\n",
      "Epoch 99/100\n",
      "11/11 [==============================] - 0s 7ms/step - loss: 0.0081 - val_loss: 0.0211\n",
      "Epoch 100/100\n",
      "11/11 [==============================] - 0s 8ms/step - loss: 0.0078 - val_loss: 0.0207\n"
     ]
    },
    {
     "data": {
      "text/plain": [
       "<keras.src.callbacks.History at 0x1c33a7db950>"
      ]
     },
     "execution_count": 32,
     "metadata": {},
     "output_type": "execute_result"
    }
   ],
   "source": [
    "model.fit(\n",
    "    [X_train_cpv_1digit, X_train_cpv_2digit, X_train_cpv_3digit, X_train_embeddings],\n",
    "    y_train,\n",
    "    epochs=100,\n",
    "    batch_size=64,\n",
    "    validation_split=0.3\n",
    ")"
   ]
  },
  {
   "cell_type": "code",
   "execution_count": 33,
   "id": "00df0b61",
   "metadata": {},
   "outputs": [
    {
     "name": "stdout",
     "output_type": "stream",
     "text": [
      "13/13 [==============================] - 0s 2ms/step - loss: 0.0366\n"
     ]
    }
   ],
   "source": [
    "test_metrics = model.evaluate(\n",
    "    [X_test_cpv_1digit, X_test_cpv_2digit, X_test_cpv_3digit, X_test_embeddings],\n",
    "    y_test\n",
    ")"
   ]
  },
  {
   "cell_type": "code",
   "execution_count": 34,
   "id": "68aee085",
   "metadata": {},
   "outputs": [
    {
     "name": "stdout",
     "output_type": "stream",
     "text": [
      "Test Loss: 0.036571089178323746\n"
     ]
    }
   ],
   "source": [
    "print(f\"Test Loss: {test_metrics}\")"
   ]
  },
  {
   "cell_type": "code",
   "execution_count": 35,
   "id": "233b8bdb",
   "metadata": {},
   "outputs": [
    {
     "name": "stdout",
     "output_type": "stream",
     "text": [
      "13/13 [==============================] - 0s 2ms/step\n"
     ]
    }
   ],
   "source": [
    "y_pred = model.predict([X_test_cpv_1digit, X_test_cpv_2digit, X_test_cpv_3digit, X_test_embeddings])"
   ]
  },
  {
   "cell_type": "code",
   "execution_count": 36,
   "id": "bf0ecc5e",
   "metadata": {},
   "outputs": [
    {
     "name": "stdout",
     "output_type": "stream",
     "text": [
      "Mean Absolute Error (MAE): 0.12112464807671983\n"
     ]
    }
   ],
   "source": [
    "mae = mean_absolute_error(y_test, y_pred)\n",
    "print(f\"Mean Absolute Error (MAE): {mae}\")"
   ]
  },
  {
   "cell_type": "code",
   "execution_count": 37,
   "id": "dcbffeee",
   "metadata": {},
   "outputs": [
    {
     "name": "stdout",
     "output_type": "stream",
     "text": [
      "R-squared (R²): 0.8252552764264065\n"
     ]
    }
   ],
   "source": [
    "r2 = r2_score(y_test, y_pred)\n",
    "print(f\"R-squared (R²): {r2}\")"
   ]
  },
  {
   "cell_type": "markdown",
   "id": "14bd272b",
   "metadata": {},
   "source": [
    "### First validation"
   ]
  },
  {
   "cell_type": "code",
   "execution_count": 38,
   "id": "381cde37",
   "metadata": {},
   "outputs": [],
   "source": [
    "corpus_18['CPVcodes_1digit_str'] = corpus_18['CPVcodes_1digit'].astype(str)\n",
    "corpus_18['CPVcodes_2digit_str'] = corpus_18['CPVcodes_2digit'].astype(str)\n",
    "corpus_18['CPVcodes_3digit_str'] = corpus_18['CPVcodes_3digit'].astype(str)"
   ]
  },
  {
   "cell_type": "code",
   "execution_count": 39,
   "id": "53453be7",
   "metadata": {},
   "outputs": [],
   "source": [
    "X_18_embeddings = np.array(corpus_18['Normalized_Embedding'].tolist())  # Adjusted for corpus_18\n",
    "X_18_cpv_1digit = corpus_18['CPVcodes_1digit_str'].astype('category').cat.codes.values\n",
    "X_18_cpv_2digit = corpus_18['CPVcodes_2digit_str'].astype('category').cat.codes.values\n",
    "X_18_cpv_3digit = corpus_18['CPVcodes_3digit_str'].astype('category').cat.codes.values"
   ]
  },
  {
   "cell_type": "code",
   "execution_count": 40,
   "id": "7f26fd53",
   "metadata": {
    "scrolled": false
   },
   "outputs": [
    {
     "name": "stdout",
     "output_type": "stream",
     "text": [
      "13/13 [==============================] - 0s 2ms/step\n"
     ]
    }
   ],
   "source": [
    "y_pred_18 = model.predict([X_18_cpv_1digit, X_18_cpv_2digit, X_18_cpv_3digit, X_18_embeddings])\n"
   ]
  },
  {
   "cell_type": "code",
   "execution_count": 41,
   "id": "018f00af",
   "metadata": {},
   "outputs": [],
   "source": [
    "y_18 = corpus_18['Measurability_mean'].values"
   ]
  },
  {
   "cell_type": "code",
   "execution_count": 42,
   "id": "3eccf93a",
   "metadata": {},
   "outputs": [],
   "source": [
    "mae_18 = mean_absolute_error(y_18, y_pred_18)\n",
    "r2_18 = r2_score(y_18, y_pred_18)"
   ]
  },
  {
   "cell_type": "code",
   "execution_count": 43,
   "id": "8f8839b7",
   "metadata": {},
   "outputs": [
    {
     "name": "stdout",
     "output_type": "stream",
     "text": [
      "Mean Absolute Error (MAE) on corpus_18: 0.24719812836468064\n",
      "R-squared (R²) on corpus_18: 0.4254265930483144\n"
     ]
    }
   ],
   "source": [
    "print(f\"Mean Absolute Error (MAE) on corpus_18: {mae_18}\")\n",
    "print(f\"R-squared (R²) on corpus_18: {r2_18}\")"
   ]
  },
  {
   "cell_type": "markdown",
   "id": "b6f70853",
   "metadata": {},
   "source": [
    "### Unsupervised Domain Adaptation"
   ]
  },
  {
   "cell_type": "code",
   "execution_count": 44,
   "id": "40cc3401",
   "metadata": {},
   "outputs": [],
   "source": [
    "pseudo_labels = y_pred_18\n"
   ]
  },
  {
   "cell_type": "code",
   "execution_count": 45,
   "id": "2d33b99a",
   "metadata": {},
   "outputs": [],
   "source": [
    "pseudo_labels_flat = pseudo_labels.flatten()"
   ]
  },
  {
   "cell_type": "code",
   "execution_count": 46,
   "id": "717f5dae",
   "metadata": {},
   "outputs": [],
   "source": [
    "X_train_combined = np.concatenate([X_train_embeddings, X_18_embeddings], axis=0)\n",
    "X_cpv_1digit_combined = np.concatenate([X_train_cpv_1digit, X_18_cpv_1digit], axis=0)\n",
    "X_cpv_2digit_combined = np.concatenate([X_train_cpv_2digit, X_18_cpv_2digit], axis=0)\n",
    "X_cpv_3digit_combined = np.concatenate([X_train_cpv_3digit, X_18_cpv_3digit], axis=0)\n",
    "y_combined = np.concatenate([y_train, pseudo_labels_flat], axis=0)"
   ]
  },
  {
   "cell_type": "code",
   "execution_count": 47,
   "id": "d065549b",
   "metadata": {},
   "outputs": [
    {
     "name": "stdout",
     "output_type": "stream",
     "text": [
      "Epoch 1/10\n",
      "8/8 [==============================] - 0s 21ms/step - loss: 0.0106 - val_loss: 6.8208e-04\n",
      "Epoch 2/10\n",
      "8/8 [==============================] - 0s 9ms/step - loss: 0.0098 - val_loss: 3.5778e-04\n",
      "Epoch 3/10\n",
      "8/8 [==============================] - 0s 9ms/step - loss: 0.0092 - val_loss: 2.6914e-04\n",
      "Epoch 4/10\n",
      "8/8 [==============================] - 0s 9ms/step - loss: 0.0088 - val_loss: 2.2810e-04\n",
      "Epoch 5/10\n",
      "8/8 [==============================] - 0s 10ms/step - loss: 0.0089 - val_loss: 4.3443e-04\n",
      "Epoch 6/10\n",
      "8/8 [==============================] - 0s 9ms/step - loss: 0.0089 - val_loss: 9.6853e-04\n",
      "Epoch 7/10\n",
      "8/8 [==============================] - 0s 9ms/step - loss: 0.0086 - val_loss: 8.8835e-04\n",
      "Epoch 8/10\n",
      "8/8 [==============================] - 0s 10ms/step - loss: 0.0084 - val_loss: 8.2651e-04\n",
      "Epoch 9/10\n",
      "8/8 [==============================] - 0s 10ms/step - loss: 0.0084 - val_loss: 5.3931e-04\n",
      "Epoch 10/10\n",
      "8/8 [==============================] - 0s 9ms/step - loss: 0.0083 - val_loss: 6.0963e-04\n"
     ]
    },
    {
     "data": {
      "text/plain": [
       "<keras.src.callbacks.History at 0x1c33b14ed10>"
      ]
     },
     "execution_count": 47,
     "metadata": {},
     "output_type": "execute_result"
    }
   ],
   "source": [
    "model.fit(\n",
    "    [X_cpv_1digit_combined, X_cpv_2digit_combined, X_cpv_3digit_combined, X_train_combined],\n",
    "    y_combined,\n",
    "    epochs=10,\n",
    "    batch_size=150,\n",
    "    validation_split=0.2\n",
    ")\n"
   ]
  },
  {
   "cell_type": "code",
   "execution_count": 48,
   "id": "91fabec7",
   "metadata": {},
   "outputs": [
    {
     "name": "stdout",
     "output_type": "stream",
     "text": [
      "13/13 [==============================] - 0s 2ms/step - loss: 0.0329\n"
     ]
    }
   ],
   "source": [
    "test_metrics = model.evaluate(\n",
    "    [X_test_cpv_1digit, X_test_cpv_2digit, X_test_cpv_3digit, X_test_embeddings],\n",
    "    y_test\n",
    ")"
   ]
  },
  {
   "cell_type": "code",
   "execution_count": 49,
   "id": "bfd4c2e5",
   "metadata": {},
   "outputs": [
    {
     "name": "stdout",
     "output_type": "stream",
     "text": [
      "13/13 [==============================] - 0s 2ms/step\n"
     ]
    }
   ],
   "source": [
    "y_pred_test = model.predict([X_test_cpv_1digit, X_test_cpv_2digit, X_test_cpv_3digit, X_test_embeddings])\n"
   ]
  },
  {
   "cell_type": "code",
   "execution_count": 50,
   "id": "80021b9e",
   "metadata": {},
   "outputs": [
    {
     "name": "stdout",
     "output_type": "stream",
     "text": [
      "Mean Absolute Error (MAE): 0.11403227651270974\n"
     ]
    }
   ],
   "source": [
    "mae_test = mean_absolute_error(y_test, y_pred_test)\n",
    "print(f\"Mean Absolute Error (MAE): {mae_test}\")"
   ]
  },
  {
   "cell_type": "code",
   "execution_count": 48,
   "id": "9ffbf735",
   "metadata": {
    "scrolled": true
   },
   "outputs": [
    {
     "name": "stdout",
     "output_type": "stream",
     "text": [
      "R-squared (R²): 0.8429390543078404\n"
     ]
    }
   ],
   "source": [
    "r2 = r2_score(y_test, y_pred_test)\n",
    "print(f\"R-squared (R²): {r2}\")"
   ]
  },
  {
   "cell_type": "code",
   "execution_count": 55,
   "id": "567c1c7e",
   "metadata": {},
   "outputs": [
    {
     "name": "stdout",
     "output_type": "stream",
     "text": [
      "Mean Squared Error (MSE): 0.03287017715984365\n"
     ]
    }
   ],
   "source": [
    "mse_test = mean_squared_error(y_test, y_pred_test)\n",
    "print(f\"Mean Squared Error (MSE): {mse_test}\")"
   ]
  },
  {
   "cell_type": "code",
   "execution_count": 49,
   "id": "a0b8ad05",
   "metadata": {},
   "outputs": [
    {
     "name": "stdout",
     "output_type": "stream",
     "text": [
      "43/43 [==============================] - 0s 1ms/step\n"
     ]
    }
   ],
   "source": [
    "y_pred_full_corpus = model.predict([X_cpv_1digit, X_cpv_2digit, X_cpv_3digit, X_embeddings])\n"
   ]
  },
  {
   "cell_type": "code",
   "execution_count": 50,
   "id": "c9320aff",
   "metadata": {},
   "outputs": [],
   "source": [
    "y_pred_full_corpus_flat = y_pred_full_corpus.flatten()"
   ]
  },
  {
   "cell_type": "code",
   "execution_count": 51,
   "id": "b181a67d",
   "metadata": {},
   "outputs": [],
   "source": [
    "corpus_42['Predicted_Measurability'] = y_pred_full_corpus_flat"
   ]
  },
  {
   "cell_type": "code",
   "execution_count": 52,
   "id": "e8ea1f66",
   "metadata": {},
   "outputs": [],
   "source": [
    "corpus_42['absolute_error'] = np.abs(corpus_42['Measurability_mean'] - corpus_42['Predicted_Measurability'])\n",
    "corpus_42['prediction_error'] = np.abs(corpus_42['Predicted_Measurability'] - corpus_42['Measurability_mean'])\n"
   ]
  },
  {
   "cell_type": "code",
   "execution_count": 53,
   "id": "2cd66e6c",
   "metadata": {},
   "outputs": [
    {
     "name": "stdout",
     "output_type": "stream",
     "text": [
      "count    1351.000000\n",
      "mean        0.077916\n",
      "std         0.100207\n",
      "min         0.000097\n",
      "25%         0.020120\n",
      "50%         0.049855\n",
      "75%         0.097275\n",
      "max         1.023496\n",
      "Name: prediction_error, dtype: float64\n"
     ]
    }
   ],
   "source": [
    "print(corpus_42['prediction_error'].describe())"
   ]
  },
  {
   "cell_type": "code",
   "execution_count": 54,
   "id": "6191d373",
   "metadata": {},
   "outputs": [],
   "source": [
    "corpus_42_sorted_by_error = corpus_42.sort_values('absolute_error', ascending=False)"
   ]
  },
  {
   "cell_type": "code",
   "execution_count": 55,
   "id": "b0ef37de",
   "metadata": {},
   "outputs": [
    {
     "data": {
      "text/html": [
       "<div>\n",
       "<style scoped>\n",
       "    .dataframe tbody tr th:only-of-type {\n",
       "        vertical-align: middle;\n",
       "    }\n",
       "\n",
       "    .dataframe tbody tr th {\n",
       "        vertical-align: top;\n",
       "    }\n",
       "\n",
       "    .dataframe thead th {\n",
       "        text-align: right;\n",
       "    }\n",
       "</style>\n",
       "<table border=\"1\" class=\"dataframe\">\n",
       "  <thead>\n",
       "    <tr style=\"text-align: right;\">\n",
       "      <th></th>\n",
       "      <th>doc_id</th>\n",
       "      <th>contract_type_code</th>\n",
       "      <th>Product_60codes</th>\n",
       "      <th>Measurability_mean</th>\n",
       "      <th>Asset_specificity_mean</th>\n",
       "      <th>Manuel_or_not</th>\n",
       "      <th>product_description_binary</th>\n",
       "      <th>CPVcodes_2digit</th>\n",
       "      <th>CPVcodes_3digit</th>\n",
       "      <th>clean_text</th>\n",
       "      <th>Embedding</th>\n",
       "      <th>Normalized_Embedding</th>\n",
       "      <th>Normalized_Embedding_mean</th>\n",
       "      <th>CPVcodes_1digit</th>\n",
       "      <th>CPVcodes_1digit_str</th>\n",
       "      <th>CPVcodes_2digit_str</th>\n",
       "      <th>CPVcodes_3digit_str</th>\n",
       "      <th>Predicted_Measurability</th>\n",
       "      <th>absolute_error</th>\n",
       "      <th>prediction_error</th>\n",
       "    </tr>\n",
       "  </thead>\n",
       "  <tbody>\n",
       "    <tr>\n",
       "      <th>428</th>\n",
       "      <td>185005-2022</td>\n",
       "      <td>4</td>\n",
       "      <td>30</td>\n",
       "      <td>3.723404</td>\n",
       "      <td>2.600000</td>\n",
       "      <td>not</td>\n",
       "      <td>Yes</td>\n",
       "      <td>79</td>\n",
       "      <td>799</td>\n",
       "      <td>lokalet skal være placeret på en adresse inden...</td>\n",
       "      <td>[0.026613215, -0.003674943, 0.011295931, -0.00...</td>\n",
       "      <td>[0.02661321360203879, -0.0036749428069595214, ...</td>\n",
       "      <td>[0.02661321360203879, -0.0036749428069595214, ...</td>\n",
       "      <td>7</td>\n",
       "      <td>7</td>\n",
       "      <td>79</td>\n",
       "      <td>799</td>\n",
       "      <td>2.699908</td>\n",
       "      <td>1.023496</td>\n",
       "      <td>1.023496</td>\n",
       "    </tr>\n",
       "    <tr>\n",
       "      <th>634</th>\n",
       "      <td>289554-2022</td>\n",
       "      <td>4</td>\n",
       "      <td>56</td>\n",
       "      <td>3.290698</td>\n",
       "      <td>2.531646</td>\n",
       "      <td>not</td>\n",
       "      <td>Yes</td>\n",
       "      <td>77</td>\n",
       "      <td>773</td>\n",
       "      <td>drift og vedligeholdelse af veje mindre repara...</td>\n",
       "      <td>[0.053412754, -0.017288446, -0.0029704645, 0.0...</td>\n",
       "      <td>[0.040426417224586265, -0.01308507573230037, -...</td>\n",
       "      <td>[0.02565708171490272, -0.046808362667422866, -...</td>\n",
       "      <td>7</td>\n",
       "      <td>7</td>\n",
       "      <td>77</td>\n",
       "      <td>773</td>\n",
       "      <td>2.417200</td>\n",
       "      <td>0.873498</td>\n",
       "      <td>0.873498</td>\n",
       "    </tr>\n",
       "    <tr>\n",
       "      <th>54</th>\n",
       "      <td>0000-009033</td>\n",
       "      <td>3</td>\n",
       "      <td>34</td>\n",
       "      <td>3.053571</td>\n",
       "      <td>1.898305</td>\n",
       "      <td>not</td>\n",
       "      <td>Yes</td>\n",
       "      <td>51</td>\n",
       "      <td>511</td>\n",
       "      <td>bilag 2 betingelser for opsætning af ladestand...</td>\n",
       "      <td>[0.026239788, -0.012995314, -0.006022693, -0.0...</td>\n",
       "      <td>[0.026239788537120962, -0.012995314266010366, ...</td>\n",
       "      <td>[0.026239788537120962, -0.012995314266010366, ...</td>\n",
       "      <td>5</td>\n",
       "      <td>5</td>\n",
       "      <td>51</td>\n",
       "      <td>511</td>\n",
       "      <td>2.199995</td>\n",
       "      <td>0.853576</td>\n",
       "      <td>0.853576</td>\n",
       "    </tr>\n",
       "    <tr>\n",
       "      <th>1127</th>\n",
       "      <td>575306-2021</td>\n",
       "      <td>4</td>\n",
       "      <td>17</td>\n",
       "      <td>2.855556</td>\n",
       "      <td>2.405941</td>\n",
       "      <td>not</td>\n",
       "      <td>Yes</td>\n",
       "      <td>66</td>\n",
       "      <td>665</td>\n",
       "      <td>the one high pressure steam turbines operate a...</td>\n",
       "      <td>[0.009211341, -0.008301167, -0.0036978791, -0....</td>\n",
       "      <td>[0.009211341215610855, -0.008301167194306314, ...</td>\n",
       "      <td>[0.009211341215610855, -0.008301167194306314, ...</td>\n",
       "      <td>6</td>\n",
       "      <td>6</td>\n",
       "      <td>66</td>\n",
       "      <td>665</td>\n",
       "      <td>2.040549</td>\n",
       "      <td>0.815007</td>\n",
       "      <td>0.815007</td>\n",
       "    </tr>\n",
       "    <tr>\n",
       "      <th>945</th>\n",
       "      <td>474183-2022</td>\n",
       "      <td>4</td>\n",
       "      <td>56</td>\n",
       "      <td>3.290698</td>\n",
       "      <td>2.531646</td>\n",
       "      <td>not</td>\n",
       "      <td>Yes</td>\n",
       "      <td>77</td>\n",
       "      <td>773</td>\n",
       "      <td>element 2. græs 2.1 rabatgræs by 2.2 rabatgræs...</td>\n",
       "      <td>[0.038562726, -0.047106367, -0.012252452, 0.00...</td>\n",
       "      <td>[0.0386379782863127, -0.04719829156510038, -0....</td>\n",
       "      <td>[0.04009370887290179, -0.051011758177237236, -...</td>\n",
       "      <td>7</td>\n",
       "      <td>7</td>\n",
       "      <td>77</td>\n",
       "      <td>773</td>\n",
       "      <td>2.476147</td>\n",
       "      <td>0.814551</td>\n",
       "      <td>0.814551</td>\n",
       "    </tr>\n",
       "  </tbody>\n",
       "</table>\n",
       "</div>"
      ],
      "text/plain": [
       "           doc_id  contract_type_code  Product_60codes  Measurability_mean  \\\n",
       "428   185005-2022                   4               30            3.723404   \n",
       "634   289554-2022                   4               56            3.290698   \n",
       "54    0000-009033                   3               34            3.053571   \n",
       "1127  575306-2021                   4               17            2.855556   \n",
       "945   474183-2022                   4               56            3.290698   \n",
       "\n",
       "      Asset_specificity_mean Manuel_or_not product_description_binary  \\\n",
       "428                 2.600000           not                        Yes   \n",
       "634                 2.531646           not                        Yes   \n",
       "54                  1.898305           not                        Yes   \n",
       "1127                2.405941           not                        Yes   \n",
       "945                 2.531646           not                        Yes   \n",
       "\n",
       "     CPVcodes_2digit  CPVcodes_3digit  \\\n",
       "428               79              799   \n",
       "634               77              773   \n",
       "54                51              511   \n",
       "1127              66              665   \n",
       "945               77              773   \n",
       "\n",
       "                                             clean_text  \\\n",
       "428   lokalet skal være placeret på en adresse inden...   \n",
       "634   drift og vedligeholdelse af veje mindre repara...   \n",
       "54    bilag 2 betingelser for opsætning af ladestand...   \n",
       "1127  the one high pressure steam turbines operate a...   \n",
       "945   element 2. græs 2.1 rabatgræs by 2.2 rabatgræs...   \n",
       "\n",
       "                                              Embedding  \\\n",
       "428   [0.026613215, -0.003674943, 0.011295931, -0.00...   \n",
       "634   [0.053412754, -0.017288446, -0.0029704645, 0.0...   \n",
       "54    [0.026239788, -0.012995314, -0.006022693, -0.0...   \n",
       "1127  [0.009211341, -0.008301167, -0.0036978791, -0....   \n",
       "945   [0.038562726, -0.047106367, -0.012252452, 0.00...   \n",
       "\n",
       "                                   Normalized_Embedding  \\\n",
       "428   [0.02661321360203879, -0.0036749428069595214, ...   \n",
       "634   [0.040426417224586265, -0.01308507573230037, -...   \n",
       "54    [0.026239788537120962, -0.012995314266010366, ...   \n",
       "1127  [0.009211341215610855, -0.008301167194306314, ...   \n",
       "945   [0.0386379782863127, -0.04719829156510038, -0....   \n",
       "\n",
       "                              Normalized_Embedding_mean  CPVcodes_1digit  \\\n",
       "428   [0.02661321360203879, -0.0036749428069595214, ...                7   \n",
       "634   [0.02565708171490272, -0.046808362667422866, -...                7   \n",
       "54    [0.026239788537120962, -0.012995314266010366, ...                5   \n",
       "1127  [0.009211341215610855, -0.008301167194306314, ...                6   \n",
       "945   [0.04009370887290179, -0.051011758177237236, -...                7   \n",
       "\n",
       "     CPVcodes_1digit_str CPVcodes_2digit_str CPVcodes_3digit_str  \\\n",
       "428                    7                  79                 799   \n",
       "634                    7                  77                 773   \n",
       "54                     5                  51                 511   \n",
       "1127                   6                  66                 665   \n",
       "945                    7                  77                 773   \n",
       "\n",
       "      Predicted_Measurability  absolute_error  prediction_error  \n",
       "428                  2.699908        1.023496          1.023496  \n",
       "634                  2.417200        0.873498          0.873498  \n",
       "54                   2.199995        0.853576          0.853576  \n",
       "1127                 2.040549        0.815007          0.815007  \n",
       "945                  2.476147        0.814551          0.814551  "
      ]
     },
     "execution_count": 55,
     "metadata": {},
     "output_type": "execute_result"
    }
   ],
   "source": [
    "corpus_42_sorted_by_error.head()"
   ]
  },
  {
   "cell_type": "code",
   "execution_count": 56,
   "id": "cdc1199c",
   "metadata": {},
   "outputs": [],
   "source": [
    "selected_columns_df = corpus_42_sorted_by_error[['doc_id', 'clean_text', 'contract_type_code', 'Product_60codes','CPVcodes_2digit', 'CPVcodes_3digit', 'Measurability_mean', 'prediction_error', 'Predicted_Measurability']]"
   ]
  },
  {
   "cell_type": "code",
   "execution_count": 57,
   "id": "e31fc07f",
   "metadata": {},
   "outputs": [],
   "source": [
    "def truncate_text(text):\n",
    "    MAX_LENGTH = 30000  # Excel's maximum cell character limit\n",
    "    if isinstance(text, str) and len(text) > MAX_LENGTH:\n",
    "        return text[:MAX_LENGTH]\n",
    "    return text"
   ]
  },
  {
   "cell_type": "code",
   "execution_count": 58,
   "id": "4ac6c5b6",
   "metadata": {
    "collapsed": true
   },
   "outputs": [
    {
     "name": "stderr",
     "output_type": "stream",
     "text": [
      "C:\\Users\\blunds\\AppData\\Local\\Temp\\ipykernel_13204\\3609653640.py:1: SettingWithCopyWarning: \n",
      "A value is trying to be set on a copy of a slice from a DataFrame.\n",
      "Try using .loc[row_indexer,col_indexer] = value instead\n",
      "\n",
      "See the caveats in the documentation: https://pandas.pydata.org/pandas-docs/stable/user_guide/indexing.html#returning-a-view-versus-a-copy\n",
      "  selected_columns_df['clean_text'] = selected_columns_df['clean_text'].apply(truncate_text)\n"
     ]
    }
   ],
   "source": [
    "selected_columns_df['clean_text'] = selected_columns_df['clean_text'].apply(truncate_text)"
   ]
  },
  {
   "cell_type": "code",
   "execution_count": 59,
   "id": "c9d8e78c",
   "metadata": {
    "collapsed": true
   },
   "outputs": [
    {
     "name": "stderr",
     "output_type": "stream",
     "text": [
      "C:\\Users\\blunds\\AppData\\Local\\Temp\\ipykernel_13204\\1483379789.py:2: SettingWithCopyWarning: \n",
      "A value is trying to be set on a copy of a slice from a DataFrame.\n",
      "Try using .loc[row_indexer,col_indexer] = value instead\n",
      "\n",
      "See the caveats in the documentation: https://pandas.pydata.org/pandas-docs/stable/user_guide/indexing.html#returning-a-view-versus-a-copy\n",
      "  selected_columns_df[col] = selected_columns_df[col].apply(lambda x: f'{x:.2f}'.replace('.', ','))\n",
      "C:\\Users\\blunds\\AppData\\Local\\Temp\\ipykernel_13204\\1483379789.py:2: SettingWithCopyWarning: \n",
      "A value is trying to be set on a copy of a slice from a DataFrame.\n",
      "Try using .loc[row_indexer,col_indexer] = value instead\n",
      "\n",
      "See the caveats in the documentation: https://pandas.pydata.org/pandas-docs/stable/user_guide/indexing.html#returning-a-view-versus-a-copy\n",
      "  selected_columns_df[col] = selected_columns_df[col].apply(lambda x: f'{x:.2f}'.replace('.', ','))\n",
      "C:\\Users\\blunds\\AppData\\Local\\Temp\\ipykernel_13204\\1483379789.py:2: SettingWithCopyWarning: \n",
      "A value is trying to be set on a copy of a slice from a DataFrame.\n",
      "Try using .loc[row_indexer,col_indexer] = value instead\n",
      "\n",
      "See the caveats in the documentation: https://pandas.pydata.org/pandas-docs/stable/user_guide/indexing.html#returning-a-view-versus-a-copy\n",
      "  selected_columns_df[col] = selected_columns_df[col].apply(lambda x: f'{x:.2f}'.replace('.', ','))\n"
     ]
    }
   ],
   "source": [
    "for col in selected_columns_df.select_dtypes(include=['float', 'float64']).columns:\n",
    "    selected_columns_df[col] = selected_columns_df[col].apply(lambda x: f'{x:.2f}'.replace('.', ','))\n"
   ]
  },
  {
   "cell_type": "code",
   "execution_count": 60,
   "id": "b07452b3",
   "metadata": {},
   "outputs": [],
   "source": [
    "selected_columns_df.to_csv('Corpus_42_measurebility_errors.csv', index=False, encoding='utf-16', sep='\\t')"
   ]
  },
  {
   "cell_type": "code",
   "execution_count": 61,
   "id": "fcc8d660",
   "metadata": {},
   "outputs": [],
   "source": [
    "mean_values_df = corpus_42.groupby('Product_60codes').agg({\n",
    "    'Measurability_mean': 'mean',\n",
    "    'Predicted_Measurability': 'mean'\n",
    "}).reset_index()"
   ]
  },
  {
   "cell_type": "code",
   "execution_count": 62,
   "id": "0b4ddead",
   "metadata": {},
   "outputs": [],
   "source": [
    "mean_values_df['difference'] = mean_values_df['Measurability_mean'] - mean_values_df['Predicted_Measurability']"
   ]
  },
  {
   "cell_type": "code",
   "execution_count": 63,
   "id": "3a4c80d1",
   "metadata": {},
   "outputs": [],
   "source": [
    "mean_values_df = mean_values_df.sort_values('difference', ascending=False)"
   ]
  },
  {
   "cell_type": "code",
   "execution_count": 64,
   "id": "8646f073",
   "metadata": {
    "scrolled": true
   },
   "outputs": [
    {
     "data": {
      "text/html": [
       "<div>\n",
       "<style scoped>\n",
       "    .dataframe tbody tr th:only-of-type {\n",
       "        vertical-align: middle;\n",
       "    }\n",
       "\n",
       "    .dataframe tbody tr th {\n",
       "        vertical-align: top;\n",
       "    }\n",
       "\n",
       "    .dataframe thead th {\n",
       "        text-align: right;\n",
       "    }\n",
       "</style>\n",
       "<table border=\"1\" class=\"dataframe\">\n",
       "  <thead>\n",
       "    <tr style=\"text-align: right;\">\n",
       "      <th></th>\n",
       "      <th>Product_60codes</th>\n",
       "      <th>Measurability_mean</th>\n",
       "      <th>Predicted_Measurability</th>\n",
       "      <th>difference</th>\n",
       "    </tr>\n",
       "  </thead>\n",
       "  <tbody>\n",
       "    <tr>\n",
       "      <th>21</th>\n",
       "      <td>30</td>\n",
       "      <td>3.723404</td>\n",
       "      <td>3.476799</td>\n",
       "      <td>0.246605</td>\n",
       "    </tr>\n",
       "    <tr>\n",
       "      <th>37</th>\n",
       "      <td>56</td>\n",
       "      <td>3.290698</td>\n",
       "      <td>3.127601</td>\n",
       "      <td>0.163097</td>\n",
       "    </tr>\n",
       "    <tr>\n",
       "      <th>24</th>\n",
       "      <td>34</td>\n",
       "      <td>3.053571</td>\n",
       "      <td>3.007499</td>\n",
       "      <td>0.046072</td>\n",
       "    </tr>\n",
       "    <tr>\n",
       "      <th>23</th>\n",
       "      <td>32</td>\n",
       "      <td>2.197917</td>\n",
       "      <td>2.157037</td>\n",
       "      <td>0.040880</td>\n",
       "    </tr>\n",
       "    <tr>\n",
       "      <th>10</th>\n",
       "      <td>17</td>\n",
       "      <td>2.855556</td>\n",
       "      <td>2.826545</td>\n",
       "      <td>0.029011</td>\n",
       "    </tr>\n",
       "    <tr>\n",
       "      <th>7</th>\n",
       "      <td>11</td>\n",
       "      <td>3.161616</td>\n",
       "      <td>3.137539</td>\n",
       "      <td>0.024077</td>\n",
       "    </tr>\n",
       "    <tr>\n",
       "      <th>6</th>\n",
       "      <td>10</td>\n",
       "      <td>2.134021</td>\n",
       "      <td>2.120677</td>\n",
       "      <td>0.013344</td>\n",
       "    </tr>\n",
       "    <tr>\n",
       "      <th>0</th>\n",
       "      <td>1</td>\n",
       "      <td>3.409639</td>\n",
       "      <td>3.397495</td>\n",
       "      <td>0.012144</td>\n",
       "    </tr>\n",
       "    <tr>\n",
       "      <th>14</th>\n",
       "      <td>21</td>\n",
       "      <td>3.037975</td>\n",
       "      <td>3.027104</td>\n",
       "      <td>0.010871</td>\n",
       "    </tr>\n",
       "    <tr>\n",
       "      <th>15</th>\n",
       "      <td>22</td>\n",
       "      <td>2.303797</td>\n",
       "      <td>2.295013</td>\n",
       "      <td>0.008784</td>\n",
       "    </tr>\n",
       "    <tr>\n",
       "      <th>5</th>\n",
       "      <td>9</td>\n",
       "      <td>2.540816</td>\n",
       "      <td>2.537503</td>\n",
       "      <td>0.003313</td>\n",
       "    </tr>\n",
       "    <tr>\n",
       "      <th>36</th>\n",
       "      <td>55</td>\n",
       "      <td>2.520000</td>\n",
       "      <td>2.519051</td>\n",
       "      <td>0.000949</td>\n",
       "    </tr>\n",
       "    <tr>\n",
       "      <th>18</th>\n",
       "      <td>25</td>\n",
       "      <td>2.807229</td>\n",
       "      <td>2.807493</td>\n",
       "      <td>-0.000264</td>\n",
       "    </tr>\n",
       "    <tr>\n",
       "      <th>28</th>\n",
       "      <td>39</td>\n",
       "      <td>2.282828</td>\n",
       "      <td>2.283707</td>\n",
       "      <td>-0.000879</td>\n",
       "    </tr>\n",
       "    <tr>\n",
       "      <th>34</th>\n",
       "      <td>51</td>\n",
       "      <td>2.565217</td>\n",
       "      <td>2.569703</td>\n",
       "      <td>-0.004486</td>\n",
       "    </tr>\n",
       "    <tr>\n",
       "      <th>33</th>\n",
       "      <td>49</td>\n",
       "      <td>2.121951</td>\n",
       "      <td>2.127224</td>\n",
       "      <td>-0.005273</td>\n",
       "    </tr>\n",
       "    <tr>\n",
       "      <th>19</th>\n",
       "      <td>26</td>\n",
       "      <td>2.072072</td>\n",
       "      <td>2.081873</td>\n",
       "      <td>-0.009801</td>\n",
       "    </tr>\n",
       "    <tr>\n",
       "      <th>11</th>\n",
       "      <td>18</td>\n",
       "      <td>2.258929</td>\n",
       "      <td>2.269269</td>\n",
       "      <td>-0.010340</td>\n",
       "    </tr>\n",
       "  </tbody>\n",
       "</table>\n",
       "</div>"
      ],
      "text/plain": [
       "    Product_60codes  Measurability_mean  Predicted_Measurability  difference\n",
       "21               30            3.723404                 3.476799    0.246605\n",
       "37               56            3.290698                 3.127601    0.163097\n",
       "24               34            3.053571                 3.007499    0.046072\n",
       "23               32            2.197917                 2.157037    0.040880\n",
       "10               17            2.855556                 2.826545    0.029011\n",
       "7                11            3.161616                 3.137539    0.024077\n",
       "6                10            2.134021                 2.120677    0.013344\n",
       "0                 1            3.409639                 3.397495    0.012144\n",
       "14               21            3.037975                 3.027104    0.010871\n",
       "15               22            2.303797                 2.295013    0.008784\n",
       "5                 9            2.540816                 2.537503    0.003313\n",
       "36               55            2.520000                 2.519051    0.000949\n",
       "18               25            2.807229                 2.807493   -0.000264\n",
       "28               39            2.282828                 2.283707   -0.000879\n",
       "34               51            2.565217                 2.569703   -0.004486\n",
       "33               49            2.121951                 2.127224   -0.005273\n",
       "19               26            2.072072                 2.081873   -0.009801\n",
       "11               18            2.258929                 2.269269   -0.010340"
      ]
     },
     "execution_count": 64,
     "metadata": {},
     "output_type": "execute_result"
    }
   ],
   "source": [
    "mean_values_df.head(18)"
   ]
  },
  {
   "cell_type": "code",
   "execution_count": 66,
   "id": "f80df12b",
   "metadata": {},
   "outputs": [],
   "source": [
    "mean_values_df.to_excel('Corpus_42_measurebility_product_type_errors.xlsx', index=False)"
   ]
  },
  {
   "cell_type": "markdown",
   "id": "026d5d2d",
   "metadata": {},
   "source": [
    "### Validation on corpus_18"
   ]
  },
  {
   "cell_type": "code",
   "execution_count": 106,
   "id": "dbfb1098",
   "metadata": {},
   "outputs": [],
   "source": [
    "y_18 = corpus_18['Measurability_mean'].values"
   ]
  },
  {
   "cell_type": "code",
   "execution_count": 107,
   "id": "85fd55fa",
   "metadata": {
    "scrolled": false
   },
   "outputs": [
    {
     "name": "stdout",
     "output_type": "stream",
     "text": [
      "13/13 [==============================] - 0s 2ms/step\n"
     ]
    }
   ],
   "source": [
    "y_pred_18 = model.predict([X_18_cpv_1digit, X_18_cpv_2digit, X_18_cpv_3digit, X_18_embeddings])"
   ]
  },
  {
   "cell_type": "code",
   "execution_count": 108,
   "id": "f1b26cb5",
   "metadata": {},
   "outputs": [],
   "source": [
    "mae_18 = mean_absolute_error(y_18, y_pred_18)\n",
    "r2_18 = r2_score(y_18, y_pred_18)"
   ]
  },
  {
   "cell_type": "code",
   "execution_count": 54,
   "id": "52854b45",
   "metadata": {},
   "outputs": [],
   "source": [
    "from sklearn.metrics import mean_squared_error, mean_absolute_error, r2_score"
   ]
  },
  {
   "cell_type": "code",
   "execution_count": 110,
   "id": "d76fb812",
   "metadata": {},
   "outputs": [],
   "source": [
    "mse_18 = mean_squared_error(y_18, y_pred_18)\n"
   ]
  },
  {
   "cell_type": "code",
   "execution_count": 73,
   "id": "1d8baeaa",
   "metadata": {},
   "outputs": [
    {
     "name": "stdout",
     "output_type": "stream",
     "text": [
      "Mean Squared Error (MSE) on corpus_18: 0.0874355061559907\n",
      "Mean Absolute Error (MAE) on corpus_18: 0.23997283731439975\n",
      "R^2 Score on corpus_18: 0.45396359547907983\n"
     ]
    }
   ],
   "source": [
    "print(f\"Mean Squared Error (MSE) on corpus_18: {mse_18}\")\n",
    "print(f\"Mean Absolute Error (MAE) on corpus_18: {mae_18}\")\n",
    "print(f\"R^2 Score on corpus_18: {r2_18}\")"
   ]
  },
  {
   "cell_type": "code",
   "execution_count": 53,
   "id": "83f8ab5c",
   "metadata": {},
   "outputs": [],
   "source": [
    "corpus_18['Predicted_Measurability_mean'] = y_pred_18.flatten()"
   ]
  },
  {
   "cell_type": "code",
   "execution_count": 54,
   "id": "95dbf597",
   "metadata": {},
   "outputs": [],
   "source": [
    "corpus_18['absolute_error'] = np.abs(corpus_18['Measurability_mean'] - corpus_18['Predicted_Measurability_mean'])\n",
    "corpus_18['prediction_error'] = np.abs(corpus_18['Predicted_Measurability_mean'] - corpus_18['Measurability_mean'])\n"
   ]
  },
  {
   "cell_type": "code",
   "execution_count": 55,
   "id": "eecd31e4",
   "metadata": {},
   "outputs": [
    {
     "name": "stdout",
     "output_type": "stream",
     "text": [
      "count    389.000000\n",
      "mean       0.239973\n",
      "std        0.172990\n",
      "min        0.001352\n",
      "25%        0.103067\n",
      "50%        0.210849\n",
      "75%        0.349444\n",
      "max        0.759633\n",
      "Name: prediction_error, dtype: float64\n"
     ]
    }
   ],
   "source": [
    "print(corpus_18['prediction_error'].describe())"
   ]
  },
  {
   "cell_type": "code",
   "execution_count": 56,
   "id": "fab2dcb2",
   "metadata": {},
   "outputs": [],
   "source": [
    "corpus_18_sorted_by_error = corpus_18.sort_values('absolute_error', ascending=False)"
   ]
  },
  {
   "cell_type": "code",
   "execution_count": 57,
   "id": "980ab297",
   "metadata": {},
   "outputs": [
    {
     "data": {
      "text/html": [
       "<div>\n",
       "<style scoped>\n",
       "    .dataframe tbody tr th:only-of-type {\n",
       "        vertical-align: middle;\n",
       "    }\n",
       "\n",
       "    .dataframe tbody tr th {\n",
       "        vertical-align: top;\n",
       "    }\n",
       "\n",
       "    .dataframe thead th {\n",
       "        text-align: right;\n",
       "    }\n",
       "</style>\n",
       "<table border=\"1\" class=\"dataframe\">\n",
       "  <thead>\n",
       "    <tr style=\"text-align: right;\">\n",
       "      <th></th>\n",
       "      <th>doc_id</th>\n",
       "      <th>contract_type_code</th>\n",
       "      <th>Product_60codes</th>\n",
       "      <th>Measurability_mean</th>\n",
       "      <th>Asset_specificity_mean</th>\n",
       "      <th>Manuel_or_not</th>\n",
       "      <th>product_description_binary</th>\n",
       "      <th>CPVcodes_2digit</th>\n",
       "      <th>CPVcodes_3digit</th>\n",
       "      <th>clean_text</th>\n",
       "      <th>Embedding</th>\n",
       "      <th>Normalized_Embedding</th>\n",
       "      <th>Normalized_Embedding_mean</th>\n",
       "      <th>CPVcodes_1digit</th>\n",
       "      <th>CPVcodes_1digit_str</th>\n",
       "      <th>CPVcodes_2digit_str</th>\n",
       "      <th>CPVcodes_3digit_str</th>\n",
       "      <th>Predicted_Measurability_mean</th>\n",
       "      <th>absolute_error</th>\n",
       "      <th>prediction_error</th>\n",
       "    </tr>\n",
       "  </thead>\n",
       "  <tbody>\n",
       "    <tr>\n",
       "      <th>18</th>\n",
       "      <td>0277-301019</td>\n",
       "      <td>2</td>\n",
       "      <td>58</td>\n",
       "      <td>2.676768</td>\n",
       "      <td>2.710843</td>\n",
       "      <td>not</td>\n",
       "      <td>Yes</td>\n",
       "      <td>33</td>\n",
       "      <td>330</td>\n",
       "      <td>sale leica cv5030 fully automated glass covers...</td>\n",
       "      <td>[-0.013762915, 0.0010504794, -0.0016031103, 0....</td>\n",
       "      <td>[-0.013762914777399184, 0.0010504793830095895,...</td>\n",
       "      <td>[-0.013762914777399184, 0.0010504793830095895,...</td>\n",
       "      <td>3</td>\n",
       "      <td>3</td>\n",
       "      <td>33</td>\n",
       "      <td>330</td>\n",
       "      <td>1.917135</td>\n",
       "      <td>0.759633</td>\n",
       "      <td>0.759633</td>\n",
       "    </tr>\n",
       "    <tr>\n",
       "      <th>339</th>\n",
       "      <td>611367-2022</td>\n",
       "      <td>4</td>\n",
       "      <td>2</td>\n",
       "      <td>3.291667</td>\n",
       "      <td>2.826087</td>\n",
       "      <td>not</td>\n",
       "      <td>Yes</td>\n",
       "      <td>79</td>\n",
       "      <td>795</td>\n",
       "      <td>systemet er intuitivt ved ”intuitivt” forstås ...</td>\n",
       "      <td>[-0.0003638284, 0.032611296, -0.0051846746, 0....</td>\n",
       "      <td>[-0.00036382840716924994, 0.0326112966426066, ...</td>\n",
       "      <td>[-0.00036382840716924994, 0.0326112966426066, ...</td>\n",
       "      <td>7</td>\n",
       "      <td>7</td>\n",
       "      <td>79</td>\n",
       "      <td>795</td>\n",
       "      <td>2.543542</td>\n",
       "      <td>0.748125</td>\n",
       "      <td>0.748125</td>\n",
       "    </tr>\n",
       "    <tr>\n",
       "      <th>117</th>\n",
       "      <td>193848-2021</td>\n",
       "      <td>2</td>\n",
       "      <td>58</td>\n",
       "      <td>2.676768</td>\n",
       "      <td>2.710843</td>\n",
       "      <td>not</td>\n",
       "      <td>Yes</td>\n",
       "      <td>33</td>\n",
       "      <td>331</td>\n",
       "      <td>sterile technology type perforated outer lengt...</td>\n",
       "      <td>[0.017060073, -0.022025751, 0.0036557117, 0.04...</td>\n",
       "      <td>[0.01344002836839025, -0.01735201943597193, 0....</td>\n",
       "      <td>[-0.009384797636176211, -0.05608886369094062, ...</td>\n",
       "      <td>3</td>\n",
       "      <td>3</td>\n",
       "      <td>33</td>\n",
       "      <td>331</td>\n",
       "      <td>1.938350</td>\n",
       "      <td>0.738418</td>\n",
       "      <td>0.738418</td>\n",
       "    </tr>\n",
       "    <tr>\n",
       "      <th>268</th>\n",
       "      <td>489952-2022</td>\n",
       "      <td>2</td>\n",
       "      <td>58</td>\n",
       "      <td>2.676768</td>\n",
       "      <td>2.710843</td>\n",
       "      <td>not</td>\n",
       "      <td>Yes</td>\n",
       "      <td>39</td>\n",
       "      <td>390</td>\n",
       "      <td>kundens beskrivelse af krav leverandørens løsn...</td>\n",
       "      <td>[-0.008996954, -0.017590597, -0.008337694, 0.0...</td>\n",
       "      <td>[-0.008996954067939157, -0.017590597132832772,...</td>\n",
       "      <td>[-0.008996954067939157, -0.017590597132832772,...</td>\n",
       "      <td>3</td>\n",
       "      <td>3</td>\n",
       "      <td>39</td>\n",
       "      <td>390</td>\n",
       "      <td>1.963335</td>\n",
       "      <td>0.713433</td>\n",
       "      <td>0.713433</td>\n",
       "    </tr>\n",
       "    <tr>\n",
       "      <th>170</th>\n",
       "      <td>282815-2022</td>\n",
       "      <td>2</td>\n",
       "      <td>58</td>\n",
       "      <td>2.676768</td>\n",
       "      <td>2.710843</td>\n",
       "      <td>not</td>\n",
       "      <td>Yes</td>\n",
       "      <td>39</td>\n",
       "      <td>390</td>\n",
       "      <td>kundens beskrivelse af krav leverandørens løsn...</td>\n",
       "      <td>[-0.0021949317, -0.028377473, -0.005583494, 0....</td>\n",
       "      <td>[-0.002194931641784452, -0.028377472247352376,...</td>\n",
       "      <td>[-0.002194931641784452, -0.028377472247352376,...</td>\n",
       "      <td>3</td>\n",
       "      <td>3</td>\n",
       "      <td>39</td>\n",
       "      <td>390</td>\n",
       "      <td>1.998589</td>\n",
       "      <td>0.678179</td>\n",
       "      <td>0.678179</td>\n",
       "    </tr>\n",
       "  </tbody>\n",
       "</table>\n",
       "</div>"
      ],
      "text/plain": [
       "          doc_id  contract_type_code  Product_60codes  Measurability_mean  \\\n",
       "18   0277-301019                   2               58            2.676768   \n",
       "339  611367-2022                   4                2            3.291667   \n",
       "117  193848-2021                   2               58            2.676768   \n",
       "268  489952-2022                   2               58            2.676768   \n",
       "170  282815-2022                   2               58            2.676768   \n",
       "\n",
       "     Asset_specificity_mean Manuel_or_not product_description_binary  \\\n",
       "18                 2.710843           not                        Yes   \n",
       "339                2.826087           not                        Yes   \n",
       "117                2.710843           not                        Yes   \n",
       "268                2.710843           not                        Yes   \n",
       "170                2.710843           not                        Yes   \n",
       "\n",
       "    CPVcodes_2digit  CPVcodes_3digit  \\\n",
       "18               33              330   \n",
       "339              79              795   \n",
       "117              33              331   \n",
       "268              39              390   \n",
       "170              39              390   \n",
       "\n",
       "                                            clean_text  \\\n",
       "18   sale leica cv5030 fully automated glass covers...   \n",
       "339  systemet er intuitivt ved ”intuitivt” forstås ...   \n",
       "117  sterile technology type perforated outer lengt...   \n",
       "268  kundens beskrivelse af krav leverandørens løsn...   \n",
       "170  kundens beskrivelse af krav leverandørens løsn...   \n",
       "\n",
       "                                             Embedding  \\\n",
       "18   [-0.013762915, 0.0010504794, -0.0016031103, 0....   \n",
       "339  [-0.0003638284, 0.032611296, -0.0051846746, 0....   \n",
       "117  [0.017060073, -0.022025751, 0.0036557117, 0.04...   \n",
       "268  [-0.008996954, -0.017590597, -0.008337694, 0.0...   \n",
       "170  [-0.0021949317, -0.028377473, -0.005583494, 0....   \n",
       "\n",
       "                                  Normalized_Embedding  \\\n",
       "18   [-0.013762914777399184, 0.0010504793830095895,...   \n",
       "339  [-0.00036382840716924994, 0.0326112966426066, ...   \n",
       "117  [0.01344002836839025, -0.01735201943597193, 0....   \n",
       "268  [-0.008996954067939157, -0.017590597132832772,...   \n",
       "170  [-0.002194931641784452, -0.028377472247352376,...   \n",
       "\n",
       "                             Normalized_Embedding_mean  CPVcodes_1digit  \\\n",
       "18   [-0.013762914777399184, 0.0010504793830095895,...                3   \n",
       "339  [-0.00036382840716924994, 0.0326112966426066, ...                7   \n",
       "117  [-0.009384797636176211, -0.05608886369094062, ...                3   \n",
       "268  [-0.008996954067939157, -0.017590597132832772,...                3   \n",
       "170  [-0.002194931641784452, -0.028377472247352376,...                3   \n",
       "\n",
       "    CPVcodes_1digit_str CPVcodes_2digit_str CPVcodes_3digit_str  \\\n",
       "18                    3                  33                 330   \n",
       "339                   7                  79                 795   \n",
       "117                   3                  33                 331   \n",
       "268                   3                  39                 390   \n",
       "170                   3                  39                 390   \n",
       "\n",
       "     Predicted_Measurability_mean  absolute_error  prediction_error  \n",
       "18                       1.917135        0.759633          0.759633  \n",
       "339                      2.543542        0.748125          0.748125  \n",
       "117                      1.938350        0.738418          0.738418  \n",
       "268                      1.963335        0.713433          0.713433  \n",
       "170                      1.998589        0.678179          0.678179  "
      ]
     },
     "execution_count": 57,
     "metadata": {},
     "output_type": "execute_result"
    }
   ],
   "source": [
    "corpus_18_sorted_by_error.head()"
   ]
  },
  {
   "cell_type": "code",
   "execution_count": 58,
   "id": "c9a0e3fa",
   "metadata": {},
   "outputs": [],
   "source": [
    "selected_columns_df = corpus_18_sorted_by_error[['doc_id', 'clean_text', 'contract_type_code', 'Product_60codes','CPVcodes_2digit', 'CPVcodes_3digit', 'Measurability_mean', 'prediction_error', 'Predicted_Measurability_mean']]"
   ]
  },
  {
   "cell_type": "code",
   "execution_count": 59,
   "id": "cce01172",
   "metadata": {},
   "outputs": [],
   "source": [
    "def truncate_text(text):\n",
    "    MAX_LENGTH = 30000  # Excel's maximum cell character limit\n",
    "    if isinstance(text, str) and len(text) > MAX_LENGTH:\n",
    "        return text[:MAX_LENGTH]\n",
    "    return text"
   ]
  },
  {
   "cell_type": "code",
   "execution_count": 60,
   "id": "b1d7a826",
   "metadata": {
    "collapsed": true
   },
   "outputs": [
    {
     "name": "stderr",
     "output_type": "stream",
     "text": [
      "C:\\Users\\blunds\\AppData\\Local\\Temp\\ipykernel_8916\\3609653640.py:1: SettingWithCopyWarning: \n",
      "A value is trying to be set on a copy of a slice from a DataFrame.\n",
      "Try using .loc[row_indexer,col_indexer] = value instead\n",
      "\n",
      "See the caveats in the documentation: https://pandas.pydata.org/pandas-docs/stable/user_guide/indexing.html#returning-a-view-versus-a-copy\n",
      "  selected_columns_df['clean_text'] = selected_columns_df['clean_text'].apply(truncate_text)\n"
     ]
    }
   ],
   "source": [
    "selected_columns_df['clean_text'] = selected_columns_df['clean_text'].apply(truncate_text)"
   ]
  },
  {
   "cell_type": "code",
   "execution_count": 50,
   "id": "5d95714b",
   "metadata": {},
   "outputs": [],
   "source": [
    "corpus_18['Predicted_Measurability_mean'] = y_pred_18.flatten()"
   ]
  },
  {
   "cell_type": "code",
   "execution_count": 63,
   "id": "52caebb9",
   "metadata": {},
   "outputs": [],
   "source": [
    "mean_values_df = corpus_18.groupby('Product_60codes').agg({\n",
    "    'Measurability_mean': 'mean',\n",
    "    'Predicted_Measurability_mean': 'mean'\n",
    "}).reset_index()"
   ]
  },
  {
   "cell_type": "code",
   "execution_count": 64,
   "id": "34c0834b",
   "metadata": {},
   "outputs": [],
   "source": [
    "mean_values_df['difference'] = mean_values_df['Measurability_mean'] - mean_values_df['Predicted_Measurability_mean']"
   ]
  },
  {
   "cell_type": "code",
   "execution_count": 65,
   "id": "a629838e",
   "metadata": {},
   "outputs": [],
   "source": [
    "mean_values_df = mean_values_df.sort_values('difference', ascending=False)"
   ]
  },
  {
   "cell_type": "code",
   "execution_count": 66,
   "id": "061da2cd",
   "metadata": {
    "scrolled": true
   },
   "outputs": [
    {
     "data": {
      "text/html": [
       "<div>\n",
       "<style scoped>\n",
       "    .dataframe tbody tr th:only-of-type {\n",
       "        vertical-align: middle;\n",
       "    }\n",
       "\n",
       "    .dataframe tbody tr th {\n",
       "        vertical-align: top;\n",
       "    }\n",
       "\n",
       "    .dataframe thead th {\n",
       "        text-align: right;\n",
       "    }\n",
       "</style>\n",
       "<table border=\"1\" class=\"dataframe\">\n",
       "  <thead>\n",
       "    <tr style=\"text-align: right;\">\n",
       "      <th></th>\n",
       "      <th>Product_60codes</th>\n",
       "      <th>Measurability_mean</th>\n",
       "      <th>Predicted_Measurability_mean</th>\n",
       "      <th>difference</th>\n",
       "    </tr>\n",
       "  </thead>\n",
       "  <tbody>\n",
       "    <tr>\n",
       "      <th>0</th>\n",
       "      <td>2</td>\n",
       "      <td>3.291667</td>\n",
       "      <td>2.730762</td>\n",
       "      <td>0.560905</td>\n",
       "    </tr>\n",
       "    <tr>\n",
       "      <th>4</th>\n",
       "      <td>16</td>\n",
       "      <td>3.020408</td>\n",
       "      <td>2.461787</td>\n",
       "      <td>0.558621</td>\n",
       "    </tr>\n",
       "    <tr>\n",
       "      <th>9</th>\n",
       "      <td>41</td>\n",
       "      <td>2.726027</td>\n",
       "      <td>2.169745</td>\n",
       "      <td>0.556282</td>\n",
       "    </tr>\n",
       "    <tr>\n",
       "      <th>2</th>\n",
       "      <td>6</td>\n",
       "      <td>3.450549</td>\n",
       "      <td>3.104434</td>\n",
       "      <td>0.346115</td>\n",
       "    </tr>\n",
       "    <tr>\n",
       "      <th>6</th>\n",
       "      <td>29</td>\n",
       "      <td>2.657895</td>\n",
       "      <td>2.331527</td>\n",
       "      <td>0.326368</td>\n",
       "    </tr>\n",
       "    <tr>\n",
       "      <th>13</th>\n",
       "      <td>50</td>\n",
       "      <td>2.574257</td>\n",
       "      <td>2.304765</td>\n",
       "      <td>0.269492</td>\n",
       "    </tr>\n",
       "    <tr>\n",
       "      <th>17</th>\n",
       "      <td>58</td>\n",
       "      <td>2.676768</td>\n",
       "      <td>2.477731</td>\n",
       "      <td>0.199037</td>\n",
       "    </tr>\n",
       "    <tr>\n",
       "      <th>14</th>\n",
       "      <td>52</td>\n",
       "      <td>2.539130</td>\n",
       "      <td>2.414792</td>\n",
       "      <td>0.124338</td>\n",
       "    </tr>\n",
       "    <tr>\n",
       "      <th>1</th>\n",
       "      <td>5</td>\n",
       "      <td>2.118644</td>\n",
       "      <td>2.009434</td>\n",
       "      <td>0.109210</td>\n",
       "    </tr>\n",
       "    <tr>\n",
       "      <th>11</th>\n",
       "      <td>45</td>\n",
       "      <td>2.029703</td>\n",
       "      <td>1.978689</td>\n",
       "      <td>0.051014</td>\n",
       "    </tr>\n",
       "    <tr>\n",
       "      <th>12</th>\n",
       "      <td>46</td>\n",
       "      <td>1.982906</td>\n",
       "      <td>2.026229</td>\n",
       "      <td>-0.043323</td>\n",
       "    </tr>\n",
       "    <tr>\n",
       "      <th>3</th>\n",
       "      <td>15</td>\n",
       "      <td>2.488889</td>\n",
       "      <td>2.542563</td>\n",
       "      <td>-0.053674</td>\n",
       "    </tr>\n",
       "    <tr>\n",
       "      <th>10</th>\n",
       "      <td>44</td>\n",
       "      <td>2.744186</td>\n",
       "      <td>2.806945</td>\n",
       "      <td>-0.062759</td>\n",
       "    </tr>\n",
       "    <tr>\n",
       "      <th>7</th>\n",
       "      <td>37</td>\n",
       "      <td>2.620000</td>\n",
       "      <td>2.701272</td>\n",
       "      <td>-0.081272</td>\n",
       "    </tr>\n",
       "    <tr>\n",
       "      <th>15</th>\n",
       "      <td>54</td>\n",
       "      <td>2.245283</td>\n",
       "      <td>2.374311</td>\n",
       "      <td>-0.129028</td>\n",
       "    </tr>\n",
       "    <tr>\n",
       "      <th>16</th>\n",
       "      <td>57</td>\n",
       "      <td>3.388889</td>\n",
       "      <td>3.578202</td>\n",
       "      <td>-0.189313</td>\n",
       "    </tr>\n",
       "    <tr>\n",
       "      <th>5</th>\n",
       "      <td>28</td>\n",
       "      <td>2.287234</td>\n",
       "      <td>2.669113</td>\n",
       "      <td>-0.381879</td>\n",
       "    </tr>\n",
       "    <tr>\n",
       "      <th>8</th>\n",
       "      <td>40</td>\n",
       "      <td>2.555556</td>\n",
       "      <td>3.009704</td>\n",
       "      <td>-0.454148</td>\n",
       "    </tr>\n",
       "  </tbody>\n",
       "</table>\n",
       "</div>"
      ],
      "text/plain": [
       "    Product_60codes  Measurability_mean  Predicted_Measurability_mean  \\\n",
       "0                 2            3.291667                      2.730762   \n",
       "4                16            3.020408                      2.461787   \n",
       "9                41            2.726027                      2.169745   \n",
       "2                 6            3.450549                      3.104434   \n",
       "6                29            2.657895                      2.331527   \n",
       "13               50            2.574257                      2.304765   \n",
       "17               58            2.676768                      2.477731   \n",
       "14               52            2.539130                      2.414792   \n",
       "1                 5            2.118644                      2.009434   \n",
       "11               45            2.029703                      1.978689   \n",
       "12               46            1.982906                      2.026229   \n",
       "3                15            2.488889                      2.542563   \n",
       "10               44            2.744186                      2.806945   \n",
       "7                37            2.620000                      2.701272   \n",
       "15               54            2.245283                      2.374311   \n",
       "16               57            3.388889                      3.578202   \n",
       "5                28            2.287234                      2.669113   \n",
       "8                40            2.555556                      3.009704   \n",
       "\n",
       "    difference  \n",
       "0     0.560905  \n",
       "4     0.558621  \n",
       "9     0.556282  \n",
       "2     0.346115  \n",
       "6     0.326368  \n",
       "13    0.269492  \n",
       "17    0.199037  \n",
       "14    0.124338  \n",
       "1     0.109210  \n",
       "11    0.051014  \n",
       "12   -0.043323  \n",
       "3    -0.053674  \n",
       "10   -0.062759  \n",
       "7    -0.081272  \n",
       "15   -0.129028  \n",
       "16   -0.189313  \n",
       "5    -0.381879  \n",
       "8    -0.454148  "
      ]
     },
     "execution_count": 66,
     "metadata": {},
     "output_type": "execute_result"
    }
   ],
   "source": [
    "mean_values_df.head(18)"
   ]
  },
  {
   "cell_type": "code",
   "execution_count": 67,
   "id": "ac76b41e",
   "metadata": {},
   "outputs": [],
   "source": [
    "mean_values_df.to_excel('mean_values_18.xlsx', index=False)"
   ]
  },
  {
   "cell_type": "markdown",
   "id": "bfcdf270",
   "metadata": {},
   "source": [
    "### Corpus_over"
   ]
  },
  {
   "cell_type": "code",
   "execution_count": 32,
   "id": "5cd6994e",
   "metadata": {},
   "outputs": [],
   "source": [
    "corpus_over['CPVcodes_2digit'] = corpus_over['CPVcodes_2digit'].astype(str).apply(lambda x: x.zfill(2))\n"
   ]
  },
  {
   "cell_type": "code",
   "execution_count": 33,
   "id": "81dca958",
   "metadata": {},
   "outputs": [],
   "source": [
    "corpus_over['CPVcodes_1digit'] = corpus_over['CPVcodes_2digit'].astype(str).str[0]"
   ]
  },
  {
   "cell_type": "code",
   "execution_count": 34,
   "id": "3aa7f156",
   "metadata": {},
   "outputs": [],
   "source": [
    "corpus_over['CPVcodes_1digit'] = corpus_over['CPVcodes_1digit'].astype(int)\n"
   ]
  },
  {
   "cell_type": "code",
   "execution_count": 38,
   "id": "f9c8d162",
   "metadata": {},
   "outputs": [],
   "source": [
    "corpus_over['CPVcodes_1digit_str'] = corpus_over['CPVcodes_1digit'].astype(str)\n",
    "corpus_over['CPVcodes_2digit_str'] = corpus_over['CPVcodes_2digit'].astype(str)\n",
    "corpus_over['CPVcodes_3digit_str'] = corpus_over['CPVcodes_3digit'].astype(str)"
   ]
  },
  {
   "cell_type": "code",
   "execution_count": 39,
   "id": "a6d8bac2",
   "metadata": {},
   "outputs": [],
   "source": [
    "X_over_embeddings = np.array(corpus_over['Normalized_Embedding'].tolist())  # Adjusted for corpus_18\n",
    "X_over_cpv_1digit = corpus_over['CPVcodes_1digit_str'].astype('category').cat.codes.values\n",
    "X_over_cpv_2digit = corpus_over['CPVcodes_2digit_str'].astype('category').cat.codes.values\n",
    "X_over_cpv_3digit = corpus_over['CPVcodes_3digit_str'].astype('category').cat.codes.values"
   ]
  },
  {
   "cell_type": "code",
   "execution_count": 40,
   "id": "9a3ee4ae",
   "metadata": {
    "scrolled": false
   },
   "outputs": [
    {
     "name": "stdout",
     "output_type": "stream",
     "text": [
      "33/33 [==============================] - 0s 1ms/step\n"
     ]
    }
   ],
   "source": [
    "y_pred = model.predict([X_over_cpv_1digit, X_over_cpv_2digit, X_over_cpv_3digit, X_over_embeddings])"
   ]
  },
  {
   "cell_type": "code",
   "execution_count": 41,
   "id": "083d02ff",
   "metadata": {},
   "outputs": [],
   "source": [
    "corpus_over['Predicted_Measurability_mean'] = y_pred.flatten()"
   ]
  },
  {
   "cell_type": "code",
   "execution_count": 44,
   "id": "92a67405",
   "metadata": {},
   "outputs": [
    {
     "data": {
      "text/html": [
       "<div>\n",
       "<style scoped>\n",
       "    .dataframe tbody tr th:only-of-type {\n",
       "        vertical-align: middle;\n",
       "    }\n",
       "\n",
       "    .dataframe tbody tr th {\n",
       "        vertical-align: top;\n",
       "    }\n",
       "\n",
       "    .dataframe thead th {\n",
       "        text-align: right;\n",
       "    }\n",
       "</style>\n",
       "<table border=\"1\" class=\"dataframe\">\n",
       "  <thead>\n",
       "    <tr style=\"text-align: right;\">\n",
       "      <th></th>\n",
       "      <th>doc_id</th>\n",
       "      <th>contract_type_code</th>\n",
       "      <th>Product_60codes</th>\n",
       "      <th>Measurability_mean</th>\n",
       "      <th>Asset_specificity_mean</th>\n",
       "      <th>Manuel_or_not</th>\n",
       "      <th>product_description_binary</th>\n",
       "      <th>CPVcodes_2digit</th>\n",
       "      <th>CPVcodes_3digit</th>\n",
       "      <th>clean_text</th>\n",
       "      <th>Embedding</th>\n",
       "      <th>Normalized_Embedding</th>\n",
       "      <th>Normalized_Embedding_mean</th>\n",
       "      <th>CPVcodes_1digit</th>\n",
       "      <th>CPVcodes_1digit_str</th>\n",
       "      <th>CPVcodes_2digit_str</th>\n",
       "      <th>CPVcodes_3digit_str</th>\n",
       "      <th>Predicted_Measurability_mean</th>\n",
       "    </tr>\n",
       "  </thead>\n",
       "  <tbody>\n",
       "    <tr>\n",
       "      <th>0</th>\n",
       "      <td>0000-008255</td>\n",
       "      <td>4</td>\n",
       "      <td>482</td>\n",
       "      <td>NaN</td>\n",
       "      <td>NaN</td>\n",
       "      <td>not</td>\n",
       "      <td>Yes</td>\n",
       "      <td>48</td>\n",
       "      <td>482</td>\n",
       "      <td>provide one icon per episode in several forma...</td>\n",
       "      <td>[-0.0030848256, -0.026598396, -0.021644095, -0...</td>\n",
       "      <td>[-0.0030848255027367153, -0.026598395161363492...</td>\n",
       "      <td>[-0.0030848255027367153, -0.026598395161363492...</td>\n",
       "      <td>4</td>\n",
       "      <td>4</td>\n",
       "      <td>48</td>\n",
       "      <td>482</td>\n",
       "      <td>0.889499</td>\n",
       "    </tr>\n",
       "    <tr>\n",
       "      <th>1</th>\n",
       "      <td>0000-008285</td>\n",
       "      <td>1</td>\n",
       "      <td>450</td>\n",
       "      <td>NaN</td>\n",
       "      <td>NaN</td>\n",
       "      <td>not</td>\n",
       "      <td>Yes</td>\n",
       "      <td>45</td>\n",
       "      <td>450</td>\n",
       "      <td>udlægning af slidlag bærelag og bæreslidlag på...</td>\n",
       "      <td>[0.03165265, -0.018070666, -0.0104349395, 0.01...</td>\n",
       "      <td>[0.031652648614329426, -0.01807066520891331, -...</td>\n",
       "      <td>[0.031652648614329426, -0.01807066520891331, -...</td>\n",
       "      <td>4</td>\n",
       "      <td>4</td>\n",
       "      <td>45</td>\n",
       "      <td>450</td>\n",
       "      <td>3.160149</td>\n",
       "    </tr>\n",
       "    <tr>\n",
       "      <th>2</th>\n",
       "      <td>0000-008392</td>\n",
       "      <td>1</td>\n",
       "      <td>451</td>\n",
       "      <td>NaN</td>\n",
       "      <td>NaN</td>\n",
       "      <td>not</td>\n",
       "      <td>Yes</td>\n",
       "      <td>45</td>\n",
       "      <td>451</td>\n",
       "      <td>pos.nr. pkt. bygningsdel 01 1 121 2 131 linief...</td>\n",
       "      <td>[-0.0045218053, -0.029040039, -0.011053302, 0....</td>\n",
       "      <td>[-0.004521805473328217, -0.029040040113152348,...</td>\n",
       "      <td>[-0.004521805473328217, -0.029040040113152348,...</td>\n",
       "      <td>4</td>\n",
       "      <td>4</td>\n",
       "      <td>45</td>\n",
       "      <td>451</td>\n",
       "      <td>2.918535</td>\n",
       "    </tr>\n",
       "    <tr>\n",
       "      <th>3</th>\n",
       "      <td>0000-008393</td>\n",
       "      <td>4</td>\n",
       "      <td>482</td>\n",
       "      <td>NaN</td>\n",
       "      <td>NaN</td>\n",
       "      <td>not</td>\n",
       "      <td>Yes</td>\n",
       "      <td>48</td>\n",
       "      <td>482</td>\n",
       "      <td>task 4 - refurbishment of the interreg podcast...</td>\n",
       "      <td>[-0.016492937, -0.0014233976, -0.018877864, -0...</td>\n",
       "      <td>[-0.0164929371094576, -0.00142339760944657, -0...</td>\n",
       "      <td>[-0.0164929371094576, -0.00142339760944657, -0...</td>\n",
       "      <td>4</td>\n",
       "      <td>4</td>\n",
       "      <td>48</td>\n",
       "      <td>482</td>\n",
       "      <td>1.971107</td>\n",
       "    </tr>\n",
       "    <tr>\n",
       "      <th>4</th>\n",
       "      <td>0000-008394</td>\n",
       "      <td>1</td>\n",
       "      <td>452</td>\n",
       "      <td>NaN</td>\n",
       "      <td>NaN</td>\n",
       "      <td>not</td>\n",
       "      <td>Yes</td>\n",
       "      <td>45</td>\n",
       "      <td>452</td>\n",
       "      <td>arbejder gulvbelægning vægoverflader ny gulvbe...</td>\n",
       "      <td>[0.007988542, -0.026167195, -0.011535243, 0.03...</td>\n",
       "      <td>[0.007748142082371978, -0.025379743231885573, ...</td>\n",
       "      <td>[0.0010394256856936434, -0.04338538165723106, ...</td>\n",
       "      <td>4</td>\n",
       "      <td>4</td>\n",
       "      <td>45</td>\n",
       "      <td>452</td>\n",
       "      <td>3.127160</td>\n",
       "    </tr>\n",
       "  </tbody>\n",
       "</table>\n",
       "</div>"
      ],
      "text/plain": [
       "        doc_id  contract_type_code Product_60codes  Measurability_mean  \\\n",
       "0  0000-008255                   4             482                 NaN   \n",
       "1  0000-008285                   1             450                 NaN   \n",
       "2  0000-008392                   1             451                 NaN   \n",
       "3  0000-008393                   4             482                 NaN   \n",
       "4  0000-008394                   1             452                 NaN   \n",
       "\n",
       "   Asset_specificity_mean Manuel_or_not product_description_binary  \\\n",
       "0                     NaN           not                        Yes   \n",
       "1                     NaN           not                        Yes   \n",
       "2                     NaN           not                        Yes   \n",
       "3                     NaN           not                        Yes   \n",
       "4                     NaN           not                        Yes   \n",
       "\n",
       "  CPVcodes_2digit  CPVcodes_3digit  \\\n",
       "0              48              482   \n",
       "1              45              450   \n",
       "2              45              451   \n",
       "3              48              482   \n",
       "4              45              452   \n",
       "\n",
       "                                          clean_text  \\\n",
       "0   provide one icon per episode in several forma...   \n",
       "1  udlægning af slidlag bærelag og bæreslidlag på...   \n",
       "2  pos.nr. pkt. bygningsdel 01 1 121 2 131 linief...   \n",
       "3  task 4 - refurbishment of the interreg podcast...   \n",
       "4  arbejder gulvbelægning vægoverflader ny gulvbe...   \n",
       "\n",
       "                                           Embedding  \\\n",
       "0  [-0.0030848256, -0.026598396, -0.021644095, -0...   \n",
       "1  [0.03165265, -0.018070666, -0.0104349395, 0.01...   \n",
       "2  [-0.0045218053, -0.029040039, -0.011053302, 0....   \n",
       "3  [-0.016492937, -0.0014233976, -0.018877864, -0...   \n",
       "4  [0.007988542, -0.026167195, -0.011535243, 0.03...   \n",
       "\n",
       "                                Normalized_Embedding  \\\n",
       "0  [-0.0030848255027367153, -0.026598395161363492...   \n",
       "1  [0.031652648614329426, -0.01807066520891331, -...   \n",
       "2  [-0.004521805473328217, -0.029040040113152348,...   \n",
       "3  [-0.0164929371094576, -0.00142339760944657, -0...   \n",
       "4  [0.007748142082371978, -0.025379743231885573, ...   \n",
       "\n",
       "                           Normalized_Embedding_mean  CPVcodes_1digit  \\\n",
       "0  [-0.0030848255027367153, -0.026598395161363492...                4   \n",
       "1  [0.031652648614329426, -0.01807066520891331, -...                4   \n",
       "2  [-0.004521805473328217, -0.029040040113152348,...                4   \n",
       "3  [-0.0164929371094576, -0.00142339760944657, -0...                4   \n",
       "4  [0.0010394256856936434, -0.04338538165723106, ...                4   \n",
       "\n",
       "  CPVcodes_1digit_str CPVcodes_2digit_str CPVcodes_3digit_str  \\\n",
       "0                   4                  48                 482   \n",
       "1                   4                  45                 450   \n",
       "2                   4                  45                 451   \n",
       "3                   4                  48                 482   \n",
       "4                   4                  45                 452   \n",
       "\n",
       "   Predicted_Measurability_mean  \n",
       "0                      0.889499  \n",
       "1                      3.160149  \n",
       "2                      2.918535  \n",
       "3                      1.971107  \n",
       "4                      3.127160  "
      ]
     },
     "execution_count": 44,
     "metadata": {},
     "output_type": "execute_result"
    }
   ],
   "source": [
    "corpus_over.head()"
   ]
  },
  {
   "cell_type": "code",
   "execution_count": 53,
   "id": "bae9a771",
   "metadata": {},
   "outputs": [],
   "source": [
    "group_df = corpus_over.groupby('Product_60codes').agg({\n",
    "    'Predicted_Measurability_mean': ['mean', 'std', 'count']\n",
    "}).reset_index()\n"
   ]
  },
  {
   "cell_type": "code",
   "execution_count": 59,
   "id": "3c308ccf",
   "metadata": {},
   "outputs": [],
   "source": [
    "group_df.to_excel('corpus_over_prediction.xlsx', index=False)"
   ]
  },
  {
   "cell_type": "markdown",
   "id": "585fa5b2",
   "metadata": {},
   "source": [
    "# 3. Asset Specifity Prediction"
   ]
  },
  {
   "cell_type": "markdown",
   "id": "b01f8d1b",
   "metadata": {},
   "source": [
    "## 3.1 Default model experiment with cross validation"
   ]
  },
  {
   "cell_type": "code",
   "execution_count": 1,
   "id": "80888fba",
   "metadata": {
    "collapsed": true
   },
   "outputs": [
    {
     "name": "stderr",
     "output_type": "stream",
     "text": [
      "[nltk_data] Downloading package punkt to\n",
      "[nltk_data]     C:\\Users\\blunds\\AppData\\Roaming\\nltk_data...\n",
      "[nltk_data]   Package punkt is already up-to-date!\n"
     ]
    }
   ],
   "source": [
    "import pandas as pd\n",
    "import nltk\n",
    "nltk.download('punkt')\n",
    "import re \n",
    "from nltk.tokenize import sent_tokenize\n",
    "from nltk.tokenize import word_tokenize\n",
    "\n",
    "import os\n",
    "\n",
    "import json\n",
    "\n",
    "from nltk.corpus import stopwords\n",
    "import lemmy\n",
    "import textract\n",
    "import pickle\n",
    "import numpy as np"
   ]
  },
  {
   "cell_type": "markdown",
   "id": "18981263",
   "metadata": {},
   "source": [
    "## Loading data"
   ]
  },
  {
   "cell_type": "code",
   "execution_count": 2,
   "id": "0bb9345c",
   "metadata": {},
   "outputs": [],
   "source": [
    "corpus_42 = pd.read_pickle(\"corpus_42_final.pkl\")"
   ]
  },
  {
   "cell_type": "code",
   "execution_count": 3,
   "id": "692a7aba",
   "metadata": {},
   "outputs": [
    {
     "data": {
      "text/html": [
       "<div>\n",
       "<style scoped>\n",
       "    .dataframe tbody tr th:only-of-type {\n",
       "        vertical-align: middle;\n",
       "    }\n",
       "\n",
       "    .dataframe tbody tr th {\n",
       "        vertical-align: top;\n",
       "    }\n",
       "\n",
       "    .dataframe thead th {\n",
       "        text-align: right;\n",
       "    }\n",
       "</style>\n",
       "<table border=\"1\" class=\"dataframe\">\n",
       "  <thead>\n",
       "    <tr style=\"text-align: right;\">\n",
       "      <th></th>\n",
       "      <th>doc_id</th>\n",
       "      <th>contract_type_code</th>\n",
       "      <th>Product_60codes</th>\n",
       "      <th>Measurability_mean</th>\n",
       "      <th>Asset_specificity_mean</th>\n",
       "      <th>Manuel_or_not</th>\n",
       "      <th>product_description_binary</th>\n",
       "      <th>CPVcodes_2digit</th>\n",
       "      <th>CPVcodes_3digit</th>\n",
       "      <th>clean_text</th>\n",
       "      <th>Embedding</th>\n",
       "      <th>Normalized_Embedding</th>\n",
       "      <th>Normalized_Embedding_mean</th>\n",
       "    </tr>\n",
       "  </thead>\n",
       "  <tbody>\n",
       "    <tr>\n",
       "      <th>0</th>\n",
       "      <td>0000-008168</td>\n",
       "      <td>4</td>\n",
       "      <td>60</td>\n",
       "      <td>3.323232</td>\n",
       "      <td>2.450549</td>\n",
       "      <td>not</td>\n",
       "      <td>Yes</td>\n",
       "      <td>71</td>\n",
       "      <td>713</td>\n",
       "      <td>the new programme should provide the opportun...</td>\n",
       "      <td>[-0.023649858, -0.0044648494, -0.006738333, 0....</td>\n",
       "      <td>[-0.02364985798180248, -0.0044648493965644956,...</td>\n",
       "      <td>[-0.02364985798180248, -0.0044648493965644956,...</td>\n",
       "    </tr>\n",
       "    <tr>\n",
       "      <th>1</th>\n",
       "      <td>0000-008227</td>\n",
       "      <td>4</td>\n",
       "      <td>60</td>\n",
       "      <td>3.323232</td>\n",
       "      <td>2.450549</td>\n",
       "      <td>not</td>\n",
       "      <td>Yes</td>\n",
       "      <td>71</td>\n",
       "      <td>710</td>\n",
       "      <td>sikring af bygningens klimaskærm som fundamen...</td>\n",
       "      <td>[0.0021429053, -0.020846844, -0.0025144592, 0....</td>\n",
       "      <td>[0.0018015666258628857, -0.017526196050273404,...</td>\n",
       "      <td>[-0.011694183793053732, -0.040396958453703675,...</td>\n",
       "    </tr>\n",
       "    <tr>\n",
       "      <th>2</th>\n",
       "      <td>0000-008241</td>\n",
       "      <td>4</td>\n",
       "      <td>60</td>\n",
       "      <td>3.323232</td>\n",
       "      <td>2.450549</td>\n",
       "      <td>not</td>\n",
       "      <td>Yes</td>\n",
       "      <td>71</td>\n",
       "      <td>712</td>\n",
       "      <td>sikring af bygningens klimaskærm som fundamen...</td>\n",
       "      <td>[0.019978527, -0.021250192, -0.005847986, -0.0...</td>\n",
       "      <td>[0.01997852606996726, -0.0212501910107692, -0....</td>\n",
       "      <td>[0.01997852606996726, -0.0212501910107692, -0....</td>\n",
       "    </tr>\n",
       "    <tr>\n",
       "      <th>3</th>\n",
       "      <td>0000-008243</td>\n",
       "      <td>4</td>\n",
       "      <td>19</td>\n",
       "      <td>2.870130</td>\n",
       "      <td>2.590164</td>\n",
       "      <td>not</td>\n",
       "      <td>Yes</td>\n",
       "      <td>45</td>\n",
       "      <td>452</td>\n",
       "      <td>entreprisen omfatter almindelig vedligeholdels...</td>\n",
       "      <td>[0.032049313, -0.03062923, 0.0018029478, -0.01...</td>\n",
       "      <td>[0.03204931125482191, -0.030629228332149552, 0...</td>\n",
       "      <td>[0.03204931125482191, -0.030629228332149552, 0...</td>\n",
       "    </tr>\n",
       "    <tr>\n",
       "      <th>4</th>\n",
       "      <td>0000-008280</td>\n",
       "      <td>1</td>\n",
       "      <td>19</td>\n",
       "      <td>2.870130</td>\n",
       "      <td>2.590164</td>\n",
       "      <td>manuel</td>\n",
       "      <td>Yes</td>\n",
       "      <td>45</td>\n",
       "      <td>452</td>\n",
       "      <td>samarbejdets organisering og proces entreprenø...</td>\n",
       "      <td>[0.027916875, -0.028474228, -0.009179947, -0.0...</td>\n",
       "      <td>[0.027916875576418063, -0.028474228587926097, ...</td>\n",
       "      <td>[0.027916875576418063, -0.028474228587926097, ...</td>\n",
       "    </tr>\n",
       "  </tbody>\n",
       "</table>\n",
       "</div>"
      ],
      "text/plain": [
       "        doc_id  contract_type_code  Product_60codes  Measurability_mean  \\\n",
       "0  0000-008168                   4               60            3.323232   \n",
       "1  0000-008227                   4               60            3.323232   \n",
       "2  0000-008241                   4               60            3.323232   \n",
       "3  0000-008243                   4               19            2.870130   \n",
       "4  0000-008280                   1               19            2.870130   \n",
       "\n",
       "   Asset_specificity_mean Manuel_or_not product_description_binary  \\\n",
       "0                2.450549           not                        Yes   \n",
       "1                2.450549           not                        Yes   \n",
       "2                2.450549           not                        Yes   \n",
       "3                2.590164           not                        Yes   \n",
       "4                2.590164        manuel                        Yes   \n",
       "\n",
       "   CPVcodes_2digit  CPVcodes_3digit  \\\n",
       "0               71              713   \n",
       "1               71              710   \n",
       "2               71              712   \n",
       "3               45              452   \n",
       "4               45              452   \n",
       "\n",
       "                                          clean_text  \\\n",
       "0   the new programme should provide the opportun...   \n",
       "1   sikring af bygningens klimaskærm som fundamen...   \n",
       "2   sikring af bygningens klimaskærm som fundamen...   \n",
       "3  entreprisen omfatter almindelig vedligeholdels...   \n",
       "4  samarbejdets organisering og proces entreprenø...   \n",
       "\n",
       "                                           Embedding  \\\n",
       "0  [-0.023649858, -0.0044648494, -0.006738333, 0....   \n",
       "1  [0.0021429053, -0.020846844, -0.0025144592, 0....   \n",
       "2  [0.019978527, -0.021250192, -0.005847986, -0.0...   \n",
       "3  [0.032049313, -0.03062923, 0.0018029478, -0.01...   \n",
       "4  [0.027916875, -0.028474228, -0.009179947, -0.0...   \n",
       "\n",
       "                                Normalized_Embedding  \\\n",
       "0  [-0.02364985798180248, -0.0044648493965644956,...   \n",
       "1  [0.0018015666258628857, -0.017526196050273404,...   \n",
       "2  [0.01997852606996726, -0.0212501910107692, -0....   \n",
       "3  [0.03204931125482191, -0.030629228332149552, 0...   \n",
       "4  [0.027916875576418063, -0.028474228587926097, ...   \n",
       "\n",
       "                           Normalized_Embedding_mean  \n",
       "0  [-0.02364985798180248, -0.0044648493965644956,...  \n",
       "1  [-0.011694183793053732, -0.040396958453703675,...  \n",
       "2  [0.01997852606996726, -0.0212501910107692, -0....  \n",
       "3  [0.03204931125482191, -0.030629228332149552, 0...  \n",
       "4  [0.027916875576418063, -0.028474228587926097, ...  "
      ]
     },
     "execution_count": 3,
     "metadata": {},
     "output_type": "execute_result"
    }
   ],
   "source": [
    "corpus_42.head()"
   ]
  },
  {
   "cell_type": "code",
   "execution_count": 4,
   "id": "a021110e",
   "metadata": {},
   "outputs": [],
   "source": [
    "corpus_18 = pd.read_pickle(\"corpus_18_final.pkl\")"
   ]
  },
  {
   "cell_type": "code",
   "execution_count": 5,
   "id": "163a535c",
   "metadata": {},
   "outputs": [],
   "source": [
    "corpus_42['CPVcodes_2digit'] = corpus_42['CPVcodes_2digit'].astype(str).apply(lambda x: x.zfill(2))\n"
   ]
  },
  {
   "cell_type": "code",
   "execution_count": 6,
   "id": "d0105147",
   "metadata": {},
   "outputs": [],
   "source": [
    "corpus_18['CPVcodes_2digit'] = corpus_18['CPVcodes_2digit'].astype(str).apply(lambda x: x.zfill(2))\n"
   ]
  },
  {
   "cell_type": "code",
   "execution_count": 7,
   "id": "f083cccd",
   "metadata": {},
   "outputs": [],
   "source": [
    "corpus_42['CPVcodes_1digit'] = corpus_42['CPVcodes_2digit'].astype(str).str[0]\n",
    "corpus_18['CPVcodes_1digit'] = corpus_18['CPVcodes_2digit'].astype(str).str[0]"
   ]
  },
  {
   "cell_type": "code",
   "execution_count": 8,
   "id": "7bb9b8cd",
   "metadata": {},
   "outputs": [],
   "source": [
    "corpus_42['CPVcodes_1digit'] = corpus_42['CPVcodes_1digit'].astype(int)\n",
    "corpus_18['CPVcodes_1digit'] = corpus_18['CPVcodes_1digit'].astype(int)\n"
   ]
  },
  {
   "cell_type": "code",
   "execution_count": 9,
   "id": "590c1358",
   "metadata": {},
   "outputs": [],
   "source": [
    "corpus_over = pd.read_pickle(\"corpus_over_final.pkl\")"
   ]
  },
  {
   "cell_type": "markdown",
   "id": "03ac9021",
   "metadata": {},
   "source": [
    "#### Endocding CPVcodes_1digit"
   ]
  },
  {
   "cell_type": "code",
   "execution_count": 12,
   "id": "a7f3684e",
   "metadata": {},
   "outputs": [],
   "source": [
    "from sklearn.preprocessing import OneHotEncoder\n",
    "import pandas as pd\n"
   ]
  },
  {
   "cell_type": "code",
   "execution_count": 13,
   "id": "9fb39b15",
   "metadata": {},
   "outputs": [],
   "source": [
    "corpus_42['CPVcodes_1digit'] = corpus_42['CPVcodes_2digit'].astype(str).str[0]\n",
    "corpus_18['CPVcodes_1digit'] = corpus_18['CPVcodes_2digit'].astype(str).str[0]\n",
    "corpus_over['CPVcodes_1digit'] = corpus_over['CPVcodes_2digit'].astype(str).str[0]"
   ]
  },
  {
   "cell_type": "code",
   "execution_count": 14,
   "id": "d299daa6",
   "metadata": {},
   "outputs": [],
   "source": [
    "corpus_42['CPVcodes_1digit'] = corpus_42['CPVcodes_1digit'].astype(int)\n",
    "corpus_18['CPVcodes_1digit'] = corpus_18['CPVcodes_1digit'].astype(int)\n",
    "corpus_over['CPVcodes_1digit'] = corpus_over['CPVcodes_1digit'].astype(int)"
   ]
  },
  {
   "cell_type": "code",
   "execution_count": 15,
   "id": "ae3e2164",
   "metadata": {},
   "outputs": [],
   "source": [
    "corpus_42['CPVcodes_1digit_str'] = corpus_42['CPVcodes_1digit'].astype(str)\n",
    "corpus_18['CPVcodes_1digit_str'] = corpus_18['CPVcodes_1digit'].astype(str)\n",
    "corpus_over['CPVcodes_1digit_str'] = corpus_over['CPVcodes_1digit'].astype(str)"
   ]
  },
  {
   "cell_type": "code",
   "execution_count": 16,
   "id": "f3d2f7df",
   "metadata": {},
   "outputs": [],
   "source": [
    "all_cpv_codes_str = pd.concat([corpus_42['CPVcodes_1digit_str'], corpus_18['CPVcodes_1digit_str'], corpus_over['CPVcodes_1digit_str']]).unique()"
   ]
  },
  {
   "cell_type": "code",
   "execution_count": 17,
   "id": "327b40ab",
   "metadata": {},
   "outputs": [],
   "source": [
    "encoder = OneHotEncoder(categories=[all_cpv_codes_str], handle_unknown='ignore')"
   ]
  },
  {
   "cell_type": "code",
   "execution_count": 18,
   "id": "aa420359",
   "metadata": {},
   "outputs": [],
   "source": [
    "cpv_42_encoded_1 = encoder.fit_transform(corpus_42[['CPVcodes_1digit_str']]).toarray()"
   ]
  },
  {
   "cell_type": "code",
   "execution_count": 19,
   "id": "fc49ea5e",
   "metadata": {},
   "outputs": [],
   "source": [
    "cpv_18_encoded_1 = encoder.transform(corpus_18[['CPVcodes_1digit_str']]).toarray()"
   ]
  },
  {
   "cell_type": "code",
   "execution_count": 20,
   "id": "92eb646b",
   "metadata": {},
   "outputs": [],
   "source": [
    "cpv_over_encoded_1 = encoder.transform(corpus_over[['CPVcodes_1digit_str']]).toarray()"
   ]
  },
  {
   "cell_type": "code",
   "execution_count": 21,
   "id": "32f914dd",
   "metadata": {},
   "outputs": [],
   "source": [
    "cpv_42_encoded_df_1 = pd.DataFrame(cpv_42_encoded_1, index=corpus_42.index)"
   ]
  },
  {
   "cell_type": "code",
   "execution_count": 22,
   "id": "d1ac258b",
   "metadata": {},
   "outputs": [],
   "source": [
    "cpv_18_encoded_df_1 = pd.DataFrame(cpv_18_encoded_1, index=corpus_18.index)"
   ]
  },
  {
   "cell_type": "code",
   "execution_count": 23,
   "id": "0f50b17d",
   "metadata": {},
   "outputs": [],
   "source": [
    "cpv_over_encoded_df_1 = pd.DataFrame(cpv_over_encoded_1, index=corpus_over.index)"
   ]
  },
  {
   "cell_type": "markdown",
   "id": "4e24d232",
   "metadata": {},
   "source": [
    "#### Endocding CPVcodes_2digit"
   ]
  },
  {
   "cell_type": "code",
   "execution_count": 24,
   "id": "97b96e95",
   "metadata": {},
   "outputs": [],
   "source": [
    "from sklearn.preprocessing import OneHotEncoder\n",
    "import pandas as pd\n"
   ]
  },
  {
   "cell_type": "code",
   "execution_count": 25,
   "id": "5050c979",
   "metadata": {},
   "outputs": [],
   "source": [
    "corpus_42['CPVcodes_2digit_str'] = corpus_42['CPVcodes_2digit'].astype(str)\n",
    "corpus_18['CPVcodes_2digit_str'] = corpus_18['CPVcodes_2digit'].astype(str)\n",
    "corpus_over['CPVcodes_2digit_str'] = corpus_over['CPVcodes_2digit'].astype(str)\n"
   ]
  },
  {
   "cell_type": "code",
   "execution_count": 26,
   "id": "d84b4eb0",
   "metadata": {},
   "outputs": [],
   "source": [
    "all_cpv_codes_str = pd.concat([corpus_42['CPVcodes_2digit_str'], corpus_18['CPVcodes_2digit_str'], corpus_over['CPVcodes_2digit_str']]).unique()"
   ]
  },
  {
   "cell_type": "code",
   "execution_count": 27,
   "id": "4ced064d",
   "metadata": {},
   "outputs": [],
   "source": [
    "encoder = OneHotEncoder(categories=[all_cpv_codes_str], handle_unknown='ignore')"
   ]
  },
  {
   "cell_type": "code",
   "execution_count": 28,
   "id": "8e4b3096",
   "metadata": {},
   "outputs": [],
   "source": [
    "cpv_42_encoded_2 = encoder.fit_transform(corpus_42[['CPVcodes_2digit_str']]).toarray()"
   ]
  },
  {
   "cell_type": "code",
   "execution_count": 29,
   "id": "a1db0539",
   "metadata": {},
   "outputs": [],
   "source": [
    "cpv_18_encoded_2 = encoder.transform(corpus_18[['CPVcodes_2digit_str']]).toarray()"
   ]
  },
  {
   "cell_type": "code",
   "execution_count": 30,
   "id": "de09c04b",
   "metadata": {},
   "outputs": [],
   "source": [
    "cpv_over_encoded_2 = encoder.transform(corpus_over[['CPVcodes_2digit_str']]).toarray()"
   ]
  },
  {
   "cell_type": "code",
   "execution_count": 31,
   "id": "5e6743fe",
   "metadata": {},
   "outputs": [],
   "source": [
    "cpv_42_encoded_df_2 = pd.DataFrame(cpv_42_encoded_2, index=corpus_42.index)"
   ]
  },
  {
   "cell_type": "code",
   "execution_count": 32,
   "id": "f7f94bc1",
   "metadata": {},
   "outputs": [],
   "source": [
    "cpv_18_encoded_df_2 = pd.DataFrame(cpv_18_encoded_2, index=corpus_18.index)"
   ]
  },
  {
   "cell_type": "code",
   "execution_count": 33,
   "id": "c93b22e7",
   "metadata": {},
   "outputs": [],
   "source": [
    "cpv_over_encoded_df_2 = pd.DataFrame(cpv_over_encoded_2, index=corpus_over.index)"
   ]
  },
  {
   "cell_type": "markdown",
   "id": "3929fe74",
   "metadata": {},
   "source": [
    "#### Endocding CPVcodes_3digit"
   ]
  },
  {
   "cell_type": "code",
   "execution_count": 34,
   "id": "9268ec75",
   "metadata": {},
   "outputs": [],
   "source": [
    "from sklearn.preprocessing import OneHotEncoder\n",
    "import pandas as pd\n"
   ]
  },
  {
   "cell_type": "code",
   "execution_count": 35,
   "id": "2a8d5d06",
   "metadata": {},
   "outputs": [],
   "source": [
    "corpus_42['CPVcodes_3digit_str'] = corpus_42['CPVcodes_3digit'].astype(str)\n",
    "corpus_18['CPVcodes_3digit_str'] = corpus_18['CPVcodes_3digit'].astype(str)\n",
    "corpus_over['CPVcodes_3digit_str'] = corpus_over['CPVcodes_3digit'].astype(str)\n"
   ]
  },
  {
   "cell_type": "code",
   "execution_count": 36,
   "id": "c2aa9255",
   "metadata": {},
   "outputs": [],
   "source": [
    "all_cpv_codes_str = pd.concat([corpus_42['CPVcodes_3digit_str'], corpus_18['CPVcodes_3digit_str'], corpus_over['CPVcodes_3digit_str']]).unique()"
   ]
  },
  {
   "cell_type": "code",
   "execution_count": 37,
   "id": "995e524d",
   "metadata": {},
   "outputs": [],
   "source": [
    "encoder = OneHotEncoder(categories=[all_cpv_codes_str], handle_unknown='ignore')"
   ]
  },
  {
   "cell_type": "code",
   "execution_count": 38,
   "id": "0c702a9c",
   "metadata": {},
   "outputs": [],
   "source": [
    "cpv_42_encoded_3 = encoder.fit_transform(corpus_42[['CPVcodes_3digit_str']]).toarray()"
   ]
  },
  {
   "cell_type": "code",
   "execution_count": 39,
   "id": "c1044b20",
   "metadata": {},
   "outputs": [],
   "source": [
    "cpv_18_encoded_3 = encoder.transform(corpus_18[['CPVcodes_3digit_str']]).toarray()"
   ]
  },
  {
   "cell_type": "code",
   "execution_count": 40,
   "id": "aa9b3dd0",
   "metadata": {},
   "outputs": [],
   "source": [
    "cpv_over_encoded_3 = encoder.transform(corpus_over[['CPVcodes_3digit_str']]).toarray()"
   ]
  },
  {
   "cell_type": "code",
   "execution_count": 41,
   "id": "c9ffd30d",
   "metadata": {},
   "outputs": [],
   "source": [
    "cpv_42_encoded_df_3 = pd.DataFrame(cpv_42_encoded_3, index=corpus_42.index)"
   ]
  },
  {
   "cell_type": "code",
   "execution_count": 42,
   "id": "4b557098",
   "metadata": {},
   "outputs": [],
   "source": [
    "cpv_18_encoded_df_3 = pd.DataFrame(cpv_18_encoded_3, index=corpus_18.index)"
   ]
  },
  {
   "cell_type": "code",
   "execution_count": 43,
   "id": "ef13b677",
   "metadata": {},
   "outputs": [],
   "source": [
    "cpv_over_encoded_df_3 = pd.DataFrame(cpv_over_encoded_3, index=corpus_over.index)"
   ]
  },
  {
   "cell_type": "markdown",
   "id": "af6f6dc1",
   "metadata": {},
   "source": [
    "# Linear Regression"
   ]
  },
  {
   "cell_type": "code",
   "execution_count": 66,
   "id": "76896dcd",
   "metadata": {},
   "outputs": [],
   "source": [
    "import pandas as pd\n",
    "from sklearn.model_selection import train_test_split\n",
    "from sklearn.linear_model import LinearRegression\n",
    "from sklearn.metrics import mean_squared_error, mean_absolute_error, r2_score\n",
    "from sklearn.model_selection import cross_val_score"
   ]
  },
  {
   "cell_type": "code",
   "execution_count": 68,
   "id": "c4e5a2fe",
   "metadata": {},
   "outputs": [],
   "source": [
    "embeddings_df = pd.DataFrame(corpus_42['Normalized_Embedding'].tolist())\n"
   ]
  },
  {
   "cell_type": "code",
   "execution_count": 69,
   "id": "198abe67",
   "metadata": {},
   "outputs": [],
   "source": [
    "data_with_dummies = pd.concat([embeddings_df, cpv_42_encoded_df_3, cpv_42_encoded_df_2, cpv_42_encoded_df_1], axis=1)"
   ]
  },
  {
   "cell_type": "code",
   "execution_count": 70,
   "id": "dd5ce52d",
   "metadata": {},
   "outputs": [],
   "source": [
    "data = data_with_dummies.join(corpus_42['Asset_specificity_mean'])"
   ]
  },
  {
   "cell_type": "code",
   "execution_count": 71,
   "id": "b23f1c1e",
   "metadata": {},
   "outputs": [],
   "source": [
    "data.columns = data.columns.astype(str)"
   ]
  },
  {
   "cell_type": "code",
   "execution_count": 72,
   "id": "3467bea5",
   "metadata": {},
   "outputs": [],
   "source": [
    "X = data.drop('Asset_specificity_mean', axis=1)\n",
    "y = data['Asset_specificity_mean']"
   ]
  },
  {
   "cell_type": "code",
   "execution_count": 73,
   "id": "42183565",
   "metadata": {},
   "outputs": [],
   "source": [
    "model = LinearRegression()"
   ]
  },
  {
   "cell_type": "code",
   "execution_count": 74,
   "id": "d100e7d7",
   "metadata": {},
   "outputs": [],
   "source": [
    "mse_scores = cross_val_score(model, X, y, cv=5, scoring='neg_mean_squared_error')\n",
    "mae_scores = cross_val_score(model, X, y, cv=5, scoring='neg_mean_absolute_error')\n",
    "r2_scores = cross_val_score(model, X, y, cv=5, scoring='r2')"
   ]
  },
  {
   "cell_type": "code",
   "execution_count": 76,
   "id": "a66c0820",
   "metadata": {},
   "outputs": [
    {
     "name": "stdout",
     "output_type": "stream",
     "text": [
      "Mean MSE: 0.026158301481645153\n",
      "Mean MAE: 0.10987724421265117\n",
      "Mean R2: 0.7748383532822506\n"
     ]
    }
   ],
   "source": [
    "print(\"Mean MSE:\", -mse_scores.mean())\n",
    "print(\"Mean MAE:\", -mae_scores.mean())\n",
    "print(\"Mean R2:\", r2_scores.mean())"
   ]
  },
  {
   "cell_type": "code",
   "execution_count": 77,
   "id": "6c43377c",
   "metadata": {
    "collapsed": true
   },
   "outputs": [
    {
     "data": {
      "text/html": [
       "<style>#sk-container-id-2 {color: black;}#sk-container-id-2 pre{padding: 0;}#sk-container-id-2 div.sk-toggleable {background-color: white;}#sk-container-id-2 label.sk-toggleable__label {cursor: pointer;display: block;width: 100%;margin-bottom: 0;padding: 0.3em;box-sizing: border-box;text-align: center;}#sk-container-id-2 label.sk-toggleable__label-arrow:before {content: \"▸\";float: left;margin-right: 0.25em;color: #696969;}#sk-container-id-2 label.sk-toggleable__label-arrow:hover:before {color: black;}#sk-container-id-2 div.sk-estimator:hover label.sk-toggleable__label-arrow:before {color: black;}#sk-container-id-2 div.sk-toggleable__content {max-height: 0;max-width: 0;overflow: hidden;text-align: left;background-color: #f0f8ff;}#sk-container-id-2 div.sk-toggleable__content pre {margin: 0.2em;color: black;border-radius: 0.25em;background-color: #f0f8ff;}#sk-container-id-2 input.sk-toggleable__control:checked~div.sk-toggleable__content {max-height: 200px;max-width: 100%;overflow: auto;}#sk-container-id-2 input.sk-toggleable__control:checked~label.sk-toggleable__label-arrow:before {content: \"▾\";}#sk-container-id-2 div.sk-estimator input.sk-toggleable__control:checked~label.sk-toggleable__label {background-color: #d4ebff;}#sk-container-id-2 div.sk-label input.sk-toggleable__control:checked~label.sk-toggleable__label {background-color: #d4ebff;}#sk-container-id-2 input.sk-hidden--visually {border: 0;clip: rect(1px 1px 1px 1px);clip: rect(1px, 1px, 1px, 1px);height: 1px;margin: -1px;overflow: hidden;padding: 0;position: absolute;width: 1px;}#sk-container-id-2 div.sk-estimator {font-family: monospace;background-color: #f0f8ff;border: 1px dotted black;border-radius: 0.25em;box-sizing: border-box;margin-bottom: 0.5em;}#sk-container-id-2 div.sk-estimator:hover {background-color: #d4ebff;}#sk-container-id-2 div.sk-parallel-item::after {content: \"\";width: 100%;border-bottom: 1px solid gray;flex-grow: 1;}#sk-container-id-2 div.sk-label:hover label.sk-toggleable__label {background-color: #d4ebff;}#sk-container-id-2 div.sk-serial::before {content: \"\";position: absolute;border-left: 1px solid gray;box-sizing: border-box;top: 0;bottom: 0;left: 50%;z-index: 0;}#sk-container-id-2 div.sk-serial {display: flex;flex-direction: column;align-items: center;background-color: white;padding-right: 0.2em;padding-left: 0.2em;position: relative;}#sk-container-id-2 div.sk-item {position: relative;z-index: 1;}#sk-container-id-2 div.sk-parallel {display: flex;align-items: stretch;justify-content: center;background-color: white;position: relative;}#sk-container-id-2 div.sk-item::before, #sk-container-id-2 div.sk-parallel-item::before {content: \"\";position: absolute;border-left: 1px solid gray;box-sizing: border-box;top: 0;bottom: 0;left: 50%;z-index: -1;}#sk-container-id-2 div.sk-parallel-item {display: flex;flex-direction: column;z-index: 1;position: relative;background-color: white;}#sk-container-id-2 div.sk-parallel-item:first-child::after {align-self: flex-end;width: 50%;}#sk-container-id-2 div.sk-parallel-item:last-child::after {align-self: flex-start;width: 50%;}#sk-container-id-2 div.sk-parallel-item:only-child::after {width: 0;}#sk-container-id-2 div.sk-dashed-wrapped {border: 1px dashed gray;margin: 0 0.4em 0.5em 0.4em;box-sizing: border-box;padding-bottom: 0.4em;background-color: white;}#sk-container-id-2 div.sk-label label {font-family: monospace;font-weight: bold;display: inline-block;line-height: 1.2em;}#sk-container-id-2 div.sk-label-container {text-align: center;}#sk-container-id-2 div.sk-container {/* jupyter's `normalize.less` sets `[hidden] { display: none; }` but bootstrap.min.css set `[hidden] { display: none !important; }` so we also need the `!important` here to be able to override the default hidden behavior on the sphinx rendered scikit-learn.org. See: https://github.com/scikit-learn/scikit-learn/issues/21755 */display: inline-block !important;position: relative;}#sk-container-id-2 div.sk-text-repr-fallback {display: none;}</style><div id=\"sk-container-id-2\" class=\"sk-top-container\"><div class=\"sk-text-repr-fallback\"><pre>LinearRegression()</pre><b>In a Jupyter environment, please rerun this cell to show the HTML representation or trust the notebook. <br />On GitHub, the HTML representation is unable to render, please try loading this page with nbviewer.org.</b></div><div class=\"sk-container\" hidden><div class=\"sk-item\"><div class=\"sk-estimator sk-toggleable\"><input class=\"sk-toggleable__control sk-hidden--visually\" id=\"sk-estimator-id-2\" type=\"checkbox\" checked><label for=\"sk-estimator-id-2\" class=\"sk-toggleable__label sk-toggleable__label-arrow\">LinearRegression</label><div class=\"sk-toggleable__content\"><pre>LinearRegression()</pre></div></div></div></div></div>"
      ],
      "text/plain": [
       "LinearRegression()"
      ]
     },
     "execution_count": 77,
     "metadata": {},
     "output_type": "execute_result"
    }
   ],
   "source": [
    "model.fit(X, y)\n"
   ]
  },
  {
   "cell_type": "code",
   "execution_count": 78,
   "id": "5a1e130b",
   "metadata": {},
   "outputs": [],
   "source": [
    "embeddings_df_18 = pd.DataFrame(corpus_18['Normalized_Embedding'].tolist())\n"
   ]
  },
  {
   "cell_type": "code",
   "execution_count": 79,
   "id": "f827578d",
   "metadata": {},
   "outputs": [],
   "source": [
    "data_with_dummies_18 = pd.concat([embeddings_df_18, cpv_18_encoded_df_3, cpv_18_encoded_df_2, cpv_18_encoded_df_1], axis=1)"
   ]
  },
  {
   "cell_type": "code",
   "execution_count": 80,
   "id": "4ed87284",
   "metadata": {},
   "outputs": [],
   "source": [
    "data_18 = data_with_dummies_18.join(corpus_18['Asset_specificity_mean'])"
   ]
  },
  {
   "cell_type": "code",
   "execution_count": 81,
   "id": "03bd7006",
   "metadata": {},
   "outputs": [],
   "source": [
    "data_18.columns = data_18.columns.astype(str)"
   ]
  },
  {
   "cell_type": "code",
   "execution_count": 82,
   "id": "bc84b8c8",
   "metadata": {},
   "outputs": [],
   "source": [
    "X_18 = data_18.drop('Asset_specificity_mean', axis=1)"
   ]
  },
  {
   "cell_type": "code",
   "execution_count": 83,
   "id": "1af2c7fa",
   "metadata": {},
   "outputs": [],
   "source": [
    "y_18 = data_18['Asset_specificity_mean']"
   ]
  },
  {
   "cell_type": "code",
   "execution_count": 84,
   "id": "21601ea9",
   "metadata": {},
   "outputs": [],
   "source": [
    "y_pred_18 = model.predict(X_18)"
   ]
  },
  {
   "cell_type": "code",
   "execution_count": 85,
   "id": "1a14f687",
   "metadata": {},
   "outputs": [],
   "source": [
    "mse_18 = mean_squared_error(y_18, y_pred_18)\n",
    "mae_18 = mean_absolute_error(y_18, y_pred_18)\n",
    "r2_18 = r2_score(y_18, y_pred_18)"
   ]
  },
  {
   "cell_type": "code",
   "execution_count": 86,
   "id": "44b5eaf2",
   "metadata": {
    "scrolled": true
   },
   "outputs": [
    {
     "name": "stdout",
     "output_type": "stream",
     "text": [
      "Mean Squared Error (MSE) on corpus_18: 0.14785461804320232\n",
      "Mean Absolute Error (MAE) on corpus_18: 0.28483829761606055\n",
      "R^2 Score on corpus_18: -0.017404111784969478\n"
     ]
    }
   ],
   "source": [
    "print(f\"Mean Squared Error (MSE) on corpus_18: {mse_18}\")\n",
    "print(f\"Mean Absolute Error (MAE) on corpus_18: {mae_18}\")\n",
    "print(f\"R^2 Score on corpus_18: {r2_18}\")"
   ]
  },
  {
   "cell_type": "markdown",
   "id": "86001fcb",
   "metadata": {},
   "source": [
    "# Random Forrest"
   ]
  },
  {
   "cell_type": "code",
   "execution_count": 68,
   "id": "e14dbe55",
   "metadata": {},
   "outputs": [],
   "source": [
    "import pandas as pd\n",
    "from sklearn.model_selection import train_test_split\n",
    "from sklearn.ensemble import RandomForestRegressor\n",
    "from sklearn.metrics import mean_squared_error, mean_absolute_error, r2_score\n",
    "from sklearn.model_selection import cross_val_score"
   ]
  },
  {
   "cell_type": "code",
   "execution_count": 88,
   "id": "bd1480cf",
   "metadata": {},
   "outputs": [],
   "source": [
    "embeddings_df = pd.DataFrame(corpus_42['Normalized_Embedding'].tolist())\n"
   ]
  },
  {
   "cell_type": "code",
   "execution_count": 89,
   "id": "b78d3764",
   "metadata": {},
   "outputs": [],
   "source": [
    "data_with_dummies = pd.concat([embeddings_df, cpv_42_encoded_df_3, cpv_42_encoded_df_2, cpv_42_encoded_df_1], axis=1)"
   ]
  },
  {
   "cell_type": "code",
   "execution_count": 90,
   "id": "6477f486",
   "metadata": {},
   "outputs": [],
   "source": [
    "data = data_with_dummies.join(corpus_42['Asset_specificity_mean'])"
   ]
  },
  {
   "cell_type": "code",
   "execution_count": 91,
   "id": "6bab99db",
   "metadata": {},
   "outputs": [],
   "source": [
    "data.columns = data.columns.astype(str)"
   ]
  },
  {
   "cell_type": "code",
   "execution_count": 92,
   "id": "76d51f13",
   "metadata": {},
   "outputs": [],
   "source": [
    "X = data.drop('Asset_specificity_mean', axis=1)\n",
    "y = data['Asset_specificity_mean']"
   ]
  },
  {
   "cell_type": "code",
   "execution_count": 93,
   "id": "b7277b8c",
   "metadata": {},
   "outputs": [],
   "source": [
    "model = RandomForestRegressor(n_estimators=100, random_state=42)"
   ]
  },
  {
   "cell_type": "code",
   "execution_count": 94,
   "id": "39fd829f",
   "metadata": {},
   "outputs": [],
   "source": [
    "mse_scores = cross_val_score(model, X, y, cv=5, scoring='neg_mean_squared_error')\n",
    "mae_scores = cross_val_score(model, X, y, cv=5, scoring='neg_mean_absolute_error')\n",
    "r2_scores = cross_val_score(model, X, y, cv=5, scoring='r2')"
   ]
  },
  {
   "cell_type": "code",
   "execution_count": 95,
   "id": "b06481e5",
   "metadata": {},
   "outputs": [
    {
     "name": "stdout",
     "output_type": "stream",
     "text": [
      "Mean MSE: 0.022757576091190494\n",
      "Mean MAE: 0.08907608159472524\n",
      "Mean R2: 0.8052676739143703\n"
     ]
    }
   ],
   "source": [
    "print(\"Mean MSE:\", -mse_scores.mean())\n",
    "print(\"Mean MAE:\", -mae_scores.mean())\n",
    "print(\"Mean R2:\", r2_scores.mean())"
   ]
  },
  {
   "cell_type": "code",
   "execution_count": 96,
   "id": "792c9667",
   "metadata": {
    "collapsed": true
   },
   "outputs": [
    {
     "data": {
      "text/html": [
       "<style>#sk-container-id-3 {color: black;}#sk-container-id-3 pre{padding: 0;}#sk-container-id-3 div.sk-toggleable {background-color: white;}#sk-container-id-3 label.sk-toggleable__label {cursor: pointer;display: block;width: 100%;margin-bottom: 0;padding: 0.3em;box-sizing: border-box;text-align: center;}#sk-container-id-3 label.sk-toggleable__label-arrow:before {content: \"▸\";float: left;margin-right: 0.25em;color: #696969;}#sk-container-id-3 label.sk-toggleable__label-arrow:hover:before {color: black;}#sk-container-id-3 div.sk-estimator:hover label.sk-toggleable__label-arrow:before {color: black;}#sk-container-id-3 div.sk-toggleable__content {max-height: 0;max-width: 0;overflow: hidden;text-align: left;background-color: #f0f8ff;}#sk-container-id-3 div.sk-toggleable__content pre {margin: 0.2em;color: black;border-radius: 0.25em;background-color: #f0f8ff;}#sk-container-id-3 input.sk-toggleable__control:checked~div.sk-toggleable__content {max-height: 200px;max-width: 100%;overflow: auto;}#sk-container-id-3 input.sk-toggleable__control:checked~label.sk-toggleable__label-arrow:before {content: \"▾\";}#sk-container-id-3 div.sk-estimator input.sk-toggleable__control:checked~label.sk-toggleable__label {background-color: #d4ebff;}#sk-container-id-3 div.sk-label input.sk-toggleable__control:checked~label.sk-toggleable__label {background-color: #d4ebff;}#sk-container-id-3 input.sk-hidden--visually {border: 0;clip: rect(1px 1px 1px 1px);clip: rect(1px, 1px, 1px, 1px);height: 1px;margin: -1px;overflow: hidden;padding: 0;position: absolute;width: 1px;}#sk-container-id-3 div.sk-estimator {font-family: monospace;background-color: #f0f8ff;border: 1px dotted black;border-radius: 0.25em;box-sizing: border-box;margin-bottom: 0.5em;}#sk-container-id-3 div.sk-estimator:hover {background-color: #d4ebff;}#sk-container-id-3 div.sk-parallel-item::after {content: \"\";width: 100%;border-bottom: 1px solid gray;flex-grow: 1;}#sk-container-id-3 div.sk-label:hover label.sk-toggleable__label {background-color: #d4ebff;}#sk-container-id-3 div.sk-serial::before {content: \"\";position: absolute;border-left: 1px solid gray;box-sizing: border-box;top: 0;bottom: 0;left: 50%;z-index: 0;}#sk-container-id-3 div.sk-serial {display: flex;flex-direction: column;align-items: center;background-color: white;padding-right: 0.2em;padding-left: 0.2em;position: relative;}#sk-container-id-3 div.sk-item {position: relative;z-index: 1;}#sk-container-id-3 div.sk-parallel {display: flex;align-items: stretch;justify-content: center;background-color: white;position: relative;}#sk-container-id-3 div.sk-item::before, #sk-container-id-3 div.sk-parallel-item::before {content: \"\";position: absolute;border-left: 1px solid gray;box-sizing: border-box;top: 0;bottom: 0;left: 50%;z-index: -1;}#sk-container-id-3 div.sk-parallel-item {display: flex;flex-direction: column;z-index: 1;position: relative;background-color: white;}#sk-container-id-3 div.sk-parallel-item:first-child::after {align-self: flex-end;width: 50%;}#sk-container-id-3 div.sk-parallel-item:last-child::after {align-self: flex-start;width: 50%;}#sk-container-id-3 div.sk-parallel-item:only-child::after {width: 0;}#sk-container-id-3 div.sk-dashed-wrapped {border: 1px dashed gray;margin: 0 0.4em 0.5em 0.4em;box-sizing: border-box;padding-bottom: 0.4em;background-color: white;}#sk-container-id-3 div.sk-label label {font-family: monospace;font-weight: bold;display: inline-block;line-height: 1.2em;}#sk-container-id-3 div.sk-label-container {text-align: center;}#sk-container-id-3 div.sk-container {/* jupyter's `normalize.less` sets `[hidden] { display: none; }` but bootstrap.min.css set `[hidden] { display: none !important; }` so we also need the `!important` here to be able to override the default hidden behavior on the sphinx rendered scikit-learn.org. See: https://github.com/scikit-learn/scikit-learn/issues/21755 */display: inline-block !important;position: relative;}#sk-container-id-3 div.sk-text-repr-fallback {display: none;}</style><div id=\"sk-container-id-3\" class=\"sk-top-container\"><div class=\"sk-text-repr-fallback\"><pre>RandomForestRegressor(random_state=42)</pre><b>In a Jupyter environment, please rerun this cell to show the HTML representation or trust the notebook. <br />On GitHub, the HTML representation is unable to render, please try loading this page with nbviewer.org.</b></div><div class=\"sk-container\" hidden><div class=\"sk-item\"><div class=\"sk-estimator sk-toggleable\"><input class=\"sk-toggleable__control sk-hidden--visually\" id=\"sk-estimator-id-3\" type=\"checkbox\" checked><label for=\"sk-estimator-id-3\" class=\"sk-toggleable__label sk-toggleable__label-arrow\">RandomForestRegressor</label><div class=\"sk-toggleable__content\"><pre>RandomForestRegressor(random_state=42)</pre></div></div></div></div></div>"
      ],
      "text/plain": [
       "RandomForestRegressor(random_state=42)"
      ]
     },
     "execution_count": 96,
     "metadata": {},
     "output_type": "execute_result"
    }
   ],
   "source": [
    "model.fit(X, y)\n"
   ]
  },
  {
   "cell_type": "code",
   "execution_count": 97,
   "id": "3bcce9bb",
   "metadata": {},
   "outputs": [],
   "source": [
    "embeddings_df_18 = pd.DataFrame(corpus_18['Normalized_Embedding'].tolist())\n"
   ]
  },
  {
   "cell_type": "code",
   "execution_count": 98,
   "id": "596e8241",
   "metadata": {},
   "outputs": [],
   "source": [
    "data_with_dummies_18 = pd.concat([embeddings_df_18, cpv_18_encoded_df_3, cpv_18_encoded_df_2, cpv_18_encoded_df_1], axis=1)"
   ]
  },
  {
   "cell_type": "code",
   "execution_count": 99,
   "id": "4782a65a",
   "metadata": {},
   "outputs": [],
   "source": [
    "data_18 = data_with_dummies_18.join(corpus_18['Asset_specificity_mean'])"
   ]
  },
  {
   "cell_type": "code",
   "execution_count": 100,
   "id": "e1332f07",
   "metadata": {},
   "outputs": [],
   "source": [
    "data_18.columns = data_18.columns.astype(str)"
   ]
  },
  {
   "cell_type": "code",
   "execution_count": 101,
   "id": "2baec76a",
   "metadata": {},
   "outputs": [],
   "source": [
    "X_18 = data_18.drop('Asset_specificity_mean', axis=1)"
   ]
  },
  {
   "cell_type": "code",
   "execution_count": 102,
   "id": "b8bb6939",
   "metadata": {},
   "outputs": [],
   "source": [
    "y_18 = data_18['Asset_specificity_mean']"
   ]
  },
  {
   "cell_type": "code",
   "execution_count": 103,
   "id": "ac0769d8",
   "metadata": {},
   "outputs": [],
   "source": [
    "y_pred_18 = model.predict(X_18)"
   ]
  },
  {
   "cell_type": "code",
   "execution_count": 104,
   "id": "34cfd2b2",
   "metadata": {},
   "outputs": [],
   "source": [
    "mse_18 = mean_squared_error(y_18, y_pred_18)\n",
    "mae_18 = mean_absolute_error(y_18, y_pred_18)\n",
    "r2_18 = r2_score(y_18, y_pred_18)"
   ]
  },
  {
   "cell_type": "code",
   "execution_count": 105,
   "id": "d002c718",
   "metadata": {},
   "outputs": [
    {
     "name": "stdout",
     "output_type": "stream",
     "text": [
      "Mean Squared Error (MSE) on corpus_18: 0.1364487083701588\n",
      "Mean Absolute Error (MAE) on corpus_18: 0.3222243386632392\n",
      "R^2 Score on corpus_18: 0.06108122437552632\n"
     ]
    }
   ],
   "source": [
    "print(f\"Mean Squared Error (MSE) on corpus_18: {mse_18}\")\n",
    "print(f\"Mean Absolute Error (MAE) on corpus_18: {mae_18}\")\n",
    "print(f\"R^2 Score on corpus_18: {r2_18}\")"
   ]
  },
  {
   "cell_type": "markdown",
   "id": "17fd6923",
   "metadata": {},
   "source": [
    "# SVM "
   ]
  },
  {
   "cell_type": "code",
   "execution_count": 44,
   "id": "d6243abd",
   "metadata": {},
   "outputs": [],
   "source": [
    "import pandas as pd\n",
    "from sklearn.model_selection import train_test_split\n",
    "from sklearn.svm import SVR\n",
    "from sklearn.metrics import mean_squared_error, mean_absolute_error, r2_score"
   ]
  },
  {
   "cell_type": "code",
   "execution_count": 45,
   "id": "91e814ad",
   "metadata": {},
   "outputs": [],
   "source": [
    "embeddings_df = pd.DataFrame(corpus_42['Normalized_Embedding'].tolist())\n"
   ]
  },
  {
   "cell_type": "code",
   "execution_count": 46,
   "id": "cb8333a1",
   "metadata": {},
   "outputs": [],
   "source": [
    "data_with_dummies = pd.concat([embeddings_df, cpv_42_encoded_df_3, cpv_42_encoded_df_2, cpv_42_encoded_df_1], axis=1)"
   ]
  },
  {
   "cell_type": "code",
   "execution_count": 47,
   "id": "7d315c8f",
   "metadata": {},
   "outputs": [],
   "source": [
    "data = data_with_dummies.join(corpus_42['Asset_specificity_mean'])"
   ]
  },
  {
   "cell_type": "code",
   "execution_count": 48,
   "id": "986088ae",
   "metadata": {},
   "outputs": [],
   "source": [
    "data.columns = data.columns.astype(str)"
   ]
  },
  {
   "cell_type": "code",
   "execution_count": 49,
   "id": "c7240b95",
   "metadata": {},
   "outputs": [],
   "source": [
    "X = data.drop('Asset_specificity_mean', axis=1)\n",
    "y = data['Asset_specificity_mean']"
   ]
  },
  {
   "cell_type": "code",
   "execution_count": 50,
   "id": "b8df0a13",
   "metadata": {},
   "outputs": [],
   "source": [
    "X_train, X_test, y_train, y_test = train_test_split(X, y, test_size=0.3, random_state=42)"
   ]
  },
  {
   "cell_type": "code",
   "execution_count": 51,
   "id": "59423f2e",
   "metadata": {},
   "outputs": [],
   "source": [
    "model = SVR()"
   ]
  },
  {
   "cell_type": "code",
   "execution_count": 52,
   "id": "b54faceb",
   "metadata": {
    "collapsed": true
   },
   "outputs": [
    {
     "data": {
      "text/html": [
       "<style>#sk-container-id-1 {color: black;}#sk-container-id-1 pre{padding: 0;}#sk-container-id-1 div.sk-toggleable {background-color: white;}#sk-container-id-1 label.sk-toggleable__label {cursor: pointer;display: block;width: 100%;margin-bottom: 0;padding: 0.3em;box-sizing: border-box;text-align: center;}#sk-container-id-1 label.sk-toggleable__label-arrow:before {content: \"▸\";float: left;margin-right: 0.25em;color: #696969;}#sk-container-id-1 label.sk-toggleable__label-arrow:hover:before {color: black;}#sk-container-id-1 div.sk-estimator:hover label.sk-toggleable__label-arrow:before {color: black;}#sk-container-id-1 div.sk-toggleable__content {max-height: 0;max-width: 0;overflow: hidden;text-align: left;background-color: #f0f8ff;}#sk-container-id-1 div.sk-toggleable__content pre {margin: 0.2em;color: black;border-radius: 0.25em;background-color: #f0f8ff;}#sk-container-id-1 input.sk-toggleable__control:checked~div.sk-toggleable__content {max-height: 200px;max-width: 100%;overflow: auto;}#sk-container-id-1 input.sk-toggleable__control:checked~label.sk-toggleable__label-arrow:before {content: \"▾\";}#sk-container-id-1 div.sk-estimator input.sk-toggleable__control:checked~label.sk-toggleable__label {background-color: #d4ebff;}#sk-container-id-1 div.sk-label input.sk-toggleable__control:checked~label.sk-toggleable__label {background-color: #d4ebff;}#sk-container-id-1 input.sk-hidden--visually {border: 0;clip: rect(1px 1px 1px 1px);clip: rect(1px, 1px, 1px, 1px);height: 1px;margin: -1px;overflow: hidden;padding: 0;position: absolute;width: 1px;}#sk-container-id-1 div.sk-estimator {font-family: monospace;background-color: #f0f8ff;border: 1px dotted black;border-radius: 0.25em;box-sizing: border-box;margin-bottom: 0.5em;}#sk-container-id-1 div.sk-estimator:hover {background-color: #d4ebff;}#sk-container-id-1 div.sk-parallel-item::after {content: \"\";width: 100%;border-bottom: 1px solid gray;flex-grow: 1;}#sk-container-id-1 div.sk-label:hover label.sk-toggleable__label {background-color: #d4ebff;}#sk-container-id-1 div.sk-serial::before {content: \"\";position: absolute;border-left: 1px solid gray;box-sizing: border-box;top: 0;bottom: 0;left: 50%;z-index: 0;}#sk-container-id-1 div.sk-serial {display: flex;flex-direction: column;align-items: center;background-color: white;padding-right: 0.2em;padding-left: 0.2em;position: relative;}#sk-container-id-1 div.sk-item {position: relative;z-index: 1;}#sk-container-id-1 div.sk-parallel {display: flex;align-items: stretch;justify-content: center;background-color: white;position: relative;}#sk-container-id-1 div.sk-item::before, #sk-container-id-1 div.sk-parallel-item::before {content: \"\";position: absolute;border-left: 1px solid gray;box-sizing: border-box;top: 0;bottom: 0;left: 50%;z-index: -1;}#sk-container-id-1 div.sk-parallel-item {display: flex;flex-direction: column;z-index: 1;position: relative;background-color: white;}#sk-container-id-1 div.sk-parallel-item:first-child::after {align-self: flex-end;width: 50%;}#sk-container-id-1 div.sk-parallel-item:last-child::after {align-self: flex-start;width: 50%;}#sk-container-id-1 div.sk-parallel-item:only-child::after {width: 0;}#sk-container-id-1 div.sk-dashed-wrapped {border: 1px dashed gray;margin: 0 0.4em 0.5em 0.4em;box-sizing: border-box;padding-bottom: 0.4em;background-color: white;}#sk-container-id-1 div.sk-label label {font-family: monospace;font-weight: bold;display: inline-block;line-height: 1.2em;}#sk-container-id-1 div.sk-label-container {text-align: center;}#sk-container-id-1 div.sk-container {/* jupyter's `normalize.less` sets `[hidden] { display: none; }` but bootstrap.min.css set `[hidden] { display: none !important; }` so we also need the `!important` here to be able to override the default hidden behavior on the sphinx rendered scikit-learn.org. See: https://github.com/scikit-learn/scikit-learn/issues/21755 */display: inline-block !important;position: relative;}#sk-container-id-1 div.sk-text-repr-fallback {display: none;}</style><div id=\"sk-container-id-1\" class=\"sk-top-container\"><div class=\"sk-text-repr-fallback\"><pre>SVR()</pre><b>In a Jupyter environment, please rerun this cell to show the HTML representation or trust the notebook. <br />On GitHub, the HTML representation is unable to render, please try loading this page with nbviewer.org.</b></div><div class=\"sk-container\" hidden><div class=\"sk-item\"><div class=\"sk-estimator sk-toggleable\"><input class=\"sk-toggleable__control sk-hidden--visually\" id=\"sk-estimator-id-1\" type=\"checkbox\" checked><label for=\"sk-estimator-id-1\" class=\"sk-toggleable__label sk-toggleable__label-arrow\">SVR</label><div class=\"sk-toggleable__content\"><pre>SVR()</pre></div></div></div></div></div>"
      ],
      "text/plain": [
       "SVR()"
      ]
     },
     "execution_count": 52,
     "metadata": {},
     "output_type": "execute_result"
    }
   ],
   "source": [
    "model.fit(X_train, y_train)\n"
   ]
  },
  {
   "cell_type": "code",
   "execution_count": 53,
   "id": "baa5dba4",
   "metadata": {},
   "outputs": [],
   "source": [
    "y_pred = model.predict(X_test)"
   ]
  },
  {
   "cell_type": "code",
   "execution_count": 54,
   "id": "25c7a375",
   "metadata": {},
   "outputs": [],
   "source": [
    "mse = mean_squared_error(y_test, y_pred)\n",
    "mae = mean_absolute_error(y_test, y_pred)\n",
    "r2 = r2_score(y_test, y_pred)"
   ]
  },
  {
   "cell_type": "code",
   "execution_count": 55,
   "id": "46c26d84",
   "metadata": {},
   "outputs": [
    {
     "name": "stdout",
     "output_type": "stream",
     "text": [
      "Mean Squared Error (MSE): 0.023209407657618635\n",
      "Mean Absolute Error (MAE): 0.10166470944265969\n",
      "R^2 Score: 0.8195858621186136\n"
     ]
    }
   ],
   "source": [
    "print(f'Mean Squared Error (MSE): {mse}')\n",
    "print(f'Mean Absolute Error (MAE): {mae}')\n",
    "print(f'R^2 Score: {r2}')"
   ]
  },
  {
   "cell_type": "code",
   "execution_count": 56,
   "id": "7c2797cb",
   "metadata": {},
   "outputs": [],
   "source": [
    "embeddings_df_18 = pd.DataFrame(corpus_18['Normalized_Embedding'].tolist())\n"
   ]
  },
  {
   "cell_type": "code",
   "execution_count": 57,
   "id": "0065c75b",
   "metadata": {},
   "outputs": [],
   "source": [
    "data_with_dummies_18 = pd.concat([embeddings_df_18, cpv_18_encoded_df_3, cpv_18_encoded_df_2, cpv_18_encoded_df_1], axis=1)"
   ]
  },
  {
   "cell_type": "code",
   "execution_count": 58,
   "id": "40a7cf06",
   "metadata": {},
   "outputs": [],
   "source": [
    "data_18 = data_with_dummies_18.join(corpus_18['Asset_specificity_mean'])"
   ]
  },
  {
   "cell_type": "code",
   "execution_count": 59,
   "id": "543f34d8",
   "metadata": {},
   "outputs": [],
   "source": [
    "data_18.columns = data_18.columns.astype(str)"
   ]
  },
  {
   "cell_type": "code",
   "execution_count": 60,
   "id": "26fbfc02",
   "metadata": {},
   "outputs": [],
   "source": [
    "X_18 = data_18.drop('Asset_specificity_mean', axis=1)"
   ]
  },
  {
   "cell_type": "code",
   "execution_count": 61,
   "id": "99132a05",
   "metadata": {},
   "outputs": [],
   "source": [
    "y_18 = data_18['Asset_specificity_mean']"
   ]
  },
  {
   "cell_type": "code",
   "execution_count": 62,
   "id": "30e1212e",
   "metadata": {},
   "outputs": [],
   "source": [
    "y_pred_18 = model.predict(X_18)"
   ]
  },
  {
   "cell_type": "code",
   "execution_count": 63,
   "id": "412f05a8",
   "metadata": {},
   "outputs": [],
   "source": [
    "mse_18 = mean_squared_error(y_18, y_pred_18)\n",
    "mae_18 = mean_absolute_error(y_18, y_pred_18)\n",
    "r2_18 = r2_score(y_18, y_pred_18)"
   ]
  },
  {
   "cell_type": "code",
   "execution_count": 64,
   "id": "f7e2d319",
   "metadata": {},
   "outputs": [
    {
     "name": "stdout",
     "output_type": "stream",
     "text": [
      "Mean Squared Error (MSE) on corpus_18: 0.11970270462348415\n",
      "Mean Absolute Error (MAE) on corpus_18: 0.2797758374608025\n",
      "R^2 Score on corpus_18: 0.17631234324971023\n"
     ]
    }
   ],
   "source": [
    "print(f\"Mean Squared Error (MSE) on corpus_18: {mse_18}\")\n",
    "print(f\"Mean Absolute Error (MAE) on corpus_18: {mae_18}\")\n",
    "print(f\"R^2 Score on corpus_18: {r2_18}\")"
   ]
  },
  {
   "cell_type": "markdown",
   "id": "d8212c1c",
   "metadata": {},
   "source": [
    "## Neural Network"
   ]
  },
  {
   "cell_type": "code",
   "execution_count": 136,
   "id": "9728600d",
   "metadata": {},
   "outputs": [],
   "source": [
    "import pandas as pd\n",
    "from sklearn.model_selection import train_test_split\n",
    "from sklearn.preprocessing import StandardScaler\n",
    "from sklearn.neural_network import MLPRegressor\n",
    "from sklearn.metrics import mean_squared_error, mean_absolute_error, r2_score\n",
    "\n",
    "import numpy as np\n",
    "import tensorflow as tf\n",
    "import random"
   ]
  },
  {
   "cell_type": "code",
   "execution_count": 137,
   "id": "f28061ea",
   "metadata": {
    "collapsed": true
   },
   "outputs": [
    {
     "name": "stdout",
     "output_type": "stream",
     "text": [
      "WARNING:tensorflow:From C:\\Users\\blunds\\AppData\\Local\\anaconda3\\Lib\\site-packages\\keras\\src\\losses.py:2976: The name tf.losses.sparse_softmax_cross_entropy is deprecated. Please use tf.compat.v1.losses.sparse_softmax_cross_entropy instead.\n",
      "\n"
     ]
    }
   ],
   "source": [
    "np.random.seed(42)\n",
    "random.seed(42)\n",
    "tf.random.set_seed(42)"
   ]
  },
  {
   "cell_type": "code",
   "execution_count": 138,
   "id": "472f8c34",
   "metadata": {},
   "outputs": [],
   "source": [
    "embeddings_df = pd.DataFrame(corpus_42['Normalized_Embedding'].tolist())\n"
   ]
  },
  {
   "cell_type": "code",
   "execution_count": 139,
   "id": "9c4ec2b7",
   "metadata": {},
   "outputs": [],
   "source": [
    "data_with_dummies = pd.concat([embeddings_df, cpv_42_encoded_df_3, cpv_42_encoded_df_2, cpv_42_encoded_df_1], axis=1)"
   ]
  },
  {
   "cell_type": "code",
   "execution_count": 140,
   "id": "ec00efce",
   "metadata": {},
   "outputs": [],
   "source": [
    "data = data_with_dummies.join(corpus_42['Asset_specificity_mean'])"
   ]
  },
  {
   "cell_type": "code",
   "execution_count": 141,
   "id": "ed06c096",
   "metadata": {},
   "outputs": [],
   "source": [
    "data.columns = data.columns.astype(str)"
   ]
  },
  {
   "cell_type": "code",
   "execution_count": 142,
   "id": "a85fcae1",
   "metadata": {},
   "outputs": [],
   "source": [
    "X = data.drop('Asset_specificity_mean', axis=1)\n",
    "y = data['Asset_specificity_mean']"
   ]
  },
  {
   "cell_type": "code",
   "execution_count": 143,
   "id": "2dc20872",
   "metadata": {},
   "outputs": [],
   "source": [
    "X_train, X_test, y_train, y_test = train_test_split(X, y, test_size=0.3, random_state=42)"
   ]
  },
  {
   "cell_type": "code",
   "execution_count": 144,
   "id": "7f26bb0b",
   "metadata": {},
   "outputs": [],
   "source": [
    "model = MLPRegressor(hidden_layer_sizes=(100,), activation='logistic', solver='adam', max_iter=1000, random_state=42)"
   ]
  },
  {
   "cell_type": "code",
   "execution_count": 145,
   "id": "0f062296",
   "metadata": {
    "collapsed": true
   },
   "outputs": [
    {
     "data": {
      "text/html": [
       "<style>#sk-container-id-9 {color: black;}#sk-container-id-9 pre{padding: 0;}#sk-container-id-9 div.sk-toggleable {background-color: white;}#sk-container-id-9 label.sk-toggleable__label {cursor: pointer;display: block;width: 100%;margin-bottom: 0;padding: 0.3em;box-sizing: border-box;text-align: center;}#sk-container-id-9 label.sk-toggleable__label-arrow:before {content: \"▸\";float: left;margin-right: 0.25em;color: #696969;}#sk-container-id-9 label.sk-toggleable__label-arrow:hover:before {color: black;}#sk-container-id-9 div.sk-estimator:hover label.sk-toggleable__label-arrow:before {color: black;}#sk-container-id-9 div.sk-toggleable__content {max-height: 0;max-width: 0;overflow: hidden;text-align: left;background-color: #f0f8ff;}#sk-container-id-9 div.sk-toggleable__content pre {margin: 0.2em;color: black;border-radius: 0.25em;background-color: #f0f8ff;}#sk-container-id-9 input.sk-toggleable__control:checked~div.sk-toggleable__content {max-height: 200px;max-width: 100%;overflow: auto;}#sk-container-id-9 input.sk-toggleable__control:checked~label.sk-toggleable__label-arrow:before {content: \"▾\";}#sk-container-id-9 div.sk-estimator input.sk-toggleable__control:checked~label.sk-toggleable__label {background-color: #d4ebff;}#sk-container-id-9 div.sk-label input.sk-toggleable__control:checked~label.sk-toggleable__label {background-color: #d4ebff;}#sk-container-id-9 input.sk-hidden--visually {border: 0;clip: rect(1px 1px 1px 1px);clip: rect(1px, 1px, 1px, 1px);height: 1px;margin: -1px;overflow: hidden;padding: 0;position: absolute;width: 1px;}#sk-container-id-9 div.sk-estimator {font-family: monospace;background-color: #f0f8ff;border: 1px dotted black;border-radius: 0.25em;box-sizing: border-box;margin-bottom: 0.5em;}#sk-container-id-9 div.sk-estimator:hover {background-color: #d4ebff;}#sk-container-id-9 div.sk-parallel-item::after {content: \"\";width: 100%;border-bottom: 1px solid gray;flex-grow: 1;}#sk-container-id-9 div.sk-label:hover label.sk-toggleable__label {background-color: #d4ebff;}#sk-container-id-9 div.sk-serial::before {content: \"\";position: absolute;border-left: 1px solid gray;box-sizing: border-box;top: 0;bottom: 0;left: 50%;z-index: 0;}#sk-container-id-9 div.sk-serial {display: flex;flex-direction: column;align-items: center;background-color: white;padding-right: 0.2em;padding-left: 0.2em;position: relative;}#sk-container-id-9 div.sk-item {position: relative;z-index: 1;}#sk-container-id-9 div.sk-parallel {display: flex;align-items: stretch;justify-content: center;background-color: white;position: relative;}#sk-container-id-9 div.sk-item::before, #sk-container-id-9 div.sk-parallel-item::before {content: \"\";position: absolute;border-left: 1px solid gray;box-sizing: border-box;top: 0;bottom: 0;left: 50%;z-index: -1;}#sk-container-id-9 div.sk-parallel-item {display: flex;flex-direction: column;z-index: 1;position: relative;background-color: white;}#sk-container-id-9 div.sk-parallel-item:first-child::after {align-self: flex-end;width: 50%;}#sk-container-id-9 div.sk-parallel-item:last-child::after {align-self: flex-start;width: 50%;}#sk-container-id-9 div.sk-parallel-item:only-child::after {width: 0;}#sk-container-id-9 div.sk-dashed-wrapped {border: 1px dashed gray;margin: 0 0.4em 0.5em 0.4em;box-sizing: border-box;padding-bottom: 0.4em;background-color: white;}#sk-container-id-9 div.sk-label label {font-family: monospace;font-weight: bold;display: inline-block;line-height: 1.2em;}#sk-container-id-9 div.sk-label-container {text-align: center;}#sk-container-id-9 div.sk-container {/* jupyter's `normalize.less` sets `[hidden] { display: none; }` but bootstrap.min.css set `[hidden] { display: none !important; }` so we also need the `!important` here to be able to override the default hidden behavior on the sphinx rendered scikit-learn.org. See: https://github.com/scikit-learn/scikit-learn/issues/21755 */display: inline-block !important;position: relative;}#sk-container-id-9 div.sk-text-repr-fallback {display: none;}</style><div id=\"sk-container-id-9\" class=\"sk-top-container\"><div class=\"sk-text-repr-fallback\"><pre>MLPRegressor(activation=&#x27;logistic&#x27;, max_iter=1000, random_state=42)</pre><b>In a Jupyter environment, please rerun this cell to show the HTML representation or trust the notebook. <br />On GitHub, the HTML representation is unable to render, please try loading this page with nbviewer.org.</b></div><div class=\"sk-container\" hidden><div class=\"sk-item\"><div class=\"sk-estimator sk-toggleable\"><input class=\"sk-toggleable__control sk-hidden--visually\" id=\"sk-estimator-id-9\" type=\"checkbox\" checked><label for=\"sk-estimator-id-9\" class=\"sk-toggleable__label sk-toggleable__label-arrow\">MLPRegressor</label><div class=\"sk-toggleable__content\"><pre>MLPRegressor(activation=&#x27;logistic&#x27;, max_iter=1000, random_state=42)</pre></div></div></div></div></div>"
      ],
      "text/plain": [
       "MLPRegressor(activation='logistic', max_iter=1000, random_state=42)"
      ]
     },
     "execution_count": 145,
     "metadata": {},
     "output_type": "execute_result"
    }
   ],
   "source": [
    "model.fit(X_train, y_train)\n"
   ]
  },
  {
   "cell_type": "code",
   "execution_count": 146,
   "id": "8bd96c79",
   "metadata": {},
   "outputs": [],
   "source": [
    "y_pred = model.predict(X_test)"
   ]
  },
  {
   "cell_type": "code",
   "execution_count": 147,
   "id": "4884556f",
   "metadata": {},
   "outputs": [],
   "source": [
    "mse = mean_squared_error(y_test, y_pred)\n",
    "mae = mean_absolute_error(y_test, y_pred)\n",
    "r2 = r2_score(y_test, y_pred)"
   ]
  },
  {
   "cell_type": "code",
   "execution_count": 148,
   "id": "bf3ee391",
   "metadata": {},
   "outputs": [],
   "source": [
    "# Normalize"
   ]
  },
  {
   "cell_type": "code",
   "execution_count": 149,
   "id": "f8b89b50",
   "metadata": {},
   "outputs": [
    {
     "name": "stdout",
     "output_type": "stream",
     "text": [
      "Mean Squared Error (MSE): 0.025700704103117714\n",
      "Mean Absolute Error (MAE): 0.10402314555441827\n",
      "R^2 Score: 0.800220219227071\n"
     ]
    }
   ],
   "source": [
    "print(f'Mean Squared Error (MSE): {mse}')\n",
    "print(f'Mean Absolute Error (MAE): {mae}')\n",
    "print(f'R^2 Score: {r2}')"
   ]
  },
  {
   "cell_type": "code",
   "execution_count": 150,
   "id": "59e9f95c",
   "metadata": {},
   "outputs": [],
   "source": [
    "embeddings_df_18 = pd.DataFrame(corpus_18['Normalized_Embedding'].tolist())"
   ]
  },
  {
   "cell_type": "code",
   "execution_count": 151,
   "id": "0f24bec5",
   "metadata": {},
   "outputs": [],
   "source": [
    "data_with_dummies_18 = pd.concat([embeddings_df_18, cpv_18_encoded_df_3, cpv_18_encoded_df_2, cpv_18_encoded_df_1], axis=1)"
   ]
  },
  {
   "cell_type": "code",
   "execution_count": 152,
   "id": "68d15ceb",
   "metadata": {},
   "outputs": [],
   "source": [
    "data_18 = data_with_dummies_18.join(corpus_18['Asset_specificity_mean'])"
   ]
  },
  {
   "cell_type": "code",
   "execution_count": 153,
   "id": "38d86dd6",
   "metadata": {},
   "outputs": [],
   "source": [
    "data_18.columns = data_18.columns.astype(str)"
   ]
  },
  {
   "cell_type": "code",
   "execution_count": 154,
   "id": "6ddbbb17",
   "metadata": {},
   "outputs": [],
   "source": [
    "X_18 = data_18.drop('Asset_specificity_mean', axis=1)"
   ]
  },
  {
   "cell_type": "code",
   "execution_count": 155,
   "id": "b932ad64",
   "metadata": {},
   "outputs": [],
   "source": [
    "y_18 = data_18['Asset_specificity_mean']"
   ]
  },
  {
   "cell_type": "code",
   "execution_count": 156,
   "id": "4891457d",
   "metadata": {},
   "outputs": [],
   "source": [
    "y_pred_18 = model.predict(X_18)"
   ]
  },
  {
   "cell_type": "code",
   "execution_count": 157,
   "id": "c6dd9cc8",
   "metadata": {},
   "outputs": [],
   "source": [
    "mse_18 = mean_squared_error(y_18, y_pred_18)\n",
    "mae_18 = mean_absolute_error(y_18, y_pred_18)\n",
    "r2_18 = r2_score(y_18, y_pred_18)"
   ]
  },
  {
   "cell_type": "code",
   "execution_count": 158,
   "id": "70dccda1",
   "metadata": {},
   "outputs": [
    {
     "name": "stdout",
     "output_type": "stream",
     "text": [
      "Mean Squared Error (MSE) on corpus_18: 0.110173243158986\n",
      "Mean Absolute Error (MAE) on corpus_18: 0.2341268871682054\n",
      "R^2 Score on corpus_18: 0.241885630072878\n"
     ]
    }
   ],
   "source": [
    "print(f\"Mean Squared Error (MSE) on corpus_18: {mse_18}\")\n",
    "print(f\"Mean Absolute Error (MAE) on corpus_18: {mae_18}\")\n",
    "print(f\"R^2 Score on corpus_18: {r2_18}\")"
   ]
  },
  {
   "cell_type": "markdown",
   "id": "69f040e7",
   "metadata": {},
   "source": [
    "## 3.2 Support Vector Machine adjustment"
   ]
  },
  {
   "cell_type": "code",
   "execution_count": 36,
   "id": "9f3e7836",
   "metadata": {},
   "outputs": [],
   "source": [
    "import pandas as pd\n",
    "from sklearn.model_selection import train_test_split\n",
    "from sklearn.svm import SVR\n",
    "from sklearn.metrics import mean_squared_error, mean_absolute_error, r2_score"
   ]
  },
  {
   "cell_type": "code",
   "execution_count": 37,
   "id": "c1dd45fd",
   "metadata": {},
   "outputs": [],
   "source": [
    "embeddings_df = pd.DataFrame(corpus_42['Normalized_Embedding'].tolist())"
   ]
  },
  {
   "cell_type": "code",
   "execution_count": 38,
   "id": "ca27489d",
   "metadata": {},
   "outputs": [],
   "source": [
    "data_with_dummies = pd.concat([embeddings_df, cpv_42_encoded_df_2, cpv_42_encoded_df_1, cpv_42_encoded_df_3], axis=1)"
   ]
  },
  {
   "cell_type": "code",
   "execution_count": 39,
   "id": "d8d0467f",
   "metadata": {},
   "outputs": [],
   "source": [
    "data = data_with_dummies.join(corpus_42['Asset_specificity_mean'])"
   ]
  },
  {
   "cell_type": "code",
   "execution_count": 40,
   "id": "e327b36c",
   "metadata": {},
   "outputs": [],
   "source": [
    "data.columns = data.columns.astype(str)"
   ]
  },
  {
   "cell_type": "code",
   "execution_count": 41,
   "id": "0cc6d81b",
   "metadata": {},
   "outputs": [],
   "source": [
    "X = data.drop('Asset_specificity_mean', axis=1)\n",
    "y = data['Asset_specificity_mean']\n"
   ]
  },
  {
   "cell_type": "code",
   "execution_count": 42,
   "id": "04df2c03",
   "metadata": {},
   "outputs": [],
   "source": [
    "X_train, X_test, y_train, y_test = train_test_split(X, y, test_size=0.3, random_state=42)\n"
   ]
  },
  {
   "cell_type": "code",
   "execution_count": 44,
   "id": "013ec77b",
   "metadata": {},
   "outputs": [],
   "source": [
    "model_svm_linear = SVR(kernel='linear')\n"
   ]
  },
  {
   "cell_type": "code",
   "execution_count": 49,
   "id": "8f0f6aee",
   "metadata": {},
   "outputs": [
    {
     "data": {
      "text/html": [
       "<style>#sk-container-id-2 {color: black;}#sk-container-id-2 pre{padding: 0;}#sk-container-id-2 div.sk-toggleable {background-color: white;}#sk-container-id-2 label.sk-toggleable__label {cursor: pointer;display: block;width: 100%;margin-bottom: 0;padding: 0.3em;box-sizing: border-box;text-align: center;}#sk-container-id-2 label.sk-toggleable__label-arrow:before {content: \"▸\";float: left;margin-right: 0.25em;color: #696969;}#sk-container-id-2 label.sk-toggleable__label-arrow:hover:before {color: black;}#sk-container-id-2 div.sk-estimator:hover label.sk-toggleable__label-arrow:before {color: black;}#sk-container-id-2 div.sk-toggleable__content {max-height: 0;max-width: 0;overflow: hidden;text-align: left;background-color: #f0f8ff;}#sk-container-id-2 div.sk-toggleable__content pre {margin: 0.2em;color: black;border-radius: 0.25em;background-color: #f0f8ff;}#sk-container-id-2 input.sk-toggleable__control:checked~div.sk-toggleable__content {max-height: 200px;max-width: 100%;overflow: auto;}#sk-container-id-2 input.sk-toggleable__control:checked~label.sk-toggleable__label-arrow:before {content: \"▾\";}#sk-container-id-2 div.sk-estimator input.sk-toggleable__control:checked~label.sk-toggleable__label {background-color: #d4ebff;}#sk-container-id-2 div.sk-label input.sk-toggleable__control:checked~label.sk-toggleable__label {background-color: #d4ebff;}#sk-container-id-2 input.sk-hidden--visually {border: 0;clip: rect(1px 1px 1px 1px);clip: rect(1px, 1px, 1px, 1px);height: 1px;margin: -1px;overflow: hidden;padding: 0;position: absolute;width: 1px;}#sk-container-id-2 div.sk-estimator {font-family: monospace;background-color: #f0f8ff;border: 1px dotted black;border-radius: 0.25em;box-sizing: border-box;margin-bottom: 0.5em;}#sk-container-id-2 div.sk-estimator:hover {background-color: #d4ebff;}#sk-container-id-2 div.sk-parallel-item::after {content: \"\";width: 100%;border-bottom: 1px solid gray;flex-grow: 1;}#sk-container-id-2 div.sk-label:hover label.sk-toggleable__label {background-color: #d4ebff;}#sk-container-id-2 div.sk-serial::before {content: \"\";position: absolute;border-left: 1px solid gray;box-sizing: border-box;top: 0;bottom: 0;left: 50%;z-index: 0;}#sk-container-id-2 div.sk-serial {display: flex;flex-direction: column;align-items: center;background-color: white;padding-right: 0.2em;padding-left: 0.2em;position: relative;}#sk-container-id-2 div.sk-item {position: relative;z-index: 1;}#sk-container-id-2 div.sk-parallel {display: flex;align-items: stretch;justify-content: center;background-color: white;position: relative;}#sk-container-id-2 div.sk-item::before, #sk-container-id-2 div.sk-parallel-item::before {content: \"\";position: absolute;border-left: 1px solid gray;box-sizing: border-box;top: 0;bottom: 0;left: 50%;z-index: -1;}#sk-container-id-2 div.sk-parallel-item {display: flex;flex-direction: column;z-index: 1;position: relative;background-color: white;}#sk-container-id-2 div.sk-parallel-item:first-child::after {align-self: flex-end;width: 50%;}#sk-container-id-2 div.sk-parallel-item:last-child::after {align-self: flex-start;width: 50%;}#sk-container-id-2 div.sk-parallel-item:only-child::after {width: 0;}#sk-container-id-2 div.sk-dashed-wrapped {border: 1px dashed gray;margin: 0 0.4em 0.5em 0.4em;box-sizing: border-box;padding-bottom: 0.4em;background-color: white;}#sk-container-id-2 div.sk-label label {font-family: monospace;font-weight: bold;display: inline-block;line-height: 1.2em;}#sk-container-id-2 div.sk-label-container {text-align: center;}#sk-container-id-2 div.sk-container {/* jupyter's `normalize.less` sets `[hidden] { display: none; }` but bootstrap.min.css set `[hidden] { display: none !important; }` so we also need the `!important` here to be able to override the default hidden behavior on the sphinx rendered scikit-learn.org. See: https://github.com/scikit-learn/scikit-learn/issues/21755 */display: inline-block !important;position: relative;}#sk-container-id-2 div.sk-text-repr-fallback {display: none;}</style><div id=\"sk-container-id-2\" class=\"sk-top-container\"><div class=\"sk-text-repr-fallback\"><pre>SVR(kernel=&#x27;linear&#x27;)</pre><b>In a Jupyter environment, please rerun this cell to show the HTML representation or trust the notebook. <br />On GitHub, the HTML representation is unable to render, please try loading this page with nbviewer.org.</b></div><div class=\"sk-container\" hidden><div class=\"sk-item\"><div class=\"sk-estimator sk-toggleable\"><input class=\"sk-toggleable__control sk-hidden--visually\" id=\"sk-estimator-id-2\" type=\"checkbox\" checked><label for=\"sk-estimator-id-2\" class=\"sk-toggleable__label sk-toggleable__label-arrow\">SVR</label><div class=\"sk-toggleable__content\"><pre>SVR(kernel=&#x27;linear&#x27;)</pre></div></div></div></div></div>"
      ],
      "text/plain": [
       "SVR(kernel='linear')"
      ]
     },
     "execution_count": 49,
     "metadata": {},
     "output_type": "execute_result"
    }
   ],
   "source": [
    "model_svm_linear.fit(X_train, y_train)\n"
   ]
  },
  {
   "cell_type": "code",
   "execution_count": 54,
   "id": "89afcd36",
   "metadata": {},
   "outputs": [],
   "source": [
    "y_pred_svm_linear = model_svm_linear.predict(X_test)"
   ]
  },
  {
   "cell_type": "code",
   "execution_count": 59,
   "id": "fb8dd14a",
   "metadata": {},
   "outputs": [],
   "source": [
    "mse_svm_linear = mean_squared_error(y_test, y_pred_svm_linear)\n",
    "mae_svm_linear = mean_absolute_error(y_test, y_pred_svm_linear)\n",
    "r2_svm_linear = r2_score(y_test, y_pred_svm_linear)"
   ]
  },
  {
   "cell_type": "code",
   "execution_count": 66,
   "id": "422516e1",
   "metadata": {},
   "outputs": [
    {
     "name": "stdout",
     "output_type": "stream",
     "text": [
      "Mean Squared Error (MSE): 0.023111866290153712\n",
      "Mean Absolute Error (MAE): 0.09779492867575047\n",
      "R^2 Score: 0.8203440823187392\n"
     ]
    }
   ],
   "source": [
    "print(f'Mean Squared Error (MSE): {mse_svm_linear}')\n",
    "print(f'Mean Absolute Error (MAE): {mae_svm_linear}')\n",
    "print(f'R^2 Score: {r2_svm_linear}')"
   ]
  },
  {
   "cell_type": "code",
   "execution_count": 73,
   "id": "d22c05aa",
   "metadata": {},
   "outputs": [],
   "source": [
    "y_pred_full = model_svm_linear.predict(X)"
   ]
  },
  {
   "cell_type": "code",
   "execution_count": 74,
   "id": "01674d1a",
   "metadata": {},
   "outputs": [],
   "source": [
    "corpus_42['predicted_Asset_specificity_mean'] = y_pred_full"
   ]
  },
  {
   "cell_type": "code",
   "execution_count": 75,
   "id": "40f3cdee",
   "metadata": {},
   "outputs": [],
   "source": [
    "corpus_42['absolute_error'] = np.abs(corpus_42['Asset_specificity_mean'] - corpus_42['predicted_Asset_specificity_mean'])\n",
    "corpus_42['prediction_error'] = np.abs(corpus_42['predicted_Asset_specificity_mean'] - corpus_42['Asset_specificity_mean'])\n"
   ]
  },
  {
   "cell_type": "code",
   "execution_count": 76,
   "id": "738fd945",
   "metadata": {},
   "outputs": [
    {
     "name": "stdout",
     "output_type": "stream",
     "text": [
      "count    1351.000000\n",
      "mean        0.078683\n",
      "std         0.084745\n",
      "min         0.000074\n",
      "25%         0.031436\n",
      "50%         0.068363\n",
      "75%         0.099909\n",
      "max         1.473202\n",
      "Name: prediction_error, dtype: float64\n"
     ]
    }
   ],
   "source": [
    "print(corpus_42['prediction_error'].describe())"
   ]
  },
  {
   "cell_type": "code",
   "execution_count": 77,
   "id": "588609f5",
   "metadata": {},
   "outputs": [],
   "source": [
    "corpus_42_sorted_by_error = corpus_42.sort_values('absolute_error', ascending=False)"
   ]
  },
  {
   "cell_type": "code",
   "execution_count": 78,
   "id": "2c3731c8",
   "metadata": {},
   "outputs": [
    {
     "data": {
      "text/html": [
       "<div>\n",
       "<style scoped>\n",
       "    .dataframe tbody tr th:only-of-type {\n",
       "        vertical-align: middle;\n",
       "    }\n",
       "\n",
       "    .dataframe tbody tr th {\n",
       "        vertical-align: top;\n",
       "    }\n",
       "\n",
       "    .dataframe thead th {\n",
       "        text-align: right;\n",
       "    }\n",
       "</style>\n",
       "<table border=\"1\" class=\"dataframe\">\n",
       "  <thead>\n",
       "    <tr style=\"text-align: right;\">\n",
       "      <th></th>\n",
       "      <th>doc_id</th>\n",
       "      <th>contract_type_code</th>\n",
       "      <th>Product_60codes</th>\n",
       "      <th>Measurability_mean</th>\n",
       "      <th>Asset_specificity_mean</th>\n",
       "      <th>Manuel_or_not</th>\n",
       "      <th>product_description_binary</th>\n",
       "      <th>CPVcodes_2digit</th>\n",
       "      <th>CPVcodes_3digit</th>\n",
       "      <th>clean_text</th>\n",
       "      <th>Embedding</th>\n",
       "      <th>Normalized_Embedding</th>\n",
       "      <th>Normalized_Embedding_mean</th>\n",
       "      <th>CPVcodes_1digit</th>\n",
       "      <th>CPVcodes_1digit_str</th>\n",
       "      <th>CPVcodes_2digit_str</th>\n",
       "      <th>CPVcodes_3digit_str</th>\n",
       "      <th>predicted_Asset_specificity_mean</th>\n",
       "      <th>absolute_error</th>\n",
       "      <th>prediction_error</th>\n",
       "    </tr>\n",
       "  </thead>\n",
       "  <tbody>\n",
       "    <tr>\n",
       "      <th>1283</th>\n",
       "      <td>662038-2021</td>\n",
       "      <td>4</td>\n",
       "      <td>17</td>\n",
       "      <td>2.855556</td>\n",
       "      <td>2.405941</td>\n",
       "      <td>not</td>\n",
       "      <td>Yes</td>\n",
       "      <td>66</td>\n",
       "      <td>660</td>\n",
       "      <td>netbanksløsning leverandøren skal som en del a...</td>\n",
       "      <td>[0.014078571, -0.020258812, -0.0054351916, 0.0...</td>\n",
       "      <td>[0.014078570938344082, -0.02025881191127824, -...</td>\n",
       "      <td>[0.014078570938344082, -0.02025881191127824, -...</td>\n",
       "      <td>6</td>\n",
       "      <td>6</td>\n",
       "      <td>66</td>\n",
       "      <td>660</td>\n",
       "      <td>2.405380</td>\n",
       "      <td>0.000561</td>\n",
       "      <td>0.000561</td>\n",
       "    </tr>\n",
       "    <tr>\n",
       "      <th>916</th>\n",
       "      <td>462372-2022</td>\n",
       "      <td>4</td>\n",
       "      <td>17</td>\n",
       "      <td>2.855556</td>\n",
       "      <td>2.405941</td>\n",
       "      <td>not</td>\n",
       "      <td>Yes</td>\n",
       "      <td>66</td>\n",
       "      <td>665</td>\n",
       "      <td>m policens opbygning 3. tilbudsgiver skal udst...</td>\n",
       "      <td>[0.021279745, -0.03408466, -0.008323194, 9.207...</td>\n",
       "      <td>[0.02127974556951182, -0.03408466091221097, -0...</td>\n",
       "      <td>[0.02127974556951182, -0.03408466091221097, -0...</td>\n",
       "      <td>6</td>\n",
       "      <td>6</td>\n",
       "      <td>66</td>\n",
       "      <td>665</td>\n",
       "      <td>2.405388</td>\n",
       "      <td>0.000553</td>\n",
       "      <td>0.000553</td>\n",
       "    </tr>\n",
       "    <tr>\n",
       "      <th>284</th>\n",
       "      <td>102634-2021</td>\n",
       "      <td>4</td>\n",
       "      <td>55</td>\n",
       "      <td>2.520000</td>\n",
       "      <td>2.650000</td>\n",
       "      <td>not</td>\n",
       "      <td>Yes</td>\n",
       "      <td>50</td>\n",
       "      <td>502</td>\n",
       "      <td>styreskabe og andre skabe indeholdende styreud...</td>\n",
       "      <td>[0.038227268, -0.017627832, -0.008707555, 0.02...</td>\n",
       "      <td>[0.030997435407947013, -0.014293921914643268, ...</td>\n",
       "      <td>[0.011595606847068007, -0.04542482845721019, -...</td>\n",
       "      <td>5</td>\n",
       "      <td>5</td>\n",
       "      <td>50</td>\n",
       "      <td>502</td>\n",
       "      <td>2.649496</td>\n",
       "      <td>0.000504</td>\n",
       "      <td>0.000504</td>\n",
       "    </tr>\n",
       "    <tr>\n",
       "      <th>1192</th>\n",
       "      <td>614125-2021</td>\n",
       "      <td>4</td>\n",
       "      <td>60</td>\n",
       "      <td>3.323232</td>\n",
       "      <td>2.450549</td>\n",
       "      <td>not</td>\n",
       "      <td>Yes</td>\n",
       "      <td>71</td>\n",
       "      <td>710</td>\n",
       "      <td>hvordan gør vi det? undervisningen bærer præg ...</td>\n",
       "      <td>[0.012553293, -0.042231217, -0.014644184, -0.0...</td>\n",
       "      <td>[0.012553292730098958, -0.0422312160920112, -0...</td>\n",
       "      <td>[0.012553292730098958, -0.0422312160920112, -0...</td>\n",
       "      <td>7</td>\n",
       "      <td>7</td>\n",
       "      <td>71</td>\n",
       "      <td>710</td>\n",
       "      <td>2.450829</td>\n",
       "      <td>0.000280</td>\n",
       "      <td>0.000280</td>\n",
       "    </tr>\n",
       "    <tr>\n",
       "      <th>935</th>\n",
       "      <td>471766-2021</td>\n",
       "      <td>4</td>\n",
       "      <td>47</td>\n",
       "      <td>2.669725</td>\n",
       "      <td>2.521277</td>\n",
       "      <td>not</td>\n",
       "      <td>Yes</td>\n",
       "      <td>55</td>\n",
       "      <td>555</td>\n",
       "      <td>1 regler på området indholdet af næringsstoffe...</td>\n",
       "      <td>[0.00805352, -0.012468761, -0.0059803734, 0.02...</td>\n",
       "      <td>[0.008053520382908515, -0.012468761592833291, ...</td>\n",
       "      <td>[0.008053520382908515, -0.012468761592833291, ...</td>\n",
       "      <td>5</td>\n",
       "      <td>5</td>\n",
       "      <td>55</td>\n",
       "      <td>555</td>\n",
       "      <td>2.521351</td>\n",
       "      <td>0.000074</td>\n",
       "      <td>0.000074</td>\n",
       "    </tr>\n",
       "  </tbody>\n",
       "</table>\n",
       "</div>"
      ],
      "text/plain": [
       "           doc_id  contract_type_code  Product_60codes  Measurability_mean  \\\n",
       "1283  662038-2021                   4               17            2.855556   \n",
       "916   462372-2022                   4               17            2.855556   \n",
       "284   102634-2021                   4               55            2.520000   \n",
       "1192  614125-2021                   4               60            3.323232   \n",
       "935   471766-2021                   4               47            2.669725   \n",
       "\n",
       "      Asset_specificity_mean Manuel_or_not product_description_binary  \\\n",
       "1283                2.405941           not                        Yes   \n",
       "916                 2.405941           not                        Yes   \n",
       "284                 2.650000           not                        Yes   \n",
       "1192                2.450549           not                        Yes   \n",
       "935                 2.521277           not                        Yes   \n",
       "\n",
       "     CPVcodes_2digit  CPVcodes_3digit  \\\n",
       "1283              66              660   \n",
       "916               66              665   \n",
       "284               50              502   \n",
       "1192              71              710   \n",
       "935               55              555   \n",
       "\n",
       "                                             clean_text  \\\n",
       "1283  netbanksløsning leverandøren skal som en del a...   \n",
       "916   m policens opbygning 3. tilbudsgiver skal udst...   \n",
       "284   styreskabe og andre skabe indeholdende styreud...   \n",
       "1192  hvordan gør vi det? undervisningen bærer præg ...   \n",
       "935   1 regler på området indholdet af næringsstoffe...   \n",
       "\n",
       "                                              Embedding  \\\n",
       "1283  [0.014078571, -0.020258812, -0.0054351916, 0.0...   \n",
       "916   [0.021279745, -0.03408466, -0.008323194, 9.207...   \n",
       "284   [0.038227268, -0.017627832, -0.008707555, 0.02...   \n",
       "1192  [0.012553293, -0.042231217, -0.014644184, -0.0...   \n",
       "935   [0.00805352, -0.012468761, -0.0059803734, 0.02...   \n",
       "\n",
       "                                   Normalized_Embedding  \\\n",
       "1283  [0.014078570938344082, -0.02025881191127824, -...   \n",
       "916   [0.02127974556951182, -0.03408466091221097, -0...   \n",
       "284   [0.030997435407947013, -0.014293921914643268, ...   \n",
       "1192  [0.012553292730098958, -0.0422312160920112, -0...   \n",
       "935   [0.008053520382908515, -0.012468761592833291, ...   \n",
       "\n",
       "                              Normalized_Embedding_mean  CPVcodes_1digit  \\\n",
       "1283  [0.014078570938344082, -0.02025881191127824, -...                6   \n",
       "916   [0.02127974556951182, -0.03408466091221097, -0...                6   \n",
       "284   [0.011595606847068007, -0.04542482845721019, -...                5   \n",
       "1192  [0.012553292730098958, -0.0422312160920112, -0...                7   \n",
       "935   [0.008053520382908515, -0.012468761592833291, ...                5   \n",
       "\n",
       "     CPVcodes_1digit_str CPVcodes_2digit_str CPVcodes_3digit_str  \\\n",
       "1283                   6                  66                 660   \n",
       "916                    6                  66                 665   \n",
       "284                    5                  50                 502   \n",
       "1192                   7                  71                 710   \n",
       "935                    5                  55                 555   \n",
       "\n",
       "      predicted_Asset_specificity_mean  absolute_error  prediction_error  \n",
       "1283                          2.405380        0.000561          0.000561  \n",
       "916                           2.405388        0.000553          0.000553  \n",
       "284                           2.649496        0.000504          0.000504  \n",
       "1192                          2.450829        0.000280          0.000280  \n",
       "935                           2.521351        0.000074          0.000074  "
      ]
     },
     "execution_count": 78,
     "metadata": {},
     "output_type": "execute_result"
    }
   ],
   "source": [
    "corpus_42_sorted_by_error.tail()"
   ]
  },
  {
   "cell_type": "code",
   "execution_count": 79,
   "id": "a43b17f5",
   "metadata": {},
   "outputs": [],
   "source": [
    "selected_columns_df = corpus_42_sorted_by_error[['doc_id', 'clean_text', 'contract_type_code', 'Product_60codes','CPVcodes_2digit', 'CPVcodes_3digit', 'Asset_specificity_mean', 'prediction_error', 'predicted_Asset_specificity_mean']]"
   ]
  },
  {
   "cell_type": "code",
   "execution_count": 80,
   "id": "a6b873d4",
   "metadata": {},
   "outputs": [],
   "source": [
    "def truncate_text(text):\n",
    "    MAX_LENGTH = 30000  # Excel's maximum cell character limit\n",
    "    if isinstance(text, str) and len(text) > MAX_LENGTH:\n",
    "        return text[:MAX_LENGTH]\n",
    "    return text"
   ]
  },
  {
   "cell_type": "code",
   "execution_count": 81,
   "id": "aa4061a8",
   "metadata": {
    "collapsed": true
   },
   "outputs": [
    {
     "name": "stderr",
     "output_type": "stream",
     "text": [
      "C:\\Users\\blunds\\AppData\\Local\\Temp\\ipykernel_16708\\3609653640.py:1: SettingWithCopyWarning: \n",
      "A value is trying to be set on a copy of a slice from a DataFrame.\n",
      "Try using .loc[row_indexer,col_indexer] = value instead\n",
      "\n",
      "See the caveats in the documentation: https://pandas.pydata.org/pandas-docs/stable/user_guide/indexing.html#returning-a-view-versus-a-copy\n",
      "  selected_columns_df['clean_text'] = selected_columns_df['clean_text'].apply(truncate_text)\n"
     ]
    }
   ],
   "source": [
    "selected_columns_df['clean_text'] = selected_columns_df['clean_text'].apply(truncate_text)"
   ]
  },
  {
   "cell_type": "code",
   "execution_count": 82,
   "id": "99bc8381",
   "metadata": {
    "collapsed": true
   },
   "outputs": [
    {
     "name": "stderr",
     "output_type": "stream",
     "text": [
      "C:\\Users\\blunds\\AppData\\Local\\Temp\\ipykernel_16708\\1483379789.py:2: SettingWithCopyWarning: \n",
      "A value is trying to be set on a copy of a slice from a DataFrame.\n",
      "Try using .loc[row_indexer,col_indexer] = value instead\n",
      "\n",
      "See the caveats in the documentation: https://pandas.pydata.org/pandas-docs/stable/user_guide/indexing.html#returning-a-view-versus-a-copy\n",
      "  selected_columns_df[col] = selected_columns_df[col].apply(lambda x: f'{x:.2f}'.replace('.', ','))\n",
      "C:\\Users\\blunds\\AppData\\Local\\Temp\\ipykernel_16708\\1483379789.py:2: SettingWithCopyWarning: \n",
      "A value is trying to be set on a copy of a slice from a DataFrame.\n",
      "Try using .loc[row_indexer,col_indexer] = value instead\n",
      "\n",
      "See the caveats in the documentation: https://pandas.pydata.org/pandas-docs/stable/user_guide/indexing.html#returning-a-view-versus-a-copy\n",
      "  selected_columns_df[col] = selected_columns_df[col].apply(lambda x: f'{x:.2f}'.replace('.', ','))\n",
      "C:\\Users\\blunds\\AppData\\Local\\Temp\\ipykernel_16708\\1483379789.py:2: SettingWithCopyWarning: \n",
      "A value is trying to be set on a copy of a slice from a DataFrame.\n",
      "Try using .loc[row_indexer,col_indexer] = value instead\n",
      "\n",
      "See the caveats in the documentation: https://pandas.pydata.org/pandas-docs/stable/user_guide/indexing.html#returning-a-view-versus-a-copy\n",
      "  selected_columns_df[col] = selected_columns_df[col].apply(lambda x: f'{x:.2f}'.replace('.', ','))\n"
     ]
    }
   ],
   "source": [
    "for col in selected_columns_df.select_dtypes(include=['float', 'float64']).columns:\n",
    "    selected_columns_df[col] = selected_columns_df[col].apply(lambda x: f'{x:.2f}'.replace('.', ','))\n"
   ]
  },
  {
   "cell_type": "code",
   "execution_count": 83,
   "id": "b48cbced",
   "metadata": {},
   "outputs": [],
   "source": [
    "selected_columns_df.to_csv('Corpus_42_asset_errors.csv', index=False, encoding='utf-16', sep='\\t')"
   ]
  },
  {
   "cell_type": "code",
   "execution_count": 84,
   "id": "36ffb4cf",
   "metadata": {},
   "outputs": [],
   "source": [
    "mean_values_df_42 = corpus_42.groupby('Product_60codes').agg({\n",
    "    'Asset_specificity_mean': 'mean',\n",
    "    'predicted_Asset_specificity_mean': 'mean'\n",
    "}).reset_index()"
   ]
  },
  {
   "cell_type": "code",
   "execution_count": 86,
   "id": "690cd859",
   "metadata": {},
   "outputs": [],
   "source": [
    "mean_values_df_42['difference'] = mean_values_df_42['Asset_specificity_mean'] - mean_values_df_42['predicted_Asset_specificity_mean']"
   ]
  },
  {
   "cell_type": "code",
   "execution_count": 88,
   "id": "a1d4bdd2",
   "metadata": {},
   "outputs": [],
   "source": [
    "mean_values_df_42 = mean_values_df_42.sort_values('difference', ascending=False)"
   ]
  },
  {
   "cell_type": "code",
   "execution_count": 89,
   "id": "57790cb9",
   "metadata": {},
   "outputs": [
    {
     "data": {
      "text/html": [
       "<div>\n",
       "<style scoped>\n",
       "    .dataframe tbody tr th:only-of-type {\n",
       "        vertical-align: middle;\n",
       "    }\n",
       "\n",
       "    .dataframe tbody tr th {\n",
       "        vertical-align: top;\n",
       "    }\n",
       "\n",
       "    .dataframe thead th {\n",
       "        text-align: right;\n",
       "    }\n",
       "</style>\n",
       "<table border=\"1\" class=\"dataframe\">\n",
       "  <thead>\n",
       "    <tr style=\"text-align: right;\">\n",
       "      <th></th>\n",
       "      <th>Product_60codes</th>\n",
       "      <th>Asset_specificity_mean</th>\n",
       "      <th>predicted_Asset_specificity_mean</th>\n",
       "      <th>difference</th>\n",
       "    </tr>\n",
       "  </thead>\n",
       "  <tbody>\n",
       "    <tr>\n",
       "      <th>10</th>\n",
       "      <td>17</td>\n",
       "      <td>2.405941</td>\n",
       "      <td>2.406935</td>\n",
       "      <td>-0.000994</td>\n",
       "    </tr>\n",
       "    <tr>\n",
       "      <th>3</th>\n",
       "      <td>7</td>\n",
       "      <td>2.858824</td>\n",
       "      <td>2.860839</td>\n",
       "      <td>-0.002015</td>\n",
       "    </tr>\n",
       "    <tr>\n",
       "      <th>27</th>\n",
       "      <td>38</td>\n",
       "      <td>2.838235</td>\n",
       "      <td>2.844409</td>\n",
       "      <td>-0.006174</td>\n",
       "    </tr>\n",
       "    <tr>\n",
       "      <th>39</th>\n",
       "      <td>60</td>\n",
       "      <td>2.450549</td>\n",
       "      <td>2.461378</td>\n",
       "      <td>-0.010829</td>\n",
       "    </tr>\n",
       "    <tr>\n",
       "      <th>11</th>\n",
       "      <td>18</td>\n",
       "      <td>2.346535</td>\n",
       "      <td>2.370006</td>\n",
       "      <td>-0.023471</td>\n",
       "    </tr>\n",
       "    <tr>\n",
       "      <th>29</th>\n",
       "      <td>42</td>\n",
       "      <td>2.176471</td>\n",
       "      <td>2.214353</td>\n",
       "      <td>-0.037882</td>\n",
       "    </tr>\n",
       "    <tr>\n",
       "      <th>33</th>\n",
       "      <td>49</td>\n",
       "      <td>1.830189</td>\n",
       "      <td>1.871746</td>\n",
       "      <td>-0.041557</td>\n",
       "    </tr>\n",
       "    <tr>\n",
       "      <th>38</th>\n",
       "      <td>59</td>\n",
       "      <td>1.645161</td>\n",
       "      <td>1.689508</td>\n",
       "      <td>-0.044347</td>\n",
       "    </tr>\n",
       "    <tr>\n",
       "      <th>17</th>\n",
       "      <td>24</td>\n",
       "      <td>2.329268</td>\n",
       "      <td>2.384654</td>\n",
       "      <td>-0.055386</td>\n",
       "    </tr>\n",
       "    <tr>\n",
       "      <th>13</th>\n",
       "      <td>20</td>\n",
       "      <td>1.823009</td>\n",
       "      <td>1.879114</td>\n",
       "      <td>-0.056105</td>\n",
       "    </tr>\n",
       "    <tr>\n",
       "      <th>19</th>\n",
       "      <td>26</td>\n",
       "      <td>1.938596</td>\n",
       "      <td>2.010587</td>\n",
       "      <td>-0.071991</td>\n",
       "    </tr>\n",
       "    <tr>\n",
       "      <th>6</th>\n",
       "      <td>10</td>\n",
       "      <td>1.788235</td>\n",
       "      <td>1.873152</td>\n",
       "      <td>-0.084917</td>\n",
       "    </tr>\n",
       "    <tr>\n",
       "      <th>1</th>\n",
       "      <td>3</td>\n",
       "      <td>2.214286</td>\n",
       "      <td>2.301692</td>\n",
       "      <td>-0.087406</td>\n",
       "    </tr>\n",
       "    <tr>\n",
       "      <th>20</th>\n",
       "      <td>27</td>\n",
       "      <td>2.240506</td>\n",
       "      <td>2.339763</td>\n",
       "      <td>-0.099257</td>\n",
       "    </tr>\n",
       "    <tr>\n",
       "      <th>15</th>\n",
       "      <td>22</td>\n",
       "      <td>2.395062</td>\n",
       "      <td>2.495445</td>\n",
       "      <td>-0.100383</td>\n",
       "    </tr>\n",
       "    <tr>\n",
       "      <th>7</th>\n",
       "      <td>11</td>\n",
       "      <td>2.130841</td>\n",
       "      <td>2.238013</td>\n",
       "      <td>-0.107172</td>\n",
       "    </tr>\n",
       "    <tr>\n",
       "      <th>35</th>\n",
       "      <td>53</td>\n",
       "      <td>2.049505</td>\n",
       "      <td>2.219175</td>\n",
       "      <td>-0.169670</td>\n",
       "    </tr>\n",
       "    <tr>\n",
       "      <th>24</th>\n",
       "      <td>34</td>\n",
       "      <td>1.898305</td>\n",
       "      <td>2.079403</td>\n",
       "      <td>-0.181098</td>\n",
       "    </tr>\n",
       "    <tr>\n",
       "      <th>8</th>\n",
       "      <td>13</td>\n",
       "      <td>1.978723</td>\n",
       "      <td>2.169193</td>\n",
       "      <td>-0.190470</td>\n",
       "    </tr>\n",
       "    <tr>\n",
       "      <th>2</th>\n",
       "      <td>4</td>\n",
       "      <td>1.710280</td>\n",
       "      <td>2.115515</td>\n",
       "      <td>-0.405235</td>\n",
       "    </tr>\n",
       "  </tbody>\n",
       "</table>\n",
       "</div>"
      ],
      "text/plain": [
       "    Product_60codes  Asset_specificity_mean  predicted_Asset_specificity_mean  \\\n",
       "10               17                2.405941                          2.406935   \n",
       "3                 7                2.858824                          2.860839   \n",
       "27               38                2.838235                          2.844409   \n",
       "39               60                2.450549                          2.461378   \n",
       "11               18                2.346535                          2.370006   \n",
       "29               42                2.176471                          2.214353   \n",
       "33               49                1.830189                          1.871746   \n",
       "38               59                1.645161                          1.689508   \n",
       "17               24                2.329268                          2.384654   \n",
       "13               20                1.823009                          1.879114   \n",
       "19               26                1.938596                          2.010587   \n",
       "6                10                1.788235                          1.873152   \n",
       "1                 3                2.214286                          2.301692   \n",
       "20               27                2.240506                          2.339763   \n",
       "15               22                2.395062                          2.495445   \n",
       "7                11                2.130841                          2.238013   \n",
       "35               53                2.049505                          2.219175   \n",
       "24               34                1.898305                          2.079403   \n",
       "8                13                1.978723                          2.169193   \n",
       "2                 4                1.710280                          2.115515   \n",
       "\n",
       "    difference  \n",
       "10   -0.000994  \n",
       "3    -0.002015  \n",
       "27   -0.006174  \n",
       "39   -0.010829  \n",
       "11   -0.023471  \n",
       "29   -0.037882  \n",
       "33   -0.041557  \n",
       "38   -0.044347  \n",
       "17   -0.055386  \n",
       "13   -0.056105  \n",
       "19   -0.071991  \n",
       "6    -0.084917  \n",
       "1    -0.087406  \n",
       "20   -0.099257  \n",
       "15   -0.100383  \n",
       "7    -0.107172  \n",
       "35   -0.169670  \n",
       "24   -0.181098  \n",
       "8    -0.190470  \n",
       "2    -0.405235  "
      ]
     },
     "execution_count": 89,
     "metadata": {},
     "output_type": "execute_result"
    }
   ],
   "source": [
    "mean_values_df_42.tail(20)"
   ]
  },
  {
   "cell_type": "code",
   "execution_count": 90,
   "id": "0a8f71d7",
   "metadata": {},
   "outputs": [],
   "source": [
    "mean_values_df_42.to_excel('Corpus_42_asset_product_type_errors.xlsx', index=False)"
   ]
  },
  {
   "cell_type": "markdown",
   "id": "0c8c7cd7",
   "metadata": {},
   "source": [
    "### Validation on corpus_18"
   ]
  },
  {
   "cell_type": "code",
   "execution_count": 98,
   "id": "ce46be8d",
   "metadata": {},
   "outputs": [],
   "source": [
    "embeddings_df_18 = pd.DataFrame(corpus_18['Normalized_Embedding'].tolist())"
   ]
  },
  {
   "cell_type": "code",
   "execution_count": 99,
   "id": "dfa810da",
   "metadata": {},
   "outputs": [],
   "source": [
    "data_with_dummies_18 = pd.concat([embeddings_df_18, cpv_18_encoded_df_2, cpv_18_encoded_df_1, cpv_18_encoded_df_3], axis=1)"
   ]
  },
  {
   "cell_type": "code",
   "execution_count": 100,
   "id": "d267c4ac",
   "metadata": {},
   "outputs": [],
   "source": [
    "data_18 = data_with_dummies_18.join(corpus_18['Asset_specificity_mean'])"
   ]
  },
  {
   "cell_type": "code",
   "execution_count": 101,
   "id": "0f019a34",
   "metadata": {},
   "outputs": [],
   "source": [
    "data_18.columns = data_18.columns.astype(str)"
   ]
  },
  {
   "cell_type": "code",
   "execution_count": 102,
   "id": "12bde556",
   "metadata": {},
   "outputs": [],
   "source": [
    "X_18 = data_18.drop('Asset_specificity_mean', axis=1)"
   ]
  },
  {
   "cell_type": "code",
   "execution_count": 103,
   "id": "ef29b701",
   "metadata": {},
   "outputs": [],
   "source": [
    "y_18 = data_18['Asset_specificity_mean']"
   ]
  },
  {
   "cell_type": "code",
   "execution_count": 105,
   "id": "5857e1b9",
   "metadata": {},
   "outputs": [],
   "source": [
    "y_pred_18_svm_linear = model_svm_linear.predict(X_18)"
   ]
  },
  {
   "cell_type": "code",
   "execution_count": 111,
   "id": "75b329ab",
   "metadata": {},
   "outputs": [],
   "source": [
    "mse_18_svm_linear = mean_squared_error(y_18, y_pred_18_svm_linear)\n",
    "mae_18_svm_linear = mean_absolute_error(y_18, y_pred_18_svm_linear)\n",
    "r2_18_svm_linear = r2_score(y_18, y_pred_18_svm_linear)"
   ]
  },
  {
   "cell_type": "code",
   "execution_count": 112,
   "id": "58212d60",
   "metadata": {},
   "outputs": [
    {
     "name": "stdout",
     "output_type": "stream",
     "text": [
      "Mean Squared Error (MSE) on corpus_18: 0.11751731631562982\n",
      "Mean Absolute Error (MAE) on corpus_18: 0.24645708996469282\n",
      "R^2 Score on corpus_18: 0.1913502438556156\n"
     ]
    }
   ],
   "source": [
    "print(f\"Mean Squared Error (MSE) on corpus_18: {mse_18_svm_linear}\")\n",
    "print(f\"Mean Absolute Error (MAE) on corpus_18: {mae_18_svm_linear}\")\n",
    "print(f\"R^2 Score on corpus_18: {r2_18_svm_linear}\")"
   ]
  },
  {
   "cell_type": "markdown",
   "id": "3c99c50a",
   "metadata": {},
   "source": [
    "#### Error "
   ]
  },
  {
   "cell_type": "code",
   "execution_count": 119,
   "id": "f784a00f",
   "metadata": {},
   "outputs": [],
   "source": [
    "corpus_18['predicted_Asset_specificity_mean'] = y_pred_18_svm_linear"
   ]
  },
  {
   "cell_type": "code",
   "execution_count": 120,
   "id": "6f8abf4c",
   "metadata": {},
   "outputs": [],
   "source": [
    "corpus_18['absolute_error'] = np.abs(corpus_18['Asset_specificity_mean'] - corpus_18['predicted_Asset_specificity_mean'])\n",
    "corpus_18['prediction_error'] = corpus_18['predicted_Asset_specificity_mean'] - corpus_18['Asset_specificity_mean']"
   ]
  },
  {
   "cell_type": "code",
   "execution_count": 121,
   "id": "630d58b8",
   "metadata": {},
   "outputs": [
    {
     "name": "stdout",
     "output_type": "stream",
     "text": [
      "count    389.000000\n",
      "mean      -0.052393\n",
      "std        0.339217\n",
      "min       -1.115597\n",
      "25%       -0.249246\n",
      "50%       -0.070784\n",
      "75%        0.051185\n",
      "max        1.171295\n",
      "Name: prediction_error, dtype: float64\n"
     ]
    }
   ],
   "source": [
    "print(corpus_18['prediction_error'].describe())"
   ]
  },
  {
   "cell_type": "code",
   "execution_count": 122,
   "id": "61e92bb2",
   "metadata": {},
   "outputs": [],
   "source": [
    "corpus_18_sorted_by_error = corpus_18.sort_values('absolute_error', ascending=False)"
   ]
  },
  {
   "cell_type": "code",
   "execution_count": 123,
   "id": "04def259",
   "metadata": {
    "scrolled": true
   },
   "outputs": [
    {
     "data": {
      "text/html": [
       "<div>\n",
       "<style scoped>\n",
       "    .dataframe tbody tr th:only-of-type {\n",
       "        vertical-align: middle;\n",
       "    }\n",
       "\n",
       "    .dataframe tbody tr th {\n",
       "        vertical-align: top;\n",
       "    }\n",
       "\n",
       "    .dataframe thead th {\n",
       "        text-align: right;\n",
       "    }\n",
       "</style>\n",
       "<table border=\"1\" class=\"dataframe\">\n",
       "  <thead>\n",
       "    <tr style=\"text-align: right;\">\n",
       "      <th></th>\n",
       "      <th>doc_id</th>\n",
       "      <th>contract_type_code</th>\n",
       "      <th>Product_60codes</th>\n",
       "      <th>Measurability_mean</th>\n",
       "      <th>Asset_specificity_mean</th>\n",
       "      <th>Manuel_or_not</th>\n",
       "      <th>product_description_binary</th>\n",
       "      <th>CPVcodes_2digit</th>\n",
       "      <th>CPVcodes_3digit</th>\n",
       "      <th>clean_text</th>\n",
       "      <th>Embedding</th>\n",
       "      <th>Normalized_Embedding</th>\n",
       "      <th>Normalized_Embedding_mean</th>\n",
       "      <th>CPVcodes_1digit</th>\n",
       "      <th>CPVcodes_1digit_str</th>\n",
       "      <th>CPVcodes_2digit_str</th>\n",
       "      <th>CPVcodes_3digit_str</th>\n",
       "      <th>predicted_Asset_specificity_mean</th>\n",
       "      <th>absolute_error</th>\n",
       "      <th>prediction_error</th>\n",
       "    </tr>\n",
       "  </thead>\n",
       "  <tbody>\n",
       "    <tr>\n",
       "      <th>194</th>\n",
       "      <td>336016-2021</td>\n",
       "      <td>2</td>\n",
       "      <td>41</td>\n",
       "      <td>2.726027</td>\n",
       "      <td>1.309524</td>\n",
       "      <td>not</td>\n",
       "      <td>Yes</td>\n",
       "      <td>18</td>\n",
       "      <td>185</td>\n",
       "      <td>gavekassen er ganske afgørende i leverancen. g...</td>\n",
       "      <td>[-0.0065661776, 0.0074800667, -0.010836113, 0....</td>\n",
       "      <td>[-0.006566177414315129, 0.00748006648847127, -...</td>\n",
       "      <td>[-0.006566177414315129, 0.00748006648847127, -...</td>\n",
       "      <td>1</td>\n",
       "      <td>1</td>\n",
       "      <td>18</td>\n",
       "      <td>185</td>\n",
       "      <td>2.480819</td>\n",
       "      <td>1.171295</td>\n",
       "      <td>1.171295</td>\n",
       "    </tr>\n",
       "    <tr>\n",
       "      <th>207</th>\n",
       "      <td>343481-2022</td>\n",
       "      <td>2</td>\n",
       "      <td>41</td>\n",
       "      <td>2.726027</td>\n",
       "      <td>1.309524</td>\n",
       "      <td>not</td>\n",
       "      <td>Yes</td>\n",
       "      <td>18</td>\n",
       "      <td>185</td>\n",
       "      <td>2.4 gavekassen gavekassen er ganske afgørende ...</td>\n",
       "      <td>[-0.0140284365, 0.015935063, -0.010284936, 0.0...</td>\n",
       "      <td>[-0.014028436397875703, 0.01593506288399583, -...</td>\n",
       "      <td>[-0.014028436397875703, 0.01593506288399583, -...</td>\n",
       "      <td>1</td>\n",
       "      <td>1</td>\n",
       "      <td>18</td>\n",
       "      <td>185</td>\n",
       "      <td>2.453526</td>\n",
       "      <td>1.144002</td>\n",
       "      <td>1.144002</td>\n",
       "    </tr>\n",
       "    <tr>\n",
       "      <th>64</th>\n",
       "      <td>095342-2021</td>\n",
       "      <td>4</td>\n",
       "      <td>16</td>\n",
       "      <td>3.020408</td>\n",
       "      <td>3.770833</td>\n",
       "      <td>not</td>\n",
       "      <td>Yes</td>\n",
       "      <td>72</td>\n",
       "      <td>725</td>\n",
       "      <td>bilag 1b – kundens it-miljø aarhus kommune 25....</td>\n",
       "      <td>[0.0018933702, -0.047902785, -0.01409423, 0.01...</td>\n",
       "      <td>[0.0018797690612758979, -0.04755867246244351, ...</td>\n",
       "      <td>[-0.006511076749262017, -0.052191325953563995,...</td>\n",
       "      <td>7</td>\n",
       "      <td>7</td>\n",
       "      <td>72</td>\n",
       "      <td>725</td>\n",
       "      <td>2.655236</td>\n",
       "      <td>1.115597</td>\n",
       "      <td>-1.115597</td>\n",
       "    </tr>\n",
       "    <tr>\n",
       "      <th>14</th>\n",
       "      <td>0273-000984</td>\n",
       "      <td>4</td>\n",
       "      <td>16</td>\n",
       "      <td>3.020408</td>\n",
       "      <td>3.770833</td>\n",
       "      <td>not</td>\n",
       "      <td>Yes</td>\n",
       "      <td>72</td>\n",
       "      <td>725</td>\n",
       "      <td>leverandøren skal til enhver tid have systemer...</td>\n",
       "      <td>[-0.012033573, -0.02152224, -0.0032734876, 0.0...</td>\n",
       "      <td>[-0.01203357273654089, -0.02152223952879912, -...</td>\n",
       "      <td>[-0.01203357273654089, -0.02152223952879912, -...</td>\n",
       "      <td>7</td>\n",
       "      <td>7</td>\n",
       "      <td>72</td>\n",
       "      <td>725</td>\n",
       "      <td>2.686497</td>\n",
       "      <td>1.084336</td>\n",
       "      <td>-1.084336</td>\n",
       "    </tr>\n",
       "    <tr>\n",
       "      <th>213</th>\n",
       "      <td>359110-2022</td>\n",
       "      <td>4</td>\n",
       "      <td>16</td>\n",
       "      <td>3.020408</td>\n",
       "      <td>3.770833</td>\n",
       "      <td>not</td>\n",
       "      <td>Yes</td>\n",
       "      <td>72</td>\n",
       "      <td>725</td>\n",
       "      <td>generelle krav til funktionalitet overordnede ...</td>\n",
       "      <td>[0.050823994, -0.027748182, -0.0058391406, 0.0...</td>\n",
       "      <td>[0.048764672670076815, -0.02662386219429582, -...</td>\n",
       "      <td>[0.022834313132002428, -0.034260265824075035, ...</td>\n",
       "      <td>7</td>\n",
       "      <td>7</td>\n",
       "      <td>72</td>\n",
       "      <td>725</td>\n",
       "      <td>2.718036</td>\n",
       "      <td>1.052797</td>\n",
       "      <td>-1.052797</td>\n",
       "    </tr>\n",
       "  </tbody>\n",
       "</table>\n",
       "</div>"
      ],
      "text/plain": [
       "          doc_id  contract_type_code  Product_60codes  Measurability_mean  \\\n",
       "194  336016-2021                   2               41            2.726027   \n",
       "207  343481-2022                   2               41            2.726027   \n",
       "64   095342-2021                   4               16            3.020408   \n",
       "14   0273-000984                   4               16            3.020408   \n",
       "213  359110-2022                   4               16            3.020408   \n",
       "\n",
       "     Asset_specificity_mean Manuel_or_not product_description_binary  \\\n",
       "194                1.309524           not                        Yes   \n",
       "207                1.309524           not                        Yes   \n",
       "64                 3.770833           not                        Yes   \n",
       "14                 3.770833           not                        Yes   \n",
       "213                3.770833           not                        Yes   \n",
       "\n",
       "    CPVcodes_2digit  CPVcodes_3digit  \\\n",
       "194              18              185   \n",
       "207              18              185   \n",
       "64               72              725   \n",
       "14               72              725   \n",
       "213              72              725   \n",
       "\n",
       "                                            clean_text  \\\n",
       "194  gavekassen er ganske afgørende i leverancen. g...   \n",
       "207  2.4 gavekassen gavekassen er ganske afgørende ...   \n",
       "64   bilag 1b – kundens it-miljø aarhus kommune 25....   \n",
       "14   leverandøren skal til enhver tid have systemer...   \n",
       "213  generelle krav til funktionalitet overordnede ...   \n",
       "\n",
       "                                             Embedding  \\\n",
       "194  [-0.0065661776, 0.0074800667, -0.010836113, 0....   \n",
       "207  [-0.0140284365, 0.015935063, -0.010284936, 0.0...   \n",
       "64   [0.0018933702, -0.047902785, -0.01409423, 0.01...   \n",
       "14   [-0.012033573, -0.02152224, -0.0032734876, 0.0...   \n",
       "213  [0.050823994, -0.027748182, -0.0058391406, 0.0...   \n",
       "\n",
       "                                  Normalized_Embedding  \\\n",
       "194  [-0.006566177414315129, 0.00748006648847127, -...   \n",
       "207  [-0.014028436397875703, 0.01593506288399583, -...   \n",
       "64   [0.0018797690612758979, -0.04755867246244351, ...   \n",
       "14   [-0.01203357273654089, -0.02152223952879912, -...   \n",
       "213  [0.048764672670076815, -0.02662386219429582, -...   \n",
       "\n",
       "                             Normalized_Embedding_mean  CPVcodes_1digit  \\\n",
       "194  [-0.006566177414315129, 0.00748006648847127, -...                1   \n",
       "207  [-0.014028436397875703, 0.01593506288399583, -...                1   \n",
       "64   [-0.006511076749262017, -0.052191325953563995,...                7   \n",
       "14   [-0.01203357273654089, -0.02152223952879912, -...                7   \n",
       "213  [0.022834313132002428, -0.034260265824075035, ...                7   \n",
       "\n",
       "    CPVcodes_1digit_str CPVcodes_2digit_str CPVcodes_3digit_str  \\\n",
       "194                   1                  18                 185   \n",
       "207                   1                  18                 185   \n",
       "64                    7                  72                 725   \n",
       "14                    7                  72                 725   \n",
       "213                   7                  72                 725   \n",
       "\n",
       "     predicted_Asset_specificity_mean  absolute_error  prediction_error  \n",
       "194                          2.480819        1.171295          1.171295  \n",
       "207                          2.453526        1.144002          1.144002  \n",
       "64                           2.655236        1.115597         -1.115597  \n",
       "14                           2.686497        1.084336         -1.084336  \n",
       "213                          2.718036        1.052797         -1.052797  "
      ]
     },
     "execution_count": 123,
     "metadata": {},
     "output_type": "execute_result"
    }
   ],
   "source": [
    "corpus_18_sorted_by_error.head()"
   ]
  },
  {
   "cell_type": "code",
   "execution_count": 124,
   "id": "cce63c6b",
   "metadata": {},
   "outputs": [],
   "source": [
    "selected_columns_df = corpus_18_sorted_by_error[['doc_id', 'clean_text', 'contract_type_code', 'Product_60codes','CPVcodes_2digit', 'CPVcodes_3digit', 'Asset_specificity_mean', 'prediction_error', 'predicted_Asset_specificity_mean']]"
   ]
  },
  {
   "cell_type": "code",
   "execution_count": 125,
   "id": "96d3c340",
   "metadata": {},
   "outputs": [],
   "source": [
    "def truncate_text(text):\n",
    "    MAX_LENGTH = 30000  # Excel's maximum cell character limit\n",
    "    if isinstance(text, str) and len(text) > MAX_LENGTH:\n",
    "        return text[:MAX_LENGTH]\n",
    "    return text"
   ]
  },
  {
   "cell_type": "code",
   "execution_count": 126,
   "id": "e605c858",
   "metadata": {
    "collapsed": true
   },
   "outputs": [
    {
     "name": "stderr",
     "output_type": "stream",
     "text": [
      "C:\\Users\\blunds\\AppData\\Local\\Temp\\ipykernel_16708\\3609653640.py:1: SettingWithCopyWarning: \n",
      "A value is trying to be set on a copy of a slice from a DataFrame.\n",
      "Try using .loc[row_indexer,col_indexer] = value instead\n",
      "\n",
      "See the caveats in the documentation: https://pandas.pydata.org/pandas-docs/stable/user_guide/indexing.html#returning-a-view-versus-a-copy\n",
      "  selected_columns_df['clean_text'] = selected_columns_df['clean_text'].apply(truncate_text)\n"
     ]
    }
   ],
   "source": [
    "selected_columns_df['clean_text'] = selected_columns_df['clean_text'].apply(truncate_text)"
   ]
  },
  {
   "cell_type": "code",
   "execution_count": 127,
   "id": "8daae29e",
   "metadata": {
    "collapsed": true
   },
   "outputs": [
    {
     "name": "stderr",
     "output_type": "stream",
     "text": [
      "C:\\Users\\blunds\\AppData\\Local\\Temp\\ipykernel_16708\\1483379789.py:2: SettingWithCopyWarning: \n",
      "A value is trying to be set on a copy of a slice from a DataFrame.\n",
      "Try using .loc[row_indexer,col_indexer] = value instead\n",
      "\n",
      "See the caveats in the documentation: https://pandas.pydata.org/pandas-docs/stable/user_guide/indexing.html#returning-a-view-versus-a-copy\n",
      "  selected_columns_df[col] = selected_columns_df[col].apply(lambda x: f'{x:.2f}'.replace('.', ','))\n",
      "C:\\Users\\blunds\\AppData\\Local\\Temp\\ipykernel_16708\\1483379789.py:2: SettingWithCopyWarning: \n",
      "A value is trying to be set on a copy of a slice from a DataFrame.\n",
      "Try using .loc[row_indexer,col_indexer] = value instead\n",
      "\n",
      "See the caveats in the documentation: https://pandas.pydata.org/pandas-docs/stable/user_guide/indexing.html#returning-a-view-versus-a-copy\n",
      "  selected_columns_df[col] = selected_columns_df[col].apply(lambda x: f'{x:.2f}'.replace('.', ','))\n",
      "C:\\Users\\blunds\\AppData\\Local\\Temp\\ipykernel_16708\\1483379789.py:2: SettingWithCopyWarning: \n",
      "A value is trying to be set on a copy of a slice from a DataFrame.\n",
      "Try using .loc[row_indexer,col_indexer] = value instead\n",
      "\n",
      "See the caveats in the documentation: https://pandas.pydata.org/pandas-docs/stable/user_guide/indexing.html#returning-a-view-versus-a-copy\n",
      "  selected_columns_df[col] = selected_columns_df[col].apply(lambda x: f'{x:.2f}'.replace('.', ','))\n"
     ]
    }
   ],
   "source": [
    "for col in selected_columns_df.select_dtypes(include=['float', 'float64']).columns:\n",
    "    selected_columns_df[col] = selected_columns_df[col].apply(lambda x: f'{x:.2f}'.replace('.', ','))\n"
   ]
  },
  {
   "cell_type": "code",
   "execution_count": 128,
   "id": "727c02a2",
   "metadata": {},
   "outputs": [],
   "source": [
    "selected_columns_df.to_csv('Corpus_18_asset_errors.csv', index=False, encoding='utf-16', sep='\\t')"
   ]
  },
  {
   "cell_type": "markdown",
   "id": "ecacd79f",
   "metadata": {},
   "source": [
    "### mean prediction"
   ]
  },
  {
   "cell_type": "code",
   "execution_count": 129,
   "id": "327f2c11",
   "metadata": {},
   "outputs": [],
   "source": [
    "mean_values_df = corpus_18.groupby('Product_60codes').agg({\n",
    "    'Asset_specificity_mean': 'mean',\n",
    "    'predicted_Asset_specificity_mean': 'mean'\n",
    "}).reset_index()"
   ]
  },
  {
   "cell_type": "code",
   "execution_count": 130,
   "id": "cae7fc68",
   "metadata": {},
   "outputs": [],
   "source": [
    "mean_values_df['difference'] = mean_values_df['Asset_specificity_mean'] - mean_values_df['predicted_Asset_specificity_mean']"
   ]
  },
  {
   "cell_type": "code",
   "execution_count": 131,
   "id": "e8cb7b27",
   "metadata": {},
   "outputs": [],
   "source": [
    "mean_values_df = mean_values_df.sort_values('difference', ascending=False)"
   ]
  },
  {
   "cell_type": "code",
   "execution_count": 132,
   "id": "99b4f79c",
   "metadata": {},
   "outputs": [
    {
     "data": {
      "text/html": [
       "<div>\n",
       "<style scoped>\n",
       "    .dataframe tbody tr th:only-of-type {\n",
       "        vertical-align: middle;\n",
       "    }\n",
       "\n",
       "    .dataframe tbody tr th {\n",
       "        vertical-align: top;\n",
       "    }\n",
       "\n",
       "    .dataframe thead th {\n",
       "        text-align: right;\n",
       "    }\n",
       "</style>\n",
       "<table border=\"1\" class=\"dataframe\">\n",
       "  <thead>\n",
       "    <tr style=\"text-align: right;\">\n",
       "      <th></th>\n",
       "      <th>Product_60codes</th>\n",
       "      <th>Asset_specificity_mean</th>\n",
       "      <th>predicted_Asset_specificity_mean</th>\n",
       "      <th>difference</th>\n",
       "    </tr>\n",
       "  </thead>\n",
       "  <tbody>\n",
       "    <tr>\n",
       "      <th>4</th>\n",
       "      <td>16</td>\n",
       "      <td>3.770833</td>\n",
       "      <td>2.686590</td>\n",
       "      <td>1.084243</td>\n",
       "    </tr>\n",
       "    <tr>\n",
       "      <th>10</th>\n",
       "      <td>44</td>\n",
       "      <td>2.720000</td>\n",
       "      <td>2.179209</td>\n",
       "      <td>0.540791</td>\n",
       "    </tr>\n",
       "    <tr>\n",
       "      <th>13</th>\n",
       "      <td>50</td>\n",
       "      <td>2.716049</td>\n",
       "      <td>2.267415</td>\n",
       "      <td>0.448634</td>\n",
       "    </tr>\n",
       "    <tr>\n",
       "      <th>0</th>\n",
       "      <td>2</td>\n",
       "      <td>2.826087</td>\n",
       "      <td>2.399910</td>\n",
       "      <td>0.426177</td>\n",
       "    </tr>\n",
       "    <tr>\n",
       "      <th>2</th>\n",
       "      <td>6</td>\n",
       "      <td>2.961039</td>\n",
       "      <td>2.595234</td>\n",
       "      <td>0.365805</td>\n",
       "    </tr>\n",
       "    <tr>\n",
       "      <th>17</th>\n",
       "      <td>58</td>\n",
       "      <td>2.710843</td>\n",
       "      <td>2.532776</td>\n",
       "      <td>0.178067</td>\n",
       "    </tr>\n",
       "    <tr>\n",
       "      <th>3</th>\n",
       "      <td>15</td>\n",
       "      <td>2.722222</td>\n",
       "      <td>2.621519</td>\n",
       "      <td>0.100703</td>\n",
       "    </tr>\n",
       "    <tr>\n",
       "      <th>8</th>\n",
       "      <td>40</td>\n",
       "      <td>2.985075</td>\n",
       "      <td>2.887719</td>\n",
       "      <td>0.097356</td>\n",
       "    </tr>\n",
       "    <tr>\n",
       "      <th>5</th>\n",
       "      <td>28</td>\n",
       "      <td>2.744681</td>\n",
       "      <td>2.668794</td>\n",
       "      <td>0.075887</td>\n",
       "    </tr>\n",
       "    <tr>\n",
       "      <th>14</th>\n",
       "      <td>52</td>\n",
       "      <td>2.200000</td>\n",
       "      <td>2.300714</td>\n",
       "      <td>-0.100714</td>\n",
       "    </tr>\n",
       "    <tr>\n",
       "      <th>7</th>\n",
       "      <td>37</td>\n",
       "      <td>2.272727</td>\n",
       "      <td>2.414381</td>\n",
       "      <td>-0.141654</td>\n",
       "    </tr>\n",
       "    <tr>\n",
       "      <th>11</th>\n",
       "      <td>45</td>\n",
       "      <td>1.978947</td>\n",
       "      <td>2.131633</td>\n",
       "      <td>-0.152686</td>\n",
       "    </tr>\n",
       "    <tr>\n",
       "      <th>6</th>\n",
       "      <td>29</td>\n",
       "      <td>1.972222</td>\n",
       "      <td>2.461581</td>\n",
       "      <td>-0.489359</td>\n",
       "    </tr>\n",
       "    <tr>\n",
       "      <th>16</th>\n",
       "      <td>57</td>\n",
       "      <td>2.298701</td>\n",
       "      <td>2.792300</td>\n",
       "      <td>-0.493599</td>\n",
       "    </tr>\n",
       "    <tr>\n",
       "      <th>1</th>\n",
       "      <td>5</td>\n",
       "      <td>1.699115</td>\n",
       "      <td>2.205076</td>\n",
       "      <td>-0.505961</td>\n",
       "    </tr>\n",
       "    <tr>\n",
       "      <th>15</th>\n",
       "      <td>54</td>\n",
       "      <td>1.739130</td>\n",
       "      <td>2.474949</td>\n",
       "      <td>-0.735819</td>\n",
       "    </tr>\n",
       "    <tr>\n",
       "      <th>12</th>\n",
       "      <td>46</td>\n",
       "      <td>1.742574</td>\n",
       "      <td>2.541344</td>\n",
       "      <td>-0.798770</td>\n",
       "    </tr>\n",
       "    <tr>\n",
       "      <th>9</th>\n",
       "      <td>41</td>\n",
       "      <td>1.309524</td>\n",
       "      <td>2.467173</td>\n",
       "      <td>-1.157649</td>\n",
       "    </tr>\n",
       "  </tbody>\n",
       "</table>\n",
       "</div>"
      ],
      "text/plain": [
       "    Product_60codes  Asset_specificity_mean  predicted_Asset_specificity_mean  \\\n",
       "4                16                3.770833                          2.686590   \n",
       "10               44                2.720000                          2.179209   \n",
       "13               50                2.716049                          2.267415   \n",
       "0                 2                2.826087                          2.399910   \n",
       "2                 6                2.961039                          2.595234   \n",
       "17               58                2.710843                          2.532776   \n",
       "3                15                2.722222                          2.621519   \n",
       "8                40                2.985075                          2.887719   \n",
       "5                28                2.744681                          2.668794   \n",
       "14               52                2.200000                          2.300714   \n",
       "7                37                2.272727                          2.414381   \n",
       "11               45                1.978947                          2.131633   \n",
       "6                29                1.972222                          2.461581   \n",
       "16               57                2.298701                          2.792300   \n",
       "1                 5                1.699115                          2.205076   \n",
       "15               54                1.739130                          2.474949   \n",
       "12               46                1.742574                          2.541344   \n",
       "9                41                1.309524                          2.467173   \n",
       "\n",
       "    difference  \n",
       "4     1.084243  \n",
       "10    0.540791  \n",
       "13    0.448634  \n",
       "0     0.426177  \n",
       "2     0.365805  \n",
       "17    0.178067  \n",
       "3     0.100703  \n",
       "8     0.097356  \n",
       "5     0.075887  \n",
       "14   -0.100714  \n",
       "7    -0.141654  \n",
       "11   -0.152686  \n",
       "6    -0.489359  \n",
       "16   -0.493599  \n",
       "1    -0.505961  \n",
       "15   -0.735819  \n",
       "12   -0.798770  \n",
       "9    -1.157649  "
      ]
     },
     "execution_count": 132,
     "metadata": {},
     "output_type": "execute_result"
    }
   ],
   "source": [
    "mean_values_df.head(18)"
   ]
  },
  {
   "cell_type": "code",
   "execution_count": 133,
   "id": "3f988c3f",
   "metadata": {},
   "outputs": [],
   "source": [
    "mean_values_df.to_excel('Corpus_18_asset_product_type_errors.xlsx', index=False)"
   ]
  },
  {
   "cell_type": "markdown",
   "id": "ded88b80",
   "metadata": {},
   "source": [
    "## 3.3 Neural Network adjustment"
   ]
  },
  {
   "cell_type": "code",
   "execution_count": 1,
   "id": "a42234b9",
   "metadata": {
    "collapsed": true
   },
   "outputs": [
    {
     "name": "stderr",
     "output_type": "stream",
     "text": [
      "[nltk_data] Downloading package punkt to\n",
      "[nltk_data]     C:\\Users\\blunds\\AppData\\Roaming\\nltk_data...\n",
      "[nltk_data]   Package punkt is already up-to-date!\n"
     ]
    }
   ],
   "source": [
    "import pandas as pd\n",
    "import nltk\n",
    "nltk.download('punkt')\n",
    "import re \n",
    "from nltk.tokenize import sent_tokenize\n",
    "from nltk.tokenize import word_tokenize\n",
    "\n",
    "import os\n",
    "\n",
    "import json\n",
    "\n",
    "from nltk.corpus import stopwords\n",
    "import lemmy\n",
    "import textract\n",
    "import pickle\n",
    "import numpy as np"
   ]
  },
  {
   "cell_type": "markdown",
   "id": "893e4f3e",
   "metadata": {},
   "source": [
    "## Loading data"
   ]
  },
  {
   "cell_type": "code",
   "execution_count": 2,
   "id": "523e2088",
   "metadata": {},
   "outputs": [],
   "source": [
    "corpus_42 = pd.read_pickle(\"corpus_42_final.pkl\")"
   ]
  },
  {
   "cell_type": "code",
   "execution_count": 3,
   "id": "3d3f7fdb",
   "metadata": {},
   "outputs": [],
   "source": [
    "corpus_18 = pd.read_pickle(\"corpus_18_final.pkl\")"
   ]
  },
  {
   "cell_type": "code",
   "execution_count": 4,
   "id": "68ead6a6",
   "metadata": {},
   "outputs": [],
   "source": [
    "corpus_over = pd.read_pickle(\"corpus_over_final.pkl\")"
   ]
  },
  {
   "cell_type": "code",
   "execution_count": 7,
   "id": "613f36f5",
   "metadata": {},
   "outputs": [],
   "source": [
    "corpus_42['CPVcodes_2digit'] = corpus_42['CPVcodes_2digit'].astype(str).apply(lambda x: x.zfill(2))\n"
   ]
  },
  {
   "cell_type": "code",
   "execution_count": 8,
   "id": "ce4a8a97",
   "metadata": {},
   "outputs": [],
   "source": [
    "corpus_18['CPVcodes_2digit'] = corpus_18['CPVcodes_2digit'].astype(str).apply(lambda x: x.zfill(2))\n"
   ]
  },
  {
   "cell_type": "code",
   "execution_count": 9,
   "id": "0b8639eb",
   "metadata": {},
   "outputs": [],
   "source": [
    "corpus_over['CPVcodes_2digit'] = corpus_over['CPVcodes_2digit'].astype(str).apply(lambda x: x.zfill(2))\n"
   ]
  },
  {
   "cell_type": "code",
   "execution_count": 10,
   "id": "c6b51936",
   "metadata": {},
   "outputs": [],
   "source": [
    "corpus_42['CPVcodes_1digit'] = corpus_42['CPVcodes_2digit'].astype(str).str[0]\n",
    "corpus_18['CPVcodes_1digit'] = corpus_18['CPVcodes_2digit'].astype(str).str[0]\n",
    "corpus_over['CPVcodes_1digit'] = corpus_over['CPVcodes_2digit'].astype(str).str[0]\n"
   ]
  },
  {
   "cell_type": "code",
   "execution_count": 11,
   "id": "7d149337",
   "metadata": {},
   "outputs": [],
   "source": [
    "corpus_42['CPVcodes_1digit'] = corpus_42['CPVcodes_1digit'].astype(int)\n",
    "corpus_18['CPVcodes_1digit'] = corpus_18['CPVcodes_1digit'].astype(int)\n",
    "corpus_over['CPVcodes_1digit'] = corpus_over['CPVcodes_1digit'].astype(int)\n"
   ]
  },
  {
   "cell_type": "markdown",
   "id": "00550fdf",
   "metadata": {},
   "source": [
    "#### Endocding CPVcodes_1digit"
   ]
  },
  {
   "cell_type": "code",
   "execution_count": 12,
   "id": "3ba62f35",
   "metadata": {},
   "outputs": [],
   "source": [
    "from sklearn.preprocessing import OneHotEncoder\n",
    "import pandas as pd\n"
   ]
  },
  {
   "cell_type": "code",
   "execution_count": 13,
   "id": "95b2542a",
   "metadata": {},
   "outputs": [],
   "source": [
    "corpus_42['CPVcodes_1digit_str'] = corpus_42['CPVcodes_1digit'].astype(str)\n",
    "corpus_18['CPVcodes_1digit_str'] = corpus_18['CPVcodes_1digit'].astype(str)\n",
    "corpus_over['CPVcodes_1digit_str'] = corpus_over['CPVcodes_1digit'].astype(str)"
   ]
  },
  {
   "cell_type": "code",
   "execution_count": 14,
   "id": "14baf42b",
   "metadata": {},
   "outputs": [],
   "source": [
    "all_cpv_codes_str = pd.concat([corpus_42['CPVcodes_1digit_str'], corpus_18['CPVcodes_1digit_str'], corpus_over['CPVcodes_1digit_str']]).unique()"
   ]
  },
  {
   "cell_type": "code",
   "execution_count": 15,
   "id": "0a8bd948",
   "metadata": {},
   "outputs": [],
   "source": [
    "encoder = OneHotEncoder(categories=[all_cpv_codes_str], handle_unknown='ignore')"
   ]
  },
  {
   "cell_type": "code",
   "execution_count": 16,
   "id": "3f8448ab",
   "metadata": {},
   "outputs": [],
   "source": [
    "cpv_42_encoded_1 = encoder.fit_transform(corpus_42[['CPVcodes_1digit_str']]).toarray()"
   ]
  },
  {
   "cell_type": "code",
   "execution_count": 17,
   "id": "b8cfa86a",
   "metadata": {},
   "outputs": [],
   "source": [
    "cpv_18_encoded_1 = encoder.transform(corpus_18[['CPVcodes_1digit_str']]).toarray()"
   ]
  },
  {
   "cell_type": "code",
   "execution_count": 18,
   "id": "15a32614",
   "metadata": {},
   "outputs": [],
   "source": [
    "cpv_over_encoded_1 = encoder.transform(corpus_over[['CPVcodes_1digit_str']]).toarray()"
   ]
  },
  {
   "cell_type": "code",
   "execution_count": 19,
   "id": "6dcf058f",
   "metadata": {},
   "outputs": [],
   "source": [
    "cpv_42_encoded_df_1 = pd.DataFrame(cpv_42_encoded_1, index=corpus_42.index)"
   ]
  },
  {
   "cell_type": "code",
   "execution_count": 20,
   "id": "020654a3",
   "metadata": {},
   "outputs": [],
   "source": [
    "cpv_18_encoded_df_1 = pd.DataFrame(cpv_18_encoded_1, index=corpus_18.index)"
   ]
  },
  {
   "cell_type": "code",
   "execution_count": 21,
   "id": "481e76df",
   "metadata": {},
   "outputs": [],
   "source": [
    "cpv_over_encoded_df_1 = pd.DataFrame(cpv_over_encoded_1, index=corpus_over.index)"
   ]
  },
  {
   "cell_type": "markdown",
   "id": "eaed1bc5",
   "metadata": {},
   "source": [
    "#### Endocding CPVcodes_2digit"
   ]
  },
  {
   "cell_type": "code",
   "execution_count": 22,
   "id": "22efac42",
   "metadata": {},
   "outputs": [],
   "source": [
    "from sklearn.preprocessing import OneHotEncoder\n",
    "import pandas as pd\n"
   ]
  },
  {
   "cell_type": "code",
   "execution_count": 23,
   "id": "b56eadab",
   "metadata": {},
   "outputs": [],
   "source": [
    "corpus_42['CPVcodes_2digit_str'] = corpus_42['CPVcodes_2digit'].astype(str)\n",
    "corpus_18['CPVcodes_2digit_str'] = corpus_18['CPVcodes_2digit'].astype(str)\n",
    "corpus_over['CPVcodes_2digit_str'] = corpus_over['CPVcodes_2digit'].astype(str)\n"
   ]
  },
  {
   "cell_type": "code",
   "execution_count": 24,
   "id": "e31bcc4b",
   "metadata": {},
   "outputs": [],
   "source": [
    "all_cpv_codes_str = pd.concat([corpus_42['CPVcodes_2digit_str'], corpus_18['CPVcodes_2digit_str'], corpus_over['CPVcodes_2digit_str']]).unique()"
   ]
  },
  {
   "cell_type": "code",
   "execution_count": 25,
   "id": "311a3fe0",
   "metadata": {},
   "outputs": [],
   "source": [
    "encoder = OneHotEncoder(categories=[all_cpv_codes_str], handle_unknown='ignore')"
   ]
  },
  {
   "cell_type": "code",
   "execution_count": 26,
   "id": "39a7dbd1",
   "metadata": {},
   "outputs": [],
   "source": [
    "cpv_42_encoded_2 = encoder.fit_transform(corpus_42[['CPVcodes_2digit_str']]).toarray()"
   ]
  },
  {
   "cell_type": "code",
   "execution_count": 27,
   "id": "bd75534b",
   "metadata": {},
   "outputs": [],
   "source": [
    "cpv_18_encoded_2 = encoder.transform(corpus_18[['CPVcodes_2digit_str']]).toarray()"
   ]
  },
  {
   "cell_type": "code",
   "execution_count": 28,
   "id": "6b5c5b3d",
   "metadata": {},
   "outputs": [],
   "source": [
    "cpv_over_encoded_2 = encoder.transform(corpus_over[['CPVcodes_2digit_str']]).toarray()"
   ]
  },
  {
   "cell_type": "code",
   "execution_count": 29,
   "id": "7b1f89e4",
   "metadata": {},
   "outputs": [],
   "source": [
    "cpv_42_encoded_df_2 = pd.DataFrame(cpv_42_encoded_2, index=corpus_42.index)"
   ]
  },
  {
   "cell_type": "code",
   "execution_count": 30,
   "id": "bee0f994",
   "metadata": {},
   "outputs": [],
   "source": [
    "cpv_18_encoded_df_2 = pd.DataFrame(cpv_18_encoded_2, index=corpus_18.index)"
   ]
  },
  {
   "cell_type": "code",
   "execution_count": 31,
   "id": "24c16f06",
   "metadata": {},
   "outputs": [],
   "source": [
    "cpv_over_encoded_df_2 = pd.DataFrame(cpv_over_encoded_2, index=corpus_over.index)"
   ]
  },
  {
   "cell_type": "markdown",
   "id": "95e23ff4",
   "metadata": {},
   "source": [
    "#### Endocding CPVcodes_3digit"
   ]
  },
  {
   "cell_type": "code",
   "execution_count": 32,
   "id": "7794d37d",
   "metadata": {},
   "outputs": [],
   "source": [
    "from sklearn.preprocessing import OneHotEncoder\n",
    "import pandas as pd\n"
   ]
  },
  {
   "cell_type": "code",
   "execution_count": 33,
   "id": "887ce955",
   "metadata": {},
   "outputs": [],
   "source": [
    "corpus_42['CPVcodes_3digit_str'] = corpus_42['CPVcodes_3digit'].astype(str)\n",
    "corpus_18['CPVcodes_3digit_str'] = corpus_18['CPVcodes_3digit'].astype(str)\n",
    "corpus_over['CPVcodes_3digit_str'] = corpus_over['CPVcodes_3digit'].astype(str)\n"
   ]
  },
  {
   "cell_type": "code",
   "execution_count": 34,
   "id": "960855ec",
   "metadata": {},
   "outputs": [],
   "source": [
    "all_cpv_codes_str = pd.concat([corpus_42['CPVcodes_3digit_str'], corpus_18['CPVcodes_3digit_str'], corpus_over['CPVcodes_3digit_str']]).unique()"
   ]
  },
  {
   "cell_type": "code",
   "execution_count": 35,
   "id": "51e810f2",
   "metadata": {},
   "outputs": [],
   "source": [
    "encoder = OneHotEncoder(categories=[all_cpv_codes_str], handle_unknown='ignore')"
   ]
  },
  {
   "cell_type": "code",
   "execution_count": 36,
   "id": "5e4bfcb1",
   "metadata": {},
   "outputs": [],
   "source": [
    "cpv_42_encoded_3 = encoder.fit_transform(corpus_42[['CPVcodes_3digit_str']]).toarray()"
   ]
  },
  {
   "cell_type": "code",
   "execution_count": 37,
   "id": "36feaef8",
   "metadata": {},
   "outputs": [],
   "source": [
    "cpv_18_encoded_3 = encoder.transform(corpus_18[['CPVcodes_3digit_str']]).toarray()"
   ]
  },
  {
   "cell_type": "code",
   "execution_count": 38,
   "id": "c6cdedd9",
   "metadata": {},
   "outputs": [],
   "source": [
    "cpv_over_encoded_3 = encoder.transform(corpus_over[['CPVcodes_3digit_str']]).toarray()"
   ]
  },
  {
   "cell_type": "code",
   "execution_count": 39,
   "id": "d5f70ae6",
   "metadata": {},
   "outputs": [],
   "source": [
    "cpv_42_encoded_df_3 = pd.DataFrame(cpv_42_encoded_3, index=corpus_42.index)"
   ]
  },
  {
   "cell_type": "code",
   "execution_count": 40,
   "id": "8ff1014f",
   "metadata": {},
   "outputs": [],
   "source": [
    "cpv_18_encoded_df_3 = pd.DataFrame(cpv_18_encoded_3, index=corpus_18.index)"
   ]
  },
  {
   "cell_type": "code",
   "execution_count": 41,
   "id": "80eccea5",
   "metadata": {},
   "outputs": [],
   "source": [
    "cpv_over_encoded_df_3 = pd.DataFrame(cpv_over_encoded_3, index=corpus_over.index)"
   ]
  },
  {
   "cell_type": "markdown",
   "id": "f12d0eaa",
   "metadata": {},
   "source": [
    "## Neural Network"
   ]
  },
  {
   "cell_type": "code",
   "execution_count": 42,
   "id": "0d8a3811",
   "metadata": {},
   "outputs": [],
   "source": [
    "import pandas as pd\n",
    "from sklearn.model_selection import train_test_split\n",
    "from sklearn.preprocessing import StandardScaler\n",
    "from sklearn.neural_network import MLPRegressor\n",
    "from sklearn.metrics import mean_squared_error, mean_absolute_error, r2_score\n",
    "\n",
    "import numpy as np\n",
    "import tensorflow as tf\n",
    "import random"
   ]
  },
  {
   "cell_type": "code",
   "execution_count": 43,
   "id": "935078d2",
   "metadata": {},
   "outputs": [
    {
     "name": "stdout",
     "output_type": "stream",
     "text": [
      "WARNING:tensorflow:From C:\\Users\\blunds\\AppData\\Local\\anaconda3\\Lib\\site-packages\\keras\\src\\losses.py:2976: The name tf.losses.sparse_softmax_cross_entropy is deprecated. Please use tf.compat.v1.losses.sparse_softmax_cross_entropy instead.\n",
      "\n"
     ]
    }
   ],
   "source": [
    "\n",
    "np.random.seed(42)\n",
    "random.seed(42)\n",
    "tf.random.set_seed(42)"
   ]
  },
  {
   "cell_type": "code",
   "execution_count": 44,
   "id": "316d2cdc",
   "metadata": {},
   "outputs": [],
   "source": [
    "embeddings_df = pd.DataFrame(corpus_42['Normalized_Embedding'].tolist())\n"
   ]
  },
  {
   "cell_type": "code",
   "execution_count": 45,
   "id": "5f649d3e",
   "metadata": {},
   "outputs": [],
   "source": [
    "data_with_dummies = pd.concat([embeddings_df, cpv_42_encoded_df_3, cpv_42_encoded_df_2, cpv_42_encoded_df_1], axis=1)"
   ]
  },
  {
   "cell_type": "code",
   "execution_count": 46,
   "id": "5566b6b1",
   "metadata": {},
   "outputs": [],
   "source": [
    "data = data_with_dummies.join(corpus_42['Asset_specificity_mean'])"
   ]
  },
  {
   "cell_type": "code",
   "execution_count": 47,
   "id": "4bdacb14",
   "metadata": {},
   "outputs": [],
   "source": [
    "data.columns = data.columns.astype(str)"
   ]
  },
  {
   "cell_type": "code",
   "execution_count": 48,
   "id": "d230832b",
   "metadata": {},
   "outputs": [],
   "source": [
    "X = data.drop('Asset_specificity_mean', axis=1)\n",
    "y = data['Asset_specificity_mean']"
   ]
  },
  {
   "cell_type": "code",
   "execution_count": 49,
   "id": "98f5b22d",
   "metadata": {},
   "outputs": [],
   "source": [
    "X_train, X_test, y_train, y_test = train_test_split(X, y, test_size=0.3, random_state=42)"
   ]
  },
  {
   "cell_type": "code",
   "execution_count": 50,
   "id": "4feac51e",
   "metadata": {},
   "outputs": [],
   "source": [
    "model = MLPRegressor(hidden_layer_sizes=(100,), activation='logistic', solver='adam', max_iter=1000, random_state=42)"
   ]
  },
  {
   "cell_type": "code",
   "execution_count": 51,
   "id": "f779df23",
   "metadata": {},
   "outputs": [
    {
     "data": {
      "text/html": [
       "<style>#sk-container-id-1 {color: black;}#sk-container-id-1 pre{padding: 0;}#sk-container-id-1 div.sk-toggleable {background-color: white;}#sk-container-id-1 label.sk-toggleable__label {cursor: pointer;display: block;width: 100%;margin-bottom: 0;padding: 0.3em;box-sizing: border-box;text-align: center;}#sk-container-id-1 label.sk-toggleable__label-arrow:before {content: \"▸\";float: left;margin-right: 0.25em;color: #696969;}#sk-container-id-1 label.sk-toggleable__label-arrow:hover:before {color: black;}#sk-container-id-1 div.sk-estimator:hover label.sk-toggleable__label-arrow:before {color: black;}#sk-container-id-1 div.sk-toggleable__content {max-height: 0;max-width: 0;overflow: hidden;text-align: left;background-color: #f0f8ff;}#sk-container-id-1 div.sk-toggleable__content pre {margin: 0.2em;color: black;border-radius: 0.25em;background-color: #f0f8ff;}#sk-container-id-1 input.sk-toggleable__control:checked~div.sk-toggleable__content {max-height: 200px;max-width: 100%;overflow: auto;}#sk-container-id-1 input.sk-toggleable__control:checked~label.sk-toggleable__label-arrow:before {content: \"▾\";}#sk-container-id-1 div.sk-estimator input.sk-toggleable__control:checked~label.sk-toggleable__label {background-color: #d4ebff;}#sk-container-id-1 div.sk-label input.sk-toggleable__control:checked~label.sk-toggleable__label {background-color: #d4ebff;}#sk-container-id-1 input.sk-hidden--visually {border: 0;clip: rect(1px 1px 1px 1px);clip: rect(1px, 1px, 1px, 1px);height: 1px;margin: -1px;overflow: hidden;padding: 0;position: absolute;width: 1px;}#sk-container-id-1 div.sk-estimator {font-family: monospace;background-color: #f0f8ff;border: 1px dotted black;border-radius: 0.25em;box-sizing: border-box;margin-bottom: 0.5em;}#sk-container-id-1 div.sk-estimator:hover {background-color: #d4ebff;}#sk-container-id-1 div.sk-parallel-item::after {content: \"\";width: 100%;border-bottom: 1px solid gray;flex-grow: 1;}#sk-container-id-1 div.sk-label:hover label.sk-toggleable__label {background-color: #d4ebff;}#sk-container-id-1 div.sk-serial::before {content: \"\";position: absolute;border-left: 1px solid gray;box-sizing: border-box;top: 0;bottom: 0;left: 50%;z-index: 0;}#sk-container-id-1 div.sk-serial {display: flex;flex-direction: column;align-items: center;background-color: white;padding-right: 0.2em;padding-left: 0.2em;position: relative;}#sk-container-id-1 div.sk-item {position: relative;z-index: 1;}#sk-container-id-1 div.sk-parallel {display: flex;align-items: stretch;justify-content: center;background-color: white;position: relative;}#sk-container-id-1 div.sk-item::before, #sk-container-id-1 div.sk-parallel-item::before {content: \"\";position: absolute;border-left: 1px solid gray;box-sizing: border-box;top: 0;bottom: 0;left: 50%;z-index: -1;}#sk-container-id-1 div.sk-parallel-item {display: flex;flex-direction: column;z-index: 1;position: relative;background-color: white;}#sk-container-id-1 div.sk-parallel-item:first-child::after {align-self: flex-end;width: 50%;}#sk-container-id-1 div.sk-parallel-item:last-child::after {align-self: flex-start;width: 50%;}#sk-container-id-1 div.sk-parallel-item:only-child::after {width: 0;}#sk-container-id-1 div.sk-dashed-wrapped {border: 1px dashed gray;margin: 0 0.4em 0.5em 0.4em;box-sizing: border-box;padding-bottom: 0.4em;background-color: white;}#sk-container-id-1 div.sk-label label {font-family: monospace;font-weight: bold;display: inline-block;line-height: 1.2em;}#sk-container-id-1 div.sk-label-container {text-align: center;}#sk-container-id-1 div.sk-container {/* jupyter's `normalize.less` sets `[hidden] { display: none; }` but bootstrap.min.css set `[hidden] { display: none !important; }` so we also need the `!important` here to be able to override the default hidden behavior on the sphinx rendered scikit-learn.org. See: https://github.com/scikit-learn/scikit-learn/issues/21755 */display: inline-block !important;position: relative;}#sk-container-id-1 div.sk-text-repr-fallback {display: none;}</style><div id=\"sk-container-id-1\" class=\"sk-top-container\"><div class=\"sk-text-repr-fallback\"><pre>MLPRegressor(activation=&#x27;logistic&#x27;, max_iter=1000, random_state=42)</pre><b>In a Jupyter environment, please rerun this cell to show the HTML representation or trust the notebook. <br />On GitHub, the HTML representation is unable to render, please try loading this page with nbviewer.org.</b></div><div class=\"sk-container\" hidden><div class=\"sk-item\"><div class=\"sk-estimator sk-toggleable\"><input class=\"sk-toggleable__control sk-hidden--visually\" id=\"sk-estimator-id-1\" type=\"checkbox\" checked><label for=\"sk-estimator-id-1\" class=\"sk-toggleable__label sk-toggleable__label-arrow\">MLPRegressor</label><div class=\"sk-toggleable__content\"><pre>MLPRegressor(activation=&#x27;logistic&#x27;, max_iter=1000, random_state=42)</pre></div></div></div></div></div>"
      ],
      "text/plain": [
       "MLPRegressor(activation='logistic', max_iter=1000, random_state=42)"
      ]
     },
     "execution_count": 51,
     "metadata": {},
     "output_type": "execute_result"
    }
   ],
   "source": [
    "model.fit(X_train, y_train)\n"
   ]
  },
  {
   "cell_type": "code",
   "execution_count": 52,
   "id": "8b7e7b6b",
   "metadata": {},
   "outputs": [],
   "source": [
    "y_pred = model.predict(X_test)"
   ]
  },
  {
   "cell_type": "code",
   "execution_count": 53,
   "id": "855674f1",
   "metadata": {},
   "outputs": [],
   "source": [
    "mse = mean_squared_error(y_test, y_pred)\n",
    "mae = mean_absolute_error(y_test, y_pred)\n",
    "r2 = r2_score(y_test, y_pred)"
   ]
  },
  {
   "cell_type": "code",
   "execution_count": 55,
   "id": "1c49e9c7",
   "metadata": {},
   "outputs": [
    {
     "name": "stdout",
     "output_type": "stream",
     "text": [
      "Mean Squared Error (MSE): 0.026417206418528745\n",
      "Mean Absolute Error (MAE): 0.10595494345603472\n",
      "R^2 Score: 0.794650617907131\n"
     ]
    }
   ],
   "source": [
    "print(f'Mean Squared Error (MSE): {mse}')\n",
    "print(f'Mean Absolute Error (MAE): {mae}')\n",
    "print(f'R^2 Score: {r2}')"
   ]
  },
  {
   "cell_type": "code",
   "execution_count": 56,
   "id": "28d48e69",
   "metadata": {},
   "outputs": [],
   "source": [
    "data_for_prediction = pd.concat([embeddings_df, cpv_42_encoded_df_3, cpv_42_encoded_df_2, cpv_42_encoded_df_1], axis=1)\n"
   ]
  },
  {
   "cell_type": "code",
   "execution_count": 57,
   "id": "138fe31b",
   "metadata": {
    "collapsed": true
   },
   "outputs": [
    {
     "name": "stderr",
     "output_type": "stream",
     "text": [
      "C:\\Users\\blunds\\AppData\\Local\\anaconda3\\Lib\\site-packages\\sklearn\\base.py:464: UserWarning: X does not have valid feature names, but MLPRegressor was fitted with feature names\n",
      "  warnings.warn(\n"
     ]
    }
   ],
   "source": [
    "y_pred_full_corpus = model.predict(data_for_prediction)"
   ]
  },
  {
   "cell_type": "code",
   "execution_count": 58,
   "id": "ca7cc843",
   "metadata": {},
   "outputs": [],
   "source": [
    "y_pred_full_corpus_flat = y_pred_full_corpus.flatten()"
   ]
  },
  {
   "cell_type": "code",
   "execution_count": 59,
   "id": "a16bd863",
   "metadata": {},
   "outputs": [],
   "source": [
    "corpus_42['Predicted_Asset_specificity'] = y_pred_full_corpus_flat"
   ]
  },
  {
   "cell_type": "code",
   "execution_count": 60,
   "id": "cf22651d",
   "metadata": {},
   "outputs": [],
   "source": [
    "corpus_42['absolute_error'] = np.abs(corpus_42['Asset_specificity_mean'] - corpus_42['Predicted_Asset_specificity'])\n",
    "corpus_42['prediction_error'] = np.abs(corpus_42['Predicted_Asset_specificity'] - corpus_42['Asset_specificity_mean'])\n"
   ]
  },
  {
   "cell_type": "code",
   "execution_count": 64,
   "id": "eba6fd17",
   "metadata": {
    "scrolled": true
   },
   "outputs": [
    {
     "name": "stdout",
     "output_type": "stream",
     "text": [
      "count    1.351000e+03\n",
      "mean     9.163343e-02\n",
      "std      1.017583e-01\n",
      "min      1.566359e-07\n",
      "25%      2.423997e-02\n",
      "50%      6.085948e-02\n",
      "75%      1.206520e-01\n",
      "max      1.475203e+00\n",
      "Name: prediction_error, dtype: float64\n"
     ]
    }
   ],
   "source": [
    "print(corpus_42['prediction_error'].describe())"
   ]
  },
  {
   "cell_type": "code",
   "execution_count": 65,
   "id": "7624f32d",
   "metadata": {},
   "outputs": [],
   "source": [
    "corpus_42_sorted_by_error = corpus_42.sort_values('absolute_error', ascending=False)"
   ]
  },
  {
   "cell_type": "code",
   "execution_count": 66,
   "id": "cf59408e",
   "metadata": {},
   "outputs": [
    {
     "data": {
      "text/html": [
       "<div>\n",
       "<style scoped>\n",
       "    .dataframe tbody tr th:only-of-type {\n",
       "        vertical-align: middle;\n",
       "    }\n",
       "\n",
       "    .dataframe tbody tr th {\n",
       "        vertical-align: top;\n",
       "    }\n",
       "\n",
       "    .dataframe thead th {\n",
       "        text-align: right;\n",
       "    }\n",
       "</style>\n",
       "<table border=\"1\" class=\"dataframe\">\n",
       "  <thead>\n",
       "    <tr style=\"text-align: right;\">\n",
       "      <th></th>\n",
       "      <th>doc_id</th>\n",
       "      <th>contract_type_code</th>\n",
       "      <th>Product_60codes</th>\n",
       "      <th>Measurability_mean</th>\n",
       "      <th>Asset_specificity_mean</th>\n",
       "      <th>Manuel_or_not</th>\n",
       "      <th>product_description_binary</th>\n",
       "      <th>CPVcodes_2digit</th>\n",
       "      <th>CPVcodes_3digit</th>\n",
       "      <th>clean_text</th>\n",
       "      <th>Embedding</th>\n",
       "      <th>Normalized_Embedding</th>\n",
       "      <th>Normalized_Embedding_mean</th>\n",
       "      <th>CPVcodes_1digit</th>\n",
       "      <th>CPVcodes_1digit_str</th>\n",
       "      <th>CPVcodes_2digit_str</th>\n",
       "      <th>CPVcodes_3digit_str</th>\n",
       "      <th>Predicted_Asset_specificity</th>\n",
       "      <th>absolute_error</th>\n",
       "      <th>prediction_error</th>\n",
       "    </tr>\n",
       "  </thead>\n",
       "  <tbody>\n",
       "    <tr>\n",
       "      <th>936</th>\n",
       "      <td>471767-2021</td>\n",
       "      <td>4</td>\n",
       "      <td>23</td>\n",
       "      <td>2.809524</td>\n",
       "      <td>4.000000</td>\n",
       "      <td>not</td>\n",
       "      <td>Yes</td>\n",
       "      <td>75</td>\n",
       "      <td>752</td>\n",
       "      <td>1.2 kravtyper i nærværende kravspecifikation e...</td>\n",
       "      <td>[0.034549914, -0.042960282, -0.012512988, 0.03...</td>\n",
       "      <td>[0.034549912005077184, -0.04296027951945991, -...</td>\n",
       "      <td>[0.034549912005077184, -0.04296027951945991, -...</td>\n",
       "      <td>7</td>\n",
       "      <td>7</td>\n",
       "      <td>75</td>\n",
       "      <td>752</td>\n",
       "      <td>2.524797</td>\n",
       "      <td>1.475203</td>\n",
       "      <td>1.475203</td>\n",
       "    </tr>\n",
       "    <tr>\n",
       "      <th>919</th>\n",
       "      <td>463700-2022</td>\n",
       "      <td>2</td>\n",
       "      <td>4</td>\n",
       "      <td>1.915966</td>\n",
       "      <td>1.710280</td>\n",
       "      <td>not</td>\n",
       "      <td>Yes</td>\n",
       "      <td>30</td>\n",
       "      <td>301</td>\n",
       "      <td>de 3 centrale driftscentre er sammenkoblet i ...</td>\n",
       "      <td>[0.021431936, 0.0010715968, -0.0025592253, 0.0...</td>\n",
       "      <td>[0.021429342326400525, 0.0010714671163200263, ...</td>\n",
       "      <td>[0.011766989357691772, -0.021660008612906734, ...</td>\n",
       "      <td>3</td>\n",
       "      <td>3</td>\n",
       "      <td>30</td>\n",
       "      <td>301</td>\n",
       "      <td>2.268862</td>\n",
       "      <td>0.558582</td>\n",
       "      <td>0.558582</td>\n",
       "    </tr>\n",
       "    <tr>\n",
       "      <th>1273</th>\n",
       "      <td>657903-2021</td>\n",
       "      <td>1</td>\n",
       "      <td>34</td>\n",
       "      <td>3.053571</td>\n",
       "      <td>1.898305</td>\n",
       "      <td>not</td>\n",
       "      <td>Yes</td>\n",
       "      <td>45</td>\n",
       "      <td>452</td>\n",
       "      <td>4. den udbudte anskaffelse entreprisen består ...</td>\n",
       "      <td>[0.023648163, -0.02022101, -0.020865379, 0.018...</td>\n",
       "      <td>[0.02320736353691505, -0.019844092336203645, -...</td>\n",
       "      <td>[0.014665746413114938, -0.03314830637705246, -...</td>\n",
       "      <td>4</td>\n",
       "      <td>4</td>\n",
       "      <td>45</td>\n",
       "      <td>452</td>\n",
       "      <td>2.426970</td>\n",
       "      <td>0.528665</td>\n",
       "      <td>0.528665</td>\n",
       "    </tr>\n",
       "    <tr>\n",
       "      <th>1189</th>\n",
       "      <td>612592-2021</td>\n",
       "      <td>1</td>\n",
       "      <td>34</td>\n",
       "      <td>3.053571</td>\n",
       "      <td>1.898305</td>\n",
       "      <td>not</td>\n",
       "      <td>Yes</td>\n",
       "      <td>45</td>\n",
       "      <td>452</td>\n",
       "      <td>3.1.7 brønde . 20 3.1.8 brønde af beton . 22 3...</td>\n",
       "      <td>[0.039461013, -0.014652216, -0.0045676813, 0.0...</td>\n",
       "      <td>[0.034086147939626284, -0.012656482037583757, ...</td>\n",
       "      <td>[0.018194331072319995, -0.040295459964509, -0....</td>\n",
       "      <td>4</td>\n",
       "      <td>4</td>\n",
       "      <td>45</td>\n",
       "      <td>452</td>\n",
       "      <td>2.426521</td>\n",
       "      <td>0.528216</td>\n",
       "      <td>0.528216</td>\n",
       "    </tr>\n",
       "    <tr>\n",
       "      <th>1133</th>\n",
       "      <td>576927-2022</td>\n",
       "      <td>1</td>\n",
       "      <td>34</td>\n",
       "      <td>3.053571</td>\n",
       "      <td>1.898305</td>\n",
       "      <td>not</td>\n",
       "      <td>Yes</td>\n",
       "      <td>45</td>\n",
       "      <td>452</td>\n",
       "      <td>2 1. tekniske funktionskrav der skal etableres...</td>\n",
       "      <td>[0.006155151, -0.025454653, -0.008658246, 0.00...</td>\n",
       "      <td>[0.006175755599179605, -0.02553986340707546, -...</td>\n",
       "      <td>[0.005081111659826009, -0.03467379292968825, -...</td>\n",
       "      <td>4</td>\n",
       "      <td>4</td>\n",
       "      <td>45</td>\n",
       "      <td>452</td>\n",
       "      <td>2.421424</td>\n",
       "      <td>0.523119</td>\n",
       "      <td>0.523119</td>\n",
       "    </tr>\n",
       "  </tbody>\n",
       "</table>\n",
       "</div>"
      ],
      "text/plain": [
       "           doc_id  contract_type_code  Product_60codes  Measurability_mean  \\\n",
       "936   471767-2021                   4               23            2.809524   \n",
       "919   463700-2022                   2                4            1.915966   \n",
       "1273  657903-2021                   1               34            3.053571   \n",
       "1189  612592-2021                   1               34            3.053571   \n",
       "1133  576927-2022                   1               34            3.053571   \n",
       "\n",
       "      Asset_specificity_mean Manuel_or_not product_description_binary  \\\n",
       "936                 4.000000           not                        Yes   \n",
       "919                 1.710280           not                        Yes   \n",
       "1273                1.898305           not                        Yes   \n",
       "1189                1.898305           not                        Yes   \n",
       "1133                1.898305           not                        Yes   \n",
       "\n",
       "     CPVcodes_2digit  CPVcodes_3digit  \\\n",
       "936               75              752   \n",
       "919               30              301   \n",
       "1273              45              452   \n",
       "1189              45              452   \n",
       "1133              45              452   \n",
       "\n",
       "                                             clean_text  \\\n",
       "936   1.2 kravtyper i nærværende kravspecifikation e...   \n",
       "919    de 3 centrale driftscentre er sammenkoblet i ...   \n",
       "1273  4. den udbudte anskaffelse entreprisen består ...   \n",
       "1189  3.1.7 brønde . 20 3.1.8 brønde af beton . 22 3...   \n",
       "1133  2 1. tekniske funktionskrav der skal etableres...   \n",
       "\n",
       "                                              Embedding  \\\n",
       "936   [0.034549914, -0.042960282, -0.012512988, 0.03...   \n",
       "919   [0.021431936, 0.0010715968, -0.0025592253, 0.0...   \n",
       "1273  [0.023648163, -0.02022101, -0.020865379, 0.018...   \n",
       "1189  [0.039461013, -0.014652216, -0.0045676813, 0.0...   \n",
       "1133  [0.006155151, -0.025454653, -0.008658246, 0.00...   \n",
       "\n",
       "                                   Normalized_Embedding  \\\n",
       "936   [0.034549912005077184, -0.04296027951945991, -...   \n",
       "919   [0.021429342326400525, 0.0010714671163200263, ...   \n",
       "1273  [0.02320736353691505, -0.019844092336203645, -...   \n",
       "1189  [0.034086147939626284, -0.012656482037583757, ...   \n",
       "1133  [0.006175755599179605, -0.02553986340707546, -...   \n",
       "\n",
       "                              Normalized_Embedding_mean  CPVcodes_1digit  \\\n",
       "936   [0.034549912005077184, -0.04296027951945991, -...                7   \n",
       "919   [0.011766989357691772, -0.021660008612906734, ...                3   \n",
       "1273  [0.014665746413114938, -0.03314830637705246, -...                4   \n",
       "1189  [0.018194331072319995, -0.040295459964509, -0....                4   \n",
       "1133  [0.005081111659826009, -0.03467379292968825, -...                4   \n",
       "\n",
       "     CPVcodes_1digit_str CPVcodes_2digit_str CPVcodes_3digit_str  \\\n",
       "936                    7                  75                 752   \n",
       "919                    3                  30                 301   \n",
       "1273                   4                  45                 452   \n",
       "1189                   4                  45                 452   \n",
       "1133                   4                  45                 452   \n",
       "\n",
       "      Predicted_Asset_specificity  absolute_error  prediction_error  \n",
       "936                      2.524797        1.475203          1.475203  \n",
       "919                      2.268862        0.558582          0.558582  \n",
       "1273                     2.426970        0.528665          0.528665  \n",
       "1189                     2.426521        0.528216          0.528216  \n",
       "1133                     2.421424        0.523119          0.523119  "
      ]
     },
     "execution_count": 66,
     "metadata": {},
     "output_type": "execute_result"
    }
   ],
   "source": [
    "corpus_42_sorted_by_error.head()"
   ]
  },
  {
   "cell_type": "code",
   "execution_count": 67,
   "id": "993f7a95",
   "metadata": {},
   "outputs": [],
   "source": [
    "selected_columns_df = corpus_42_sorted_by_error[['doc_id', 'clean_text', 'contract_type_code', 'Product_60codes','CPVcodes_2digit', 'CPVcodes_3digit', 'Asset_specificity_mean', 'prediction_error', 'Predicted_Asset_specificity']]"
   ]
  },
  {
   "cell_type": "code",
   "execution_count": 68,
   "id": "f7b8b130",
   "metadata": {},
   "outputs": [],
   "source": [
    "def truncate_text(text):\n",
    "    MAX_LENGTH = 30000  # Excel's maximum cell character limit\n",
    "    if isinstance(text, str) and len(text) > MAX_LENGTH:\n",
    "        return text[:MAX_LENGTH]\n",
    "    return text"
   ]
  },
  {
   "cell_type": "code",
   "execution_count": 69,
   "id": "da3173a0",
   "metadata": {
    "collapsed": true
   },
   "outputs": [
    {
     "name": "stderr",
     "output_type": "stream",
     "text": [
      "C:\\Users\\blunds\\AppData\\Local\\Temp\\ipykernel_10652\\3609653640.py:1: SettingWithCopyWarning: \n",
      "A value is trying to be set on a copy of a slice from a DataFrame.\n",
      "Try using .loc[row_indexer,col_indexer] = value instead\n",
      "\n",
      "See the caveats in the documentation: https://pandas.pydata.org/pandas-docs/stable/user_guide/indexing.html#returning-a-view-versus-a-copy\n",
      "  selected_columns_df['clean_text'] = selected_columns_df['clean_text'].apply(truncate_text)\n"
     ]
    }
   ],
   "source": [
    "selected_columns_df['clean_text'] = selected_columns_df['clean_text'].apply(truncate_text)"
   ]
  },
  {
   "cell_type": "code",
   "execution_count": 70,
   "id": "6069112e",
   "metadata": {
    "collapsed": true
   },
   "outputs": [
    {
     "name": "stderr",
     "output_type": "stream",
     "text": [
      "C:\\Users\\blunds\\AppData\\Local\\Temp\\ipykernel_10652\\1483379789.py:2: SettingWithCopyWarning: \n",
      "A value is trying to be set on a copy of a slice from a DataFrame.\n",
      "Try using .loc[row_indexer,col_indexer] = value instead\n",
      "\n",
      "See the caveats in the documentation: https://pandas.pydata.org/pandas-docs/stable/user_guide/indexing.html#returning-a-view-versus-a-copy\n",
      "  selected_columns_df[col] = selected_columns_df[col].apply(lambda x: f'{x:.2f}'.replace('.', ','))\n",
      "C:\\Users\\blunds\\AppData\\Local\\Temp\\ipykernel_10652\\1483379789.py:2: SettingWithCopyWarning: \n",
      "A value is trying to be set on a copy of a slice from a DataFrame.\n",
      "Try using .loc[row_indexer,col_indexer] = value instead\n",
      "\n",
      "See the caveats in the documentation: https://pandas.pydata.org/pandas-docs/stable/user_guide/indexing.html#returning-a-view-versus-a-copy\n",
      "  selected_columns_df[col] = selected_columns_df[col].apply(lambda x: f'{x:.2f}'.replace('.', ','))\n",
      "C:\\Users\\blunds\\AppData\\Local\\Temp\\ipykernel_10652\\1483379789.py:2: SettingWithCopyWarning: \n",
      "A value is trying to be set on a copy of a slice from a DataFrame.\n",
      "Try using .loc[row_indexer,col_indexer] = value instead\n",
      "\n",
      "See the caveats in the documentation: https://pandas.pydata.org/pandas-docs/stable/user_guide/indexing.html#returning-a-view-versus-a-copy\n",
      "  selected_columns_df[col] = selected_columns_df[col].apply(lambda x: f'{x:.2f}'.replace('.', ','))\n"
     ]
    }
   ],
   "source": [
    "for col in selected_columns_df.select_dtypes(include=['float', 'float64']).columns:\n",
    "    selected_columns_df[col] = selected_columns_df[col].apply(lambda x: f'{x:.2f}'.replace('.', ','))\n"
   ]
  },
  {
   "cell_type": "code",
   "execution_count": 71,
   "id": "992031ed",
   "metadata": {},
   "outputs": [],
   "source": [
    "selected_columns_df.to_csv('Corpus_42_asset_errors_NY.csv', index=False, encoding='utf-16', sep='\\t')"
   ]
  },
  {
   "cell_type": "code",
   "execution_count": 72,
   "id": "33a1dbef",
   "metadata": {},
   "outputs": [],
   "source": [
    "mean_values_df = corpus_42.groupby('Product_60codes').agg({\n",
    "    'Asset_specificity_mean': 'mean',\n",
    "    'Predicted_Asset_specificity': 'mean'\n",
    "}).reset_index()"
   ]
  },
  {
   "cell_type": "code",
   "execution_count": 73,
   "id": "7894a750",
   "metadata": {},
   "outputs": [],
   "source": [
    "mean_values_df['difference'] = mean_values_df['Asset_specificity_mean'] - mean_values_df['Predicted_Asset_specificity']"
   ]
  },
  {
   "cell_type": "code",
   "execution_count": 74,
   "id": "2556704b",
   "metadata": {},
   "outputs": [],
   "source": [
    "mean_values_df = mean_values_df.sort_values('difference', ascending=False)"
   ]
  },
  {
   "cell_type": "code",
   "execution_count": 75,
   "id": "8f382911",
   "metadata": {
    "scrolled": true
   },
   "outputs": [
    {
     "data": {
      "text/html": [
       "<div>\n",
       "<style scoped>\n",
       "    .dataframe tbody tr th:only-of-type {\n",
       "        vertical-align: middle;\n",
       "    }\n",
       "\n",
       "    .dataframe tbody tr th {\n",
       "        vertical-align: top;\n",
       "    }\n",
       "\n",
       "    .dataframe thead th {\n",
       "        text-align: right;\n",
       "    }\n",
       "</style>\n",
       "<table border=\"1\" class=\"dataframe\">\n",
       "  <thead>\n",
       "    <tr style=\"text-align: right;\">\n",
       "      <th></th>\n",
       "      <th>Product_60codes</th>\n",
       "      <th>Asset_specificity_mean</th>\n",
       "      <th>Predicted_Asset_specificity</th>\n",
       "      <th>difference</th>\n",
       "    </tr>\n",
       "  </thead>\n",
       "  <tbody>\n",
       "    <tr>\n",
       "      <th>16</th>\n",
       "      <td>23</td>\n",
       "      <td>4.000000</td>\n",
       "      <td>2.524797</td>\n",
       "      <td>1.475203</td>\n",
       "    </tr>\n",
       "    <tr>\n",
       "      <th>9</th>\n",
       "      <td>14</td>\n",
       "      <td>2.666667</td>\n",
       "      <td>2.428587</td>\n",
       "      <td>0.238080</td>\n",
       "    </tr>\n",
       "    <tr>\n",
       "      <th>28</th>\n",
       "      <td>39</td>\n",
       "      <td>2.571429</td>\n",
       "      <td>2.387510</td>\n",
       "      <td>0.183919</td>\n",
       "    </tr>\n",
       "    <tr>\n",
       "      <th>12</th>\n",
       "      <td>19</td>\n",
       "      <td>2.590164</td>\n",
       "      <td>2.456601</td>\n",
       "      <td>0.133563</td>\n",
       "    </tr>\n",
       "    <tr>\n",
       "      <th>37</th>\n",
       "      <td>56</td>\n",
       "      <td>2.531646</td>\n",
       "      <td>2.418759</td>\n",
       "      <td>0.112887</td>\n",
       "    </tr>\n",
       "    <tr>\n",
       "      <th>18</th>\n",
       "      <td>25</td>\n",
       "      <td>2.701493</td>\n",
       "      <td>2.604519</td>\n",
       "      <td>0.096974</td>\n",
       "    </tr>\n",
       "    <tr>\n",
       "      <th>21</th>\n",
       "      <td>30</td>\n",
       "      <td>2.600000</td>\n",
       "      <td>2.510285</td>\n",
       "      <td>0.089715</td>\n",
       "    </tr>\n",
       "    <tr>\n",
       "      <th>36</th>\n",
       "      <td>55</td>\n",
       "      <td>2.650000</td>\n",
       "      <td>2.562147</td>\n",
       "      <td>0.087853</td>\n",
       "    </tr>\n",
       "    <tr>\n",
       "      <th>27</th>\n",
       "      <td>38</td>\n",
       "      <td>2.838235</td>\n",
       "      <td>2.763443</td>\n",
       "      <td>0.074792</td>\n",
       "    </tr>\n",
       "    <tr>\n",
       "      <th>32</th>\n",
       "      <td>48</td>\n",
       "      <td>3.041237</td>\n",
       "      <td>2.977103</td>\n",
       "      <td>0.064134</td>\n",
       "    </tr>\n",
       "    <tr>\n",
       "      <th>26</th>\n",
       "      <td>36</td>\n",
       "      <td>2.666667</td>\n",
       "      <td>2.609607</td>\n",
       "      <td>0.057060</td>\n",
       "    </tr>\n",
       "    <tr>\n",
       "      <th>30</th>\n",
       "      <td>43</td>\n",
       "      <td>2.742424</td>\n",
       "      <td>2.686072</td>\n",
       "      <td>0.056352</td>\n",
       "    </tr>\n",
       "    <tr>\n",
       "      <th>22</th>\n",
       "      <td>31</td>\n",
       "      <td>2.808219</td>\n",
       "      <td>2.754367</td>\n",
       "      <td>0.053852</td>\n",
       "    </tr>\n",
       "    <tr>\n",
       "      <th>23</th>\n",
       "      <td>32</td>\n",
       "      <td>2.434211</td>\n",
       "      <td>2.387910</td>\n",
       "      <td>0.046301</td>\n",
       "    </tr>\n",
       "    <tr>\n",
       "      <th>25</th>\n",
       "      <td>35</td>\n",
       "      <td>2.490196</td>\n",
       "      <td>2.448389</td>\n",
       "      <td>0.041807</td>\n",
       "    </tr>\n",
       "    <tr>\n",
       "      <th>34</th>\n",
       "      <td>51</td>\n",
       "      <td>2.478261</td>\n",
       "      <td>2.454012</td>\n",
       "      <td>0.024249</td>\n",
       "    </tr>\n",
       "    <tr>\n",
       "      <th>3</th>\n",
       "      <td>7</td>\n",
       "      <td>2.858824</td>\n",
       "      <td>2.839434</td>\n",
       "      <td>0.019390</td>\n",
       "    </tr>\n",
       "    <tr>\n",
       "      <th>0</th>\n",
       "      <td>1</td>\n",
       "      <td>2.812500</td>\n",
       "      <td>2.798867</td>\n",
       "      <td>0.013633</td>\n",
       "    </tr>\n",
       "  </tbody>\n",
       "</table>\n",
       "</div>"
      ],
      "text/plain": [
       "    Product_60codes  Asset_specificity_mean  Predicted_Asset_specificity  \\\n",
       "16               23                4.000000                     2.524797   \n",
       "9                14                2.666667                     2.428587   \n",
       "28               39                2.571429                     2.387510   \n",
       "12               19                2.590164                     2.456601   \n",
       "37               56                2.531646                     2.418759   \n",
       "18               25                2.701493                     2.604519   \n",
       "21               30                2.600000                     2.510285   \n",
       "36               55                2.650000                     2.562147   \n",
       "27               38                2.838235                     2.763443   \n",
       "32               48                3.041237                     2.977103   \n",
       "26               36                2.666667                     2.609607   \n",
       "30               43                2.742424                     2.686072   \n",
       "22               31                2.808219                     2.754367   \n",
       "23               32                2.434211                     2.387910   \n",
       "25               35                2.490196                     2.448389   \n",
       "34               51                2.478261                     2.454012   \n",
       "3                 7                2.858824                     2.839434   \n",
       "0                 1                2.812500                     2.798867   \n",
       "\n",
       "    difference  \n",
       "16    1.475203  \n",
       "9     0.238080  \n",
       "28    0.183919  \n",
       "12    0.133563  \n",
       "37    0.112887  \n",
       "18    0.096974  \n",
       "21    0.089715  \n",
       "36    0.087853  \n",
       "27    0.074792  \n",
       "32    0.064134  \n",
       "26    0.057060  \n",
       "30    0.056352  \n",
       "22    0.053852  \n",
       "23    0.046301  \n",
       "25    0.041807  \n",
       "34    0.024249  \n",
       "3     0.019390  \n",
       "0     0.013633  "
      ]
     },
     "execution_count": 75,
     "metadata": {},
     "output_type": "execute_result"
    }
   ],
   "source": [
    "mean_values_df.head(18)"
   ]
  },
  {
   "cell_type": "code",
   "execution_count": 76,
   "id": "95c3e77c",
   "metadata": {},
   "outputs": [],
   "source": [
    "mean_values_df.to_excel('Corpus_42_asset_product_type_errors_NY.xlsx', index=False)"
   ]
  },
  {
   "cell_type": "markdown",
   "id": "ec9bd4b5",
   "metadata": {},
   "source": [
    "#### Validation on corpus_18"
   ]
  },
  {
   "cell_type": "code",
   "execution_count": 77,
   "id": "a542475b",
   "metadata": {},
   "outputs": [],
   "source": [
    "embeddings_df_18 = pd.DataFrame(corpus_18['Normalized_Embedding'].tolist())"
   ]
  },
  {
   "cell_type": "code",
   "execution_count": 78,
   "id": "3838d9a7",
   "metadata": {},
   "outputs": [],
   "source": [
    "data_with_dummies_18 = pd.concat([embeddings_df_18, cpv_18_encoded_df_3, cpv_18_encoded_df_2, cpv_18_encoded_df_1], axis=1)"
   ]
  },
  {
   "cell_type": "code",
   "execution_count": 79,
   "id": "d2e9407f",
   "metadata": {},
   "outputs": [],
   "source": [
    "data_18 = data_with_dummies_18.join(corpus_18['Asset_specificity_mean'])"
   ]
  },
  {
   "cell_type": "code",
   "execution_count": 80,
   "id": "389aba31",
   "metadata": {},
   "outputs": [],
   "source": [
    "data_18.columns = data_18.columns.astype(str)"
   ]
  },
  {
   "cell_type": "code",
   "execution_count": 81,
   "id": "603993e6",
   "metadata": {},
   "outputs": [],
   "source": [
    "X_18 = data_18.drop('Asset_specificity_mean', axis=1)"
   ]
  },
  {
   "cell_type": "code",
   "execution_count": 82,
   "id": "b393f93e",
   "metadata": {},
   "outputs": [],
   "source": [
    "y_18 = data_18['Asset_specificity_mean']"
   ]
  },
  {
   "cell_type": "code",
   "execution_count": 83,
   "id": "0bd7fd9b",
   "metadata": {},
   "outputs": [],
   "source": [
    "y_pred_18 = model.predict(X_18)"
   ]
  },
  {
   "cell_type": "code",
   "execution_count": 84,
   "id": "9078ca44",
   "metadata": {},
   "outputs": [],
   "source": [
    "mse_18 = mean_squared_error(y_18, y_pred_18)\n",
    "mae_18 = mean_absolute_error(y_18, y_pred_18)\n",
    "r2_18 = r2_score(y_18, y_pred_18)"
   ]
  },
  {
   "cell_type": "code",
   "execution_count": 85,
   "id": "feff53c5",
   "metadata": {},
   "outputs": [
    {
     "name": "stdout",
     "output_type": "stream",
     "text": [
      "Mean Squared Error (MSE) on corpus_18: 0.11020415110404123\n",
      "Mean Absolute Error (MAE) on corpus_18: 0.23628311691900522\n",
      "R^2 Score on corpus_18: 0.24167294905687597\n"
     ]
    }
   ],
   "source": [
    "print(f\"Mean Squared Error (MSE) on corpus_18: {mse_18}\")\n",
    "print(f\"Mean Absolute Error (MAE) on corpus_18: {mae_18}\")\n",
    "print(f\"R^2 Score on corpus_18: {r2_18}\")"
   ]
  },
  {
   "cell_type": "code",
   "execution_count": 86,
   "id": "b898a41d",
   "metadata": {},
   "outputs": [],
   "source": [
    "corpus_18['Predicted_Asset_specificity_mean'] = y_pred_18.flatten()"
   ]
  },
  {
   "cell_type": "code",
   "execution_count": 87,
   "id": "6a5ecb6d",
   "metadata": {},
   "outputs": [],
   "source": [
    "corpus_18['absolute_error'] = np.abs(y_18 - y_pred_18)\n"
   ]
  },
  {
   "cell_type": "code",
   "execution_count": 88,
   "id": "9ce26140",
   "metadata": {},
   "outputs": [],
   "source": [
    "corpus_18['prediction_error'] = y_pred_18 - y_18"
   ]
  },
  {
   "cell_type": "code",
   "execution_count": 89,
   "id": "92c90f8d",
   "metadata": {},
   "outputs": [
    {
     "name": "stdout",
     "output_type": "stream",
     "text": [
      "count    389.000000\n",
      "mean      -0.046967\n",
      "std        0.329054\n",
      "min       -1.109963\n",
      "25%       -0.205088\n",
      "50%       -0.084556\n",
      "75%        0.052287\n",
      "max        0.993004\n",
      "Name: prediction_error, dtype: float64\n"
     ]
    }
   ],
   "source": [
    "print(corpus_18['prediction_error'].describe())"
   ]
  },
  {
   "cell_type": "code",
   "execution_count": 90,
   "id": "22d7272d",
   "metadata": {},
   "outputs": [],
   "source": [
    "corpus_18_sorted_by_error = corpus_18.sort_values('absolute_error', ascending=False)"
   ]
  },
  {
   "cell_type": "code",
   "execution_count": 91,
   "id": "cd348057",
   "metadata": {
    "scrolled": true
   },
   "outputs": [
    {
     "data": {
      "text/html": [
       "<div>\n",
       "<style scoped>\n",
       "    .dataframe tbody tr th:only-of-type {\n",
       "        vertical-align: middle;\n",
       "    }\n",
       "\n",
       "    .dataframe tbody tr th {\n",
       "        vertical-align: top;\n",
       "    }\n",
       "\n",
       "    .dataframe thead th {\n",
       "        text-align: right;\n",
       "    }\n",
       "</style>\n",
       "<table border=\"1\" class=\"dataframe\">\n",
       "  <thead>\n",
       "    <tr style=\"text-align: right;\">\n",
       "      <th></th>\n",
       "      <th>doc_id</th>\n",
       "      <th>contract_type_code</th>\n",
       "      <th>Product_60codes</th>\n",
       "      <th>Measurability_mean</th>\n",
       "      <th>Asset_specificity_mean</th>\n",
       "      <th>Manuel_or_not</th>\n",
       "      <th>product_description_binary</th>\n",
       "      <th>CPVcodes_2digit</th>\n",
       "      <th>CPVcodes_3digit</th>\n",
       "      <th>clean_text</th>\n",
       "      <th>Embedding</th>\n",
       "      <th>Normalized_Embedding</th>\n",
       "      <th>Normalized_Embedding_mean</th>\n",
       "      <th>CPVcodes_1digit</th>\n",
       "      <th>CPVcodes_1digit_str</th>\n",
       "      <th>CPVcodes_2digit_str</th>\n",
       "      <th>CPVcodes_3digit_str</th>\n",
       "      <th>Predicted_Asset_specificity_mean</th>\n",
       "      <th>absolute_error</th>\n",
       "      <th>prediction_error</th>\n",
       "    </tr>\n",
       "  </thead>\n",
       "  <tbody>\n",
       "    <tr>\n",
       "      <th>14</th>\n",
       "      <td>0273-000984</td>\n",
       "      <td>4</td>\n",
       "      <td>16</td>\n",
       "      <td>3.020408</td>\n",
       "      <td>3.770833</td>\n",
       "      <td>not</td>\n",
       "      <td>Yes</td>\n",
       "      <td>72</td>\n",
       "      <td>725</td>\n",
       "      <td>leverandøren skal til enhver tid have systemer...</td>\n",
       "      <td>[-0.012033573, -0.02152224, -0.0032734876, 0.0...</td>\n",
       "      <td>[-0.01203357273654089, -0.02152223952879912, -...</td>\n",
       "      <td>[-0.01203357273654089, -0.02152223952879912, -...</td>\n",
       "      <td>7</td>\n",
       "      <td>7</td>\n",
       "      <td>72</td>\n",
       "      <td>725</td>\n",
       "      <td>2.660870</td>\n",
       "      <td>1.109963</td>\n",
       "      <td>-1.109963</td>\n",
       "    </tr>\n",
       "    <tr>\n",
       "      <th>207</th>\n",
       "      <td>343481-2022</td>\n",
       "      <td>2</td>\n",
       "      <td>41</td>\n",
       "      <td>2.726027</td>\n",
       "      <td>1.309524</td>\n",
       "      <td>not</td>\n",
       "      <td>Yes</td>\n",
       "      <td>18</td>\n",
       "      <td>185</td>\n",
       "      <td>2.4 gavekassen gavekassen er ganske afgørende ...</td>\n",
       "      <td>[-0.0140284365, 0.015935063, -0.010284936, 0.0...</td>\n",
       "      <td>[-0.014028436397875703, 0.01593506288399583, -...</td>\n",
       "      <td>[-0.014028436397875703, 0.01593506288399583, -...</td>\n",
       "      <td>1</td>\n",
       "      <td>1</td>\n",
       "      <td>18</td>\n",
       "      <td>185</td>\n",
       "      <td>2.302528</td>\n",
       "      <td>0.993004</td>\n",
       "      <td>0.993004</td>\n",
       "    </tr>\n",
       "    <tr>\n",
       "      <th>194</th>\n",
       "      <td>336016-2021</td>\n",
       "      <td>2</td>\n",
       "      <td>41</td>\n",
       "      <td>2.726027</td>\n",
       "      <td>1.309524</td>\n",
       "      <td>not</td>\n",
       "      <td>Yes</td>\n",
       "      <td>18</td>\n",
       "      <td>185</td>\n",
       "      <td>gavekassen er ganske afgørende i leverancen. g...</td>\n",
       "      <td>[-0.0065661776, 0.0074800667, -0.010836113, 0....</td>\n",
       "      <td>[-0.006566177414315129, 0.00748006648847127, -...</td>\n",
       "      <td>[-0.006566177414315129, 0.00748006648847127, -...</td>\n",
       "      <td>1</td>\n",
       "      <td>1</td>\n",
       "      <td>18</td>\n",
       "      <td>185</td>\n",
       "      <td>2.300152</td>\n",
       "      <td>0.990628</td>\n",
       "      <td>0.990628</td>\n",
       "    </tr>\n",
       "    <tr>\n",
       "      <th>64</th>\n",
       "      <td>095342-2021</td>\n",
       "      <td>4</td>\n",
       "      <td>16</td>\n",
       "      <td>3.020408</td>\n",
       "      <td>3.770833</td>\n",
       "      <td>not</td>\n",
       "      <td>Yes</td>\n",
       "      <td>72</td>\n",
       "      <td>725</td>\n",
       "      <td>bilag 1b – kundens it-miljø aarhus kommune 25....</td>\n",
       "      <td>[0.0018933702, -0.047902785, -0.01409423, 0.01...</td>\n",
       "      <td>[0.0018797690612758979, -0.04755867246244351, ...</td>\n",
       "      <td>[-0.006511076749262017, -0.052191325953563995,...</td>\n",
       "      <td>7</td>\n",
       "      <td>7</td>\n",
       "      <td>72</td>\n",
       "      <td>725</td>\n",
       "      <td>2.791287</td>\n",
       "      <td>0.979546</td>\n",
       "      <td>-0.979546</td>\n",
       "    </tr>\n",
       "    <tr>\n",
       "      <th>213</th>\n",
       "      <td>359110-2022</td>\n",
       "      <td>4</td>\n",
       "      <td>16</td>\n",
       "      <td>3.020408</td>\n",
       "      <td>3.770833</td>\n",
       "      <td>not</td>\n",
       "      <td>Yes</td>\n",
       "      <td>72</td>\n",
       "      <td>725</td>\n",
       "      <td>generelle krav til funktionalitet overordnede ...</td>\n",
       "      <td>[0.050823994, -0.027748182, -0.0058391406, 0.0...</td>\n",
       "      <td>[0.048764672670076815, -0.02662386219429582, -...</td>\n",
       "      <td>[0.022834313132002428, -0.034260265824075035, ...</td>\n",
       "      <td>7</td>\n",
       "      <td>7</td>\n",
       "      <td>72</td>\n",
       "      <td>725</td>\n",
       "      <td>2.829337</td>\n",
       "      <td>0.941496</td>\n",
       "      <td>-0.941496</td>\n",
       "    </tr>\n",
       "  </tbody>\n",
       "</table>\n",
       "</div>"
      ],
      "text/plain": [
       "          doc_id  contract_type_code  Product_60codes  Measurability_mean  \\\n",
       "14   0273-000984                   4               16            3.020408   \n",
       "207  343481-2022                   2               41            2.726027   \n",
       "194  336016-2021                   2               41            2.726027   \n",
       "64   095342-2021                   4               16            3.020408   \n",
       "213  359110-2022                   4               16            3.020408   \n",
       "\n",
       "     Asset_specificity_mean Manuel_or_not product_description_binary  \\\n",
       "14                 3.770833           not                        Yes   \n",
       "207                1.309524           not                        Yes   \n",
       "194                1.309524           not                        Yes   \n",
       "64                 3.770833           not                        Yes   \n",
       "213                3.770833           not                        Yes   \n",
       "\n",
       "    CPVcodes_2digit  CPVcodes_3digit  \\\n",
       "14               72              725   \n",
       "207              18              185   \n",
       "194              18              185   \n",
       "64               72              725   \n",
       "213              72              725   \n",
       "\n",
       "                                            clean_text  \\\n",
       "14   leverandøren skal til enhver tid have systemer...   \n",
       "207  2.4 gavekassen gavekassen er ganske afgørende ...   \n",
       "194  gavekassen er ganske afgørende i leverancen. g...   \n",
       "64   bilag 1b – kundens it-miljø aarhus kommune 25....   \n",
       "213  generelle krav til funktionalitet overordnede ...   \n",
       "\n",
       "                                             Embedding  \\\n",
       "14   [-0.012033573, -0.02152224, -0.0032734876, 0.0...   \n",
       "207  [-0.0140284365, 0.015935063, -0.010284936, 0.0...   \n",
       "194  [-0.0065661776, 0.0074800667, -0.010836113, 0....   \n",
       "64   [0.0018933702, -0.047902785, -0.01409423, 0.01...   \n",
       "213  [0.050823994, -0.027748182, -0.0058391406, 0.0...   \n",
       "\n",
       "                                  Normalized_Embedding  \\\n",
       "14   [-0.01203357273654089, -0.02152223952879912, -...   \n",
       "207  [-0.014028436397875703, 0.01593506288399583, -...   \n",
       "194  [-0.006566177414315129, 0.00748006648847127, -...   \n",
       "64   [0.0018797690612758979, -0.04755867246244351, ...   \n",
       "213  [0.048764672670076815, -0.02662386219429582, -...   \n",
       "\n",
       "                             Normalized_Embedding_mean  CPVcodes_1digit  \\\n",
       "14   [-0.01203357273654089, -0.02152223952879912, -...                7   \n",
       "207  [-0.014028436397875703, 0.01593506288399583, -...                1   \n",
       "194  [-0.006566177414315129, 0.00748006648847127, -...                1   \n",
       "64   [-0.006511076749262017, -0.052191325953563995,...                7   \n",
       "213  [0.022834313132002428, -0.034260265824075035, ...                7   \n",
       "\n",
       "    CPVcodes_1digit_str CPVcodes_2digit_str CPVcodes_3digit_str  \\\n",
       "14                    7                  72                 725   \n",
       "207                   1                  18                 185   \n",
       "194                   1                  18                 185   \n",
       "64                    7                  72                 725   \n",
       "213                   7                  72                 725   \n",
       "\n",
       "     Predicted_Asset_specificity_mean  absolute_error  prediction_error  \n",
       "14                           2.660870        1.109963         -1.109963  \n",
       "207                          2.302528        0.993004          0.993004  \n",
       "194                          2.300152        0.990628          0.990628  \n",
       "64                           2.791287        0.979546         -0.979546  \n",
       "213                          2.829337        0.941496         -0.941496  "
      ]
     },
     "execution_count": 91,
     "metadata": {},
     "output_type": "execute_result"
    }
   ],
   "source": [
    "corpus_18_sorted_by_error.head()"
   ]
  },
  {
   "cell_type": "code",
   "execution_count": 92,
   "id": "8970f674",
   "metadata": {},
   "outputs": [],
   "source": [
    "selected_columns_df = corpus_18_sorted_by_error[['doc_id', 'clean_text', 'contract_type_code', 'Product_60codes','CPVcodes_2digit', 'CPVcodes_3digit', 'Asset_specificity_mean', 'prediction_error', 'Predicted_Asset_specificity_mean']]"
   ]
  },
  {
   "cell_type": "code",
   "execution_count": 93,
   "id": "6829e0ff",
   "metadata": {},
   "outputs": [],
   "source": [
    "def truncate_text(text):\n",
    "    MAX_LENGTH = 30000  # Excel's maximum cell character limit\n",
    "    if isinstance(text, str) and len(text) > MAX_LENGTH:\n",
    "        return text[:MAX_LENGTH]\n",
    "    return text"
   ]
  },
  {
   "cell_type": "code",
   "execution_count": 94,
   "id": "bf1b2cd6",
   "metadata": {
    "collapsed": true
   },
   "outputs": [
    {
     "name": "stderr",
     "output_type": "stream",
     "text": [
      "C:\\Users\\blunds\\AppData\\Local\\Temp\\ipykernel_10652\\3609653640.py:1: SettingWithCopyWarning: \n",
      "A value is trying to be set on a copy of a slice from a DataFrame.\n",
      "Try using .loc[row_indexer,col_indexer] = value instead\n",
      "\n",
      "See the caveats in the documentation: https://pandas.pydata.org/pandas-docs/stable/user_guide/indexing.html#returning-a-view-versus-a-copy\n",
      "  selected_columns_df['clean_text'] = selected_columns_df['clean_text'].apply(truncate_text)\n"
     ]
    }
   ],
   "source": [
    "selected_columns_df['clean_text'] = selected_columns_df['clean_text'].apply(truncate_text)"
   ]
  },
  {
   "cell_type": "code",
   "execution_count": 95,
   "id": "72a0678f",
   "metadata": {
    "collapsed": true
   },
   "outputs": [
    {
     "name": "stderr",
     "output_type": "stream",
     "text": [
      "C:\\Users\\blunds\\AppData\\Local\\Temp\\ipykernel_10652\\1483379789.py:2: SettingWithCopyWarning: \n",
      "A value is trying to be set on a copy of a slice from a DataFrame.\n",
      "Try using .loc[row_indexer,col_indexer] = value instead\n",
      "\n",
      "See the caveats in the documentation: https://pandas.pydata.org/pandas-docs/stable/user_guide/indexing.html#returning-a-view-versus-a-copy\n",
      "  selected_columns_df[col] = selected_columns_df[col].apply(lambda x: f'{x:.2f}'.replace('.', ','))\n",
      "C:\\Users\\blunds\\AppData\\Local\\Temp\\ipykernel_10652\\1483379789.py:2: SettingWithCopyWarning: \n",
      "A value is trying to be set on a copy of a slice from a DataFrame.\n",
      "Try using .loc[row_indexer,col_indexer] = value instead\n",
      "\n",
      "See the caveats in the documentation: https://pandas.pydata.org/pandas-docs/stable/user_guide/indexing.html#returning-a-view-versus-a-copy\n",
      "  selected_columns_df[col] = selected_columns_df[col].apply(lambda x: f'{x:.2f}'.replace('.', ','))\n",
      "C:\\Users\\blunds\\AppData\\Local\\Temp\\ipykernel_10652\\1483379789.py:2: SettingWithCopyWarning: \n",
      "A value is trying to be set on a copy of a slice from a DataFrame.\n",
      "Try using .loc[row_indexer,col_indexer] = value instead\n",
      "\n",
      "See the caveats in the documentation: https://pandas.pydata.org/pandas-docs/stable/user_guide/indexing.html#returning-a-view-versus-a-copy\n",
      "  selected_columns_df[col] = selected_columns_df[col].apply(lambda x: f'{x:.2f}'.replace('.', ','))\n"
     ]
    }
   ],
   "source": [
    "for col in selected_columns_df.select_dtypes(include=['float', 'float64']).columns:\n",
    "    selected_columns_df[col] = selected_columns_df[col].apply(lambda x: f'{x:.2f}'.replace('.', ','))\n"
   ]
  },
  {
   "cell_type": "code",
   "execution_count": 96,
   "id": "53b67fd8",
   "metadata": {},
   "outputs": [],
   "source": [
    "selected_columns_df.to_csv('Corpus_18_asset_errors_NY.csv', index=False, encoding='utf-16', sep='\\t')"
   ]
  },
  {
   "cell_type": "code",
   "execution_count": 97,
   "id": "bb0ee5d1",
   "metadata": {},
   "outputs": [],
   "source": [
    "mean_values_df = corpus_18.groupby('Product_60codes').agg({\n",
    "    'Asset_specificity_mean': 'mean',\n",
    "    'Predicted_Asset_specificity_mean': 'mean'\n",
    "}).reset_index()"
   ]
  },
  {
   "cell_type": "code",
   "execution_count": 98,
   "id": "e49c3b99",
   "metadata": {},
   "outputs": [],
   "source": [
    "mean_values_df['difference'] = mean_values_df['Asset_specificity_mean'] - mean_values_df['Predicted_Asset_specificity_mean']"
   ]
  },
  {
   "cell_type": "code",
   "execution_count": 99,
   "id": "591e0d02",
   "metadata": {},
   "outputs": [],
   "source": [
    "mean_values_df = mean_values_df.sort_values('difference', ascending=False)"
   ]
  },
  {
   "cell_type": "code",
   "execution_count": 100,
   "id": "6a3219aa",
   "metadata": {
    "scrolled": true
   },
   "outputs": [
    {
     "data": {
      "text/html": [
       "<div>\n",
       "<style scoped>\n",
       "    .dataframe tbody tr th:only-of-type {\n",
       "        vertical-align: middle;\n",
       "    }\n",
       "\n",
       "    .dataframe tbody tr th {\n",
       "        vertical-align: top;\n",
       "    }\n",
       "\n",
       "    .dataframe thead th {\n",
       "        text-align: right;\n",
       "    }\n",
       "</style>\n",
       "<table border=\"1\" class=\"dataframe\">\n",
       "  <thead>\n",
       "    <tr style=\"text-align: right;\">\n",
       "      <th></th>\n",
       "      <th>Product_60codes</th>\n",
       "      <th>Asset_specificity_mean</th>\n",
       "      <th>Predicted_Asset_specificity_mean</th>\n",
       "      <th>difference</th>\n",
       "    </tr>\n",
       "  </thead>\n",
       "  <tbody>\n",
       "    <tr>\n",
       "      <th>4</th>\n",
       "      <td>16</td>\n",
       "      <td>3.770833</td>\n",
       "      <td>2.760498</td>\n",
       "      <td>1.010335</td>\n",
       "    </tr>\n",
       "    <tr>\n",
       "      <th>10</th>\n",
       "      <td>44</td>\n",
       "      <td>2.720000</td>\n",
       "      <td>2.288038</td>\n",
       "      <td>0.431962</td>\n",
       "    </tr>\n",
       "    <tr>\n",
       "      <th>13</th>\n",
       "      <td>50</td>\n",
       "      <td>2.716049</td>\n",
       "      <td>2.332136</td>\n",
       "      <td>0.383913</td>\n",
       "    </tr>\n",
       "    <tr>\n",
       "      <th>0</th>\n",
       "      <td>2</td>\n",
       "      <td>2.826087</td>\n",
       "      <td>2.450064</td>\n",
       "      <td>0.376023</td>\n",
       "    </tr>\n",
       "    <tr>\n",
       "      <th>2</th>\n",
       "      <td>6</td>\n",
       "      <td>2.961039</td>\n",
       "      <td>2.628484</td>\n",
       "      <td>0.332555</td>\n",
       "    </tr>\n",
       "    <tr>\n",
       "      <th>8</th>\n",
       "      <td>40</td>\n",
       "      <td>2.985075</td>\n",
       "      <td>2.796989</td>\n",
       "      <td>0.188086</td>\n",
       "    </tr>\n",
       "    <tr>\n",
       "      <th>5</th>\n",
       "      <td>28</td>\n",
       "      <td>2.744681</td>\n",
       "      <td>2.607542</td>\n",
       "      <td>0.137139</td>\n",
       "    </tr>\n",
       "    <tr>\n",
       "      <th>17</th>\n",
       "      <td>58</td>\n",
       "      <td>2.710843</td>\n",
       "      <td>2.582048</td>\n",
       "      <td>0.128795</td>\n",
       "    </tr>\n",
       "    <tr>\n",
       "      <th>3</th>\n",
       "      <td>15</td>\n",
       "      <td>2.722222</td>\n",
       "      <td>2.628360</td>\n",
       "      <td>0.093862</td>\n",
       "    </tr>\n",
       "    <tr>\n",
       "      <th>14</th>\n",
       "      <td>52</td>\n",
       "      <td>2.200000</td>\n",
       "      <td>2.276372</td>\n",
       "      <td>-0.076372</td>\n",
       "    </tr>\n",
       "    <tr>\n",
       "      <th>7</th>\n",
       "      <td>37</td>\n",
       "      <td>2.272727</td>\n",
       "      <td>2.381925</td>\n",
       "      <td>-0.109198</td>\n",
       "    </tr>\n",
       "    <tr>\n",
       "      <th>11</th>\n",
       "      <td>45</td>\n",
       "      <td>1.978947</td>\n",
       "      <td>2.133286</td>\n",
       "      <td>-0.154339</td>\n",
       "    </tr>\n",
       "    <tr>\n",
       "      <th>6</th>\n",
       "      <td>29</td>\n",
       "      <td>1.972222</td>\n",
       "      <td>2.373052</td>\n",
       "      <td>-0.400830</td>\n",
       "    </tr>\n",
       "    <tr>\n",
       "      <th>1</th>\n",
       "      <td>5</td>\n",
       "      <td>1.699115</td>\n",
       "      <td>2.152175</td>\n",
       "      <td>-0.453060</td>\n",
       "    </tr>\n",
       "    <tr>\n",
       "      <th>16</th>\n",
       "      <td>57</td>\n",
       "      <td>2.298701</td>\n",
       "      <td>2.843086</td>\n",
       "      <td>-0.544385</td>\n",
       "    </tr>\n",
       "    <tr>\n",
       "      <th>15</th>\n",
       "      <td>54</td>\n",
       "      <td>1.739130</td>\n",
       "      <td>2.507755</td>\n",
       "      <td>-0.768625</td>\n",
       "    </tr>\n",
       "    <tr>\n",
       "      <th>12</th>\n",
       "      <td>46</td>\n",
       "      <td>1.742574</td>\n",
       "      <td>2.544574</td>\n",
       "      <td>-0.802000</td>\n",
       "    </tr>\n",
       "    <tr>\n",
       "      <th>9</th>\n",
       "      <td>41</td>\n",
       "      <td>1.309524</td>\n",
       "      <td>2.301340</td>\n",
       "      <td>-0.991816</td>\n",
       "    </tr>\n",
       "  </tbody>\n",
       "</table>\n",
       "</div>"
      ],
      "text/plain": [
       "    Product_60codes  Asset_specificity_mean  Predicted_Asset_specificity_mean  \\\n",
       "4                16                3.770833                          2.760498   \n",
       "10               44                2.720000                          2.288038   \n",
       "13               50                2.716049                          2.332136   \n",
       "0                 2                2.826087                          2.450064   \n",
       "2                 6                2.961039                          2.628484   \n",
       "8                40                2.985075                          2.796989   \n",
       "5                28                2.744681                          2.607542   \n",
       "17               58                2.710843                          2.582048   \n",
       "3                15                2.722222                          2.628360   \n",
       "14               52                2.200000                          2.276372   \n",
       "7                37                2.272727                          2.381925   \n",
       "11               45                1.978947                          2.133286   \n",
       "6                29                1.972222                          2.373052   \n",
       "1                 5                1.699115                          2.152175   \n",
       "16               57                2.298701                          2.843086   \n",
       "15               54                1.739130                          2.507755   \n",
       "12               46                1.742574                          2.544574   \n",
       "9                41                1.309524                          2.301340   \n",
       "\n",
       "    difference  \n",
       "4     1.010335  \n",
       "10    0.431962  \n",
       "13    0.383913  \n",
       "0     0.376023  \n",
       "2     0.332555  \n",
       "8     0.188086  \n",
       "5     0.137139  \n",
       "17    0.128795  \n",
       "3     0.093862  \n",
       "14   -0.076372  \n",
       "7    -0.109198  \n",
       "11   -0.154339  \n",
       "6    -0.400830  \n",
       "1    -0.453060  \n",
       "16   -0.544385  \n",
       "15   -0.768625  \n",
       "12   -0.802000  \n",
       "9    -0.991816  "
      ]
     },
     "execution_count": 100,
     "metadata": {},
     "output_type": "execute_result"
    }
   ],
   "source": [
    "mean_values_df.head(18)"
   ]
  },
  {
   "cell_type": "code",
   "execution_count": 101,
   "id": "935b410e",
   "metadata": {},
   "outputs": [],
   "source": [
    "mean_values_df.to_excel('Corpus_18_asset_product_type_errors_NY.xlsx', index=False)"
   ]
  },
  {
   "cell_type": "markdown",
   "id": "f18c60ac",
   "metadata": {},
   "source": [
    "## Corpus_over"
   ]
  },
  {
   "cell_type": "code",
   "execution_count": 102,
   "id": "5b1f8aff",
   "metadata": {},
   "outputs": [],
   "source": [
    "embeddings_df_over = pd.DataFrame(corpus_over['Normalized_Embedding'].tolist())"
   ]
  },
  {
   "cell_type": "code",
   "execution_count": 103,
   "id": "828be982",
   "metadata": {},
   "outputs": [],
   "source": [
    "data_with_dummies_over = pd.concat([embeddings_df_over, cpv_over_encoded_df_3, cpv_over_encoded_df_2, cpv_over_encoded_df_1], axis=1)"
   ]
  },
  {
   "cell_type": "code",
   "execution_count": 104,
   "id": "d6bb3c33",
   "metadata": {},
   "outputs": [],
   "source": [
    "data_with_dummies_over.columns = data_with_dummies_over.columns.astype(str)"
   ]
  },
  {
   "cell_type": "code",
   "execution_count": 105,
   "id": "f1c4676b",
   "metadata": {},
   "outputs": [],
   "source": [
    "y_pred_over = model.predict(data_with_dummies_over)"
   ]
  },
  {
   "cell_type": "code",
   "execution_count": 106,
   "id": "1bf552ba",
   "metadata": {},
   "outputs": [],
   "source": [
    "corpus_over['Predicted_Asset_specificity_mean'] = y_pred_over.flatten()"
   ]
  },
  {
   "cell_type": "code",
   "execution_count": 107,
   "id": "e7a099fc",
   "metadata": {},
   "outputs": [
    {
     "data": {
      "text/html": [
       "<div>\n",
       "<style scoped>\n",
       "    .dataframe tbody tr th:only-of-type {\n",
       "        vertical-align: middle;\n",
       "    }\n",
       "\n",
       "    .dataframe tbody tr th {\n",
       "        vertical-align: top;\n",
       "    }\n",
       "\n",
       "    .dataframe thead th {\n",
       "        text-align: right;\n",
       "    }\n",
       "</style>\n",
       "<table border=\"1\" class=\"dataframe\">\n",
       "  <thead>\n",
       "    <tr style=\"text-align: right;\">\n",
       "      <th></th>\n",
       "      <th>doc_id</th>\n",
       "      <th>contract_type_code</th>\n",
       "      <th>Product_60codes</th>\n",
       "      <th>Measurability_mean</th>\n",
       "      <th>Asset_specificity_mean</th>\n",
       "      <th>Manuel_or_not</th>\n",
       "      <th>product_description_binary</th>\n",
       "      <th>CPVcodes_2digit</th>\n",
       "      <th>CPVcodes_3digit</th>\n",
       "      <th>clean_text</th>\n",
       "      <th>Embedding</th>\n",
       "      <th>Normalized_Embedding</th>\n",
       "      <th>Normalized_Embedding_mean</th>\n",
       "      <th>CPVcodes_1digit</th>\n",
       "      <th>CPVcodes_1digit_str</th>\n",
       "      <th>CPVcodes_2digit_str</th>\n",
       "      <th>CPVcodes_3digit_str</th>\n",
       "      <th>Predicted_Asset_specificity_mean</th>\n",
       "    </tr>\n",
       "  </thead>\n",
       "  <tbody>\n",
       "    <tr>\n",
       "      <th>0</th>\n",
       "      <td>0000-008255</td>\n",
       "      <td>4</td>\n",
       "      <td>482</td>\n",
       "      <td>NaN</td>\n",
       "      <td>NaN</td>\n",
       "      <td>not</td>\n",
       "      <td>Yes</td>\n",
       "      <td>48</td>\n",
       "      <td>482</td>\n",
       "      <td>provide one icon per episode in several forma...</td>\n",
       "      <td>[-0.0030848256, -0.026598396, -0.021644095, -0...</td>\n",
       "      <td>[-0.0030848255027367153, -0.026598395161363492...</td>\n",
       "      <td>[-0.0030848255027367153, -0.026598395161363492...</td>\n",
       "      <td>4</td>\n",
       "      <td>4</td>\n",
       "      <td>48</td>\n",
       "      <td>482</td>\n",
       "      <td>1.789834</td>\n",
       "    </tr>\n",
       "    <tr>\n",
       "      <th>1</th>\n",
       "      <td>0000-008285</td>\n",
       "      <td>1</td>\n",
       "      <td>450</td>\n",
       "      <td>NaN</td>\n",
       "      <td>NaN</td>\n",
       "      <td>not</td>\n",
       "      <td>Yes</td>\n",
       "      <td>45</td>\n",
       "      <td>450</td>\n",
       "      <td>udlægning af slidlag bærelag og bæreslidlag på...</td>\n",
       "      <td>[0.03165265, -0.018070666, -0.0104349395, 0.01...</td>\n",
       "      <td>[0.031652648614329426, -0.01807066520891331, -...</td>\n",
       "      <td>[0.031652648614329426, -0.01807066520891331, -...</td>\n",
       "      <td>4</td>\n",
       "      <td>4</td>\n",
       "      <td>45</td>\n",
       "      <td>450</td>\n",
       "      <td>2.412526</td>\n",
       "    </tr>\n",
       "    <tr>\n",
       "      <th>2</th>\n",
       "      <td>0000-008392</td>\n",
       "      <td>1</td>\n",
       "      <td>451</td>\n",
       "      <td>NaN</td>\n",
       "      <td>NaN</td>\n",
       "      <td>not</td>\n",
       "      <td>Yes</td>\n",
       "      <td>45</td>\n",
       "      <td>451</td>\n",
       "      <td>pos.nr. pkt. bygningsdel 01 1 121 2 131 linief...</td>\n",
       "      <td>[-0.0045218053, -0.029040039, -0.011053302, 0....</td>\n",
       "      <td>[-0.004521805473328217, -0.029040040113152348,...</td>\n",
       "      <td>[-0.004521805473328217, -0.029040040113152348,...</td>\n",
       "      <td>4</td>\n",
       "      <td>4</td>\n",
       "      <td>45</td>\n",
       "      <td>451</td>\n",
       "      <td>2.228737</td>\n",
       "    </tr>\n",
       "    <tr>\n",
       "      <th>3</th>\n",
       "      <td>0000-008393</td>\n",
       "      <td>4</td>\n",
       "      <td>482</td>\n",
       "      <td>NaN</td>\n",
       "      <td>NaN</td>\n",
       "      <td>not</td>\n",
       "      <td>Yes</td>\n",
       "      <td>48</td>\n",
       "      <td>482</td>\n",
       "      <td>task 4 - refurbishment of the interreg podcast...</td>\n",
       "      <td>[-0.016492937, -0.0014233976, -0.018877864, -0...</td>\n",
       "      <td>[-0.0164929371094576, -0.00142339760944657, -0...</td>\n",
       "      <td>[-0.0164929371094576, -0.00142339760944657, -0...</td>\n",
       "      <td>4</td>\n",
       "      <td>4</td>\n",
       "      <td>48</td>\n",
       "      <td>482</td>\n",
       "      <td>2.151623</td>\n",
       "    </tr>\n",
       "    <tr>\n",
       "      <th>4</th>\n",
       "      <td>0000-008394</td>\n",
       "      <td>1</td>\n",
       "      <td>452</td>\n",
       "      <td>NaN</td>\n",
       "      <td>NaN</td>\n",
       "      <td>not</td>\n",
       "      <td>Yes</td>\n",
       "      <td>45</td>\n",
       "      <td>452</td>\n",
       "      <td>arbejder gulvbelægning vægoverflader ny gulvbe...</td>\n",
       "      <td>[0.007988542, -0.026167195, -0.011535243, 0.03...</td>\n",
       "      <td>[0.007748142082371978, -0.025379743231885573, ...</td>\n",
       "      <td>[0.0010394256856936434, -0.04338538165723106, ...</td>\n",
       "      <td>4</td>\n",
       "      <td>4</td>\n",
       "      <td>45</td>\n",
       "      <td>452</td>\n",
       "      <td>2.458802</td>\n",
       "    </tr>\n",
       "  </tbody>\n",
       "</table>\n",
       "</div>"
      ],
      "text/plain": [
       "        doc_id  contract_type_code Product_60codes  Measurability_mean  \\\n",
       "0  0000-008255                   4             482                 NaN   \n",
       "1  0000-008285                   1             450                 NaN   \n",
       "2  0000-008392                   1             451                 NaN   \n",
       "3  0000-008393                   4             482                 NaN   \n",
       "4  0000-008394                   1             452                 NaN   \n",
       "\n",
       "   Asset_specificity_mean Manuel_or_not product_description_binary  \\\n",
       "0                     NaN           not                        Yes   \n",
       "1                     NaN           not                        Yes   \n",
       "2                     NaN           not                        Yes   \n",
       "3                     NaN           not                        Yes   \n",
       "4                     NaN           not                        Yes   \n",
       "\n",
       "  CPVcodes_2digit  CPVcodes_3digit  \\\n",
       "0              48              482   \n",
       "1              45              450   \n",
       "2              45              451   \n",
       "3              48              482   \n",
       "4              45              452   \n",
       "\n",
       "                                          clean_text  \\\n",
       "0   provide one icon per episode in several forma...   \n",
       "1  udlægning af slidlag bærelag og bæreslidlag på...   \n",
       "2  pos.nr. pkt. bygningsdel 01 1 121 2 131 linief...   \n",
       "3  task 4 - refurbishment of the interreg podcast...   \n",
       "4  arbejder gulvbelægning vægoverflader ny gulvbe...   \n",
       "\n",
       "                                           Embedding  \\\n",
       "0  [-0.0030848256, -0.026598396, -0.021644095, -0...   \n",
       "1  [0.03165265, -0.018070666, -0.0104349395, 0.01...   \n",
       "2  [-0.0045218053, -0.029040039, -0.011053302, 0....   \n",
       "3  [-0.016492937, -0.0014233976, -0.018877864, -0...   \n",
       "4  [0.007988542, -0.026167195, -0.011535243, 0.03...   \n",
       "\n",
       "                                Normalized_Embedding  \\\n",
       "0  [-0.0030848255027367153, -0.026598395161363492...   \n",
       "1  [0.031652648614329426, -0.01807066520891331, -...   \n",
       "2  [-0.004521805473328217, -0.029040040113152348,...   \n",
       "3  [-0.0164929371094576, -0.00142339760944657, -0...   \n",
       "4  [0.007748142082371978, -0.025379743231885573, ...   \n",
       "\n",
       "                           Normalized_Embedding_mean  CPVcodes_1digit  \\\n",
       "0  [-0.0030848255027367153, -0.026598395161363492...                4   \n",
       "1  [0.031652648614329426, -0.01807066520891331, -...                4   \n",
       "2  [-0.004521805473328217, -0.029040040113152348,...                4   \n",
       "3  [-0.0164929371094576, -0.00142339760944657, -0...                4   \n",
       "4  [0.0010394256856936434, -0.04338538165723106, ...                4   \n",
       "\n",
       "  CPVcodes_1digit_str CPVcodes_2digit_str CPVcodes_3digit_str  \\\n",
       "0                   4                  48                 482   \n",
       "1                   4                  45                 450   \n",
       "2                   4                  45                 451   \n",
       "3                   4                  48                 482   \n",
       "4                   4                  45                 452   \n",
       "\n",
       "   Predicted_Asset_specificity_mean  \n",
       "0                          1.789834  \n",
       "1                          2.412526  \n",
       "2                          2.228737  \n",
       "3                          2.151623  \n",
       "4                          2.458802  "
      ]
     },
     "execution_count": 107,
     "metadata": {},
     "output_type": "execute_result"
    }
   ],
   "source": [
    "corpus_over.head()"
   ]
  },
  {
   "cell_type": "code",
   "execution_count": 108,
   "id": "91d79fca",
   "metadata": {},
   "outputs": [],
   "source": [
    "group_df = corpus_over.groupby('Product_60codes').agg({\n",
    "    'Predicted_Asset_specificity_mean': ['mean', 'std', 'count']\n",
    "}).reset_index()\n"
   ]
  },
  {
   "cell_type": "code",
   "execution_count": 110,
   "id": "5393afa0",
   "metadata": {},
   "outputs": [],
   "source": [
    "group_df.columns = ['Product_60codes', 'Predicted_Asset_specificity_mean_Mean', 'Predicted_Asset_specificity_mean_Std', 'Count']"
   ]
  },
  {
   "cell_type": "code",
   "execution_count": 112,
   "id": "023d63e5",
   "metadata": {},
   "outputs": [],
   "source": [
    "group_df.to_excel('corpus_over_prediction_asset_NY.xlsx', index=False)"
   ]
  }
 ],
 "metadata": {
  "kernelspec": {
   "display_name": "Python 3 (ipykernel)",
   "language": "python",
   "name": "python3"
  },
  "language_info": {
   "codemirror_mode": {
    "name": "ipython",
    "version": 3
   },
   "file_extension": ".py",
   "mimetype": "text/x-python",
   "name": "python",
   "nbconvert_exporter": "python",
   "pygments_lexer": "ipython3",
   "version": "3.11.5"
  }
 },
 "nbformat": 4,
 "nbformat_minor": 5
}
